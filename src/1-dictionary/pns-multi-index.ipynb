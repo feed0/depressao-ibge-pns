{
 "cells": [
  {
   "cell_type": "markdown",
   "id": "4ddbde2d",
   "metadata": {},
   "source": [
    "# Attributes: Codes and Description for `multi-index`"
   ]
  },
  {
   "cell_type": "markdown",
   "id": "5c5cd5ac",
   "metadata": {},
   "source": [
    "## 1 Setup\n",
    "- Libraries\n",
    "- Paths\n",
    "- Dataframe"
   ]
  },
  {
   "cell_type": "code",
   "execution_count": 1,
   "id": "03e8b1c9",
   "metadata": {},
   "outputs": [],
   "source": [
    "import pandas as pd\n",
    "import numpy as np"
   ]
  },
  {
   "cell_type": "code",
   "execution_count": 2,
   "id": "da11b4cd",
   "metadata": {},
   "outputs": [],
   "source": [
    "pns_dictionary_path = '/workspaces/depressao-ibge-pns/data/pns-original/dictionary-pns-2019-cleaned.csv'"
   ]
  },
  {
   "cell_type": "code",
   "execution_count": 3,
   "id": "0777695d",
   "metadata": {},
   "outputs": [],
   "source": [
    "pns_dictionary = pd.read_csv(pns_dictionary_path, skiprows=2)"
   ]
  },
  {
   "cell_type": "markdown",
   "id": "2a2463eb",
   "metadata": {},
   "source": [
    "## 2 attribute codes\n",
    "> The pns dictionary has 1088 codes for attribute columns in the dataset."
   ]
  },
  {
   "cell_type": "code",
   "execution_count": null,
   "id": "4706d0d3",
   "metadata": {},
   "outputs": [
    {
     "data": {
      "text/plain": [
       "'Total of attribute codes: 1088'"
      ]
     },
     "metadata": {},
     "output_type": "display_data"
    },
    {
     "data": {
      "application/vnd.microsoft.datawrangler.viewer.v0+json": {
       "columns": [
        {
         "name": "index",
         "rawType": "int64",
         "type": "integer"
        },
        {
         "name": "Codigo",
         "rawType": "object",
         "type": "string"
        }
       ],
       "conversionMethod": "pd.DataFrame",
       "ref": "802a5bae-5f58-4c5e-8ea7-13caea591895",
       "rows": [
        [
         "1",
         "V0001"
        ],
        [
         "28",
         "V0024"
        ],
        [
         "29",
         "UPA_PNS"
        ],
        [
         "30",
         "V0006_PNS"
        ],
        [
         "31",
         "V0015"
        ],
        [
         "43",
         "V0020"
        ],
        [
         "44",
         "V0022"
        ],
        [
         "46",
         "V0026"
        ],
        [
         "48",
         "V0031"
        ],
        [
         "52",
         "V0025A"
        ],
        [
         "55",
         "V0025B"
        ],
        [
         "60",
         "A001"
        ],
        [
         "65",
         "A002010"
        ],
        [
         "73",
         "A003010"
        ],
        [
         "81",
         "A004010"
        ],
        [
         "88",
         "A01001"
        ],
        [
         "91",
         "A011"
        ],
        [
         "94",
         "A005010"
        ],
        [
         "102",
         "A005012"
        ],
        [
         "106",
         "A00601"
        ],
        [
         "111",
         "A009010"
        ],
        [
         "119",
         "A01401"
        ],
        [
         "123",
         "A01402"
        ],
        [
         "127",
         "A01403"
        ],
        [
         "131",
         "A01501"
        ],
        [
         "140",
         "A016010"
        ],
        [
         "148",
         "A018011"
        ],
        [
         "152",
         "A018012"
        ],
        [
         "155",
         "A018013"
        ],
        [
         "159",
         "A018014"
        ],
        [
         "162",
         "A018015"
        ],
        [
         "166",
         "A018016"
        ],
        [
         "169",
         "A018017"
        ],
        [
         "173",
         "A018018"
        ],
        [
         "176",
         "A018019"
        ],
        [
         "180",
         "A018020"
        ],
        [
         "183",
         "A018021"
        ],
        [
         "187",
         "A018022"
        ],
        [
         "190",
         "A018023"
        ],
        [
         "194",
         "A018024"
        ],
        [
         "197",
         "A018025"
        ],
        [
         "201",
         "A018026"
        ],
        [
         "204",
         "A018027"
        ],
        [
         "208",
         "A018028"
        ],
        [
         "211",
         "A01901"
        ],
        [
         "215",
         "A02101"
        ],
        [
         "218",
         "A02102"
        ],
        [
         "221",
         "A02201"
        ],
        [
         "225",
         "A02305"
        ],
        [
         "228",
         "A02306"
        ]
       ],
       "shape": {
        "columns": 1,
        "rows": 1088
       }
      },
      "text/html": [
       "<div>\n",
       "<style scoped>\n",
       "    .dataframe tbody tr th:only-of-type {\n",
       "        vertical-align: middle;\n",
       "    }\n",
       "\n",
       "    .dataframe tbody tr th {\n",
       "        vertical-align: top;\n",
       "    }\n",
       "\n",
       "    .dataframe thead th {\n",
       "        text-align: right;\n",
       "    }\n",
       "</style>\n",
       "<table border=\"1\" class=\"dataframe\">\n",
       "  <thead>\n",
       "    <tr style=\"text-align: right;\">\n",
       "      <th></th>\n",
       "      <th>Codigo</th>\n",
       "    </tr>\n",
       "  </thead>\n",
       "  <tbody>\n",
       "    <tr>\n",
       "      <th>1</th>\n",
       "      <td>V0001</td>\n",
       "    </tr>\n",
       "    <tr>\n",
       "      <th>28</th>\n",
       "      <td>V0024</td>\n",
       "    </tr>\n",
       "    <tr>\n",
       "      <th>29</th>\n",
       "      <td>UPA_PNS</td>\n",
       "    </tr>\n",
       "    <tr>\n",
       "      <th>30</th>\n",
       "      <td>V0006_PNS</td>\n",
       "    </tr>\n",
       "    <tr>\n",
       "      <th>31</th>\n",
       "      <td>V0015</td>\n",
       "    </tr>\n",
       "    <tr>\n",
       "      <th>...</th>\n",
       "      <td>...</td>\n",
       "    </tr>\n",
       "    <tr>\n",
       "      <th>5196</th>\n",
       "      <td>VDL001</td>\n",
       "    </tr>\n",
       "    <tr>\n",
       "      <th>5199</th>\n",
       "      <td>VDM001</td>\n",
       "    </tr>\n",
       "    <tr>\n",
       "      <th>5204</th>\n",
       "      <td>VDP001</td>\n",
       "    </tr>\n",
       "    <tr>\n",
       "      <th>5208</th>\n",
       "      <td>VDR001</td>\n",
       "    </tr>\n",
       "    <tr>\n",
       "      <th>5218</th>\n",
       "      <td>VDDATA</td>\n",
       "    </tr>\n",
       "  </tbody>\n",
       "</table>\n",
       "<p>1088 rows × 1 columns</p>\n",
       "</div>"
      ],
      "text/plain": [
       "         Codigo\n",
       "1         V0001\n",
       "28        V0024\n",
       "29      UPA_PNS\n",
       "30    V0006_PNS\n",
       "31        V0015\n",
       "...         ...\n",
       "5196     VDL001\n",
       "5199     VDM001\n",
       "5204     VDP001\n",
       "5208     VDR001\n",
       "5218     VDDATA\n",
       "\n",
       "[1088 rows x 1 columns]"
      ]
     },
     "metadata": {},
     "output_type": "display_data"
    }
   ],
   "source": [
    "attribute_codes = pns_dictionary.Codigo.dropna(axis=0).str.strip()\n",
    "\n",
    "display(\n",
    "    f\"Total of attribute codes: {len(attribute_codes.unique())}\",\n",
    "    pd.DataFrame(attribute_codes)\n",
    ")"
   ]
  },
  {
   "cell_type": "markdown",
   "id": "60280606",
   "metadata": {},
   "source": [
    "## 3 Attribute descriptions\n",
    "> Each columns has its own description.<br>\n",
    "> Some have duplicate descriptions, hence we can't use descriptions as unique identifiers for columns."
   ]
  },
  {
   "cell_type": "code",
   "execution_count": 5,
   "id": "b476d3af",
   "metadata": {},
   "outputs": [
    {
     "data": {
      "text/plain": [
       "'Total of attribute descriptions: 1030'"
      ]
     },
     "metadata": {},
     "output_type": "display_data"
    },
    {
     "data": {
      "application/vnd.microsoft.datawrangler.viewer.v0+json": {
       "columns": [
        {
         "name": "index",
         "rawType": "int64",
         "type": "integer"
        },
        {
         "name": "Descricao",
         "rawType": "object",
         "type": "string"
        }
       ],
       "conversionMethod": "pd.DataFrame",
       "ref": "0977edaf-b669-420a-9b10-93b74c03fe6c",
       "rows": [
        [
         "1",
         "Unidade da Federação"
        ],
        [
         "28",
         "Estrato"
        ],
        [
         "29",
         "UPA"
        ],
        [
         "30",
         "Número de ordem do domicílio na PNS"
        ],
        [
         "31",
         "Tipo da entrevista"
        ],
        [
         "43",
         "Ano de referência"
        ],
        [
         "44",
         "Total de moradores"
        ],
        [
         "46",
         "Tipo de situação censitária"
        ],
        [
         "48",
         "Tipo de área"
        ],
        [
         "52",
         "Seleção do morador de 15 anos ou mais para responder o questionário individual"
        ],
        [
         "55",
         "Seleção do morador de 15 anos ou mais para ter medida antropométrica aferida"
        ],
        [
         "60",
         "Tipo do domicílio"
        ],
        [
         "65",
         "Qual é o material que predomina na construção das paredes externas deste domicílio?"
        ],
        [
         "73",
         "Material predominante na cobertura (telhado) do domicílio"
        ],
        [
         "81",
         "Qual é o material que predomina no piso deste domicílio"
        ],
        [
         "88",
         "Quantos cômodos têm este domicílio"
        ],
        [
         "91",
         "Quantos cômodos estão servindo permanentemente de dormitório para os moradores deste domicílio"
        ],
        [
         "94",
         "Qual é a principal forma de abastecimento de água deste domicílio"
        ],
        [
         "102",
         "Este domicílio está ligado à rede geral de distribuição de água?"
        ],
        [
         "106",
         "A água utilizada neste domicílio chega"
        ],
        [
         "111",
         "A água utilizada para beber neste domicílio é"
        ],
        [
         "119",
         "Quantos banheiros (com chuveiro ou banheira e vaso sanitário ou privada) de uso exclusivo dos moradores existem neste domicílio, inclusive os localizados no terreno ou propriedade"
        ],
        [
         "123",
         "Quantos banheiros (com chuveiro ou banheira e vaso sanitário ou privada) de uso comum a mais de um domicilio, existem neste terreno ou propriedade"
        ],
        [
         "127",
         "Utiliza sanitário ou buraco para dejeções, inclusive os localizados no terreno ou na propriedade (cercado por paredes de qualquer material"
        ],
        [
         "131",
         "Para onde vai o esgoto do banheiro? Ou Para onde vai o esgoto do sanitário ou do buraco para dejeções?"
        ],
        [
         "140",
         "Qual o (principal) destino dado ao lixo"
        ],
        [
         "148",
         "Neste domicílio existe televisão em cores"
        ],
        [
         "152",
         "Quantos?"
        ],
        [
         "155",
         "Neste domicílio existe geladeira"
        ],
        [
         "159",
         "Quantos?"
        ],
        [
         "162",
         "Neste domicílio existe máquina de lavar roupa"
        ],
        [
         "166",
         "Quantos?"
        ],
        [
         "169",
         "Neste domicílio existe telefone fixo convencional"
        ],
        [
         "173",
         "Quantos?"
        ],
        [
         "176",
         "Neste domicílio existe telefone móvel celular"
        ],
        [
         "180",
         "Quantos?"
        ],
        [
         "183",
         "Neste domicílio existe forno micro-ondas"
        ],
        [
         "187",
         "Quantos?"
        ],
        [
         "190",
         "Neste domicílio existe computador (considere inclusive os portáteis, tais como: laptop, notebook ou netbook)?"
        ],
        [
         "194",
         "Quantos?"
        ],
        [
         "197",
         "Neste domicílio existe motocicleta"
        ],
        [
         "201",
         "Quantos?"
        ],
        [
         "204",
         "Neste domicílio existe automóvel"
        ],
        [
         "208",
         "Quantos?"
        ],
        [
         "211",
         "Algum morador tem acesso à Internet no domicílio por meio de computador, tablet, telefone móvel celular, televisão ou outro equipamento?"
        ],
        [
         "215",
         "No seu domicílio, há trabalhador (as) doméstico(as) que trabalham em seu domicílio três vezes ou mais por semana (empregada doméstica, babá, cuidador etc.)"
        ],
        [
         "218",
         "Quantos?"
        ],
        [
         "221",
         "Em seu domicílio, há algum animal de estimação"
        ],
        [
         "225",
         "Quantos destes animais são gatos"
        ],
        [
         "228",
         "Quantos destes animais são cachorros"
        ]
       ],
       "shape": {
        "columns": 1,
        "rows": 1088
       }
      },
      "text/html": [
       "<div>\n",
       "<style scoped>\n",
       "    .dataframe tbody tr th:only-of-type {\n",
       "        vertical-align: middle;\n",
       "    }\n",
       "\n",
       "    .dataframe tbody tr th {\n",
       "        vertical-align: top;\n",
       "    }\n",
       "\n",
       "    .dataframe thead th {\n",
       "        text-align: right;\n",
       "    }\n",
       "</style>\n",
       "<table border=\"1\" class=\"dataframe\">\n",
       "  <thead>\n",
       "    <tr style=\"text-align: right;\">\n",
       "      <th></th>\n",
       "      <th>Descricao</th>\n",
       "    </tr>\n",
       "  </thead>\n",
       "  <tbody>\n",
       "    <tr>\n",
       "      <th>1</th>\n",
       "      <td>Unidade da Federação</td>\n",
       "    </tr>\n",
       "    <tr>\n",
       "      <th>28</th>\n",
       "      <td>Estrato</td>\n",
       "    </tr>\n",
       "    <tr>\n",
       "      <th>29</th>\n",
       "      <td>UPA</td>\n",
       "    </tr>\n",
       "    <tr>\n",
       "      <th>30</th>\n",
       "      <td>Número de ordem do domicílio na PNS</td>\n",
       "    </tr>\n",
       "    <tr>\n",
       "      <th>31</th>\n",
       "      <td>Tipo da entrevista</td>\n",
       "    </tr>\n",
       "    <tr>\n",
       "      <th>...</th>\n",
       "      <td>...</td>\n",
       "    </tr>\n",
       "    <tr>\n",
       "      <th>5196</th>\n",
       "      <td>Idade em meses das crianças nascidas no períod...</td>\n",
       "    </tr>\n",
       "    <tr>\n",
       "      <th>5199</th>\n",
       "      <td>Faixa de tempo gasto por dia no deslocamento c...</td>\n",
       "    </tr>\n",
       "    <tr>\n",
       "      <th>5204</th>\n",
       "      <td>Tipo de cigarro industrializado comprado</td>\n",
       "    </tr>\n",
       "    <tr>\n",
       "      <th>5208</th>\n",
       "      <td>Método contraceptivo mais eficaz que faz uso</td>\n",
       "    </tr>\n",
       "    <tr>\n",
       "      <th>5218</th>\n",
       "      <td>Data de geração do arquivo de microdados. Data...</td>\n",
       "    </tr>\n",
       "  </tbody>\n",
       "</table>\n",
       "<p>1088 rows × 1 columns</p>\n",
       "</div>"
      ],
      "text/plain": [
       "                                              Descricao\n",
       "1                                  Unidade da Federação\n",
       "28                                              Estrato\n",
       "29                                                  UPA\n",
       "30                  Número de ordem do domicílio na PNS\n",
       "31                                   Tipo da entrevista\n",
       "...                                                 ...\n",
       "5196  Idade em meses das crianças nascidas no períod...\n",
       "5199  Faixa de tempo gasto por dia no deslocamento c...\n",
       "5204           Tipo de cigarro industrializado comprado\n",
       "5208       Método contraceptivo mais eficaz que faz uso\n",
       "5218  Data de geração do arquivo de microdados. Data...\n",
       "\n",
       "[1088 rows x 1 columns]"
      ]
     },
     "metadata": {},
     "output_type": "display_data"
    }
   ],
   "source": [
    "attribute_descriptions = pns_dictionary.Descricao.dropna(axis=0).str.replace(r\"\\n\", \"\", regex=True).str.strip()\n",
    "\n",
    "display(\n",
    "    f\"Total of attribute descriptions: {len(attribute_descriptions.unique())}\",\n",
    "    pd.DataFrame(attribute_descriptions)\n",
    ")"
   ]
  },
  {
   "cell_type": "markdown",
   "id": "e47d95cb",
   "metadata": {},
   "source": [
    "## 4 Save `multi-index`\n",
    "> However we can still use these descriptions in a (Code, Description) multi-index tuple for the sake of interpretation."
   ]
  },
  {
   "cell_type": "code",
   "execution_count": 6,
   "id": "07acdfef",
   "metadata": {},
   "outputs": [
    {
     "data": {
      "application/vnd.microsoft.datawrangler.viewer.v0+json": {
       "columns": [
        {
         "name": "index",
         "rawType": "int64",
         "type": "integer"
        },
        {
         "name": "Codigo",
         "rawType": "object",
         "type": "string"
        },
        {
         "name": "Descricao",
         "rawType": "object",
         "type": "string"
        }
       ],
       "conversionMethod": "pd.DataFrame",
       "ref": "3d8a8bc3-f812-43f4-a5f3-8fea5485f17f",
       "rows": [
        [
         "1",
         "V0001",
         "Unidade da Federação"
        ],
        [
         "28",
         "V0024",
         "Estrato"
        ],
        [
         "29",
         "UPA_PNS",
         "UPA"
        ],
        [
         "30",
         "V0006_PNS",
         "Número de ordem do domicílio na PNS"
        ],
        [
         "31",
         "V0015",
         "Tipo da entrevista"
        ],
        [
         "43",
         "V0020",
         "Ano de referência"
        ],
        [
         "44",
         "V0022",
         "Total de moradores"
        ],
        [
         "46",
         "V0026",
         "Tipo de situação censitária"
        ],
        [
         "48",
         "V0031",
         "Tipo de área"
        ],
        [
         "52",
         "V0025A",
         "Seleção do morador de 15 anos ou mais para responder o questionário individual"
        ],
        [
         "55",
         "V0025B",
         "Seleção do morador de 15 anos ou mais para ter medida antropométrica aferida"
        ],
        [
         "60",
         "A001",
         "Tipo do domicílio"
        ],
        [
         "65",
         "A002010",
         "Qual é o material que predomina na construção das paredes externas deste domicílio?"
        ],
        [
         "73",
         "A003010",
         "Material predominante na cobertura (telhado) do domicílio"
        ],
        [
         "81",
         "A004010",
         "Qual é o material que predomina no piso deste domicílio"
        ],
        [
         "88",
         "A01001",
         "Quantos cômodos têm este domicílio"
        ],
        [
         "91",
         "A011",
         "Quantos cômodos estão servindo permanentemente de dormitório para os moradores deste domicílio"
        ],
        [
         "94",
         "A005010",
         "Qual é a principal forma de abastecimento de água deste domicílio"
        ],
        [
         "102",
         "A005012",
         "Este domicílio está ligado à rede geral de distribuição de água?"
        ],
        [
         "106",
         "A00601",
         "A água utilizada neste domicílio chega"
        ],
        [
         "111",
         "A009010",
         "A água utilizada para beber neste domicílio é"
        ],
        [
         "119",
         "A01401",
         "Quantos banheiros (com chuveiro ou banheira e vaso sanitário ou privada) de uso exclusivo dos moradores existem neste domicílio, inclusive os localizados no terreno ou propriedade"
        ],
        [
         "123",
         "A01402",
         "Quantos banheiros (com chuveiro ou banheira e vaso sanitário ou privada) de uso comum a mais de um domicilio, existem neste terreno ou propriedade"
        ],
        [
         "127",
         "A01403",
         "Utiliza sanitário ou buraco para dejeções, inclusive os localizados no terreno ou na propriedade (cercado por paredes de qualquer material"
        ],
        [
         "131",
         "A01501",
         "Para onde vai o esgoto do banheiro? Ou Para onde vai o esgoto do sanitário ou do buraco para dejeções?"
        ],
        [
         "140",
         "A016010",
         "Qual o (principal) destino dado ao lixo"
        ],
        [
         "148",
         "A018011",
         "Neste domicílio existe televisão em cores"
        ],
        [
         "152",
         "A018012",
         "Quantos?"
        ],
        [
         "155",
         "A018013",
         "Neste domicílio existe geladeira"
        ],
        [
         "159",
         "A018014",
         "Quantos?"
        ],
        [
         "162",
         "A018015",
         "Neste domicílio existe máquina de lavar roupa"
        ],
        [
         "166",
         "A018016",
         "Quantos?"
        ],
        [
         "169",
         "A018017",
         "Neste domicílio existe telefone fixo convencional"
        ],
        [
         "173",
         "A018018",
         "Quantos?"
        ],
        [
         "176",
         "A018019",
         "Neste domicílio existe telefone móvel celular"
        ],
        [
         "180",
         "A018020",
         "Quantos?"
        ],
        [
         "183",
         "A018021",
         "Neste domicílio existe forno micro-ondas"
        ],
        [
         "187",
         "A018022",
         "Quantos?"
        ],
        [
         "190",
         "A018023",
         "Neste domicílio existe computador (considere inclusive os portáteis, tais como: laptop, notebook ou netbook)?"
        ],
        [
         "194",
         "A018024",
         "Quantos?"
        ],
        [
         "197",
         "A018025",
         "Neste domicílio existe motocicleta"
        ],
        [
         "201",
         "A018026",
         "Quantos?"
        ],
        [
         "204",
         "A018027",
         "Neste domicílio existe automóvel"
        ],
        [
         "208",
         "A018028",
         "Quantos?"
        ],
        [
         "211",
         "A01901",
         "Algum morador tem acesso à Internet no domicílio por meio de computador, tablet, telefone móvel celular, televisão ou outro equipamento?"
        ],
        [
         "215",
         "A02101",
         "No seu domicílio, há trabalhador (as) doméstico(as) que trabalham em seu domicílio três vezes ou mais por semana (empregada doméstica, babá, cuidador etc.)"
        ],
        [
         "218",
         "A02102",
         "Quantos?"
        ],
        [
         "221",
         "A02201",
         "Em seu domicílio, há algum animal de estimação"
        ],
        [
         "225",
         "A02305",
         "Quantos destes animais são gatos"
        ],
        [
         "228",
         "A02306",
         "Quantos destes animais são cachorros"
        ]
       ],
       "shape": {
        "columns": 2,
        "rows": 1088
       }
      },
      "text/html": [
       "<div>\n",
       "<style scoped>\n",
       "    .dataframe tbody tr th:only-of-type {\n",
       "        vertical-align: middle;\n",
       "    }\n",
       "\n",
       "    .dataframe tbody tr th {\n",
       "        vertical-align: top;\n",
       "    }\n",
       "\n",
       "    .dataframe thead th {\n",
       "        text-align: right;\n",
       "    }\n",
       "</style>\n",
       "<table border=\"1\" class=\"dataframe\">\n",
       "  <thead>\n",
       "    <tr style=\"text-align: right;\">\n",
       "      <th></th>\n",
       "      <th>Codigo</th>\n",
       "      <th>Descricao</th>\n",
       "    </tr>\n",
       "  </thead>\n",
       "  <tbody>\n",
       "    <tr>\n",
       "      <th>1</th>\n",
       "      <td>V0001</td>\n",
       "      <td>Unidade da Federação</td>\n",
       "    </tr>\n",
       "    <tr>\n",
       "      <th>28</th>\n",
       "      <td>V0024</td>\n",
       "      <td>Estrato</td>\n",
       "    </tr>\n",
       "    <tr>\n",
       "      <th>29</th>\n",
       "      <td>UPA_PNS</td>\n",
       "      <td>UPA</td>\n",
       "    </tr>\n",
       "    <tr>\n",
       "      <th>30</th>\n",
       "      <td>V0006_PNS</td>\n",
       "      <td>Número de ordem do domicílio na PNS</td>\n",
       "    </tr>\n",
       "    <tr>\n",
       "      <th>31</th>\n",
       "      <td>V0015</td>\n",
       "      <td>Tipo da entrevista</td>\n",
       "    </tr>\n",
       "    <tr>\n",
       "      <th>...</th>\n",
       "      <td>...</td>\n",
       "      <td>...</td>\n",
       "    </tr>\n",
       "    <tr>\n",
       "      <th>5196</th>\n",
       "      <td>VDL001</td>\n",
       "      <td>Idade em meses das crianças nascidas no períod...</td>\n",
       "    </tr>\n",
       "    <tr>\n",
       "      <th>5199</th>\n",
       "      <td>VDM001</td>\n",
       "      <td>Faixa de tempo gasto por dia no deslocamento c...</td>\n",
       "    </tr>\n",
       "    <tr>\n",
       "      <th>5204</th>\n",
       "      <td>VDP001</td>\n",
       "      <td>Tipo de cigarro industrializado comprado</td>\n",
       "    </tr>\n",
       "    <tr>\n",
       "      <th>5208</th>\n",
       "      <td>VDR001</td>\n",
       "      <td>Método contraceptivo mais eficaz que faz uso</td>\n",
       "    </tr>\n",
       "    <tr>\n",
       "      <th>5218</th>\n",
       "      <td>VDDATA</td>\n",
       "      <td>Data de geração do arquivo de microdados. Data...</td>\n",
       "    </tr>\n",
       "  </tbody>\n",
       "</table>\n",
       "<p>1088 rows × 2 columns</p>\n",
       "</div>"
      ],
      "text/plain": [
       "         Codigo                                          Descricao\n",
       "1         V0001                               Unidade da Federação\n",
       "28        V0024                                            Estrato\n",
       "29      UPA_PNS                                                UPA\n",
       "30    V0006_PNS                Número de ordem do domicílio na PNS\n",
       "31        V0015                                 Tipo da entrevista\n",
       "...         ...                                                ...\n",
       "5196     VDL001  Idade em meses das crianças nascidas no períod...\n",
       "5199     VDM001  Faixa de tempo gasto por dia no deslocamento c...\n",
       "5204     VDP001           Tipo de cigarro industrializado comprado\n",
       "5208     VDR001       Método contraceptivo mais eficaz que faz uso\n",
       "5218     VDDATA  Data de geração do arquivo de microdados. Data...\n",
       "\n",
       "[1088 rows x 2 columns]"
      ]
     },
     "execution_count": 6,
     "metadata": {},
     "output_type": "execute_result"
    }
   ],
   "source": [
    "# Dataframe\n",
    "pns_multi_index = pd.DataFrame([attribute_codes, attribute_descriptions]).T\n",
    "pns_multi_index"
   ]
  },
  {
   "cell_type": "code",
   "execution_count": 7,
   "id": "7bd1b5e2",
   "metadata": {},
   "outputs": [],
   "source": [
    "# Save to CSV\n",
    "codes_descriptions_path = '/workspaces/depressao-ibge-pns/data/pns-multi-index.csv'\n",
    "pns_multi_index.to_csv(codes_descriptions_path, index=False, header=['Codigo', 'Descricao'])"
   ]
  },
  {
   "cell_type": "markdown",
   "id": "5064ee4d",
   "metadata": {},
   "source": [
    "# [END] \n",
    "> Now the ../data/`pns-multi-index`.csv is ready to be used by:\n",
    "1. [**depression**.ipynb](/workspaces/depressao-ibge-pns/src/3-depression/depression.ipynb)"
   ]
  }
 ],
 "metadata": {
  "kernelspec": {
   "display_name": "Python 3",
   "language": "python",
   "name": "python3"
  },
  "language_info": {
   "codemirror_mode": {
    "name": "ipython",
    "version": 3
   },
   "file_extension": ".py",
   "mimetype": "text/x-python",
   "name": "python",
   "nbconvert_exporter": "python",
   "pygments_lexer": "ipython3",
   "version": "3.11.11"
  }
 },
 "nbformat": 4,
 "nbformat_minor": 5
}
