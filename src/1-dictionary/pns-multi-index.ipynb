{
 "cells": [
  {
   "cell_type": "markdown",
   "id": "4ddbde2d",
   "metadata": {},
   "source": [
    "# Attributes: Codes and Description for `multi-index`"
   ]
  },
  {
   "cell_type": "markdown",
   "id": "5c5cd5ac",
   "metadata": {},
   "source": [
    "## 1 Setup\n",
    "- Libraries\n",
    "- Paths\n",
    "- Dataframe"
   ]
  },
  {
   "cell_type": "code",
   "execution_count": 1,
   "id": "03e8b1c9",
   "metadata": {},
   "outputs": [],
   "source": [
    "import pandas as pd\n",
    "import numpy as np"
   ]
  },
  {
   "cell_type": "code",
   "execution_count": 2,
   "id": "da11b4cd",
   "metadata": {},
   "outputs": [],
   "source": [
    "pns_dictionary_path = '/workspaces/depressao-ibge-pns/data/pns-original/dictionary-pns-2019-cleaned.csv'"
   ]
  },
  {
   "cell_type": "code",
   "execution_count": 3,
   "id": "0777695d",
   "metadata": {},
   "outputs": [],
   "source": [
    "pns_dictionary = pd.read_csv(pns_dictionary_path, skiprows=2)"
   ]
  },
  {
   "cell_type": "markdown",
   "id": "2a2463eb",
   "metadata": {},
   "source": [
    "## 2 attribute codes"
   ]
  },
  {
   "cell_type": "code",
   "execution_count": 4,
   "id": "4706d0d3",
   "metadata": {},
   "outputs": [
    {
     "data": {
      "text/plain": [
       "'Total of attribute codes: 1088'"
      ]
     },
     "metadata": {},
     "output_type": "display_data"
    },
    {
     "data": {
      "text/html": [
       "<div>\n",
       "<style scoped>\n",
       "    .dataframe tbody tr th:only-of-type {\n",
       "        vertical-align: middle;\n",
       "    }\n",
       "\n",
       "    .dataframe tbody tr th {\n",
       "        vertical-align: top;\n",
       "    }\n",
       "\n",
       "    .dataframe thead th {\n",
       "        text-align: right;\n",
       "    }\n",
       "</style>\n",
       "<table border=\"1\" class=\"dataframe\">\n",
       "  <thead>\n",
       "    <tr style=\"text-align: right;\">\n",
       "      <th></th>\n",
       "      <th>Codigo</th>\n",
       "    </tr>\n",
       "  </thead>\n",
       "  <tbody>\n",
       "    <tr>\n",
       "      <th>1</th>\n",
       "      <td>V0001</td>\n",
       "    </tr>\n",
       "    <tr>\n",
       "      <th>28</th>\n",
       "      <td>V0024</td>\n",
       "    </tr>\n",
       "    <tr>\n",
       "      <th>29</th>\n",
       "      <td>UPA_PNS</td>\n",
       "    </tr>\n",
       "    <tr>\n",
       "      <th>30</th>\n",
       "      <td>V0006_PNS</td>\n",
       "    </tr>\n",
       "    <tr>\n",
       "      <th>31</th>\n",
       "      <td>V0015</td>\n",
       "    </tr>\n",
       "    <tr>\n",
       "      <th>...</th>\n",
       "      <td>...</td>\n",
       "    </tr>\n",
       "    <tr>\n",
       "      <th>5196</th>\n",
       "      <td>VDL001</td>\n",
       "    </tr>\n",
       "    <tr>\n",
       "      <th>5199</th>\n",
       "      <td>VDM001</td>\n",
       "    </tr>\n",
       "    <tr>\n",
       "      <th>5204</th>\n",
       "      <td>VDP001</td>\n",
       "    </tr>\n",
       "    <tr>\n",
       "      <th>5208</th>\n",
       "      <td>VDR001</td>\n",
       "    </tr>\n",
       "    <tr>\n",
       "      <th>5218</th>\n",
       "      <td>VDDATA</td>\n",
       "    </tr>\n",
       "  </tbody>\n",
       "</table>\n",
       "<p>1088 rows × 1 columns</p>\n",
       "</div>"
      ],
      "text/plain": [
       "         Codigo\n",
       "1         V0001\n",
       "28        V0024\n",
       "29      UPA_PNS\n",
       "30    V0006_PNS\n",
       "31        V0015\n",
       "...         ...\n",
       "5196     VDL001\n",
       "5199     VDM001\n",
       "5204     VDP001\n",
       "5208     VDR001\n",
       "5218     VDDATA\n",
       "\n",
       "[1088 rows x 1 columns]"
      ]
     },
     "metadata": {},
     "output_type": "display_data"
    }
   ],
   "source": [
    "attribute_codes = pns_dictionary.Codigo.dropna(axis=0).str.strip()\n",
    "\n",
    "display(\n",
    "    f\"Total of attribute codes: {len(attribute_codes.unique())}\",\n",
    "    pd.DataFrame(attribute_codes)\n",
    ")"
   ]
  },
  {
   "cell_type": "markdown",
   "id": "60280606",
   "metadata": {},
   "source": [
    "## 3 Attribute descriptions"
   ]
  },
  {
   "cell_type": "code",
   "execution_count": 5,
   "id": "b476d3af",
   "metadata": {},
   "outputs": [
    {
     "data": {
      "text/plain": [
       "'Total of attribute descriptions: 1030'"
      ]
     },
     "metadata": {},
     "output_type": "display_data"
    },
    {
     "data": {
      "text/html": [
       "<div>\n",
       "<style scoped>\n",
       "    .dataframe tbody tr th:only-of-type {\n",
       "        vertical-align: middle;\n",
       "    }\n",
       "\n",
       "    .dataframe tbody tr th {\n",
       "        vertical-align: top;\n",
       "    }\n",
       "\n",
       "    .dataframe thead th {\n",
       "        text-align: right;\n",
       "    }\n",
       "</style>\n",
       "<table border=\"1\" class=\"dataframe\">\n",
       "  <thead>\n",
       "    <tr style=\"text-align: right;\">\n",
       "      <th></th>\n",
       "      <th>Descricao</th>\n",
       "    </tr>\n",
       "  </thead>\n",
       "  <tbody>\n",
       "    <tr>\n",
       "      <th>1</th>\n",
       "      <td>Unidade da Federação</td>\n",
       "    </tr>\n",
       "    <tr>\n",
       "      <th>28</th>\n",
       "      <td>Estrato</td>\n",
       "    </tr>\n",
       "    <tr>\n",
       "      <th>29</th>\n",
       "      <td>UPA</td>\n",
       "    </tr>\n",
       "    <tr>\n",
       "      <th>30</th>\n",
       "      <td>Número de ordem do domicílio na PNS</td>\n",
       "    </tr>\n",
       "    <tr>\n",
       "      <th>31</th>\n",
       "      <td>Tipo da entrevista</td>\n",
       "    </tr>\n",
       "    <tr>\n",
       "      <th>...</th>\n",
       "      <td>...</td>\n",
       "    </tr>\n",
       "    <tr>\n",
       "      <th>5196</th>\n",
       "      <td>Idade em meses das crianças nascidas no períod...</td>\n",
       "    </tr>\n",
       "    <tr>\n",
       "      <th>5199</th>\n",
       "      <td>Faixa de tempo gasto por dia no deslocamento c...</td>\n",
       "    </tr>\n",
       "    <tr>\n",
       "      <th>5204</th>\n",
       "      <td>Tipo de cigarro industrializado comprado</td>\n",
       "    </tr>\n",
       "    <tr>\n",
       "      <th>5208</th>\n",
       "      <td>Método contraceptivo mais eficaz que faz uso</td>\n",
       "    </tr>\n",
       "    <tr>\n",
       "      <th>5218</th>\n",
       "      <td>Data de geração do arquivo de microdados. Data...</td>\n",
       "    </tr>\n",
       "  </tbody>\n",
       "</table>\n",
       "<p>1088 rows × 1 columns</p>\n",
       "</div>"
      ],
      "text/plain": [
       "                                              Descricao\n",
       "1                                  Unidade da Federação\n",
       "28                                              Estrato\n",
       "29                                                  UPA\n",
       "30                  Número de ordem do domicílio na PNS\n",
       "31                                   Tipo da entrevista\n",
       "...                                                 ...\n",
       "5196  Idade em meses das crianças nascidas no períod...\n",
       "5199  Faixa de tempo gasto por dia no deslocamento c...\n",
       "5204           Tipo de cigarro industrializado comprado\n",
       "5208       Método contraceptivo mais eficaz que faz uso\n",
       "5218  Data de geração do arquivo de microdados. Data...\n",
       "\n",
       "[1088 rows x 1 columns]"
      ]
     },
     "metadata": {},
     "output_type": "display_data"
    }
   ],
   "source": [
    "attribute_descriptions = pns_dictionary.Descricao.dropna(axis=0).str.replace(r\"\\n\", \"\", regex=True).str.strip()\n",
    "\n",
    "display(\n",
    "    f\"Total of attribute descriptions: {len(attribute_descriptions.unique())}\",\n",
    "    pd.DataFrame(attribute_descriptions)\n",
    ")"
   ]
  },
  {
   "cell_type": "markdown",
   "id": "e47d95cb",
   "metadata": {},
   "source": [
    "## 4 Save `multi-index` tuple from Codigo, Descricao"
   ]
  },
  {
   "cell_type": "code",
   "execution_count": 6,
   "id": "07acdfef",
   "metadata": {},
   "outputs": [
    {
     "data": {
      "text/html": [
       "<div>\n",
       "<style scoped>\n",
       "    .dataframe tbody tr th:only-of-type {\n",
       "        vertical-align: middle;\n",
       "    }\n",
       "\n",
       "    .dataframe tbody tr th {\n",
       "        vertical-align: top;\n",
       "    }\n",
       "\n",
       "    .dataframe thead th {\n",
       "        text-align: right;\n",
       "    }\n",
       "</style>\n",
       "<table border=\"1\" class=\"dataframe\">\n",
       "  <thead>\n",
       "    <tr style=\"text-align: right;\">\n",
       "      <th></th>\n",
       "      <th>Codigo</th>\n",
       "      <th>Descricao</th>\n",
       "    </tr>\n",
       "  </thead>\n",
       "  <tbody>\n",
       "    <tr>\n",
       "      <th>1</th>\n",
       "      <td>V0001</td>\n",
       "      <td>Unidade da Federação</td>\n",
       "    </tr>\n",
       "    <tr>\n",
       "      <th>28</th>\n",
       "      <td>V0024</td>\n",
       "      <td>Estrato</td>\n",
       "    </tr>\n",
       "    <tr>\n",
       "      <th>29</th>\n",
       "      <td>UPA_PNS</td>\n",
       "      <td>UPA</td>\n",
       "    </tr>\n",
       "    <tr>\n",
       "      <th>30</th>\n",
       "      <td>V0006_PNS</td>\n",
       "      <td>Número de ordem do domicílio na PNS</td>\n",
       "    </tr>\n",
       "    <tr>\n",
       "      <th>31</th>\n",
       "      <td>V0015</td>\n",
       "      <td>Tipo da entrevista</td>\n",
       "    </tr>\n",
       "    <tr>\n",
       "      <th>...</th>\n",
       "      <td>...</td>\n",
       "      <td>...</td>\n",
       "    </tr>\n",
       "    <tr>\n",
       "      <th>5196</th>\n",
       "      <td>VDL001</td>\n",
       "      <td>Idade em meses das crianças nascidas no períod...</td>\n",
       "    </tr>\n",
       "    <tr>\n",
       "      <th>5199</th>\n",
       "      <td>VDM001</td>\n",
       "      <td>Faixa de tempo gasto por dia no deslocamento c...</td>\n",
       "    </tr>\n",
       "    <tr>\n",
       "      <th>5204</th>\n",
       "      <td>VDP001</td>\n",
       "      <td>Tipo de cigarro industrializado comprado</td>\n",
       "    </tr>\n",
       "    <tr>\n",
       "      <th>5208</th>\n",
       "      <td>VDR001</td>\n",
       "      <td>Método contraceptivo mais eficaz que faz uso</td>\n",
       "    </tr>\n",
       "    <tr>\n",
       "      <th>5218</th>\n",
       "      <td>VDDATA</td>\n",
       "      <td>Data de geração do arquivo de microdados. Data...</td>\n",
       "    </tr>\n",
       "  </tbody>\n",
       "</table>\n",
       "<p>1088 rows × 2 columns</p>\n",
       "</div>"
      ],
      "text/plain": [
       "         Codigo                                          Descricao\n",
       "1         V0001                               Unidade da Federação\n",
       "28        V0024                                            Estrato\n",
       "29      UPA_PNS                                                UPA\n",
       "30    V0006_PNS                Número de ordem do domicílio na PNS\n",
       "31        V0015                                 Tipo da entrevista\n",
       "...         ...                                                ...\n",
       "5196     VDL001  Idade em meses das crianças nascidas no períod...\n",
       "5199     VDM001  Faixa de tempo gasto por dia no deslocamento c...\n",
       "5204     VDP001           Tipo de cigarro industrializado comprado\n",
       "5208     VDR001       Método contraceptivo mais eficaz que faz uso\n",
       "5218     VDDATA  Data de geração do arquivo de microdados. Data...\n",
       "\n",
       "[1088 rows x 2 columns]"
      ]
     },
     "execution_count": 6,
     "metadata": {},
     "output_type": "execute_result"
    }
   ],
   "source": [
    "# Dataframe\n",
    "pns_multi_index = pd.DataFrame([attribute_codes, attribute_descriptions]).T\n",
    "pns_multi_index"
   ]
  },
  {
   "cell_type": "code",
   "execution_count": 7,
   "id": "7bd1b5e2",
   "metadata": {},
   "outputs": [],
   "source": [
    "# Save to CSV\n",
    "codes_descriptions_path = '/workspaces/depressao-ibge-pns/data/pns-multi-index.csv'\n",
    "pns_multi_index.to_csv(codes_descriptions_path, index=False, header=['Codigo', 'Descricao'])"
   ]
  },
  {
   "cell_type": "markdown",
   "id": "5064ee4d",
   "metadata": {},
   "source": [
    "# [END] \n",
    "> Now the ../data/`pns-multi-index`.csv is ready to be used by:\n",
    "1. [**depression**.ipynb](/workspaces/depressao-ibge-pns/src/3-depression/depression.ipynb)"
   ]
  }
 ],
 "metadata": {
  "kernelspec": {
   "display_name": "Python 3",
   "language": "python",
   "name": "python3"
  },
  "language_info": {
   "codemirror_mode": {
    "name": "ipython",
    "version": 3
   },
   "file_extension": ".py",
   "mimetype": "text/x-python",
   "name": "python",
   "nbconvert_exporter": "python",
   "pygments_lexer": "ipython3",
   "version": "3.11.11"
  }
 },
 "nbformat": 4,
 "nbformat_minor": 5
}
