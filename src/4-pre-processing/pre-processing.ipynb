{
 "cells": [
  {
   "cell_type": "markdown",
   "id": "0d3e3f3b",
   "metadata": {},
   "source": [
    "# `Pre-processing`"
   ]
  },
  {
   "cell_type": "markdown",
   "id": "04365098",
   "metadata": {},
   "source": [
    "## 1 Setup"
   ]
  },
  {
   "cell_type": "markdown",
   "id": "0e5934e3",
   "metadata": {},
   "source": [
    "### 1.1 Libraries"
   ]
  },
  {
   "cell_type": "code",
   "execution_count": 1,
   "id": "6ae794c3",
   "metadata": {},
   "outputs": [],
   "source": [
    "import pandas as pd\n",
    "import numpy as np"
   ]
  },
  {
   "cell_type": "markdown",
   "id": "ce20b99f",
   "metadata": {},
   "source": [
    "### 1.2 Paths"
   ]
  },
  {
   "cell_type": "code",
   "execution_count": 2,
   "id": "cb036639",
   "metadata": {},
   "outputs": [],
   "source": [
    "DEPRESSION_PATH             = '/workspaces/depressao-ibge-pns/data/depression.csv'\n",
    "DEPRESSION_DICTIONARY_PATH  = '/workspaces/depressao-ibge-pns/data/depression-dictionary.csv'"
   ]
  },
  {
   "cell_type": "markdown",
   "id": "aa907717",
   "metadata": {},
   "source": [
    "### 1.3 Dataframes"
   ]
  },
  {
   "cell_type": "code",
   "execution_count": 3,
   "id": "272fbc79",
   "metadata": {},
   "outputs": [],
   "source": [
    "DEPRESSION            = pd.read_csv(DEPRESSION_PATH, header=[0, 1])\n",
    "DEPRESSION_DICTIONARY = pd.read_csv(DEPRESSION_DICTIONARY_PATH)"
   ]
  },
  {
   "cell_type": "code",
   "execution_count": 4,
   "id": "dae2d21f",
   "metadata": {},
   "outputs": [
    {
     "data": {
      "application/vnd.microsoft.datawrangler.viewer.v0+json": {
       "columns": [
        {
         "name": "index",
         "rawType": "int64",
         "type": "integer"
        },
        {
         "name": "('V0001', 'Unidade da Federação')",
         "rawType": "int64",
         "type": "integer"
        },
        {
         "name": "('V0026', 'Tipo de situação censitária')",
         "rawType": "int64",
         "type": "integer"
        },
        {
         "name": "('V0031', 'Tipo de área')",
         "rawType": "int64",
         "type": "integer"
        },
        {
         "name": "('C006', 'Sexo')",
         "rawType": "float64",
         "type": "float"
        },
        {
         "name": "('C00703', 'Ano de nascimento')",
         "rawType": "float64",
         "type": "float"
        },
        {
         "name": "('C008', 'Idade do morador na data de referência')",
         "rawType": "float64",
         "type": "float"
        },
        {
         "name": "('C009', 'Cor ou raça')",
         "rawType": "float64",
         "type": "float"
        },
        {
         "name": "('C01001', 'Cônjuge ou companheiro(a) mora em nesse domicílio.')",
         "rawType": "float64",
         "type": "float"
        },
        {
         "name": "('C013', 'Cônjuge ou companheiro(a) mora em outro domicílio.')",
         "rawType": "float64",
         "type": "float"
        },
        {
         "name": "('C017', '___já viveu com cônjuge ou companheiro (a) antes?')",
         "rawType": "float64",
         "type": "float"
        },
        {
         "name": "('C018', 'Que idade ___tinha quando começou a viver com seu(sua) primeiro(a)/único(a) marido (mulher) ou companheiro(a)?')",
         "rawType": "float64",
         "type": "float"
        },
        {
         "name": "('C01801', 'Que idade ___tinha quando começou a viver com seu(sua) primeiro(a)/único(a) marido (mulher) ou companheiro(a)?')",
         "rawType": "float64",
         "type": "float"
        },
        {
         "name": "('C011', 'Qual é o estado civil de ___?')",
         "rawType": "float64",
         "type": "float"
        },
        {
         "name": "('C012', 'Informante do Módulo C')",
         "rawType": "float64",
         "type": "float"
        },
        {
         "name": "('D00901', 'Qual foi o curso mais elevado que ___frequentou')",
         "rawType": "float64",
         "type": "float"
        },
        {
         "name": "('D015', 'Informante do Módulo D')",
         "rawType": "float64",
         "type": "float"
        },
        {
         "name": "('I00102', 'tem algum plano de saúde médico particular, de empresa ou órgão público?')",
         "rawType": "float64",
         "type": "float"
        },
        {
         "name": "('I005', 'Há quanto tempo sem interrupção _____ possui esse plano de saúde (único ou principal)?')",
         "rawType": "float64",
         "type": "float"
        },
        {
         "name": "('I00401', 'O plano de saúde (único ou principal) de assistência médica que ___ possui dá direito a consultas')",
         "rawType": "float64",
         "type": "float"
        },
        {
         "name": "('I00403', 'O plano de saúde (único ou principal) de assistência médica que ___ possui dá direito a internações')",
         "rawType": "float64",
         "type": "float"
        },
        {
         "name": "('I00404', 'O plano de saúde (único ou principal) de assistência médica que ___ possui dá direito a partos')",
         "rawType": "float64",
         "type": "float"
        },
        {
         "name": "('I012', 'Informante do Módulo I')",
         "rawType": "float64",
         "type": "float"
        },
        {
         "name": "('M00302', 'O informante desta parte é:')",
         "rawType": "float64",
         "type": "float"
        },
        {
         "name": "('M005010', 'No(s) seu(s) trabalho(s), habitualmente, (s) o(a) Sr(a) trabalha(va) algum período de tempo entre as 8 horas da noite e às 5 horas da manhã')",
         "rawType": "float64",
         "type": "float"
        },
        {
         "name": "('M009', 'O(a) Sr(a) normalmente trabalha(va) em ambientes')",
         "rawType": "float64",
         "type": "float"
        },
        {
         "name": "('M01401', 'Com quantos familiares ou parentes ___ pode contar em momentos bons ou ruins')",
         "rawType": "float64",
         "type": "float"
        },
        {
         "name": "('M01501', 'Com quantos amigos próximos ___ pode contar em momentos bons ou ruins (Sem considerar os familiares ou parentes')",
         "rawType": "float64",
         "type": "float"
        },
        {
         "name": "('M01601', 'Nos últimos doze meses, com que frequência o(a) Sr(a) se reuniu com outras pessoas para prática de atividades esportivas, exercícios físicos, recreativos ou artísticos')",
         "rawType": "float64",
         "type": "float"
        },
        {
         "name": "('M01901', 'Nos últimos doze meses, com que frequência o(a) Sr(a) compareceu a atividades coletivas da sua religião ou de outra religião sem contar com situações como casamento, batizado, ou enterro)')",
         "rawType": "float64",
         "type": "float"
        },
        {
         "name": "('N016', 'Nas duas últimas semanas, com que frequência o(a) Sr(a) se sentiu deprimido(a), “pra baixo” ou sem perspectiva?')",
         "rawType": "float64",
         "type": "float"
        },
        {
         "name": "('P00102', 'O(A) Sr(a) sabe seu peso?')",
         "rawType": "float64",
         "type": "float"
        },
        {
         "name": "('P00103', 'Peso - Informado (em kg)(3 inteiros e 1 casa decimal)')",
         "rawType": "float64",
         "type": "float"
        },
        {
         "name": "('P00104', 'Peso - Final (em kg)(3 inteiros e 1 casa decimal)')",
         "rawType": "float64",
         "type": "float"
        },
        {
         "name": "('P027', 'Com que frequência o(a) Sr(a) costuma consumir alguma bebida alcoólica?')",
         "rawType": "float64",
         "type": "float"
        },
        {
         "name": "('P02801', 'Quantos dias por semana o(a) Sr(a) costuma consumir alguma bebida alcoólica?')",
         "rawType": "float64",
         "type": "float"
        },
        {
         "name": "('P034', 'Nos últimos três meses, o(a) Sr(a) praticou algum tipo de exercício físico ou esporte?')",
         "rawType": "float64",
         "type": "float"
        },
        {
         "name": "('P035', 'Quantos dias por semana o(a) Sr(a) costuma  (costumava)praticar exercício físico ou esporte?')",
         "rawType": "float64",
         "type": "float"
        },
        {
         "name": "('P039', 'No seu trabalho, o(a) Sr(a) faz faxina pesada, carrega peso ou faz outra atividade pesada que requer esforço físico intenso?')",
         "rawType": "float64",
         "type": "float"
        },
        {
         "name": "('P044', 'Nas suas atividades domésticas, o(a) Sr(a) faz faxina pesada, carrega peso ou faz outra atividade pesada que requer esforço físico intenso? (não considerar atividade doméstica remunerada)')",
         "rawType": "float64",
         "type": "float"
        },
        {
         "name": "('P050', 'Atualmente, o(a) Sr(a) fuma algum produto do tabaco?')",
         "rawType": "float64",
         "type": "float"
        },
        {
         "name": "('P051', 'E no passado, o(a) Sr(a) fumou algum produto do tabaco diariamente?')",
         "rawType": "float64",
         "type": "float"
        },
        {
         "name": "('P053', 'Que idade o(a) Sr(a) tinha quando começou a fumar produto de tabaco diariamente?')",
         "rawType": "float64",
         "type": "float"
        },
        {
         "name": "('P06701', 'O(a) Sr(a) usa aparelhos eletrônicos com nicotina líquida ou folha de tabaco picado (cigarro eletrônico, narguilé eletrônico, cigarro aquecido ou outro dispositivo eletrônico para fumar ou vaporizar)?')",
         "rawType": "float64",
         "type": "float"
        },
        {
         "name": "('Q092', 'Algum médico ou profissional de saúde mental (como psiquiatra ou psicólogo) já lhe deu o diagnóstico de depressão?')",
         "rawType": "float64",
         "type": "float"
        },
        {
         "name": "('Q09201', 'Algum médico já lhe receitou algum medicamento para depressão?')",
         "rawType": "float64",
         "type": "float"
        },
        {
         "name": "('Q09202', 'Nas duas últimas semanas o(a) senhor(a) usou algum medicamento para depressão?')",
         "rawType": "float64",
         "type": "float"
        },
        {
         "name": "('Q094', 'O(A) Sr(a) vai ao médico/serviço de saúde regularmente por causa da depressão ou só quando tem algum problema?')",
         "rawType": "float64",
         "type": "float"
        },
        {
         "name": "('Q09502', 'Qual o principal motivo do(a) Sr(a) não visitar o médico/serviço de saúde regularmente por causa da depressão?')",
         "rawType": "float64",
         "type": "float"
        },
        {
         "name": "('Q09605', 'Por causa da depressão Faz psicoterapia')",
         "rawType": "float64",
         "type": "float"
        },
        {
         "name": "('Q09606', 'Por causa da depressão Toma medicamentos')",
         "rawType": "float64",
         "type": "float"
        },
        {
         "name": "('Q098', 'Algum dos medicamentos para depressão foi obtido em serviço público de saúde?')",
         "rawType": "float64",
         "type": "float"
        },
        {
         "name": "('Q10101', 'Quando foi a última vez que o(a) Sr(a) recebeu atendimento médico por causa da depressão?')",
         "rawType": "float64",
         "type": "float"
        },
        {
         "name": "('Q10202', 'Na última vez que recebeu assistência médica para depressão, onde o(a) Sr(a) foi atendido?')",
         "rawType": "float64",
         "type": "float"
        },
        {
         "name": "('Q106', 'Em algum dos atendimentos para depressão, houve encaminhamento para algum acompanhamento com profissional de saúde mental, como psiquiatra ou psicólogo?')",
         "rawType": "float64",
         "type": "float"
        },
        {
         "name": "('Q109', 'Em geral, em que grau a depressão limita as suas atividades habituais (tais como trabalhar, realizar afazeres domésticos, etc.)?')",
         "rawType": "float64",
         "type": "float"
        },
        {
         "name": "('V00201', 'Nos últimos doze meses, alguém: Te ofendeu, humilhou ou ridicularizou na frente de outras pessoas?')",
         "rawType": "float64",
         "type": "float"
        },
        {
         "name": "('V00202', 'Nos últimos doze meses, alguém: Gritou com você ou te xingou?')",
         "rawType": "float64",
         "type": "float"
        },
        {
         "name": "('V00203', 'Nos últimos doze meses, alguém: Usou redes sociais ou celular para ameaçar, ofender, xingar ou expor imagens suas sem o seu consentimento?')",
         "rawType": "float64",
         "type": "float"
        },
        {
         "name": "('V00204', 'Nos últimos doze meses, alguém: Te ameaçou de ferir ou machucar alguém importante para você?')",
         "rawType": "float64",
         "type": "float"
        },
        {
         "name": "('V00205', 'Nos últimos doze meses, alguém: Destruiu alguma coisa sua de propósito?')",
         "rawType": "float64",
         "type": "float"
        },
        {
         "name": "('V003', 'Nos últimos doze meses, quantas vezes isso aconteceu com você?')",
         "rawType": "float64",
         "type": "float"
        },
        {
         "name": "('V006', 'Quem fez isso com você? (Se mais de uma pessoa, defina o pirncipal agressor)')",
         "rawType": "float64",
         "type": "float"
        },
        {
         "name": "('V007', 'Onde isso ocorreu?')",
         "rawType": "float64",
         "type": "float"
        },
        {
         "name": "('V01401', 'Nos últimos doze meses, alguém: Te deu um tapa ou uma bofetada?')",
         "rawType": "float64",
         "type": "float"
        },
        {
         "name": "('V01402', 'Nos últimos doze meses, alguém: Te empurrou, segurou com força ou jogou algo em você com a intenção de machucar?')",
         "rawType": "float64",
         "type": "float"
        },
        {
         "name": "('V01403', 'Nos últimos doze meses, alguém: Te deu um soco, chutou ou arrastou pelo cabelo?')",
         "rawType": "float64",
         "type": "float"
        },
        {
         "name": "('V01404', 'Nos últimos doze meses, alguém: Tentou ou efetivamente estrangulou, asfixiou ou te queimou de propósito?')",
         "rawType": "float64",
         "type": "float"
        },
        {
         "name": "('V01405', 'Nos últimos doze meses, alguém: Te ameaçou ou feriu com uma faca, arma de fogo ou alguma outra arma ou objeto?')",
         "rawType": "float64",
         "type": "float"
        },
        {
         "name": "('V015', 'Nos últimos doze meses, quantas vezes isso aconteceu?')",
         "rawType": "float64",
         "type": "float"
        },
        {
         "name": "('V018', 'Quem fez isso com você')",
         "rawType": "float64",
         "type": "float"
        },
        {
         "name": "('V019', 'Onde isso ocorreu?')",
         "rawType": "float64",
         "type": "float"
        },
        {
         "name": "('V02701', 'Nos últimos doze meses, alguém: tocou, manipulou, beijou ou expôs partes do seu corpo contra sua vontade')",
         "rawType": "float64",
         "type": "float"
        },
        {
         "name": "('V02702', 'Nos últimos doze meses, alguém: Te ameaçou ou forçou a ter relações sexuais ou quaisquer outros atos sexuais contra sua vontade?')",
         "rawType": "float64",
         "type": "float"
        },
        {
         "name": "('V02801', 'E alguma vez na vida, alguém: tocou, manipulou, beijou ou expôs partes do seu corpo contra sua vontade')",
         "rawType": "float64",
         "type": "float"
        },
        {
         "name": "('V02802', 'E alguma vez na vida, alguém: Te ameaçou ou forçou a ter relações sexuais ou quaisquer outros atos sexuais contra sua vontade?')",
         "rawType": "float64",
         "type": "float"
        },
        {
         "name": "('V029', 'Nos últimos doze meses, quantas vezes isso aconteceu?')",
         "rawType": "float64",
         "type": "float"
        },
        {
         "name": "('V032', 'Quem fez isso com você')",
         "rawType": "float64",
         "type": "float"
        },
        {
         "name": "('V033', 'Onde isso ocorreu?')",
         "rawType": "float64",
         "type": "float"
        },
        {
         "name": "('V034', 'Nos últimos doze meses, você deixou de realizar quaisquer de suas atividades habituais (trabalhar, realizar afazeres domésticos, ir à escola etc.) por causa desse ato')",
         "rawType": "float64",
         "type": "float"
        },
        {
         "name": "('V03501', 'Esse(s) ato(s) sexual(is) forçado(s) gerou(aram) alguma consequência para sua saúde, tais como: Hematomas, cortes, fraturas, queimaduras ou outras lesões físicas ou ferimentos?')",
         "rawType": "float64",
         "type": "float"
        },
        {
         "name": "('V03502', 'Esse(s) ato(s) sexual(is) forçado(s) gerou(aram) alguma consequência para sua saúde, tais como: Medo, tristeza, desânimo, dificuldade para dormir, ansiedade, depressão ou outras consequências psicológicas?')",
         "rawType": "float64",
         "type": "float"
        },
        {
         "name": "('V03503', 'Esse(s) ato(s) sexual(is) forçado(s) gerou(aram) alguma consequência para sua saúde, tais como: Doença sexualmente transmissível ou gravidez indesejada?')",
         "rawType": "float64",
         "type": "float"
        },
        {
         "name": "('V036', 'Por causa desta (s) consequência (s), você procurou algum atendimento de saúde')",
         "rawType": "float64",
         "type": "float"
        },
        {
         "name": "('V037', 'Por causa desta (s) consequência (s), você recebeu algum atendimento de saúde')",
         "rawType": "float64",
         "type": "float"
        },
        {
         "name": "('V038', 'Onde foi realizado este atendimento de saúde')",
         "rawType": "float64",
         "type": "float"
        },
        {
         "name": "('V039', 'Por causa desta (s) consequência (s), você precisou ser internado por 24 horas ou mais')",
         "rawType": "float64",
         "type": "float"
        },
        {
         "name": "('Y008', 'Qual é a sua orientação sexual?')",
         "rawType": "float64",
         "type": "float"
        }
       ],
       "conversionMethod": "pd.DataFrame",
       "ref": "91ed640c-3b8a-4c34-925a-0e3af1525019",
       "rows": [
        [
         "0",
         "11",
         "1",
         "1",
         "2.0",
         "1963.0",
         "55.0",
         "1.0",
         "1.0",
         null,
         null,
         "1.0",
         "17.0",
         "1.0",
         "1.0",
         "5.0",
         "1.0",
         "2.0",
         null,
         null,
         null,
         null,
         "1.0",
         null,
         "2.0",
         "2.0",
         "3.0",
         "0.0",
         "6.0",
         "2.0",
         "2.0",
         "1.0",
         "60.0",
         "60.0",
         "2.0",
         null,
         "1.0",
         "1.0",
         "2.0",
         "2.0",
         "3.0",
         null,
         "15.0",
         "4.0",
         "1.0",
         "1.0",
         "3.0",
         "2.0",
         "1.0",
         "2.0",
         "1.0",
         "1.0",
         "5.0",
         null,
         null,
         "1.0",
         "2.0",
         "2.0",
         "2.0",
         "2.0",
         "2.0",
         null,
         null,
         null,
         "2.0",
         "2.0",
         "2.0",
         "2.0",
         "2.0",
         null,
         null,
         null,
         "2.0",
         "2.0",
         "2.0",
         "2.0",
         null,
         null,
         null,
         null,
         null,
         null,
         null,
         null,
         null,
         null,
         null,
         "1.0"
        ],
        [
         "1",
         "11",
         "1",
         "1",
         "1.0",
         "1950.0",
         "69.0",
         "4.0",
         "1.0",
         null,
         null,
         "1.0",
         "30.0",
         "1.0",
         "2.0",
         null,
         "2.0",
         "2.0",
         null,
         null,
         null,
         null,
         "2.0",
         null,
         null,
         null,
         null,
         null,
         null,
         null,
         null,
         null,
         null,
         null,
         null,
         null,
         null,
         null,
         null,
         null,
         null,
         null,
         null,
         null,
         null,
         null,
         null,
         null,
         null,
         null,
         null,
         null,
         null,
         null,
         null,
         null,
         null,
         null,
         null,
         null,
         null,
         null,
         null,
         null,
         null,
         null,
         null,
         null,
         null,
         null,
         null,
         null,
         null,
         null,
         null,
         null,
         null,
         null,
         null,
         null,
         null,
         null,
         null,
         null,
         null,
         null,
         null,
         null
        ],
        [
         "2",
         "11",
         "1",
         "1",
         "1.0",
         "1987.0",
         "31.0",
         "2.0",
         "2.0",
         "2.0",
         "1.0",
         "2.0",
         null,
         "4.0",
         "2.0",
         "10.0",
         "2.0",
         "2.0",
         null,
         null,
         null,
         null,
         "2.0",
         null,
         null,
         null,
         null,
         null,
         null,
         null,
         null,
         null,
         null,
         null,
         null,
         null,
         null,
         null,
         null,
         null,
         null,
         null,
         null,
         null,
         null,
         null,
         null,
         null,
         null,
         null,
         null,
         null,
         null,
         null,
         null,
         null,
         null,
         null,
         null,
         null,
         null,
         null,
         null,
         null,
         null,
         null,
         null,
         null,
         null,
         null,
         null,
         null,
         null,
         null,
         null,
         null,
         null,
         null,
         null,
         null,
         null,
         null,
         null,
         null,
         null,
         null,
         null,
         null
        ],
        [
         "3",
         "11",
         "1",
         "1",
         "1.0",
         "9999.0",
         "9.0",
         "2.0",
         null,
         null,
         null,
         null,
         null,
         null,
         "2.0",
         null,
         "2.0",
         "2.0",
         null,
         null,
         null,
         null,
         "2.0",
         null,
         null,
         null,
         null,
         null,
         null,
         null,
         null,
         null,
         null,
         null,
         null,
         null,
         null,
         null,
         null,
         null,
         null,
         null,
         null,
         null,
         null,
         null,
         null,
         null,
         null,
         null,
         null,
         null,
         null,
         null,
         null,
         null,
         null,
         null,
         null,
         null,
         null,
         null,
         null,
         null,
         null,
         null,
         null,
         null,
         null,
         null,
         null,
         null,
         null,
         null,
         null,
         null,
         null,
         null,
         null,
         null,
         null,
         null,
         null,
         null,
         null,
         null,
         null,
         null
        ],
        [
         "4",
         "11",
         "1",
         "1",
         "2.0",
         "9999.0",
         "6.0",
         "4.0",
         null,
         null,
         null,
         null,
         null,
         null,
         "2.0",
         null,
         "2.0",
         "2.0",
         null,
         null,
         null,
         null,
         "2.0",
         null,
         null,
         null,
         null,
         null,
         null,
         null,
         null,
         null,
         null,
         null,
         null,
         null,
         null,
         null,
         null,
         null,
         null,
         null,
         null,
         null,
         null,
         null,
         null,
         null,
         null,
         null,
         null,
         null,
         null,
         null,
         null,
         null,
         null,
         null,
         null,
         null,
         null,
         null,
         null,
         null,
         null,
         null,
         null,
         null,
         null,
         null,
         null,
         null,
         null,
         null,
         null,
         null,
         null,
         null,
         null,
         null,
         null,
         null,
         null,
         null,
         null,
         null,
         null,
         null
        ]
       ],
       "shape": {
        "columns": 87,
        "rows": 5
       }
      },
      "text/html": [
       "<div>\n",
       "<style scoped>\n",
       "    .dataframe tbody tr th:only-of-type {\n",
       "        vertical-align: middle;\n",
       "    }\n",
       "\n",
       "    .dataframe tbody tr th {\n",
       "        vertical-align: top;\n",
       "    }\n",
       "\n",
       "    .dataframe thead tr th {\n",
       "        text-align: left;\n",
       "    }\n",
       "</style>\n",
       "<table border=\"1\" class=\"dataframe\">\n",
       "  <thead>\n",
       "    <tr>\n",
       "      <th></th>\n",
       "      <th>V0001</th>\n",
       "      <th>V0026</th>\n",
       "      <th>V0031</th>\n",
       "      <th>C006</th>\n",
       "      <th>C00703</th>\n",
       "      <th>C008</th>\n",
       "      <th>C009</th>\n",
       "      <th>C01001</th>\n",
       "      <th>C013</th>\n",
       "      <th>C017</th>\n",
       "      <th>...</th>\n",
       "      <th>V033</th>\n",
       "      <th>V034</th>\n",
       "      <th>V03501</th>\n",
       "      <th>V03502</th>\n",
       "      <th>V03503</th>\n",
       "      <th>V036</th>\n",
       "      <th>V037</th>\n",
       "      <th>V038</th>\n",
       "      <th>V039</th>\n",
       "      <th>Y008</th>\n",
       "    </tr>\n",
       "    <tr>\n",
       "      <th></th>\n",
       "      <th>Unidade da Federação</th>\n",
       "      <th>Tipo de situação censitária</th>\n",
       "      <th>Tipo de área</th>\n",
       "      <th>Sexo</th>\n",
       "      <th>Ano de nascimento</th>\n",
       "      <th>Idade do morador na data de referência</th>\n",
       "      <th>Cor ou raça</th>\n",
       "      <th>Cônjuge ou companheiro(a) mora em nesse domicílio.</th>\n",
       "      <th>Cônjuge ou companheiro(a) mora em outro domicílio.</th>\n",
       "      <th>___já viveu com cônjuge ou companheiro (a) antes?</th>\n",
       "      <th>...</th>\n",
       "      <th>Onde isso ocorreu?</th>\n",
       "      <th>Nos últimos doze meses, você deixou de realizar quaisquer de suas atividades habituais (trabalhar, realizar afazeres domésticos, ir à escola etc.) por causa desse ato</th>\n",
       "      <th>Esse(s) ato(s) sexual(is) forçado(s) gerou(aram) alguma consequência para sua saúde, tais como: Hematomas, cortes, fraturas, queimaduras ou outras lesões físicas ou ferimentos?</th>\n",
       "      <th>Esse(s) ato(s) sexual(is) forçado(s) gerou(aram) alguma consequência para sua saúde, tais como: Medo, tristeza, desânimo, dificuldade para dormir, ansiedade, depressão ou outras consequências psicológicas?</th>\n",
       "      <th>Esse(s) ato(s) sexual(is) forçado(s) gerou(aram) alguma consequência para sua saúde, tais como: Doença sexualmente transmissível ou gravidez indesejada?</th>\n",
       "      <th>Por causa desta (s) consequência (s), você procurou algum atendimento de saúde</th>\n",
       "      <th>Por causa desta (s) consequência (s), você recebeu algum atendimento de saúde</th>\n",
       "      <th>Onde foi realizado este atendimento de saúde</th>\n",
       "      <th>Por causa desta (s) consequência (s), você precisou ser internado por 24 horas ou mais</th>\n",
       "      <th>Qual é a sua orientação sexual?</th>\n",
       "    </tr>\n",
       "  </thead>\n",
       "  <tbody>\n",
       "    <tr>\n",
       "      <th>0</th>\n",
       "      <td>11</td>\n",
       "      <td>1</td>\n",
       "      <td>1</td>\n",
       "      <td>2.0</td>\n",
       "      <td>1963.0</td>\n",
       "      <td>55.0</td>\n",
       "      <td>1.0</td>\n",
       "      <td>1.0</td>\n",
       "      <td>NaN</td>\n",
       "      <td>NaN</td>\n",
       "      <td>...</td>\n",
       "      <td>NaN</td>\n",
       "      <td>NaN</td>\n",
       "      <td>NaN</td>\n",
       "      <td>NaN</td>\n",
       "      <td>NaN</td>\n",
       "      <td>NaN</td>\n",
       "      <td>NaN</td>\n",
       "      <td>NaN</td>\n",
       "      <td>NaN</td>\n",
       "      <td>1.0</td>\n",
       "    </tr>\n",
       "    <tr>\n",
       "      <th>1</th>\n",
       "      <td>11</td>\n",
       "      <td>1</td>\n",
       "      <td>1</td>\n",
       "      <td>1.0</td>\n",
       "      <td>1950.0</td>\n",
       "      <td>69.0</td>\n",
       "      <td>4.0</td>\n",
       "      <td>1.0</td>\n",
       "      <td>NaN</td>\n",
       "      <td>NaN</td>\n",
       "      <td>...</td>\n",
       "      <td>NaN</td>\n",
       "      <td>NaN</td>\n",
       "      <td>NaN</td>\n",
       "      <td>NaN</td>\n",
       "      <td>NaN</td>\n",
       "      <td>NaN</td>\n",
       "      <td>NaN</td>\n",
       "      <td>NaN</td>\n",
       "      <td>NaN</td>\n",
       "      <td>NaN</td>\n",
       "    </tr>\n",
       "    <tr>\n",
       "      <th>2</th>\n",
       "      <td>11</td>\n",
       "      <td>1</td>\n",
       "      <td>1</td>\n",
       "      <td>1.0</td>\n",
       "      <td>1987.0</td>\n",
       "      <td>31.0</td>\n",
       "      <td>2.0</td>\n",
       "      <td>2.0</td>\n",
       "      <td>2.0</td>\n",
       "      <td>1.0</td>\n",
       "      <td>...</td>\n",
       "      <td>NaN</td>\n",
       "      <td>NaN</td>\n",
       "      <td>NaN</td>\n",
       "      <td>NaN</td>\n",
       "      <td>NaN</td>\n",
       "      <td>NaN</td>\n",
       "      <td>NaN</td>\n",
       "      <td>NaN</td>\n",
       "      <td>NaN</td>\n",
       "      <td>NaN</td>\n",
       "    </tr>\n",
       "    <tr>\n",
       "      <th>3</th>\n",
       "      <td>11</td>\n",
       "      <td>1</td>\n",
       "      <td>1</td>\n",
       "      <td>1.0</td>\n",
       "      <td>9999.0</td>\n",
       "      <td>9.0</td>\n",
       "      <td>2.0</td>\n",
       "      <td>NaN</td>\n",
       "      <td>NaN</td>\n",
       "      <td>NaN</td>\n",
       "      <td>...</td>\n",
       "      <td>NaN</td>\n",
       "      <td>NaN</td>\n",
       "      <td>NaN</td>\n",
       "      <td>NaN</td>\n",
       "      <td>NaN</td>\n",
       "      <td>NaN</td>\n",
       "      <td>NaN</td>\n",
       "      <td>NaN</td>\n",
       "      <td>NaN</td>\n",
       "      <td>NaN</td>\n",
       "    </tr>\n",
       "    <tr>\n",
       "      <th>4</th>\n",
       "      <td>11</td>\n",
       "      <td>1</td>\n",
       "      <td>1</td>\n",
       "      <td>2.0</td>\n",
       "      <td>9999.0</td>\n",
       "      <td>6.0</td>\n",
       "      <td>4.0</td>\n",
       "      <td>NaN</td>\n",
       "      <td>NaN</td>\n",
       "      <td>NaN</td>\n",
       "      <td>...</td>\n",
       "      <td>NaN</td>\n",
       "      <td>NaN</td>\n",
       "      <td>NaN</td>\n",
       "      <td>NaN</td>\n",
       "      <td>NaN</td>\n",
       "      <td>NaN</td>\n",
       "      <td>NaN</td>\n",
       "      <td>NaN</td>\n",
       "      <td>NaN</td>\n",
       "      <td>NaN</td>\n",
       "    </tr>\n",
       "  </tbody>\n",
       "</table>\n",
       "<p>5 rows × 87 columns</p>\n",
       "</div>"
      ],
      "text/plain": [
       "                 V0001                       V0026        V0031 C006  \\\n",
       "  Unidade da Federação Tipo de situação censitária Tipo de área Sexo   \n",
       "0                   11                           1            1  2.0   \n",
       "1                   11                           1            1  1.0   \n",
       "2                   11                           1            1  1.0   \n",
       "3                   11                           1            1  1.0   \n",
       "4                   11                           1            1  2.0   \n",
       "\n",
       "             C00703                                   C008        C009  \\\n",
       "  Ano de nascimento Idade do morador na data de referência Cor ou raça   \n",
       "0            1963.0                                   55.0         1.0   \n",
       "1            1950.0                                   69.0         4.0   \n",
       "2            1987.0                                   31.0         2.0   \n",
       "3            9999.0                                    9.0         2.0   \n",
       "4            9999.0                                    6.0         4.0   \n",
       "\n",
       "                                              C01001  \\\n",
       "  Cônjuge ou companheiro(a) mora em nesse domicílio.   \n",
       "0                                                1.0   \n",
       "1                                                1.0   \n",
       "2                                                2.0   \n",
       "3                                                NaN   \n",
       "4                                                NaN   \n",
       "\n",
       "                                                C013  \\\n",
       "  Cônjuge ou companheiro(a) mora em outro domicílio.   \n",
       "0                                                NaN   \n",
       "1                                                NaN   \n",
       "2                                                2.0   \n",
       "3                                                NaN   \n",
       "4                                                NaN   \n",
       "\n",
       "                                               C017  ...               V033  \\\n",
       "  ___já viveu com cônjuge ou companheiro (a) antes?  ... Onde isso ocorreu?   \n",
       "0                                               NaN  ...                NaN   \n",
       "1                                               NaN  ...                NaN   \n",
       "2                                               1.0  ...                NaN   \n",
       "3                                               NaN  ...                NaN   \n",
       "4                                               NaN  ...                NaN   \n",
       "\n",
       "                                                                                                                                                                    V034  \\\n",
       "  Nos últimos doze meses, você deixou de realizar quaisquer de suas atividades habituais (trabalhar, realizar afazeres domésticos, ir à escola etc.) por causa desse ato   \n",
       "0                                                NaN                                                                                                                       \n",
       "1                                                NaN                                                                                                                       \n",
       "2                                                NaN                                                                                                                       \n",
       "3                                                NaN                                                                                                                       \n",
       "4                                                NaN                                                                                                                       \n",
       "\n",
       "                                                                                                                                                                            V03501  \\\n",
       "  Esse(s) ato(s) sexual(is) forçado(s) gerou(aram) alguma consequência para sua saúde, tais como: Hematomas, cortes, fraturas, queimaduras ou outras lesões físicas ou ferimentos?   \n",
       "0                                                NaN                                                                                                                                 \n",
       "1                                                NaN                                                                                                                                 \n",
       "2                                                NaN                                                                                                                                 \n",
       "3                                                NaN                                                                                                                                 \n",
       "4                                                NaN                                                                                                                                 \n",
       "\n",
       "                                                                                                                                                                                                         V03502  \\\n",
       "  Esse(s) ato(s) sexual(is) forçado(s) gerou(aram) alguma consequência para sua saúde, tais como: Medo, tristeza, desânimo, dificuldade para dormir, ansiedade, depressão ou outras consequências psicológicas?   \n",
       "0                                                NaN                                                                                                                                                              \n",
       "1                                                NaN                                                                                                                                                              \n",
       "2                                                NaN                                                                                                                                                              \n",
       "3                                                NaN                                                                                                                                                              \n",
       "4                                                NaN                                                                                                                                                              \n",
       "\n",
       "                                                                                                                                                    V03503  \\\n",
       "  Esse(s) ato(s) sexual(is) forçado(s) gerou(aram) alguma consequência para sua saúde, tais como: Doença sexualmente transmissível ou gravidez indesejada?   \n",
       "0                                                NaN                                                                                                         \n",
       "1                                                NaN                                                                                                         \n",
       "2                                                NaN                                                                                                         \n",
       "3                                                NaN                                                                                                         \n",
       "4                                                NaN                                                                                                         \n",
       "\n",
       "                                                                            V036  \\\n",
       "  Por causa desta (s) consequência (s), você procurou algum atendimento de saúde   \n",
       "0                                                NaN                               \n",
       "1                                                NaN                               \n",
       "2                                                NaN                               \n",
       "3                                                NaN                               \n",
       "4                                                NaN                               \n",
       "\n",
       "                                                                           V037  \\\n",
       "  Por causa desta (s) consequência (s), você recebeu algum atendimento de saúde   \n",
       "0                                                NaN                              \n",
       "1                                                NaN                              \n",
       "2                                                NaN                              \n",
       "3                                                NaN                              \n",
       "4                                                NaN                              \n",
       "\n",
       "                                          V038  \\\n",
       "  Onde foi realizado este atendimento de saúde   \n",
       "0                                          NaN   \n",
       "1                                          NaN   \n",
       "2                                          NaN   \n",
       "3                                          NaN   \n",
       "4                                          NaN   \n",
       "\n",
       "                                                                                    V039  \\\n",
       "  Por causa desta (s) consequência (s), você precisou ser internado por 24 horas ou mais   \n",
       "0                                                NaN                                       \n",
       "1                                                NaN                                       \n",
       "2                                                NaN                                       \n",
       "3                                                NaN                                       \n",
       "4                                                NaN                                       \n",
       "\n",
       "                             Y008  \n",
       "  Qual é a sua orientação sexual?  \n",
       "0                             1.0  \n",
       "1                             NaN  \n",
       "2                             NaN  \n",
       "3                             NaN  \n",
       "4                             NaN  \n",
       "\n",
       "[5 rows x 87 columns]"
      ]
     },
     "execution_count": 4,
     "metadata": {},
     "output_type": "execute_result"
    }
   ],
   "source": [
    "DEPRESSION.head()"
   ]
  },
  {
   "cell_type": "code",
   "execution_count": 5,
   "id": "3a6fce5a",
   "metadata": {},
   "outputs": [
    {
     "data": {
      "application/vnd.microsoft.datawrangler.viewer.v0+json": {
       "columns": [
        {
         "name": "index",
         "rawType": "int64",
         "type": "integer"
        },
        {
         "name": "ModuloParteAnotacao",
         "rawType": "object",
         "type": "string"
        },
        {
         "name": "Posicao",
         "rawType": "float64",
         "type": "float"
        },
        {
         "name": "Tamanho",
         "rawType": "float64",
         "type": "float"
        },
        {
         "name": "Codigo",
         "rawType": "object",
         "type": "string"
        },
        {
         "name": "Numero",
         "rawType": "object",
         "type": "unknown"
        },
        {
         "name": "Descricao",
         "rawType": "object",
         "type": "string"
        },
        {
         "name": "Dtype",
         "rawType": "object",
         "type": "unknown"
        },
        {
         "name": "Tipo",
         "rawType": "object",
         "type": "string"
        },
        {
         "name": "Classe",
         "rawType": "object",
         "type": "string"
        },
        {
         "name": "Include",
         "rawType": "bool",
         "type": "boolean"
        },
        {
         "name": "Felipe",
         "rawType": "bool",
         "type": "boolean"
        },
        {
         "name": "Diego",
         "rawType": "object",
         "type": "unknown"
        }
       ],
       "conversionMethod": "pd.DataFrame",
       "ref": "84f2d2a0-19b8-41ca-a682-94290cba213a",
       "rows": [
        [
         "0",
         "Parte 1 - Identificação e Controle",
         "1.0",
         "2.0",
         "V0001",
         null,
         "Unidade da Federação",
         "category",
         "11",
         "Rondônia",
         "True",
         "True",
         "True"
        ],
        [
         "1",
         "Parte 1 - Identificação e Controle",
         null,
         null,
         "V0001",
         null,
         "Unidade da Federação",
         null,
         "12",
         "Acre",
         "True",
         "True",
         "True"
        ],
        [
         "2",
         "Parte 1 - Identificação e Controle",
         null,
         null,
         "V0001",
         null,
         "Unidade da Federação",
         null,
         "13",
         "Amazonas",
         "True",
         "True",
         "True"
        ],
        [
         "3",
         "Parte 1 - Identificação e Controle",
         null,
         null,
         "V0001",
         null,
         "Unidade da Federação",
         null,
         "14",
         "Roraima",
         "True",
         "True",
         "True"
        ],
        [
         "4",
         "Parte 1 - Identificação e Controle",
         null,
         null,
         "V0001",
         null,
         "Unidade da Federação",
         null,
         "15",
         "Pará",
         "True",
         "True",
         "True"
        ]
       ],
       "shape": {
        "columns": 12,
        "rows": 5
       }
      },
      "text/html": [
       "<div>\n",
       "<style scoped>\n",
       "    .dataframe tbody tr th:only-of-type {\n",
       "        vertical-align: middle;\n",
       "    }\n",
       "\n",
       "    .dataframe tbody tr th {\n",
       "        vertical-align: top;\n",
       "    }\n",
       "\n",
       "    .dataframe thead th {\n",
       "        text-align: right;\n",
       "    }\n",
       "</style>\n",
       "<table border=\"1\" class=\"dataframe\">\n",
       "  <thead>\n",
       "    <tr style=\"text-align: right;\">\n",
       "      <th></th>\n",
       "      <th>ModuloParteAnotacao</th>\n",
       "      <th>Posicao</th>\n",
       "      <th>Tamanho</th>\n",
       "      <th>Codigo</th>\n",
       "      <th>Numero</th>\n",
       "      <th>Descricao</th>\n",
       "      <th>Dtype</th>\n",
       "      <th>Tipo</th>\n",
       "      <th>Classe</th>\n",
       "      <th>Include</th>\n",
       "      <th>Felipe</th>\n",
       "      <th>Diego</th>\n",
       "    </tr>\n",
       "  </thead>\n",
       "  <tbody>\n",
       "    <tr>\n",
       "      <th>0</th>\n",
       "      <td>Parte 1 - Identificação e Controle</td>\n",
       "      <td>1.0</td>\n",
       "      <td>2.0</td>\n",
       "      <td>V0001</td>\n",
       "      <td>NaN</td>\n",
       "      <td>Unidade da Federação</td>\n",
       "      <td>category</td>\n",
       "      <td>11</td>\n",
       "      <td>Rondônia</td>\n",
       "      <td>True</td>\n",
       "      <td>True</td>\n",
       "      <td>True</td>\n",
       "    </tr>\n",
       "    <tr>\n",
       "      <th>1</th>\n",
       "      <td>Parte 1 - Identificação e Controle</td>\n",
       "      <td>NaN</td>\n",
       "      <td>NaN</td>\n",
       "      <td>V0001</td>\n",
       "      <td>NaN</td>\n",
       "      <td>Unidade da Federação</td>\n",
       "      <td>NaN</td>\n",
       "      <td>12</td>\n",
       "      <td>Acre</td>\n",
       "      <td>True</td>\n",
       "      <td>True</td>\n",
       "      <td>True</td>\n",
       "    </tr>\n",
       "    <tr>\n",
       "      <th>2</th>\n",
       "      <td>Parte 1 - Identificação e Controle</td>\n",
       "      <td>NaN</td>\n",
       "      <td>NaN</td>\n",
       "      <td>V0001</td>\n",
       "      <td>NaN</td>\n",
       "      <td>Unidade da Federação</td>\n",
       "      <td>NaN</td>\n",
       "      <td>13</td>\n",
       "      <td>Amazonas</td>\n",
       "      <td>True</td>\n",
       "      <td>True</td>\n",
       "      <td>True</td>\n",
       "    </tr>\n",
       "    <tr>\n",
       "      <th>3</th>\n",
       "      <td>Parte 1 - Identificação e Controle</td>\n",
       "      <td>NaN</td>\n",
       "      <td>NaN</td>\n",
       "      <td>V0001</td>\n",
       "      <td>NaN</td>\n",
       "      <td>Unidade da Federação</td>\n",
       "      <td>NaN</td>\n",
       "      <td>14</td>\n",
       "      <td>Roraima</td>\n",
       "      <td>True</td>\n",
       "      <td>True</td>\n",
       "      <td>True</td>\n",
       "    </tr>\n",
       "    <tr>\n",
       "      <th>4</th>\n",
       "      <td>Parte 1 - Identificação e Controle</td>\n",
       "      <td>NaN</td>\n",
       "      <td>NaN</td>\n",
       "      <td>V0001</td>\n",
       "      <td>NaN</td>\n",
       "      <td>Unidade da Federação</td>\n",
       "      <td>NaN</td>\n",
       "      <td>15</td>\n",
       "      <td>Pará</td>\n",
       "      <td>True</td>\n",
       "      <td>True</td>\n",
       "      <td>True</td>\n",
       "    </tr>\n",
       "  </tbody>\n",
       "</table>\n",
       "</div>"
      ],
      "text/plain": [
       "                  ModuloParteAnotacao  Posicao  Tamanho Codigo Numero  \\\n",
       "0  Parte 1 - Identificação e Controle      1.0      2.0  V0001    NaN   \n",
       "1  Parte 1 - Identificação e Controle      NaN      NaN  V0001    NaN   \n",
       "2  Parte 1 - Identificação e Controle      NaN      NaN  V0001    NaN   \n",
       "3  Parte 1 - Identificação e Controle      NaN      NaN  V0001    NaN   \n",
       "4  Parte 1 - Identificação e Controle      NaN      NaN  V0001    NaN   \n",
       "\n",
       "              Descricao     Dtype Tipo    Classe  Include  Felipe Diego  \n",
       "0  Unidade da Federação  category   11  Rondônia     True    True  True  \n",
       "1  Unidade da Federação       NaN   12      Acre     True    True  True  \n",
       "2  Unidade da Federação       NaN   13  Amazonas     True    True  True  \n",
       "3  Unidade da Federação       NaN   14   Roraima     True    True  True  \n",
       "4  Unidade da Federação       NaN   15      Pará     True    True  True  "
      ]
     },
     "execution_count": 5,
     "metadata": {},
     "output_type": "execute_result"
    }
   ],
   "source": [
    "DEPRESSION_DICTIONARY.head()"
   ]
  },
  {
   "cell_type": "markdown",
   "id": "f153f254",
   "metadata": {},
   "source": [
    "## 2 [Implicit `NaNs`](https://github.com/feed0/depressao-ibge-pns/issues/4)\n",
    "> Useless classes such as '09 - Ignored' become NaNs\n",
    "\n",
    ">Here we define the `depression_explicit`: pd.DataFrame(),<br>\n",
    ">which will drop useless classes such as **'09 - I don't know'**"
   ]
  },
  {
   "cell_type": "code",
   "execution_count": 6,
   "id": "71cf56c1",
   "metadata": {},
   "outputs": [
    {
     "data": {
      "text/plain": [
       "Ano de nascimento\n",
       "9999.0               16342\n",
       "2000.0                4434\n",
       "2004.0                4225\n",
       "Name: count, dtype: int64"
      ]
     },
     "execution_count": 6,
     "metadata": {},
     "output_type": "execute_result"
    }
   ],
   "source": [
    "# Here, `9999.0` means \"Not answered\"\n",
    "DEPRESSION.C00703.value_counts(ascending=False).head(3)"
   ]
  },
  {
   "cell_type": "code",
   "execution_count": 7,
   "id": "a4672ffd",
   "metadata": {},
   "outputs": [
    {
     "data": {
      "text/plain": [
       "(39, 12)"
      ]
     },
     "metadata": {},
     "output_type": "display_data"
    },
    {
     "data": {
      "application/vnd.microsoft.datawrangler.viewer.v0+json": {
       "columns": [
        {
         "name": "index",
         "rawType": "int64",
         "type": "integer"
        },
        {
         "name": "ModuloParteAnotacao",
         "rawType": "object",
         "type": "string"
        },
        {
         "name": "Posicao",
         "rawType": "float64",
         "type": "float"
        },
        {
         "name": "Tamanho",
         "rawType": "float64",
         "type": "float"
        },
        {
         "name": "Codigo",
         "rawType": "object",
         "type": "string"
        },
        {
         "name": "Numero",
         "rawType": "object",
         "type": "string"
        },
        {
         "name": "Descricao",
         "rawType": "object",
         "type": "string"
        },
        {
         "name": "Dtype",
         "rawType": "object",
         "type": "unknown"
        },
        {
         "name": "Tipo",
         "rawType": "object",
         "type": "string"
        },
        {
         "name": "Classe",
         "rawType": "object",
         "type": "string"
        },
        {
         "name": "Include",
         "rawType": "bool",
         "type": "boolean"
        },
        {
         "name": "Felipe",
         "rawType": "bool",
         "type": "boolean"
        },
        {
         "name": "Diego",
         "rawType": "object",
         "type": "unknown"
        }
       ],
       "conversionMethod": "pd.DataFrame",
       "ref": "435728d4-0f55-4d06-b783-53796bc4dfdf",
       "rows": [
        [
         "37",
         "Módulo C - Características gerais dos moradores ",
         null,
         null,
         "C00703",
         "C7",
         "Ano de nascimento",
         null,
         "9999",
         "Não informado",
         "False",
         "False",
         "False"
        ],
        [
         "46",
         "Módulo C - Características gerais dos moradores ",
         null,
         null,
         "C009",
         "C9",
         "Cor ou raça",
         null,
         "9",
         "Ignorado",
         "False",
         "False",
         "False"
        ],
        [
         "50",
         "Módulo C - Características gerais dos moradores ",
         null,
         null,
         "C01001",
         "C10a",
         "Cônjuge ou companheiro(a) mora em nesse domicílio.",
         null,
         "9",
         "Ignorado",
         "False",
         "False",
         "False"
        ]
       ],
       "shape": {
        "columns": 12,
        "rows": 3
       }
      },
      "text/html": [
       "<div>\n",
       "<style scoped>\n",
       "    .dataframe tbody tr th:only-of-type {\n",
       "        vertical-align: middle;\n",
       "    }\n",
       "\n",
       "    .dataframe tbody tr th {\n",
       "        vertical-align: top;\n",
       "    }\n",
       "\n",
       "    .dataframe thead th {\n",
       "        text-align: right;\n",
       "    }\n",
       "</style>\n",
       "<table border=\"1\" class=\"dataframe\">\n",
       "  <thead>\n",
       "    <tr style=\"text-align: right;\">\n",
       "      <th></th>\n",
       "      <th>ModuloParteAnotacao</th>\n",
       "      <th>Posicao</th>\n",
       "      <th>Tamanho</th>\n",
       "      <th>Codigo</th>\n",
       "      <th>Numero</th>\n",
       "      <th>Descricao</th>\n",
       "      <th>Dtype</th>\n",
       "      <th>Tipo</th>\n",
       "      <th>Classe</th>\n",
       "      <th>Include</th>\n",
       "      <th>Felipe</th>\n",
       "      <th>Diego</th>\n",
       "    </tr>\n",
       "  </thead>\n",
       "  <tbody>\n",
       "    <tr>\n",
       "      <th>37</th>\n",
       "      <td>Módulo C - Características gerais dos moradores</td>\n",
       "      <td>NaN</td>\n",
       "      <td>NaN</td>\n",
       "      <td>C00703</td>\n",
       "      <td>C7</td>\n",
       "      <td>Ano de nascimento</td>\n",
       "      <td>NaN</td>\n",
       "      <td>9999</td>\n",
       "      <td>Não informado</td>\n",
       "      <td>False</td>\n",
       "      <td>False</td>\n",
       "      <td>False</td>\n",
       "    </tr>\n",
       "    <tr>\n",
       "      <th>46</th>\n",
       "      <td>Módulo C - Características gerais dos moradores</td>\n",
       "      <td>NaN</td>\n",
       "      <td>NaN</td>\n",
       "      <td>C009</td>\n",
       "      <td>C9</td>\n",
       "      <td>Cor ou raça</td>\n",
       "      <td>NaN</td>\n",
       "      <td>9</td>\n",
       "      <td>Ignorado</td>\n",
       "      <td>False</td>\n",
       "      <td>False</td>\n",
       "      <td>False</td>\n",
       "    </tr>\n",
       "    <tr>\n",
       "      <th>50</th>\n",
       "      <td>Módulo C - Características gerais dos moradores</td>\n",
       "      <td>NaN</td>\n",
       "      <td>NaN</td>\n",
       "      <td>C01001</td>\n",
       "      <td>C10a</td>\n",
       "      <td>Cônjuge ou companheiro(a) mora em nesse domicí...</td>\n",
       "      <td>NaN</td>\n",
       "      <td>9</td>\n",
       "      <td>Ignorado</td>\n",
       "      <td>False</td>\n",
       "      <td>False</td>\n",
       "      <td>False</td>\n",
       "    </tr>\n",
       "  </tbody>\n",
       "</table>\n",
       "</div>"
      ],
      "text/plain": [
       "                                 ModuloParteAnotacao  Posicao  Tamanho  \\\n",
       "37  Módulo C - Características gerais dos moradores       NaN      NaN   \n",
       "46  Módulo C - Características gerais dos moradores       NaN      NaN   \n",
       "50  Módulo C - Características gerais dos moradores       NaN      NaN   \n",
       "\n",
       "    Codigo Numero                                          Descricao Dtype  \\\n",
       "37  C00703     C7                                  Ano de nascimento   NaN   \n",
       "46    C009     C9                                        Cor ou raça   NaN   \n",
       "50  C01001   C10a  Cônjuge ou companheiro(a) mora em nesse domicí...   NaN   \n",
       "\n",
       "    Tipo         Classe  Include  Felipe  Diego  \n",
       "37  9999  Não informado    False   False  False  \n",
       "46     9       Ignorado    False   False  False  \n",
       "50     9       Ignorado    False   False  False  "
      ]
     },
     "metadata": {},
     "output_type": "display_data"
    }
   ],
   "source": [
    "# These are the Tipos we need to annull\n",
    "\n",
    "tipos_to_remove = DEPRESSION_DICTIONARY[\n",
    "    (DEPRESSION_DICTIONARY.Tipo.notna())\n",
    "    & (DEPRESSION_DICTIONARY.Include == False)\n",
    "]\n",
    "\n",
    "display(\n",
    "    tipos_to_remove.shape,\n",
    "    tipos_to_remove.head(3)\n",
    ")"
   ]
  },
  {
   "cell_type": "code",
   "execution_count": 8,
   "id": "a33f0151",
   "metadata": {},
   "outputs": [],
   "source": [
    "# In depression['C00703']   replace 9999    with np.nan\n",
    "# In depression['C009']     replace 9       with np.nan\n",
    "# ...\n",
    "# In depression['Q109']  replace 9       with np.nan\n",
    "\n",
    "depression_explicit = DEPRESSION.copy()\n",
    "\n",
    "for codigo in tipos_to_remove.Codigo:\n",
    "    \n",
    "    # print(f'    [CODIGO]: {codigo} ==================================================')\n",
    "    # print(f'    [BEFORE]:\\n{depression_explicit[codigo].value_counts(ascending=False).head(3)}\\n')\n",
    "\n",
    "    code_tipos = tipos_to_remove.Tipo[tipos_to_remove.Codigo == codigo].values.astype(int)\n",
    "    # print(f'    [CODE TIPOS]: === {code_tipos} ===')\n",
    "\n",
    "    depression_explicit[codigo] = depression_explicit[codigo].replace(code_tipos, np.nan)\n",
    "    # print(f'    [AFTER]:\\n{depression_explicit[codigo].value_counts(ascending=False).head(2)}\\n')"
   ]
  },
  {
   "cell_type": "code",
   "execution_count": 9,
   "id": "b38735f7",
   "metadata": {},
   "outputs": [
    {
     "data": {
      "text/plain": [
       "Ano de nascimento\n",
       "2000.0               4434\n",
       "2004.0               4225\n",
       "2005.0               4180\n",
       "Name: count, dtype: int64"
      ]
     },
     "execution_count": 9,
     "metadata": {},
     "output_type": "execute_result"
    }
   ],
   "source": [
    "# Check the removal of the '9999' values\n",
    "depression_explicit.C00703.value_counts(ascending=False).head(3)"
   ]
  },
  {
   "cell_type": "markdown",
   "id": "1b9adce3",
   "metadata": {},
   "source": [
    "## 3: [Class `mapping`](https://github.com/feed0/depressao-ibge-pns/issues/7)\n",
    "depression_without_implicit C00703"
   ]
  },
  {
   "cell_type": "markdown",
   "id": "5de9ed35",
   "metadata": {},
   "source": [
    "### 3.1 Each Codigo has its Tipos to be cast to their corresponding Classes"
   ]
  },
  {
   "cell_type": "code",
   "execution_count": 10,
   "id": "f702a11c",
   "metadata": {},
   "outputs": [
    {
     "data": {
      "application/vnd.microsoft.datawrangler.viewer.v0+json": {
       "columns": [
        {
         "name": "index",
         "rawType": "int64",
         "type": "integer"
        },
        {
         "name": "Codigo",
         "rawType": "object",
         "type": "string"
        },
        {
         "name": "Tipo",
         "rawType": "object",
         "type": "string"
        },
        {
         "name": "Classe",
         "rawType": "object",
         "type": "string"
        }
       ],
       "conversionMethod": "pd.DataFrame",
       "ref": "f88b12b1-9e10-42b1-adfe-4701a31650c2",
       "rows": [
        [
         "0",
         "V0001",
         "11",
         "Rondônia"
        ],
        [
         "1",
         "V0001",
         "12",
         "Acre"
        ],
        [
         "2",
         "V0001",
         "13",
         "Amazonas"
        ],
        [
         "3",
         "V0001",
         "14",
         "Roraima"
        ],
        [
         "4",
         "V0001",
         "15",
         "Pará"
        ]
       ],
       "shape": {
        "columns": 3,
        "rows": 5
       }
      },
      "text/html": [
       "<div>\n",
       "<style scoped>\n",
       "    .dataframe tbody tr th:only-of-type {\n",
       "        vertical-align: middle;\n",
       "    }\n",
       "\n",
       "    .dataframe tbody tr th {\n",
       "        vertical-align: top;\n",
       "    }\n",
       "\n",
       "    .dataframe thead th {\n",
       "        text-align: right;\n",
       "    }\n",
       "</style>\n",
       "<table border=\"1\" class=\"dataframe\">\n",
       "  <thead>\n",
       "    <tr style=\"text-align: right;\">\n",
       "      <th></th>\n",
       "      <th>Codigo</th>\n",
       "      <th>Tipo</th>\n",
       "      <th>Classe</th>\n",
       "    </tr>\n",
       "  </thead>\n",
       "  <tbody>\n",
       "    <tr>\n",
       "      <th>0</th>\n",
       "      <td>V0001</td>\n",
       "      <td>11</td>\n",
       "      <td>Rondônia</td>\n",
       "    </tr>\n",
       "    <tr>\n",
       "      <th>1</th>\n",
       "      <td>V0001</td>\n",
       "      <td>12</td>\n",
       "      <td>Acre</td>\n",
       "    </tr>\n",
       "    <tr>\n",
       "      <th>2</th>\n",
       "      <td>V0001</td>\n",
       "      <td>13</td>\n",
       "      <td>Amazonas</td>\n",
       "    </tr>\n",
       "    <tr>\n",
       "      <th>3</th>\n",
       "      <td>V0001</td>\n",
       "      <td>14</td>\n",
       "      <td>Roraima</td>\n",
       "    </tr>\n",
       "    <tr>\n",
       "      <th>4</th>\n",
       "      <td>V0001</td>\n",
       "      <td>15</td>\n",
       "      <td>Pará</td>\n",
       "    </tr>\n",
       "  </tbody>\n",
       "</table>\n",
       "</div>"
      ],
      "text/plain": [
       "  Codigo Tipo    Classe\n",
       "0  V0001   11  Rondônia\n",
       "1  V0001   12      Acre\n",
       "2  V0001   13  Amazonas\n",
       "3  V0001   14   Roraima\n",
       "4  V0001   15      Pará"
      ]
     },
     "execution_count": 10,
     "metadata": {},
     "output_type": "execute_result"
    }
   ],
   "source": [
    "class_mappings: pd.DataFrame = DEPRESSION_DICTIONARY.loc[DEPRESSION_DICTIONARY['Tipo'].notna(), ['Codigo', 'Tipo', 'Classe']]\n",
    "class_mappings.head()"
   ]
  },
  {
   "cell_type": "markdown",
   "id": "6d1b01c3",
   "metadata": {},
   "source": [
    "### 3.2 Remove comments from class_mappings.Tipo"
   ]
  },
  {
   "cell_type": "code",
   "execution_count": 11,
   "id": "514587af",
   "metadata": {},
   "outputs": [
    {
     "data": {
      "application/vnd.microsoft.datawrangler.viewer.v0+json": {
       "columns": [
        {
         "name": "index",
         "rawType": "int64",
         "type": "integer"
        },
        {
         "name": "Codigo",
         "rawType": "object",
         "type": "string"
        },
        {
         "name": "Tipo",
         "rawType": "object",
         "type": "string"
        },
        {
         "name": "Classe",
         "rawType": "object",
         "type": "string"
        }
       ],
       "conversionMethod": "pd.DataFrame",
       "ref": "81a929eb-d98f-4df1-81bc-5c4298c32210",
       "rows": [
        [
         "36",
         "C00703",
         "ano atual - 130 a ano atual",
         "Ano"
        ],
        [
         "39",
         "C008",
         "000 a 130",
         "Idade (em anos)"
        ],
        [
         "63",
         "C01801",
         "000 a 130",
         "Idade (em anos)"
        ],
        [
         "168",
         "P00103",
         "1 a 599",
         "Quilogramas"
        ],
        [
         "170",
         "P00104",
         "1 a 599",
         "Quilogramas"
        ],
        [
         "177",
         "P02801",
         "1 a 7",
         "Dias"
        ],
        [
         "185",
         "P035",
         "1 a 7",
         "Dias"
        ],
        [
         "206",
         "P053",
         "1 a 98",
         "Anos"
        ]
       ],
       "shape": {
        "columns": 3,
        "rows": 8
       }
      },
      "text/html": [
       "<div>\n",
       "<style scoped>\n",
       "    .dataframe tbody tr th:only-of-type {\n",
       "        vertical-align: middle;\n",
       "    }\n",
       "\n",
       "    .dataframe tbody tr th {\n",
       "        vertical-align: top;\n",
       "    }\n",
       "\n",
       "    .dataframe thead th {\n",
       "        text-align: right;\n",
       "    }\n",
       "</style>\n",
       "<table border=\"1\" class=\"dataframe\">\n",
       "  <thead>\n",
       "    <tr style=\"text-align: right;\">\n",
       "      <th></th>\n",
       "      <th>Codigo</th>\n",
       "      <th>Tipo</th>\n",
       "      <th>Classe</th>\n",
       "    </tr>\n",
       "  </thead>\n",
       "  <tbody>\n",
       "    <tr>\n",
       "      <th>36</th>\n",
       "      <td>C00703</td>\n",
       "      <td>ano atual - 130 a ano atual</td>\n",
       "      <td>Ano</td>\n",
       "    </tr>\n",
       "    <tr>\n",
       "      <th>39</th>\n",
       "      <td>C008</td>\n",
       "      <td>000 a 130</td>\n",
       "      <td>Idade (em anos)</td>\n",
       "    </tr>\n",
       "    <tr>\n",
       "      <th>63</th>\n",
       "      <td>C01801</td>\n",
       "      <td>000 a 130</td>\n",
       "      <td>Idade (em anos)</td>\n",
       "    </tr>\n",
       "    <tr>\n",
       "      <th>168</th>\n",
       "      <td>P00103</td>\n",
       "      <td>1 a 599</td>\n",
       "      <td>Quilogramas</td>\n",
       "    </tr>\n",
       "    <tr>\n",
       "      <th>170</th>\n",
       "      <td>P00104</td>\n",
       "      <td>1 a 599</td>\n",
       "      <td>Quilogramas</td>\n",
       "    </tr>\n",
       "    <tr>\n",
       "      <th>177</th>\n",
       "      <td>P02801</td>\n",
       "      <td>1 a 7</td>\n",
       "      <td>Dias</td>\n",
       "    </tr>\n",
       "    <tr>\n",
       "      <th>185</th>\n",
       "      <td>P035</td>\n",
       "      <td>1 a 7</td>\n",
       "      <td>Dias</td>\n",
       "    </tr>\n",
       "    <tr>\n",
       "      <th>206</th>\n",
       "      <td>P053</td>\n",
       "      <td>1 a 98</td>\n",
       "      <td>Anos</td>\n",
       "    </tr>\n",
       "  </tbody>\n",
       "</table>\n",
       "</div>"
      ],
      "text/plain": [
       "     Codigo                         Tipo           Classe\n",
       "36   C00703  ano atual - 130 a ano atual              Ano\n",
       "39     C008                    000 a 130  Idade (em anos)\n",
       "63   C01801                    000 a 130  Idade (em anos)\n",
       "168  P00103                      1 a 599      Quilogramas\n",
       "170  P00104                      1 a 599      Quilogramas\n",
       "177  P02801                        1 a 7             Dias\n",
       "185    P035                        1 a 7             Dias\n",
       "206    P053                       1 a 98             Anos"
      ]
     },
     "execution_count": 11,
     "metadata": {},
     "output_type": "execute_result"
    }
   ],
   "source": [
    "# Tipos which contain comments\n",
    "non_numeric_tipos: pd.DataFrame = class_mappings[class_mappings['Tipo'].str.contains(r'[a-zA-Z]')]\n",
    "non_numeric_tipos"
   ]
  },
  {
   "cell_type": "code",
   "execution_count": 12,
   "id": "dc47cbf7",
   "metadata": {},
   "outputs": [
    {
     "data": {
      "application/vnd.microsoft.datawrangler.viewer.v0+json": {
       "columns": [
        {
         "name": "index",
         "rawType": "int64",
         "type": "integer"
        },
        {
         "name": "Codigo",
         "rawType": "object",
         "type": "string"
        },
        {
         "name": "Tipo",
         "rawType": "object",
         "type": "unknown"
        },
        {
         "name": "Classe",
         "rawType": "object",
         "type": "string"
        }
       ],
       "conversionMethod": "pd.DataFrame",
       "ref": "bedfba03-2d72-42c2-9ab7-96afcc8015e8",
       "rows": [
        [
         "36",
         "C00703",
         null,
         "Ano"
        ],
        [
         "39",
         "C008",
         null,
         "Idade (em anos)"
        ],
        [
         "63",
         "C01801",
         null,
         "Idade (em anos)"
        ],
        [
         "168",
         "P00103",
         null,
         "Quilogramas"
        ],
        [
         "170",
         "P00104",
         null,
         "Quilogramas"
        ],
        [
         "177",
         "P02801",
         null,
         "Dias"
        ],
        [
         "185",
         "P035",
         null,
         "Dias"
        ],
        [
         "206",
         "P053",
         null,
         "Anos"
        ]
       ],
       "shape": {
        "columns": 3,
        "rows": 8
       }
      },
      "text/html": [
       "<div>\n",
       "<style scoped>\n",
       "    .dataframe tbody tr th:only-of-type {\n",
       "        vertical-align: middle;\n",
       "    }\n",
       "\n",
       "    .dataframe tbody tr th {\n",
       "        vertical-align: top;\n",
       "    }\n",
       "\n",
       "    .dataframe thead th {\n",
       "        text-align: right;\n",
       "    }\n",
       "</style>\n",
       "<table border=\"1\" class=\"dataframe\">\n",
       "  <thead>\n",
       "    <tr style=\"text-align: right;\">\n",
       "      <th></th>\n",
       "      <th>Codigo</th>\n",
       "      <th>Tipo</th>\n",
       "      <th>Classe</th>\n",
       "    </tr>\n",
       "  </thead>\n",
       "  <tbody>\n",
       "    <tr>\n",
       "      <th>36</th>\n",
       "      <td>C00703</td>\n",
       "      <td>NaN</td>\n",
       "      <td>Ano</td>\n",
       "    </tr>\n",
       "    <tr>\n",
       "      <th>39</th>\n",
       "      <td>C008</td>\n",
       "      <td>NaN</td>\n",
       "      <td>Idade (em anos)</td>\n",
       "    </tr>\n",
       "    <tr>\n",
       "      <th>63</th>\n",
       "      <td>C01801</td>\n",
       "      <td>NaN</td>\n",
       "      <td>Idade (em anos)</td>\n",
       "    </tr>\n",
       "    <tr>\n",
       "      <th>168</th>\n",
       "      <td>P00103</td>\n",
       "      <td>NaN</td>\n",
       "      <td>Quilogramas</td>\n",
       "    </tr>\n",
       "    <tr>\n",
       "      <th>170</th>\n",
       "      <td>P00104</td>\n",
       "      <td>NaN</td>\n",
       "      <td>Quilogramas</td>\n",
       "    </tr>\n",
       "    <tr>\n",
       "      <th>177</th>\n",
       "      <td>P02801</td>\n",
       "      <td>NaN</td>\n",
       "      <td>Dias</td>\n",
       "    </tr>\n",
       "    <tr>\n",
       "      <th>185</th>\n",
       "      <td>P035</td>\n",
       "      <td>NaN</td>\n",
       "      <td>Dias</td>\n",
       "    </tr>\n",
       "    <tr>\n",
       "      <th>206</th>\n",
       "      <td>P053</td>\n",
       "      <td>NaN</td>\n",
       "      <td>Anos</td>\n",
       "    </tr>\n",
       "  </tbody>\n",
       "</table>\n",
       "</div>"
      ],
      "text/plain": [
       "     Codigo Tipo           Classe\n",
       "36   C00703  NaN              Ano\n",
       "39     C008  NaN  Idade (em anos)\n",
       "63   C01801  NaN  Idade (em anos)\n",
       "168  P00103  NaN      Quilogramas\n",
       "170  P00104  NaN      Quilogramas\n",
       "177  P02801  NaN             Dias\n",
       "185    P035  NaN             Dias\n",
       "206    P053  NaN             Anos"
      ]
     },
     "execution_count": 12,
     "metadata": {},
     "output_type": "execute_result"
    }
   ],
   "source": [
    "# Annull these comments in class_mappings\n",
    "class_mappings['Tipo'] = class_mappings['Tipo'].replace(r'[a-zA-Z]', np.nan, regex=True)\n",
    "\n",
    "# Check the annullation\n",
    "class_mappings[class_mappings['Tipo'].isna()]"
   ]
  },
  {
   "cell_type": "code",
   "execution_count": 13,
   "id": "b2757004",
   "metadata": {},
   "outputs": [
    {
     "data": {
      "application/vnd.microsoft.datawrangler.viewer.v0+json": {
       "columns": [
        {
         "name": "index",
         "rawType": "int64",
         "type": "integer"
        },
        {
         "name": "Codigo",
         "rawType": "object",
         "type": "string"
        },
        {
         "name": "Tipo",
         "rawType": "object",
         "type": "string"
        },
        {
         "name": "Classe",
         "rawType": "object",
         "type": "string"
        }
       ],
       "conversionMethod": "pd.DataFrame",
       "ref": "09632e31-e06d-44c4-bf60-bd479a4e0224",
       "rows": [],
       "shape": {
        "columns": 3,
        "rows": 0
       }
      },
      "text/html": [
       "<div>\n",
       "<style scoped>\n",
       "    .dataframe tbody tr th:only-of-type {\n",
       "        vertical-align: middle;\n",
       "    }\n",
       "\n",
       "    .dataframe tbody tr th {\n",
       "        vertical-align: top;\n",
       "    }\n",
       "\n",
       "    .dataframe thead th {\n",
       "        text-align: right;\n",
       "    }\n",
       "</style>\n",
       "<table border=\"1\" class=\"dataframe\">\n",
       "  <thead>\n",
       "    <tr style=\"text-align: right;\">\n",
       "      <th></th>\n",
       "      <th>Codigo</th>\n",
       "      <th>Tipo</th>\n",
       "      <th>Classe</th>\n",
       "    </tr>\n",
       "  </thead>\n",
       "  <tbody>\n",
       "  </tbody>\n",
       "</table>\n",
       "</div>"
      ],
      "text/plain": [
       "Empty DataFrame\n",
       "Columns: [Codigo, Tipo, Classe]\n",
       "Index: []"
      ]
     },
     "execution_count": 13,
     "metadata": {},
     "output_type": "execute_result"
    }
   ],
   "source": [
    "# Drop these new null from class_mappings\n",
    "class_mappings = class_mappings.dropna(subset=['Tipo'])\n",
    "\n",
    "# Check the drop\n",
    "class_mappings[class_mappings['Tipo'].isna()]"
   ]
  },
  {
   "cell_type": "markdown",
   "id": "e8f43a17",
   "metadata": {},
   "source": [
    "### 3 `Map` Tipos to Classes"
   ]
  },
  {
   "cell_type": "code",
   "execution_count": 14,
   "id": "b394c152",
   "metadata": {},
   "outputs": [
    {
     "data": {
      "text/plain": [
       "'[Class Mappings]'"
      ]
     },
     "metadata": {},
     "output_type": "display_data"
    },
    {
     "data": {
      "text/plain": [
       "(353,)"
      ]
     },
     "metadata": {},
     "output_type": "display_data"
    },
    {
     "data": {
      "application/vnd.microsoft.datawrangler.viewer.v0+json": {
       "columns": [
        {
         "name": "index",
         "rawType": "int64",
         "type": "integer"
        },
        {
         "name": "Codigo",
         "rawType": "object",
         "type": "string"
        },
        {
         "name": "Tipo",
         "rawType": "int64",
         "type": "integer"
        },
        {
         "name": "Classe",
         "rawType": "object",
         "type": "string"
        }
       ],
       "conversionMethod": "pd.DataFrame",
       "ref": "bb865ed4-981a-4da8-93f6-c47df207ff4d",
       "rows": [
        [
         "0",
         "V0001",
         "11",
         "Rondônia"
        ],
        [
         "1",
         "V0001",
         "12",
         "Acre"
        ],
        [
         "2",
         "V0001",
         "13",
         "Amazonas"
        ]
       ],
       "shape": {
        "columns": 3,
        "rows": 3
       }
      },
      "text/html": [
       "<div>\n",
       "<style scoped>\n",
       "    .dataframe tbody tr th:only-of-type {\n",
       "        vertical-align: middle;\n",
       "    }\n",
       "\n",
       "    .dataframe tbody tr th {\n",
       "        vertical-align: top;\n",
       "    }\n",
       "\n",
       "    .dataframe thead th {\n",
       "        text-align: right;\n",
       "    }\n",
       "</style>\n",
       "<table border=\"1\" class=\"dataframe\">\n",
       "  <thead>\n",
       "    <tr style=\"text-align: right;\">\n",
       "      <th></th>\n",
       "      <th>Codigo</th>\n",
       "      <th>Tipo</th>\n",
       "      <th>Classe</th>\n",
       "    </tr>\n",
       "  </thead>\n",
       "  <tbody>\n",
       "    <tr>\n",
       "      <th>0</th>\n",
       "      <td>V0001</td>\n",
       "      <td>11</td>\n",
       "      <td>Rondônia</td>\n",
       "    </tr>\n",
       "    <tr>\n",
       "      <th>1</th>\n",
       "      <td>V0001</td>\n",
       "      <td>12</td>\n",
       "      <td>Acre</td>\n",
       "    </tr>\n",
       "    <tr>\n",
       "      <th>2</th>\n",
       "      <td>V0001</td>\n",
       "      <td>13</td>\n",
       "      <td>Amazonas</td>\n",
       "    </tr>\n",
       "  </tbody>\n",
       "</table>\n",
       "</div>"
      ],
      "text/plain": [
       "  Codigo  Tipo    Classe\n",
       "0  V0001    11  Rondônia\n",
       "1  V0001    12      Acre\n",
       "2  V0001    13  Amazonas"
      ]
     },
     "metadata": {},
     "output_type": "display_data"
    },
    {
     "data": {
      "text/plain": [
       "'[Depression]'"
      ]
     },
     "metadata": {},
     "output_type": "display_data"
    },
    {
     "data": {
      "text/plain": [
       "(293726, 87)"
      ]
     },
     "metadata": {},
     "output_type": "display_data"
    },
    {
     "data": {
      "application/vnd.microsoft.datawrangler.viewer.v0+json": {
       "columns": [
        {
         "name": "index",
         "rawType": "int64",
         "type": "integer"
        },
        {
         "name": "('V0001', 'Unidade da Federação')",
         "rawType": "int64",
         "type": "integer"
        },
        {
         "name": "('V0026', 'Tipo de situação censitária')",
         "rawType": "int64",
         "type": "integer"
        },
        {
         "name": "('V0031', 'Tipo de área')",
         "rawType": "int64",
         "type": "integer"
        },
        {
         "name": "('C006', 'Sexo')",
         "rawType": "float64",
         "type": "float"
        },
        {
         "name": "('C00703', 'Ano de nascimento')",
         "rawType": "float64",
         "type": "float"
        },
        {
         "name": "('C008', 'Idade do morador na data de referência')",
         "rawType": "float64",
         "type": "float"
        },
        {
         "name": "('C009', 'Cor ou raça')",
         "rawType": "float64",
         "type": "float"
        },
        {
         "name": "('C01001', 'Cônjuge ou companheiro(a) mora em nesse domicílio.')",
         "rawType": "float64",
         "type": "float"
        },
        {
         "name": "('C013', 'Cônjuge ou companheiro(a) mora em outro domicílio.')",
         "rawType": "float64",
         "type": "float"
        },
        {
         "name": "('C017', '___já viveu com cônjuge ou companheiro (a) antes?')",
         "rawType": "float64",
         "type": "float"
        },
        {
         "name": "('C018', 'Que idade ___tinha quando começou a viver com seu(sua) primeiro(a)/único(a) marido (mulher) ou companheiro(a)?')",
         "rawType": "float64",
         "type": "float"
        },
        {
         "name": "('C01801', 'Que idade ___tinha quando começou a viver com seu(sua) primeiro(a)/único(a) marido (mulher) ou companheiro(a)?')",
         "rawType": "float64",
         "type": "float"
        },
        {
         "name": "('C011', 'Qual é o estado civil de ___?')",
         "rawType": "float64",
         "type": "float"
        },
        {
         "name": "('C012', 'Informante do Módulo C')",
         "rawType": "float64",
         "type": "float"
        },
        {
         "name": "('D00901', 'Qual foi o curso mais elevado que ___frequentou')",
         "rawType": "float64",
         "type": "float"
        },
        {
         "name": "('D015', 'Informante do Módulo D')",
         "rawType": "float64",
         "type": "float"
        },
        {
         "name": "('I00102', 'tem algum plano de saúde médico particular, de empresa ou órgão público?')",
         "rawType": "float64",
         "type": "float"
        },
        {
         "name": "('I005', 'Há quanto tempo sem interrupção _____ possui esse plano de saúde (único ou principal)?')",
         "rawType": "float64",
         "type": "float"
        },
        {
         "name": "('I00401', 'O plano de saúde (único ou principal) de assistência médica que ___ possui dá direito a consultas')",
         "rawType": "float64",
         "type": "float"
        },
        {
         "name": "('I00403', 'O plano de saúde (único ou principal) de assistência médica que ___ possui dá direito a internações')",
         "rawType": "float64",
         "type": "float"
        },
        {
         "name": "('I00404', 'O plano de saúde (único ou principal) de assistência médica que ___ possui dá direito a partos')",
         "rawType": "float64",
         "type": "float"
        },
        {
         "name": "('I012', 'Informante do Módulo I')",
         "rawType": "float64",
         "type": "float"
        },
        {
         "name": "('M00302', 'O informante desta parte é:')",
         "rawType": "float64",
         "type": "float"
        },
        {
         "name": "('M005010', 'No(s) seu(s) trabalho(s), habitualmente, (s) o(a) Sr(a) trabalha(va) algum período de tempo entre as 8 horas da noite e às 5 horas da manhã')",
         "rawType": "float64",
         "type": "float"
        },
        {
         "name": "('M009', 'O(a) Sr(a) normalmente trabalha(va) em ambientes')",
         "rawType": "float64",
         "type": "float"
        },
        {
         "name": "('M01401', 'Com quantos familiares ou parentes ___ pode contar em momentos bons ou ruins')",
         "rawType": "float64",
         "type": "float"
        },
        {
         "name": "('M01501', 'Com quantos amigos próximos ___ pode contar em momentos bons ou ruins (Sem considerar os familiares ou parentes')",
         "rawType": "float64",
         "type": "float"
        },
        {
         "name": "('M01601', 'Nos últimos doze meses, com que frequência o(a) Sr(a) se reuniu com outras pessoas para prática de atividades esportivas, exercícios físicos, recreativos ou artísticos')",
         "rawType": "float64",
         "type": "float"
        },
        {
         "name": "('M01901', 'Nos últimos doze meses, com que frequência o(a) Sr(a) compareceu a atividades coletivas da sua religião ou de outra religião sem contar com situações como casamento, batizado, ou enterro)')",
         "rawType": "float64",
         "type": "float"
        },
        {
         "name": "('N016', 'Nas duas últimas semanas, com que frequência o(a) Sr(a) se sentiu deprimido(a), “pra baixo” ou sem perspectiva?')",
         "rawType": "float64",
         "type": "float"
        },
        {
         "name": "('P00102', 'O(A) Sr(a) sabe seu peso?')",
         "rawType": "float64",
         "type": "float"
        },
        {
         "name": "('P00103', 'Peso - Informado (em kg)(3 inteiros e 1 casa decimal)')",
         "rawType": "float64",
         "type": "float"
        },
        {
         "name": "('P00104', 'Peso - Final (em kg)(3 inteiros e 1 casa decimal)')",
         "rawType": "float64",
         "type": "float"
        },
        {
         "name": "('P027', 'Com que frequência o(a) Sr(a) costuma consumir alguma bebida alcoólica?')",
         "rawType": "float64",
         "type": "float"
        },
        {
         "name": "('P02801', 'Quantos dias por semana o(a) Sr(a) costuma consumir alguma bebida alcoólica?')",
         "rawType": "float64",
         "type": "float"
        },
        {
         "name": "('P034', 'Nos últimos três meses, o(a) Sr(a) praticou algum tipo de exercício físico ou esporte?')",
         "rawType": "float64",
         "type": "float"
        },
        {
         "name": "('P035', 'Quantos dias por semana o(a) Sr(a) costuma  (costumava)praticar exercício físico ou esporte?')",
         "rawType": "float64",
         "type": "float"
        },
        {
         "name": "('P039', 'No seu trabalho, o(a) Sr(a) faz faxina pesada, carrega peso ou faz outra atividade pesada que requer esforço físico intenso?')",
         "rawType": "float64",
         "type": "float"
        },
        {
         "name": "('P044', 'Nas suas atividades domésticas, o(a) Sr(a) faz faxina pesada, carrega peso ou faz outra atividade pesada que requer esforço físico intenso? (não considerar atividade doméstica remunerada)')",
         "rawType": "float64",
         "type": "float"
        },
        {
         "name": "('P050', 'Atualmente, o(a) Sr(a) fuma algum produto do tabaco?')",
         "rawType": "float64",
         "type": "float"
        },
        {
         "name": "('P051', 'E no passado, o(a) Sr(a) fumou algum produto do tabaco diariamente?')",
         "rawType": "float64",
         "type": "float"
        },
        {
         "name": "('P053', 'Que idade o(a) Sr(a) tinha quando começou a fumar produto de tabaco diariamente?')",
         "rawType": "float64",
         "type": "float"
        },
        {
         "name": "('P06701', 'O(a) Sr(a) usa aparelhos eletrônicos com nicotina líquida ou folha de tabaco picado (cigarro eletrônico, narguilé eletrônico, cigarro aquecido ou outro dispositivo eletrônico para fumar ou vaporizar)?')",
         "rawType": "float64",
         "type": "float"
        },
        {
         "name": "('Q092', 'Algum médico ou profissional de saúde mental (como psiquiatra ou psicólogo) já lhe deu o diagnóstico de depressão?')",
         "rawType": "float64",
         "type": "float"
        },
        {
         "name": "('Q09201', 'Algum médico já lhe receitou algum medicamento para depressão?')",
         "rawType": "float64",
         "type": "float"
        },
        {
         "name": "('Q09202', 'Nas duas últimas semanas o(a) senhor(a) usou algum medicamento para depressão?')",
         "rawType": "float64",
         "type": "float"
        },
        {
         "name": "('Q094', 'O(A) Sr(a) vai ao médico/serviço de saúde regularmente por causa da depressão ou só quando tem algum problema?')",
         "rawType": "float64",
         "type": "float"
        },
        {
         "name": "('Q09502', 'Qual o principal motivo do(a) Sr(a) não visitar o médico/serviço de saúde regularmente por causa da depressão?')",
         "rawType": "float64",
         "type": "float"
        },
        {
         "name": "('Q09605', 'Por causa da depressão Faz psicoterapia')",
         "rawType": "float64",
         "type": "float"
        },
        {
         "name": "('Q09606', 'Por causa da depressão Toma medicamentos')",
         "rawType": "float64",
         "type": "float"
        },
        {
         "name": "('Q098', 'Algum dos medicamentos para depressão foi obtido em serviço público de saúde?')",
         "rawType": "float64",
         "type": "float"
        },
        {
         "name": "('Q10101', 'Quando foi a última vez que o(a) Sr(a) recebeu atendimento médico por causa da depressão?')",
         "rawType": "float64",
         "type": "float"
        },
        {
         "name": "('Q10202', 'Na última vez que recebeu assistência médica para depressão, onde o(a) Sr(a) foi atendido?')",
         "rawType": "float64",
         "type": "float"
        },
        {
         "name": "('Q106', 'Em algum dos atendimentos para depressão, houve encaminhamento para algum acompanhamento com profissional de saúde mental, como psiquiatra ou psicólogo?')",
         "rawType": "float64",
         "type": "float"
        },
        {
         "name": "('Q109', 'Em geral, em que grau a depressão limita as suas atividades habituais (tais como trabalhar, realizar afazeres domésticos, etc.)?')",
         "rawType": "float64",
         "type": "float"
        },
        {
         "name": "('V00201', 'Nos últimos doze meses, alguém: Te ofendeu, humilhou ou ridicularizou na frente de outras pessoas?')",
         "rawType": "float64",
         "type": "float"
        },
        {
         "name": "('V00202', 'Nos últimos doze meses, alguém: Gritou com você ou te xingou?')",
         "rawType": "float64",
         "type": "float"
        },
        {
         "name": "('V00203', 'Nos últimos doze meses, alguém: Usou redes sociais ou celular para ameaçar, ofender, xingar ou expor imagens suas sem o seu consentimento?')",
         "rawType": "float64",
         "type": "float"
        },
        {
         "name": "('V00204', 'Nos últimos doze meses, alguém: Te ameaçou de ferir ou machucar alguém importante para você?')",
         "rawType": "float64",
         "type": "float"
        },
        {
         "name": "('V00205', 'Nos últimos doze meses, alguém: Destruiu alguma coisa sua de propósito?')",
         "rawType": "float64",
         "type": "float"
        },
        {
         "name": "('V003', 'Nos últimos doze meses, quantas vezes isso aconteceu com você?')",
         "rawType": "float64",
         "type": "float"
        },
        {
         "name": "('V006', 'Quem fez isso com você? (Se mais de uma pessoa, defina o pirncipal agressor)')",
         "rawType": "float64",
         "type": "float"
        },
        {
         "name": "('V007', 'Onde isso ocorreu?')",
         "rawType": "float64",
         "type": "float"
        },
        {
         "name": "('V01401', 'Nos últimos doze meses, alguém: Te deu um tapa ou uma bofetada?')",
         "rawType": "float64",
         "type": "float"
        },
        {
         "name": "('V01402', 'Nos últimos doze meses, alguém: Te empurrou, segurou com força ou jogou algo em você com a intenção de machucar?')",
         "rawType": "float64",
         "type": "float"
        },
        {
         "name": "('V01403', 'Nos últimos doze meses, alguém: Te deu um soco, chutou ou arrastou pelo cabelo?')",
         "rawType": "float64",
         "type": "float"
        },
        {
         "name": "('V01404', 'Nos últimos doze meses, alguém: Tentou ou efetivamente estrangulou, asfixiou ou te queimou de propósito?')",
         "rawType": "float64",
         "type": "float"
        },
        {
         "name": "('V01405', 'Nos últimos doze meses, alguém: Te ameaçou ou feriu com uma faca, arma de fogo ou alguma outra arma ou objeto?')",
         "rawType": "float64",
         "type": "float"
        },
        {
         "name": "('V015', 'Nos últimos doze meses, quantas vezes isso aconteceu?')",
         "rawType": "float64",
         "type": "float"
        },
        {
         "name": "('V018', 'Quem fez isso com você')",
         "rawType": "float64",
         "type": "float"
        },
        {
         "name": "('V019', 'Onde isso ocorreu?')",
         "rawType": "float64",
         "type": "float"
        },
        {
         "name": "('V02701', 'Nos últimos doze meses, alguém: tocou, manipulou, beijou ou expôs partes do seu corpo contra sua vontade')",
         "rawType": "float64",
         "type": "float"
        },
        {
         "name": "('V02702', 'Nos últimos doze meses, alguém: Te ameaçou ou forçou a ter relações sexuais ou quaisquer outros atos sexuais contra sua vontade?')",
         "rawType": "float64",
         "type": "float"
        },
        {
         "name": "('V02801', 'E alguma vez na vida, alguém: tocou, manipulou, beijou ou expôs partes do seu corpo contra sua vontade')",
         "rawType": "float64",
         "type": "float"
        },
        {
         "name": "('V02802', 'E alguma vez na vida, alguém: Te ameaçou ou forçou a ter relações sexuais ou quaisquer outros atos sexuais contra sua vontade?')",
         "rawType": "float64",
         "type": "float"
        },
        {
         "name": "('V029', 'Nos últimos doze meses, quantas vezes isso aconteceu?')",
         "rawType": "float64",
         "type": "float"
        },
        {
         "name": "('V032', 'Quem fez isso com você')",
         "rawType": "float64",
         "type": "float"
        },
        {
         "name": "('V033', 'Onde isso ocorreu?')",
         "rawType": "float64",
         "type": "float"
        },
        {
         "name": "('V034', 'Nos últimos doze meses, você deixou de realizar quaisquer de suas atividades habituais (trabalhar, realizar afazeres domésticos, ir à escola etc.) por causa desse ato')",
         "rawType": "float64",
         "type": "float"
        },
        {
         "name": "('V03501', 'Esse(s) ato(s) sexual(is) forçado(s) gerou(aram) alguma consequência para sua saúde, tais como: Hematomas, cortes, fraturas, queimaduras ou outras lesões físicas ou ferimentos?')",
         "rawType": "float64",
         "type": "float"
        },
        {
         "name": "('V03502', 'Esse(s) ato(s) sexual(is) forçado(s) gerou(aram) alguma consequência para sua saúde, tais como: Medo, tristeza, desânimo, dificuldade para dormir, ansiedade, depressão ou outras consequências psicológicas?')",
         "rawType": "float64",
         "type": "float"
        },
        {
         "name": "('V03503', 'Esse(s) ato(s) sexual(is) forçado(s) gerou(aram) alguma consequência para sua saúde, tais como: Doença sexualmente transmissível ou gravidez indesejada?')",
         "rawType": "float64",
         "type": "float"
        },
        {
         "name": "('V036', 'Por causa desta (s) consequência (s), você procurou algum atendimento de saúde')",
         "rawType": "float64",
         "type": "float"
        },
        {
         "name": "('V037', 'Por causa desta (s) consequência (s), você recebeu algum atendimento de saúde')",
         "rawType": "float64",
         "type": "float"
        },
        {
         "name": "('V038', 'Onde foi realizado este atendimento de saúde')",
         "rawType": "float64",
         "type": "float"
        },
        {
         "name": "('V039', 'Por causa desta (s) consequência (s), você precisou ser internado por 24 horas ou mais')",
         "rawType": "float64",
         "type": "float"
        },
        {
         "name": "('Y008', 'Qual é a sua orientação sexual?')",
         "rawType": "float64",
         "type": "float"
        }
       ],
       "conversionMethod": "pd.DataFrame",
       "ref": "b07812c4-a20b-4b2b-b102-54ddde23796a",
       "rows": [
        [
         "0",
         "11",
         "1",
         "1",
         "2.0",
         "1963.0",
         "55.0",
         "1.0",
         "1.0",
         null,
         null,
         "1.0",
         "17.0",
         "1.0",
         "1.0",
         "5.0",
         "1.0",
         "2.0",
         null,
         null,
         null,
         null,
         "1.0",
         null,
         "2.0",
         "2.0",
         "3.0",
         "0.0",
         "6.0",
         "2.0",
         "2.0",
         "1.0",
         "60.0",
         "60.0",
         "2.0",
         null,
         "1.0",
         "1.0",
         "2.0",
         "2.0",
         "3.0",
         null,
         "15.0",
         "4.0",
         "1.0",
         "1.0",
         "3.0",
         "2.0",
         "1.0",
         "2.0",
         "1.0",
         "1.0",
         "5.0",
         null,
         null,
         "1.0",
         "2.0",
         "2.0",
         "2.0",
         "2.0",
         "2.0",
         null,
         null,
         null,
         "2.0",
         "2.0",
         "2.0",
         "2.0",
         "2.0",
         null,
         null,
         null,
         "2.0",
         "2.0",
         "2.0",
         "2.0",
         null,
         null,
         null,
         null,
         null,
         null,
         null,
         null,
         null,
         null,
         null,
         "1.0"
        ],
        [
         "1",
         "11",
         "1",
         "1",
         "1.0",
         "1950.0",
         "69.0",
         "4.0",
         "1.0",
         null,
         null,
         "1.0",
         "30.0",
         "1.0",
         "2.0",
         null,
         "2.0",
         "2.0",
         null,
         null,
         null,
         null,
         "2.0",
         null,
         null,
         null,
         null,
         null,
         null,
         null,
         null,
         null,
         null,
         null,
         null,
         null,
         null,
         null,
         null,
         null,
         null,
         null,
         null,
         null,
         null,
         null,
         null,
         null,
         null,
         null,
         null,
         null,
         null,
         null,
         null,
         null,
         null,
         null,
         null,
         null,
         null,
         null,
         null,
         null,
         null,
         null,
         null,
         null,
         null,
         null,
         null,
         null,
         null,
         null,
         null,
         null,
         null,
         null,
         null,
         null,
         null,
         null,
         null,
         null,
         null,
         null,
         null,
         null
        ],
        [
         "2",
         "11",
         "1",
         "1",
         "1.0",
         "1987.0",
         "31.0",
         "2.0",
         "2.0",
         "2.0",
         "1.0",
         null,
         null,
         "4.0",
         "2.0",
         "10.0",
         "2.0",
         "2.0",
         null,
         null,
         null,
         null,
         "2.0",
         null,
         null,
         null,
         null,
         null,
         null,
         null,
         null,
         null,
         null,
         null,
         null,
         null,
         null,
         null,
         null,
         null,
         null,
         null,
         null,
         null,
         null,
         null,
         null,
         null,
         null,
         null,
         null,
         null,
         null,
         null,
         null,
         null,
         null,
         null,
         null,
         null,
         null,
         null,
         null,
         null,
         null,
         null,
         null,
         null,
         null,
         null,
         null,
         null,
         null,
         null,
         null,
         null,
         null,
         null,
         null,
         null,
         null,
         null,
         null,
         null,
         null,
         null,
         null,
         null
        ]
       ],
       "shape": {
        "columns": 87,
        "rows": 3
       }
      },
      "text/html": [
       "<div>\n",
       "<style scoped>\n",
       "    .dataframe tbody tr th:only-of-type {\n",
       "        vertical-align: middle;\n",
       "    }\n",
       "\n",
       "    .dataframe tbody tr th {\n",
       "        vertical-align: top;\n",
       "    }\n",
       "\n",
       "    .dataframe thead tr th {\n",
       "        text-align: left;\n",
       "    }\n",
       "</style>\n",
       "<table border=\"1\" class=\"dataframe\">\n",
       "  <thead>\n",
       "    <tr>\n",
       "      <th></th>\n",
       "      <th>V0001</th>\n",
       "      <th>V0026</th>\n",
       "      <th>V0031</th>\n",
       "      <th>C006</th>\n",
       "      <th>C00703</th>\n",
       "      <th>C008</th>\n",
       "      <th>C009</th>\n",
       "      <th>C01001</th>\n",
       "      <th>C013</th>\n",
       "      <th>C017</th>\n",
       "      <th>...</th>\n",
       "      <th>V033</th>\n",
       "      <th>V034</th>\n",
       "      <th>V03501</th>\n",
       "      <th>V03502</th>\n",
       "      <th>V03503</th>\n",
       "      <th>V036</th>\n",
       "      <th>V037</th>\n",
       "      <th>V038</th>\n",
       "      <th>V039</th>\n",
       "      <th>Y008</th>\n",
       "    </tr>\n",
       "    <tr>\n",
       "      <th></th>\n",
       "      <th>Unidade da Federação</th>\n",
       "      <th>Tipo de situação censitária</th>\n",
       "      <th>Tipo de área</th>\n",
       "      <th>Sexo</th>\n",
       "      <th>Ano de nascimento</th>\n",
       "      <th>Idade do morador na data de referência</th>\n",
       "      <th>Cor ou raça</th>\n",
       "      <th>Cônjuge ou companheiro(a) mora em nesse domicílio.</th>\n",
       "      <th>Cônjuge ou companheiro(a) mora em outro domicílio.</th>\n",
       "      <th>___já viveu com cônjuge ou companheiro (a) antes?</th>\n",
       "      <th>...</th>\n",
       "      <th>Onde isso ocorreu?</th>\n",
       "      <th>Nos últimos doze meses, você deixou de realizar quaisquer de suas atividades habituais (trabalhar, realizar afazeres domésticos, ir à escola etc.) por causa desse ato</th>\n",
       "      <th>Esse(s) ato(s) sexual(is) forçado(s) gerou(aram) alguma consequência para sua saúde, tais como: Hematomas, cortes, fraturas, queimaduras ou outras lesões físicas ou ferimentos?</th>\n",
       "      <th>Esse(s) ato(s) sexual(is) forçado(s) gerou(aram) alguma consequência para sua saúde, tais como: Medo, tristeza, desânimo, dificuldade para dormir, ansiedade, depressão ou outras consequências psicológicas?</th>\n",
       "      <th>Esse(s) ato(s) sexual(is) forçado(s) gerou(aram) alguma consequência para sua saúde, tais como: Doença sexualmente transmissível ou gravidez indesejada?</th>\n",
       "      <th>Por causa desta (s) consequência (s), você procurou algum atendimento de saúde</th>\n",
       "      <th>Por causa desta (s) consequência (s), você recebeu algum atendimento de saúde</th>\n",
       "      <th>Onde foi realizado este atendimento de saúde</th>\n",
       "      <th>Por causa desta (s) consequência (s), você precisou ser internado por 24 horas ou mais</th>\n",
       "      <th>Qual é a sua orientação sexual?</th>\n",
       "    </tr>\n",
       "  </thead>\n",
       "  <tbody>\n",
       "    <tr>\n",
       "      <th>0</th>\n",
       "      <td>11</td>\n",
       "      <td>1</td>\n",
       "      <td>1</td>\n",
       "      <td>2.0</td>\n",
       "      <td>1963.0</td>\n",
       "      <td>55.0</td>\n",
       "      <td>1.0</td>\n",
       "      <td>1.0</td>\n",
       "      <td>NaN</td>\n",
       "      <td>NaN</td>\n",
       "      <td>...</td>\n",
       "      <td>NaN</td>\n",
       "      <td>NaN</td>\n",
       "      <td>NaN</td>\n",
       "      <td>NaN</td>\n",
       "      <td>NaN</td>\n",
       "      <td>NaN</td>\n",
       "      <td>NaN</td>\n",
       "      <td>NaN</td>\n",
       "      <td>NaN</td>\n",
       "      <td>1.0</td>\n",
       "    </tr>\n",
       "    <tr>\n",
       "      <th>1</th>\n",
       "      <td>11</td>\n",
       "      <td>1</td>\n",
       "      <td>1</td>\n",
       "      <td>1.0</td>\n",
       "      <td>1950.0</td>\n",
       "      <td>69.0</td>\n",
       "      <td>4.0</td>\n",
       "      <td>1.0</td>\n",
       "      <td>NaN</td>\n",
       "      <td>NaN</td>\n",
       "      <td>...</td>\n",
       "      <td>NaN</td>\n",
       "      <td>NaN</td>\n",
       "      <td>NaN</td>\n",
       "      <td>NaN</td>\n",
       "      <td>NaN</td>\n",
       "      <td>NaN</td>\n",
       "      <td>NaN</td>\n",
       "      <td>NaN</td>\n",
       "      <td>NaN</td>\n",
       "      <td>NaN</td>\n",
       "    </tr>\n",
       "    <tr>\n",
       "      <th>2</th>\n",
       "      <td>11</td>\n",
       "      <td>1</td>\n",
       "      <td>1</td>\n",
       "      <td>1.0</td>\n",
       "      <td>1987.0</td>\n",
       "      <td>31.0</td>\n",
       "      <td>2.0</td>\n",
       "      <td>2.0</td>\n",
       "      <td>2.0</td>\n",
       "      <td>1.0</td>\n",
       "      <td>...</td>\n",
       "      <td>NaN</td>\n",
       "      <td>NaN</td>\n",
       "      <td>NaN</td>\n",
       "      <td>NaN</td>\n",
       "      <td>NaN</td>\n",
       "      <td>NaN</td>\n",
       "      <td>NaN</td>\n",
       "      <td>NaN</td>\n",
       "      <td>NaN</td>\n",
       "      <td>NaN</td>\n",
       "    </tr>\n",
       "  </tbody>\n",
       "</table>\n",
       "<p>3 rows × 87 columns</p>\n",
       "</div>"
      ],
      "text/plain": [
       "                 V0001                       V0026        V0031 C006  \\\n",
       "  Unidade da Federação Tipo de situação censitária Tipo de área Sexo   \n",
       "0                   11                           1            1  2.0   \n",
       "1                   11                           1            1  1.0   \n",
       "2                   11                           1            1  1.0   \n",
       "\n",
       "             C00703                                   C008        C009  \\\n",
       "  Ano de nascimento Idade do morador na data de referência Cor ou raça   \n",
       "0            1963.0                                   55.0         1.0   \n",
       "1            1950.0                                   69.0         4.0   \n",
       "2            1987.0                                   31.0         2.0   \n",
       "\n",
       "                                              C01001  \\\n",
       "  Cônjuge ou companheiro(a) mora em nesse domicílio.   \n",
       "0                                                1.0   \n",
       "1                                                1.0   \n",
       "2                                                2.0   \n",
       "\n",
       "                                                C013  \\\n",
       "  Cônjuge ou companheiro(a) mora em outro domicílio.   \n",
       "0                                                NaN   \n",
       "1                                                NaN   \n",
       "2                                                2.0   \n",
       "\n",
       "                                               C017  ...               V033  \\\n",
       "  ___já viveu com cônjuge ou companheiro (a) antes?  ... Onde isso ocorreu?   \n",
       "0                                               NaN  ...                NaN   \n",
       "1                                               NaN  ...                NaN   \n",
       "2                                               1.0  ...                NaN   \n",
       "\n",
       "                                                                                                                                                                    V034  \\\n",
       "  Nos últimos doze meses, você deixou de realizar quaisquer de suas atividades habituais (trabalhar, realizar afazeres domésticos, ir à escola etc.) por causa desse ato   \n",
       "0                                                NaN                                                                                                                       \n",
       "1                                                NaN                                                                                                                       \n",
       "2                                                NaN                                                                                                                       \n",
       "\n",
       "                                                                                                                                                                            V03501  \\\n",
       "  Esse(s) ato(s) sexual(is) forçado(s) gerou(aram) alguma consequência para sua saúde, tais como: Hematomas, cortes, fraturas, queimaduras ou outras lesões físicas ou ferimentos?   \n",
       "0                                                NaN                                                                                                                                 \n",
       "1                                                NaN                                                                                                                                 \n",
       "2                                                NaN                                                                                                                                 \n",
       "\n",
       "                                                                                                                                                                                                         V03502  \\\n",
       "  Esse(s) ato(s) sexual(is) forçado(s) gerou(aram) alguma consequência para sua saúde, tais como: Medo, tristeza, desânimo, dificuldade para dormir, ansiedade, depressão ou outras consequências psicológicas?   \n",
       "0                                                NaN                                                                                                                                                              \n",
       "1                                                NaN                                                                                                                                                              \n",
       "2                                                NaN                                                                                                                                                              \n",
       "\n",
       "                                                                                                                                                    V03503  \\\n",
       "  Esse(s) ato(s) sexual(is) forçado(s) gerou(aram) alguma consequência para sua saúde, tais como: Doença sexualmente transmissível ou gravidez indesejada?   \n",
       "0                                                NaN                                                                                                         \n",
       "1                                                NaN                                                                                                         \n",
       "2                                                NaN                                                                                                         \n",
       "\n",
       "                                                                            V036  \\\n",
       "  Por causa desta (s) consequência (s), você procurou algum atendimento de saúde   \n",
       "0                                                NaN                               \n",
       "1                                                NaN                               \n",
       "2                                                NaN                               \n",
       "\n",
       "                                                                           V037  \\\n",
       "  Por causa desta (s) consequência (s), você recebeu algum atendimento de saúde   \n",
       "0                                                NaN                              \n",
       "1                                                NaN                              \n",
       "2                                                NaN                              \n",
       "\n",
       "                                          V038  \\\n",
       "  Onde foi realizado este atendimento de saúde   \n",
       "0                                          NaN   \n",
       "1                                          NaN   \n",
       "2                                          NaN   \n",
       "\n",
       "                                                                                    V039  \\\n",
       "  Por causa desta (s) consequência (s), você precisou ser internado por 24 horas ou mais   \n",
       "0                                                NaN                                       \n",
       "1                                                NaN                                       \n",
       "2                                                NaN                                       \n",
       "\n",
       "                             Y008  \n",
       "  Qual é a sua orientação sexual?  \n",
       "0                             1.0  \n",
       "1                             NaN  \n",
       "2                             NaN  \n",
       "\n",
       "[3 rows x 87 columns]"
      ]
     },
     "metadata": {},
     "output_type": "display_data"
    }
   ],
   "source": [
    "# Cast to int\n",
    "class_mappings['Tipo'] = class_mappings['Tipo'].astype(int)\n",
    "\n",
    "# These are the Tipos we need to map to their corresponding Classes\n",
    "display(\n",
    "    \"[Class Mappings]\",class_mappings.Tipo.shape, class_mappings.head(3),\n",
    "    \"[Depression]\", depression_explicit.shape, depression_explicit.head(3),\n",
    ")"
   ]
  },
  {
   "cell_type": "code",
   "execution_count": 15,
   "id": "73fee513",
   "metadata": {},
   "outputs": [
    {
     "name": "stdout",
     "output_type": "stream",
     "text": [
      "    [COLUMN]: V0001 ==================================================\n",
      "    [BEFORE]:\n",
      "Unidade da Federação\n",
      "35                      18504\n",
      "21                      17912\n",
      "31                      15421\n",
      "Name: count, dtype: int64\n",
      "\n"
     ]
    },
    {
     "data": {
      "application/vnd.microsoft.datawrangler.viewer.v0+json": {
       "columns": [
        {
         "name": "index",
         "rawType": "int64",
         "type": "integer"
        },
        {
         "name": "Tipo",
         "rawType": "int64",
         "type": "integer"
        },
        {
         "name": "Classe",
         "rawType": "object",
         "type": "string"
        }
       ],
       "conversionMethod": "pd.DataFrame",
       "ref": "a7175ea4-ca5d-40e7-9e1a-b5bfbbc847dd",
       "rows": [
        [
         "0",
         "11",
         "Rondônia"
        ],
        [
         "1",
         "12",
         "Acre"
        ],
        [
         "2",
         "13",
         "Amazonas"
        ],
        [
         "3",
         "14",
         "Roraima"
        ],
        [
         "4",
         "15",
         "Pará"
        ],
        [
         "5",
         "16",
         "Amapá"
        ],
        [
         "6",
         "17",
         "Tocantins"
        ],
        [
         "7",
         "21",
         "Maranhão"
        ],
        [
         "8",
         "22",
         "Piauí"
        ],
        [
         "9",
         "23",
         "Ceará"
        ],
        [
         "10",
         "24",
         "Rio Grande do Norte"
        ],
        [
         "11",
         "25",
         "Paraíba"
        ],
        [
         "12",
         "26",
         "Pernambuco"
        ],
        [
         "13",
         "27",
         "Alagoas"
        ],
        [
         "14",
         "28",
         "Sergipe"
        ],
        [
         "15",
         "29",
         "Bahia"
        ],
        [
         "16",
         "31",
         "Minas Gerais"
        ],
        [
         "17",
         "32",
         "Espírito Santo"
        ],
        [
         "18",
         "33",
         "Rio de Janeiro"
        ],
        [
         "19",
         "35",
         "São Paulo"
        ],
        [
         "20",
         "41",
         "Paraná"
        ],
        [
         "21",
         "42",
         "Santa Catarina"
        ],
        [
         "22",
         "43",
         "Rio Grande do Sul"
        ],
        [
         "23",
         "50",
         "Mato Grosso do Sul"
        ],
        [
         "24",
         "51",
         "Mato Grosso"
        ],
        [
         "25",
         "52",
         "Goiás"
        ],
        [
         "26",
         "53",
         "Distrito Federal"
        ]
       ],
       "shape": {
        "columns": 2,
        "rows": 27
       }
      },
      "text/html": [
       "<div>\n",
       "<style scoped>\n",
       "    .dataframe tbody tr th:only-of-type {\n",
       "        vertical-align: middle;\n",
       "    }\n",
       "\n",
       "    .dataframe tbody tr th {\n",
       "        vertical-align: top;\n",
       "    }\n",
       "\n",
       "    .dataframe thead th {\n",
       "        text-align: right;\n",
       "    }\n",
       "</style>\n",
       "<table border=\"1\" class=\"dataframe\">\n",
       "  <thead>\n",
       "    <tr style=\"text-align: right;\">\n",
       "      <th></th>\n",
       "      <th>Tipo</th>\n",
       "      <th>Classe</th>\n",
       "    </tr>\n",
       "  </thead>\n",
       "  <tbody>\n",
       "    <tr>\n",
       "      <th>0</th>\n",
       "      <td>11</td>\n",
       "      <td>Rondônia</td>\n",
       "    </tr>\n",
       "    <tr>\n",
       "      <th>1</th>\n",
       "      <td>12</td>\n",
       "      <td>Acre</td>\n",
       "    </tr>\n",
       "    <tr>\n",
       "      <th>2</th>\n",
       "      <td>13</td>\n",
       "      <td>Amazonas</td>\n",
       "    </tr>\n",
       "    <tr>\n",
       "      <th>3</th>\n",
       "      <td>14</td>\n",
       "      <td>Roraima</td>\n",
       "    </tr>\n",
       "    <tr>\n",
       "      <th>4</th>\n",
       "      <td>15</td>\n",
       "      <td>Pará</td>\n",
       "    </tr>\n",
       "    <tr>\n",
       "      <th>5</th>\n",
       "      <td>16</td>\n",
       "      <td>Amapá</td>\n",
       "    </tr>\n",
       "    <tr>\n",
       "      <th>6</th>\n",
       "      <td>17</td>\n",
       "      <td>Tocantins</td>\n",
       "    </tr>\n",
       "    <tr>\n",
       "      <th>7</th>\n",
       "      <td>21</td>\n",
       "      <td>Maranhão</td>\n",
       "    </tr>\n",
       "    <tr>\n",
       "      <th>8</th>\n",
       "      <td>22</td>\n",
       "      <td>Piauí</td>\n",
       "    </tr>\n",
       "    <tr>\n",
       "      <th>9</th>\n",
       "      <td>23</td>\n",
       "      <td>Ceará</td>\n",
       "    </tr>\n",
       "    <tr>\n",
       "      <th>10</th>\n",
       "      <td>24</td>\n",
       "      <td>Rio Grande do Norte</td>\n",
       "    </tr>\n",
       "    <tr>\n",
       "      <th>11</th>\n",
       "      <td>25</td>\n",
       "      <td>Paraíba</td>\n",
       "    </tr>\n",
       "    <tr>\n",
       "      <th>12</th>\n",
       "      <td>26</td>\n",
       "      <td>Pernambuco</td>\n",
       "    </tr>\n",
       "    <tr>\n",
       "      <th>13</th>\n",
       "      <td>27</td>\n",
       "      <td>Alagoas</td>\n",
       "    </tr>\n",
       "    <tr>\n",
       "      <th>14</th>\n",
       "      <td>28</td>\n",
       "      <td>Sergipe</td>\n",
       "    </tr>\n",
       "    <tr>\n",
       "      <th>15</th>\n",
       "      <td>29</td>\n",
       "      <td>Bahia</td>\n",
       "    </tr>\n",
       "    <tr>\n",
       "      <th>16</th>\n",
       "      <td>31</td>\n",
       "      <td>Minas Gerais</td>\n",
       "    </tr>\n",
       "    <tr>\n",
       "      <th>17</th>\n",
       "      <td>32</td>\n",
       "      <td>Espírito Santo</td>\n",
       "    </tr>\n",
       "    <tr>\n",
       "      <th>18</th>\n",
       "      <td>33</td>\n",
       "      <td>Rio de Janeiro</td>\n",
       "    </tr>\n",
       "    <tr>\n",
       "      <th>19</th>\n",
       "      <td>35</td>\n",
       "      <td>São Paulo</td>\n",
       "    </tr>\n",
       "    <tr>\n",
       "      <th>20</th>\n",
       "      <td>41</td>\n",
       "      <td>Paraná</td>\n",
       "    </tr>\n",
       "    <tr>\n",
       "      <th>21</th>\n",
       "      <td>42</td>\n",
       "      <td>Santa Catarina</td>\n",
       "    </tr>\n",
       "    <tr>\n",
       "      <th>22</th>\n",
       "      <td>43</td>\n",
       "      <td>Rio Grande do Sul</td>\n",
       "    </tr>\n",
       "    <tr>\n",
       "      <th>23</th>\n",
       "      <td>50</td>\n",
       "      <td>Mato Grosso do Sul</td>\n",
       "    </tr>\n",
       "    <tr>\n",
       "      <th>24</th>\n",
       "      <td>51</td>\n",
       "      <td>Mato Grosso</td>\n",
       "    </tr>\n",
       "    <tr>\n",
       "      <th>25</th>\n",
       "      <td>52</td>\n",
       "      <td>Goiás</td>\n",
       "    </tr>\n",
       "    <tr>\n",
       "      <th>26</th>\n",
       "      <td>53</td>\n",
       "      <td>Distrito Federal</td>\n",
       "    </tr>\n",
       "  </tbody>\n",
       "</table>\n",
       "</div>"
      ],
      "text/plain": [
       "    Tipo               Classe\n",
       "0     11             Rondônia\n",
       "1     12                 Acre\n",
       "2     13             Amazonas\n",
       "3     14              Roraima\n",
       "4     15                 Pará\n",
       "5     16                Amapá\n",
       "6     17            Tocantins\n",
       "7     21             Maranhão\n",
       "8     22                Piauí\n",
       "9     23                Ceará\n",
       "10    24  Rio Grande do Norte\n",
       "11    25              Paraíba\n",
       "12    26           Pernambuco\n",
       "13    27              Alagoas\n",
       "14    28              Sergipe\n",
       "15    29                Bahia\n",
       "16    31         Minas Gerais\n",
       "17    32       Espírito Santo\n",
       "18    33       Rio de Janeiro\n",
       "19    35            São Paulo\n",
       "20    41               Paraná\n",
       "21    42       Santa Catarina\n",
       "22    43    Rio Grande do Sul\n",
       "23    50   Mato Grosso do Sul\n",
       "24    51          Mato Grosso\n",
       "25    52                Goiás\n",
       "26    53     Distrito Federal"
      ]
     },
     "metadata": {},
     "output_type": "display_data"
    },
    {
     "name": "stdout",
     "output_type": "stream",
     "text": [
      "    [AFTER]:\n",
      "Unidade da Federação\n",
      "São Paulo               18504\n",
      "Maranhão                17912\n",
      "Minas Gerais            15421\n",
      "Name: count, dtype: int64\n",
      "\n",
      "    [COLUMN]: V0026 ==================================================\n",
      "    [BEFORE]:\n",
      "Tipo de situação censitária\n",
      "1                              224159\n",
      "2                               69567\n",
      "Name: count, dtype: int64\n",
      "\n"
     ]
    },
    {
     "data": {
      "application/vnd.microsoft.datawrangler.viewer.v0+json": {
       "columns": [
        {
         "name": "index",
         "rawType": "int64",
         "type": "integer"
        },
        {
         "name": "Tipo",
         "rawType": "int64",
         "type": "integer"
        },
        {
         "name": "Classe",
         "rawType": "object",
         "type": "string"
        }
       ],
       "conversionMethod": "pd.DataFrame",
       "ref": "891656c1-6351-4338-a921-c4d48d46dbbc",
       "rows": [
        [
         "27",
         "1",
         "Urbano"
        ],
        [
         "28",
         "2",
         "Rural"
        ]
       ],
       "shape": {
        "columns": 2,
        "rows": 2
       }
      },
      "text/html": [
       "<div>\n",
       "<style scoped>\n",
       "    .dataframe tbody tr th:only-of-type {\n",
       "        vertical-align: middle;\n",
       "    }\n",
       "\n",
       "    .dataframe tbody tr th {\n",
       "        vertical-align: top;\n",
       "    }\n",
       "\n",
       "    .dataframe thead th {\n",
       "        text-align: right;\n",
       "    }\n",
       "</style>\n",
       "<table border=\"1\" class=\"dataframe\">\n",
       "  <thead>\n",
       "    <tr style=\"text-align: right;\">\n",
       "      <th></th>\n",
       "      <th>Tipo</th>\n",
       "      <th>Classe</th>\n",
       "    </tr>\n",
       "  </thead>\n",
       "  <tbody>\n",
       "    <tr>\n",
       "      <th>27</th>\n",
       "      <td>1</td>\n",
       "      <td>Urbano</td>\n",
       "    </tr>\n",
       "    <tr>\n",
       "      <th>28</th>\n",
       "      <td>2</td>\n",
       "      <td>Rural</td>\n",
       "    </tr>\n",
       "  </tbody>\n",
       "</table>\n",
       "</div>"
      ],
      "text/plain": [
       "    Tipo  Classe\n",
       "27     1  Urbano\n",
       "28     2   Rural"
      ]
     },
     "metadata": {},
     "output_type": "display_data"
    },
    {
     "name": "stdout",
     "output_type": "stream",
     "text": [
      "    [AFTER]:\n",
      "Tipo de situação censitária\n",
      "Urbano                         224159\n",
      "Rural                           69567\n",
      "Name: count, dtype: int64\n",
      "\n",
      "    [COLUMN]: V0031 ==================================================\n",
      "    [BEFORE]:\n",
      "Tipo de área\n",
      "4               139147\n",
      "1               107845\n",
      "2                44034\n",
      "Name: count, dtype: int64\n",
      "\n"
     ]
    },
    {
     "data": {
      "application/vnd.microsoft.datawrangler.viewer.v0+json": {
       "columns": [
        {
         "name": "index",
         "rawType": "int64",
         "type": "integer"
        },
        {
         "name": "Tipo",
         "rawType": "int64",
         "type": "integer"
        },
        {
         "name": "Classe",
         "rawType": "object",
         "type": "string"
        }
       ],
       "conversionMethod": "pd.DataFrame",
       "ref": "6d3ca352-1137-44fe-8045-1c6e15b8e990",
       "rows": [
        [
         "29",
         "1",
         "Capital"
        ],
        [
         "30",
         "2",
         "Resto da RM (Região Metropolitana, excluindo a capital)"
        ],
        [
         "31",
         "3",
         "RIDE (excluindo a capital)"
        ],
        [
         "32",
         "4",
         "Resto da UF (Unidade da Federação, excluindo a região metropolitana e RIDE)"
        ]
       ],
       "shape": {
        "columns": 2,
        "rows": 4
       }
      },
      "text/html": [
       "<div>\n",
       "<style scoped>\n",
       "    .dataframe tbody tr th:only-of-type {\n",
       "        vertical-align: middle;\n",
       "    }\n",
       "\n",
       "    .dataframe tbody tr th {\n",
       "        vertical-align: top;\n",
       "    }\n",
       "\n",
       "    .dataframe thead th {\n",
       "        text-align: right;\n",
       "    }\n",
       "</style>\n",
       "<table border=\"1\" class=\"dataframe\">\n",
       "  <thead>\n",
       "    <tr style=\"text-align: right;\">\n",
       "      <th></th>\n",
       "      <th>Tipo</th>\n",
       "      <th>Classe</th>\n",
       "    </tr>\n",
       "  </thead>\n",
       "  <tbody>\n",
       "    <tr>\n",
       "      <th>29</th>\n",
       "      <td>1</td>\n",
       "      <td>Capital</td>\n",
       "    </tr>\n",
       "    <tr>\n",
       "      <th>30</th>\n",
       "      <td>2</td>\n",
       "      <td>Resto da RM (Região Metropolitana, excluindo a...</td>\n",
       "    </tr>\n",
       "    <tr>\n",
       "      <th>31</th>\n",
       "      <td>3</td>\n",
       "      <td>RIDE (excluindo a capital)</td>\n",
       "    </tr>\n",
       "    <tr>\n",
       "      <th>32</th>\n",
       "      <td>4</td>\n",
       "      <td>Resto da UF (Unidade da Federação, excluindo a...</td>\n",
       "    </tr>\n",
       "  </tbody>\n",
       "</table>\n",
       "</div>"
      ],
      "text/plain": [
       "    Tipo                                             Classe\n",
       "29     1                                            Capital\n",
       "30     2  Resto da RM (Região Metropolitana, excluindo a...\n",
       "31     3                         RIDE (excluindo a capital)\n",
       "32     4  Resto da UF (Unidade da Federação, excluindo a..."
      ]
     },
     "metadata": {},
     "output_type": "display_data"
    },
    {
     "name": "stdout",
     "output_type": "stream",
     "text": [
      "    [AFTER]:\n",
      "Tipo de área                                                               \n",
      "Resto da UF (Unidade da Federação, excluindo a região metropolitana e RIDE)    139147\n",
      "Capital                                                                        107845\n",
      "Resto da RM (Região Metropolitana, excluindo a capital)                         44034\n",
      "Name: count, dtype: int64\n",
      "\n",
      "    [COLUMN]: C006 ==================================================\n",
      "    [BEFORE]:\n",
      "Sexo\n",
      "2.0     144940\n",
      "1.0     134442\n",
      "Name: count, dtype: int64\n",
      "\n"
     ]
    },
    {
     "data": {
      "application/vnd.microsoft.datawrangler.viewer.v0+json": {
       "columns": [
        {
         "name": "index",
         "rawType": "int64",
         "type": "integer"
        },
        {
         "name": "Tipo",
         "rawType": "int64",
         "type": "integer"
        },
        {
         "name": "Classe",
         "rawType": "object",
         "type": "string"
        }
       ],
       "conversionMethod": "pd.DataFrame",
       "ref": "08b313cd-eb9f-49b4-b575-619c0b5c1fa3",
       "rows": [
        [
         "33",
         "1",
         "Homem"
        ],
        [
         "34",
         "2",
         "Mulher"
        ]
       ],
       "shape": {
        "columns": 2,
        "rows": 2
       }
      },
      "text/html": [
       "<div>\n",
       "<style scoped>\n",
       "    .dataframe tbody tr th:only-of-type {\n",
       "        vertical-align: middle;\n",
       "    }\n",
       "\n",
       "    .dataframe tbody tr th {\n",
       "        vertical-align: top;\n",
       "    }\n",
       "\n",
       "    .dataframe thead th {\n",
       "        text-align: right;\n",
       "    }\n",
       "</style>\n",
       "<table border=\"1\" class=\"dataframe\">\n",
       "  <thead>\n",
       "    <tr style=\"text-align: right;\">\n",
       "      <th></th>\n",
       "      <th>Tipo</th>\n",
       "      <th>Classe</th>\n",
       "    </tr>\n",
       "  </thead>\n",
       "  <tbody>\n",
       "    <tr>\n",
       "      <th>33</th>\n",
       "      <td>1</td>\n",
       "      <td>Homem</td>\n",
       "    </tr>\n",
       "    <tr>\n",
       "      <th>34</th>\n",
       "      <td>2</td>\n",
       "      <td>Mulher</td>\n",
       "    </tr>\n",
       "  </tbody>\n",
       "</table>\n",
       "</div>"
      ],
      "text/plain": [
       "    Tipo  Classe\n",
       "33     1   Homem\n",
       "34     2  Mulher"
      ]
     },
     "metadata": {},
     "output_type": "display_data"
    },
    {
     "name": "stdout",
     "output_type": "stream",
     "text": [
      "    [AFTER]:\n",
      "Sexo  \n",
      "Mulher    144940\n",
      "Homem     134442\n",
      "Name: count, dtype: int64\n",
      "\n",
      "    [COLUMN]: C00703 ==================================================\n",
      "    [BEFORE]:\n",
      "Ano de nascimento\n",
      "2000.0               4434\n",
      "2004.0               4225\n",
      "2005.0               4180\n",
      "Name: count, dtype: int64\n",
      "\n"
     ]
    },
    {
     "data": {
      "application/vnd.microsoft.datawrangler.viewer.v0+json": {
       "columns": [
        {
         "name": "index",
         "rawType": "int64",
         "type": "integer"
        },
        {
         "name": "Tipo",
         "rawType": "int64",
         "type": "integer"
        },
        {
         "name": "Classe",
         "rawType": "object",
         "type": "string"
        }
       ],
       "conversionMethod": "pd.DataFrame",
       "ref": "f566e6a5-3479-4ba8-8d23-4be0e2f101f5",
       "rows": [
        [
         "37",
         "9999",
         "Não informado"
        ]
       ],
       "shape": {
        "columns": 2,
        "rows": 1
       }
      },
      "text/html": [
       "<div>\n",
       "<style scoped>\n",
       "    .dataframe tbody tr th:only-of-type {\n",
       "        vertical-align: middle;\n",
       "    }\n",
       "\n",
       "    .dataframe tbody tr th {\n",
       "        vertical-align: top;\n",
       "    }\n",
       "\n",
       "    .dataframe thead th {\n",
       "        text-align: right;\n",
       "    }\n",
       "</style>\n",
       "<table border=\"1\" class=\"dataframe\">\n",
       "  <thead>\n",
       "    <tr style=\"text-align: right;\">\n",
       "      <th></th>\n",
       "      <th>Tipo</th>\n",
       "      <th>Classe</th>\n",
       "    </tr>\n",
       "  </thead>\n",
       "  <tbody>\n",
       "    <tr>\n",
       "      <th>37</th>\n",
       "      <td>9999</td>\n",
       "      <td>Não informado</td>\n",
       "    </tr>\n",
       "  </tbody>\n",
       "</table>\n",
       "</div>"
      ],
      "text/plain": [
       "    Tipo         Classe\n",
       "37  9999  Não informado"
      ]
     },
     "metadata": {},
     "output_type": "display_data"
    },
    {
     "name": "stdout",
     "output_type": "stream",
     "text": [
      "    [AFTER]:\n",
      "Ano de nascimento\n",
      "2000.0               4434\n",
      "2004.0               4225\n",
      "2005.0               4180\n",
      "Name: count, dtype: int64\n",
      "\n",
      "    [COLUMN]: C008 ==================================================\n",
      "    [BEFORE]:\n",
      "Idade do morador na data de referência\n",
      "18.0                                      4667\n",
      "19.0                                      4508\n",
      "14.0                                      4468\n",
      "Name: count, dtype: int64\n",
      "\n"
     ]
    },
    {
     "data": {
      "application/vnd.microsoft.datawrangler.viewer.v0+json": {
       "columns": [
        {
         "name": "index",
         "rawType": "int64",
         "type": "integer"
        },
        {
         "name": "Tipo",
         "rawType": "int64",
         "type": "integer"
        },
        {
         "name": "Classe",
         "rawType": "object",
         "type": "string"
        }
       ],
       "conversionMethod": "pd.DataFrame",
       "ref": "6b0ced62-c9a7-47c9-8f12-e7187de45db6",
       "rows": [],
       "shape": {
        "columns": 2,
        "rows": 0
       }
      },
      "text/html": [
       "<div>\n",
       "<style scoped>\n",
       "    .dataframe tbody tr th:only-of-type {\n",
       "        vertical-align: middle;\n",
       "    }\n",
       "\n",
       "    .dataframe tbody tr th {\n",
       "        vertical-align: top;\n",
       "    }\n",
       "\n",
       "    .dataframe thead th {\n",
       "        text-align: right;\n",
       "    }\n",
       "</style>\n",
       "<table border=\"1\" class=\"dataframe\">\n",
       "  <thead>\n",
       "    <tr style=\"text-align: right;\">\n",
       "      <th></th>\n",
       "      <th>Tipo</th>\n",
       "      <th>Classe</th>\n",
       "    </tr>\n",
       "  </thead>\n",
       "  <tbody>\n",
       "  </tbody>\n",
       "</table>\n",
       "</div>"
      ],
      "text/plain": [
       "Empty DataFrame\n",
       "Columns: [Tipo, Classe]\n",
       "Index: []"
      ]
     },
     "metadata": {},
     "output_type": "display_data"
    },
    {
     "name": "stdout",
     "output_type": "stream",
     "text": [
      "    [AFTER]:\n",
      "Idade do morador na data de referência\n",
      "18.0                                      4667\n",
      "19.0                                      4508\n",
      "14.0                                      4468\n",
      "Name: count, dtype: int64\n",
      "\n",
      "    [COLUMN]: C009 ==================================================\n",
      "    [BEFORE]:\n",
      "Cor ou raça\n",
      "4.0            148273\n",
      "1.0             99019\n",
      "2.0             28304\n",
      "Name: count, dtype: int64\n",
      "\n"
     ]
    },
    {
     "data": {
      "application/vnd.microsoft.datawrangler.viewer.v0+json": {
       "columns": [
        {
         "name": "index",
         "rawType": "int64",
         "type": "integer"
        },
        {
         "name": "Tipo",
         "rawType": "int64",
         "type": "integer"
        },
        {
         "name": "Classe",
         "rawType": "object",
         "type": "string"
        }
       ],
       "conversionMethod": "pd.DataFrame",
       "ref": "6aeff753-3e03-4594-8cf2-867b46a2a4a9",
       "rows": [
        [
         "41",
         "1",
         "Branca"
        ],
        [
         "42",
         "2",
         "Preta"
        ],
        [
         "43",
         "3",
         "Amarela"
        ],
        [
         "44",
         "4",
         "Parda "
        ],
        [
         "45",
         "5",
         "Indígena"
        ],
        [
         "46",
         "9",
         "Ignorado"
        ]
       ],
       "shape": {
        "columns": 2,
        "rows": 6
       }
      },
      "text/html": [
       "<div>\n",
       "<style scoped>\n",
       "    .dataframe tbody tr th:only-of-type {\n",
       "        vertical-align: middle;\n",
       "    }\n",
       "\n",
       "    .dataframe tbody tr th {\n",
       "        vertical-align: top;\n",
       "    }\n",
       "\n",
       "    .dataframe thead th {\n",
       "        text-align: right;\n",
       "    }\n",
       "</style>\n",
       "<table border=\"1\" class=\"dataframe\">\n",
       "  <thead>\n",
       "    <tr style=\"text-align: right;\">\n",
       "      <th></th>\n",
       "      <th>Tipo</th>\n",
       "      <th>Classe</th>\n",
       "    </tr>\n",
       "  </thead>\n",
       "  <tbody>\n",
       "    <tr>\n",
       "      <th>41</th>\n",
       "      <td>1</td>\n",
       "      <td>Branca</td>\n",
       "    </tr>\n",
       "    <tr>\n",
       "      <th>42</th>\n",
       "      <td>2</td>\n",
       "      <td>Preta</td>\n",
       "    </tr>\n",
       "    <tr>\n",
       "      <th>43</th>\n",
       "      <td>3</td>\n",
       "      <td>Amarela</td>\n",
       "    </tr>\n",
       "    <tr>\n",
       "      <th>44</th>\n",
       "      <td>4</td>\n",
       "      <td>Parda</td>\n",
       "    </tr>\n",
       "    <tr>\n",
       "      <th>45</th>\n",
       "      <td>5</td>\n",
       "      <td>Indígena</td>\n",
       "    </tr>\n",
       "    <tr>\n",
       "      <th>46</th>\n",
       "      <td>9</td>\n",
       "      <td>Ignorado</td>\n",
       "    </tr>\n",
       "  </tbody>\n",
       "</table>\n",
       "</div>"
      ],
      "text/plain": [
       "    Tipo    Classe\n",
       "41     1    Branca\n",
       "42     2     Preta\n",
       "43     3   Amarela\n",
       "44     4    Parda \n",
       "45     5  Indígena\n",
       "46     9  Ignorado"
      ]
     },
     "metadata": {},
     "output_type": "display_data"
    },
    {
     "name": "stdout",
     "output_type": "stream",
     "text": [
      "    [AFTER]:\n",
      "Cor ou raça\n",
      "Parda          148273\n",
      "Branca          99019\n",
      "Preta           28304\n",
      "Name: count, dtype: int64\n",
      "\n",
      "    [COLUMN]: C01001 ==================================================\n",
      "    [BEFORE]:\n",
      "Cônjuge ou companheiro(a) mora em nesse domicílio.\n",
      "1.0                                                   122912\n",
      "2.0                                                   119532\n",
      "Name: count, dtype: int64\n",
      "\n"
     ]
    },
    {
     "data": {
      "application/vnd.microsoft.datawrangler.viewer.v0+json": {
       "columns": [
        {
         "name": "index",
         "rawType": "int64",
         "type": "integer"
        },
        {
         "name": "Tipo",
         "rawType": "int64",
         "type": "integer"
        },
        {
         "name": "Classe",
         "rawType": "object",
         "type": "string"
        }
       ],
       "conversionMethod": "pd.DataFrame",
       "ref": "e8c12a27-77a7-4514-b035-91df3842731f",
       "rows": [
        [
         "48",
         "1",
         "Sim"
        ],
        [
         "49",
         "2",
         "Não"
        ],
        [
         "50",
         "9",
         "Ignorado"
        ]
       ],
       "shape": {
        "columns": 2,
        "rows": 3
       }
      },
      "text/html": [
       "<div>\n",
       "<style scoped>\n",
       "    .dataframe tbody tr th:only-of-type {\n",
       "        vertical-align: middle;\n",
       "    }\n",
       "\n",
       "    .dataframe tbody tr th {\n",
       "        vertical-align: top;\n",
       "    }\n",
       "\n",
       "    .dataframe thead th {\n",
       "        text-align: right;\n",
       "    }\n",
       "</style>\n",
       "<table border=\"1\" class=\"dataframe\">\n",
       "  <thead>\n",
       "    <tr style=\"text-align: right;\">\n",
       "      <th></th>\n",
       "      <th>Tipo</th>\n",
       "      <th>Classe</th>\n",
       "    </tr>\n",
       "  </thead>\n",
       "  <tbody>\n",
       "    <tr>\n",
       "      <th>48</th>\n",
       "      <td>1</td>\n",
       "      <td>Sim</td>\n",
       "    </tr>\n",
       "    <tr>\n",
       "      <th>49</th>\n",
       "      <td>2</td>\n",
       "      <td>Não</td>\n",
       "    </tr>\n",
       "    <tr>\n",
       "      <th>50</th>\n",
       "      <td>9</td>\n",
       "      <td>Ignorado</td>\n",
       "    </tr>\n",
       "  </tbody>\n",
       "</table>\n",
       "</div>"
      ],
      "text/plain": [
       "    Tipo    Classe\n",
       "48     1       Sim\n",
       "49     2       Não\n",
       "50     9  Ignorado"
      ]
     },
     "metadata": {},
     "output_type": "display_data"
    },
    {
     "name": "stdout",
     "output_type": "stream",
     "text": [
      "    [AFTER]:\n",
      "Cônjuge ou companheiro(a) mora em nesse domicílio.\n",
      "Sim                                                   122912\n",
      "Não                                                   119532\n",
      "Name: count, dtype: int64\n",
      "\n",
      "    [COLUMN]: C013 ==================================================\n",
      "    [BEFORE]:\n",
      "Cônjuge ou companheiro(a) mora em outro domicílio.\n",
      "2.0                                                   114348\n",
      "1.0                                                     5184\n",
      "Name: count, dtype: int64\n",
      "\n"
     ]
    },
    {
     "data": {
      "application/vnd.microsoft.datawrangler.viewer.v0+json": {
       "columns": [
        {
         "name": "index",
         "rawType": "int64",
         "type": "integer"
        },
        {
         "name": "Tipo",
         "rawType": "int64",
         "type": "integer"
        },
        {
         "name": "Classe",
         "rawType": "object",
         "type": "string"
        }
       ],
       "conversionMethod": "pd.DataFrame",
       "ref": "09c346c6-1714-4c16-9937-99ad712c7fd2",
       "rows": [
        [
         "52",
         "1",
         "Sim"
        ],
        [
         "53",
         "2",
         "Não"
        ],
        [
         "54",
         "9",
         "Ignorado"
        ]
       ],
       "shape": {
        "columns": 2,
        "rows": 3
       }
      },
      "text/html": [
       "<div>\n",
       "<style scoped>\n",
       "    .dataframe tbody tr th:only-of-type {\n",
       "        vertical-align: middle;\n",
       "    }\n",
       "\n",
       "    .dataframe tbody tr th {\n",
       "        vertical-align: top;\n",
       "    }\n",
       "\n",
       "    .dataframe thead th {\n",
       "        text-align: right;\n",
       "    }\n",
       "</style>\n",
       "<table border=\"1\" class=\"dataframe\">\n",
       "  <thead>\n",
       "    <tr style=\"text-align: right;\">\n",
       "      <th></th>\n",
       "      <th>Tipo</th>\n",
       "      <th>Classe</th>\n",
       "    </tr>\n",
       "  </thead>\n",
       "  <tbody>\n",
       "    <tr>\n",
       "      <th>52</th>\n",
       "      <td>1</td>\n",
       "      <td>Sim</td>\n",
       "    </tr>\n",
       "    <tr>\n",
       "      <th>53</th>\n",
       "      <td>2</td>\n",
       "      <td>Não</td>\n",
       "    </tr>\n",
       "    <tr>\n",
       "      <th>54</th>\n",
       "      <td>9</td>\n",
       "      <td>Ignorado</td>\n",
       "    </tr>\n",
       "  </tbody>\n",
       "</table>\n",
       "</div>"
      ],
      "text/plain": [
       "    Tipo    Classe\n",
       "52     1       Sim\n",
       "53     2       Não\n",
       "54     9  Ignorado"
      ]
     },
     "metadata": {},
     "output_type": "display_data"
    },
    {
     "name": "stdout",
     "output_type": "stream",
     "text": [
      "    [AFTER]:\n",
      "Cônjuge ou companheiro(a) mora em outro domicílio.\n",
      "Não                                                   114348\n",
      "Sim                                                     5184\n",
      "Name: count, dtype: int64\n",
      "\n",
      "    [COLUMN]: C017 ==================================================\n",
      "    [BEFORE]:\n",
      "___já viveu com cônjuge ou companheiro (a) antes?\n",
      "2.0                                                  76979\n",
      "1.0                                                  37369\n",
      "Name: count, dtype: int64\n",
      "\n"
     ]
    },
    {
     "data": {
      "application/vnd.microsoft.datawrangler.viewer.v0+json": {
       "columns": [
        {
         "name": "index",
         "rawType": "int64",
         "type": "integer"
        },
        {
         "name": "Tipo",
         "rawType": "int64",
         "type": "integer"
        },
        {
         "name": "Classe",
         "rawType": "object",
         "type": "string"
        }
       ],
       "conversionMethod": "pd.DataFrame",
       "ref": "61d76585-bdd5-4d1f-97fb-fc1e9c50fd57",
       "rows": [
        [
         "56",
         "1",
         "Sim"
        ],
        [
         "57",
         "2",
         "Não"
        ],
        [
         "58",
         "9",
         "Ignorado"
        ]
       ],
       "shape": {
        "columns": 2,
        "rows": 3
       }
      },
      "text/html": [
       "<div>\n",
       "<style scoped>\n",
       "    .dataframe tbody tr th:only-of-type {\n",
       "        vertical-align: middle;\n",
       "    }\n",
       "\n",
       "    .dataframe tbody tr th {\n",
       "        vertical-align: top;\n",
       "    }\n",
       "\n",
       "    .dataframe thead th {\n",
       "        text-align: right;\n",
       "    }\n",
       "</style>\n",
       "<table border=\"1\" class=\"dataframe\">\n",
       "  <thead>\n",
       "    <tr style=\"text-align: right;\">\n",
       "      <th></th>\n",
       "      <th>Tipo</th>\n",
       "      <th>Classe</th>\n",
       "    </tr>\n",
       "  </thead>\n",
       "  <tbody>\n",
       "    <tr>\n",
       "      <th>56</th>\n",
       "      <td>1</td>\n",
       "      <td>Sim</td>\n",
       "    </tr>\n",
       "    <tr>\n",
       "      <th>57</th>\n",
       "      <td>2</td>\n",
       "      <td>Não</td>\n",
       "    </tr>\n",
       "    <tr>\n",
       "      <th>58</th>\n",
       "      <td>9</td>\n",
       "      <td>Ignorado</td>\n",
       "    </tr>\n",
       "  </tbody>\n",
       "</table>\n",
       "</div>"
      ],
      "text/plain": [
       "    Tipo    Classe\n",
       "56     1       Sim\n",
       "57     2       Não\n",
       "58     9  Ignorado"
      ]
     },
     "metadata": {},
     "output_type": "display_data"
    },
    {
     "name": "stdout",
     "output_type": "stream",
     "text": [
      "    [AFTER]:\n",
      "___já viveu com cônjuge ou companheiro (a) antes?\n",
      "Não                                                  76979\n",
      "Sim                                                  37369\n",
      "Name: count, dtype: int64\n",
      "\n",
      "    [COLUMN]: C018 ==================================================\n",
      "    [BEFORE]:\n",
      "Que idade ___tinha quando começou a viver com seu(sua) primeiro(a)/único(a) marido (mulher) ou companheiro(a)?\n",
      "1.0                                                                                                               149637\n",
      "Name: count, dtype: int64\n",
      "\n"
     ]
    },
    {
     "data": {
      "application/vnd.microsoft.datawrangler.viewer.v0+json": {
       "columns": [
        {
         "name": "index",
         "rawType": "int64",
         "type": "integer"
        },
        {
         "name": "Tipo",
         "rawType": "int64",
         "type": "integer"
        },
        {
         "name": "Classe",
         "rawType": "object",
         "type": "string"
        }
       ],
       "conversionMethod": "pd.DataFrame",
       "ref": "3074a90a-27bc-448b-b23d-307e4d7ce650",
       "rows": [
        [
         "60",
         "1",
         "Idade"
        ],
        [
         "61",
         "2",
         "Não sabe/não lembra"
        ]
       ],
       "shape": {
        "columns": 2,
        "rows": 2
       }
      },
      "text/html": [
       "<div>\n",
       "<style scoped>\n",
       "    .dataframe tbody tr th:only-of-type {\n",
       "        vertical-align: middle;\n",
       "    }\n",
       "\n",
       "    .dataframe tbody tr th {\n",
       "        vertical-align: top;\n",
       "    }\n",
       "\n",
       "    .dataframe thead th {\n",
       "        text-align: right;\n",
       "    }\n",
       "</style>\n",
       "<table border=\"1\" class=\"dataframe\">\n",
       "  <thead>\n",
       "    <tr style=\"text-align: right;\">\n",
       "      <th></th>\n",
       "      <th>Tipo</th>\n",
       "      <th>Classe</th>\n",
       "    </tr>\n",
       "  </thead>\n",
       "  <tbody>\n",
       "    <tr>\n",
       "      <th>60</th>\n",
       "      <td>1</td>\n",
       "      <td>Idade</td>\n",
       "    </tr>\n",
       "    <tr>\n",
       "      <th>61</th>\n",
       "      <td>2</td>\n",
       "      <td>Não sabe/não lembra</td>\n",
       "    </tr>\n",
       "  </tbody>\n",
       "</table>\n",
       "</div>"
      ],
      "text/plain": [
       "    Tipo               Classe\n",
       "60     1                Idade\n",
       "61     2  Não sabe/não lembra"
      ]
     },
     "metadata": {},
     "output_type": "display_data"
    },
    {
     "name": "stdout",
     "output_type": "stream",
     "text": [
      "    [AFTER]:\n",
      "Que idade ___tinha quando começou a viver com seu(sua) primeiro(a)/único(a) marido (mulher) ou companheiro(a)?\n",
      "Idade                                                                                                             149637\n",
      "Name: count, dtype: int64\n",
      "\n",
      "    [COLUMN]: C01801 ==================================================\n",
      "    [BEFORE]:\n",
      "Que idade ___tinha quando começou a viver com seu(sua) primeiro(a)/único(a) marido (mulher) ou companheiro(a)?\n",
      "18.0                                                                                                              13286\n",
      "20.0                                                                                                              12186\n",
      "19.0                                                                                                              11922\n",
      "Name: count, dtype: int64\n",
      "\n"
     ]
    },
    {
     "data": {
      "application/vnd.microsoft.datawrangler.viewer.v0+json": {
       "columns": [
        {
         "name": "index",
         "rawType": "int64",
         "type": "integer"
        },
        {
         "name": "Tipo",
         "rawType": "int64",
         "type": "integer"
        },
        {
         "name": "Classe",
         "rawType": "object",
         "type": "string"
        }
       ],
       "conversionMethod": "pd.DataFrame",
       "ref": "f798c8a1-4ee9-491a-9eb9-70ab7c51bd98",
       "rows": [],
       "shape": {
        "columns": 2,
        "rows": 0
       }
      },
      "text/html": [
       "<div>\n",
       "<style scoped>\n",
       "    .dataframe tbody tr th:only-of-type {\n",
       "        vertical-align: middle;\n",
       "    }\n",
       "\n",
       "    .dataframe tbody tr th {\n",
       "        vertical-align: top;\n",
       "    }\n",
       "\n",
       "    .dataframe thead th {\n",
       "        text-align: right;\n",
       "    }\n",
       "</style>\n",
       "<table border=\"1\" class=\"dataframe\">\n",
       "  <thead>\n",
       "    <tr style=\"text-align: right;\">\n",
       "      <th></th>\n",
       "      <th>Tipo</th>\n",
       "      <th>Classe</th>\n",
       "    </tr>\n",
       "  </thead>\n",
       "  <tbody>\n",
       "  </tbody>\n",
       "</table>\n",
       "</div>"
      ],
      "text/plain": [
       "Empty DataFrame\n",
       "Columns: [Tipo, Classe]\n",
       "Index: []"
      ]
     },
     "metadata": {},
     "output_type": "display_data"
    },
    {
     "name": "stdout",
     "output_type": "stream",
     "text": [
      "    [AFTER]:\n",
      "Que idade ___tinha quando começou a viver com seu(sua) primeiro(a)/único(a) marido (mulher) ou companheiro(a)?\n",
      "18.0                                                                                                              13286\n",
      "20.0                                                                                                              12186\n",
      "19.0                                                                                                              11922\n",
      "Name: count, dtype: int64\n",
      "\n",
      "    [COLUMN]: C011 ==================================================\n",
      "    [BEFORE]:\n",
      "Qual é o estado civil de ___?\n",
      "4.0                              133751\n",
      "1.0                               83314\n",
      "2.0                               12820\n",
      "Name: count, dtype: int64\n",
      "\n"
     ]
    },
    {
     "data": {
      "application/vnd.microsoft.datawrangler.viewer.v0+json": {
       "columns": [
        {
         "name": "index",
         "rawType": "int64",
         "type": "integer"
        },
        {
         "name": "Tipo",
         "rawType": "int64",
         "type": "integer"
        },
        {
         "name": "Classe",
         "rawType": "object",
         "type": "string"
        }
       ],
       "conversionMethod": "pd.DataFrame",
       "ref": "5b24abd9-969c-4c21-a527-e000b0815be8",
       "rows": [
        [
         "65",
         "1",
         "Casado(a)"
        ],
        [
         "66",
         "2",
         "Divorciado(a) ou desquitado(a) ou separado(a) judicialmente"
        ],
        [
         "67",
         "3",
         "Viúvo(a)"
        ],
        [
         "68",
         "4",
         "Solteiro(a)"
        ],
        [
         "69",
         "9",
         "Ignorado"
        ]
       ],
       "shape": {
        "columns": 2,
        "rows": 5
       }
      },
      "text/html": [
       "<div>\n",
       "<style scoped>\n",
       "    .dataframe tbody tr th:only-of-type {\n",
       "        vertical-align: middle;\n",
       "    }\n",
       "\n",
       "    .dataframe tbody tr th {\n",
       "        vertical-align: top;\n",
       "    }\n",
       "\n",
       "    .dataframe thead th {\n",
       "        text-align: right;\n",
       "    }\n",
       "</style>\n",
       "<table border=\"1\" class=\"dataframe\">\n",
       "  <thead>\n",
       "    <tr style=\"text-align: right;\">\n",
       "      <th></th>\n",
       "      <th>Tipo</th>\n",
       "      <th>Classe</th>\n",
       "    </tr>\n",
       "  </thead>\n",
       "  <tbody>\n",
       "    <tr>\n",
       "      <th>65</th>\n",
       "      <td>1</td>\n",
       "      <td>Casado(a)</td>\n",
       "    </tr>\n",
       "    <tr>\n",
       "      <th>66</th>\n",
       "      <td>2</td>\n",
       "      <td>Divorciado(a) ou desquitado(a) ou separado(a) ...</td>\n",
       "    </tr>\n",
       "    <tr>\n",
       "      <th>67</th>\n",
       "      <td>3</td>\n",
       "      <td>Viúvo(a)</td>\n",
       "    </tr>\n",
       "    <tr>\n",
       "      <th>68</th>\n",
       "      <td>4</td>\n",
       "      <td>Solteiro(a)</td>\n",
       "    </tr>\n",
       "    <tr>\n",
       "      <th>69</th>\n",
       "      <td>9</td>\n",
       "      <td>Ignorado</td>\n",
       "    </tr>\n",
       "  </tbody>\n",
       "</table>\n",
       "</div>"
      ],
      "text/plain": [
       "    Tipo                                             Classe\n",
       "65     1                                          Casado(a)\n",
       "66     2  Divorciado(a) ou desquitado(a) ou separado(a) ...\n",
       "67     3                                           Viúvo(a)\n",
       "68     4                                        Solteiro(a)\n",
       "69     9                                           Ignorado"
      ]
     },
     "metadata": {},
     "output_type": "display_data"
    },
    {
     "name": "stdout",
     "output_type": "stream",
     "text": [
      "    [AFTER]:\n",
      "Qual é o estado civil de ___?                              \n",
      "Solteiro(a)                                                    133751\n",
      "Casado(a)                                                       83314\n",
      "Divorciado(a) ou desquitado(a) ou separado(a) judicialmente     12820\n",
      "Name: count, dtype: int64\n",
      "\n",
      "    [COLUMN]: C012 ==================================================\n",
      "    [BEFORE]:\n",
      "Informante do Módulo C\n",
      "2.0                       153982\n",
      "1.0                       121524\n",
      "3.0                         3837\n",
      "Name: count, dtype: int64\n",
      "\n"
     ]
    },
    {
     "data": {
      "application/vnd.microsoft.datawrangler.viewer.v0+json": {
       "columns": [
        {
         "name": "index",
         "rawType": "int64",
         "type": "integer"
        },
        {
         "name": "Tipo",
         "rawType": "int64",
         "type": "integer"
        },
        {
         "name": "Classe",
         "rawType": "object",
         "type": "string"
        }
       ],
       "conversionMethod": "pd.DataFrame",
       "ref": "62e978a0-9272-47a2-93ed-bb5c2b91ea49",
       "rows": [
        [
         "71",
         "1",
         "A própria pessoa"
        ],
        [
         "72",
         "2",
         "Outro morador"
        ],
        [
         "73",
         "3",
         "Pessoa não moradora"
        ],
        [
         "74",
         "9",
         "Ignorado"
        ]
       ],
       "shape": {
        "columns": 2,
        "rows": 4
       }
      },
      "text/html": [
       "<div>\n",
       "<style scoped>\n",
       "    .dataframe tbody tr th:only-of-type {\n",
       "        vertical-align: middle;\n",
       "    }\n",
       "\n",
       "    .dataframe tbody tr th {\n",
       "        vertical-align: top;\n",
       "    }\n",
       "\n",
       "    .dataframe thead th {\n",
       "        text-align: right;\n",
       "    }\n",
       "</style>\n",
       "<table border=\"1\" class=\"dataframe\">\n",
       "  <thead>\n",
       "    <tr style=\"text-align: right;\">\n",
       "      <th></th>\n",
       "      <th>Tipo</th>\n",
       "      <th>Classe</th>\n",
       "    </tr>\n",
       "  </thead>\n",
       "  <tbody>\n",
       "    <tr>\n",
       "      <th>71</th>\n",
       "      <td>1</td>\n",
       "      <td>A própria pessoa</td>\n",
       "    </tr>\n",
       "    <tr>\n",
       "      <th>72</th>\n",
       "      <td>2</td>\n",
       "      <td>Outro morador</td>\n",
       "    </tr>\n",
       "    <tr>\n",
       "      <th>73</th>\n",
       "      <td>3</td>\n",
       "      <td>Pessoa não moradora</td>\n",
       "    </tr>\n",
       "    <tr>\n",
       "      <th>74</th>\n",
       "      <td>9</td>\n",
       "      <td>Ignorado</td>\n",
       "    </tr>\n",
       "  </tbody>\n",
       "</table>\n",
       "</div>"
      ],
      "text/plain": [
       "    Tipo               Classe\n",
       "71     1     A própria pessoa\n",
       "72     2        Outro morador\n",
       "73     3  Pessoa não moradora\n",
       "74     9             Ignorado"
      ]
     },
     "metadata": {},
     "output_type": "display_data"
    },
    {
     "name": "stdout",
     "output_type": "stream",
     "text": [
      "    [AFTER]:\n",
      "Informante do Módulo C\n",
      "Outro morador             153982\n",
      "A própria pessoa          121524\n",
      "Pessoa não moradora         3837\n",
      "Name: count, dtype: int64\n",
      "\n",
      "    [COLUMN]: D00901 ==================================================\n",
      "    [BEFORE]:\n",
      "Qual foi o curso mais elevado que ___frequentou\n",
      "10.0                                               63175\n",
      "7.0                                                46411\n",
      "12.0                                               24223\n",
      "Name: count, dtype: int64\n",
      "\n"
     ]
    },
    {
     "data": {
      "application/vnd.microsoft.datawrangler.viewer.v0+json": {
       "columns": [
        {
         "name": "index",
         "rawType": "int64",
         "type": "integer"
        },
        {
         "name": "Tipo",
         "rawType": "int64",
         "type": "integer"
        },
        {
         "name": "Classe",
         "rawType": "object",
         "type": "string"
        }
       ],
       "conversionMethod": "pd.DataFrame",
       "ref": "579e8d8c-674a-40ff-8841-cb0323b83579",
       "rows": [
        [
         "76",
         "1",
         "Creche"
        ],
        [
         "77",
         "2",
         "Pré-escola "
        ],
        [
         "78",
         "3",
         "Classe de alfabetização – CA "
        ],
        [
         "79",
         "4",
         "Alfabetização de jovens e adultos"
        ],
        [
         "80",
         "5",
         "Antigo primário (elementar)"
        ],
        [
         "81",
         "6",
         "Antigo ginasial (médio 1º ciclo)"
        ],
        [
         "82",
         "7",
         "Regular do ensino fundamental ou do 1º grau "
        ],
        [
         "83",
         "8",
         "Educação de jovens e adultos (EJA) ou supletivo do ensino fundamental"
        ],
        [
         "84",
         "9",
         "Antigo científico, clássico etc. (médio 2º ciclo)"
        ],
        [
         "85",
         "10",
         "Regular do ensino médio ou do 2º grau"
        ],
        [
         "86",
         "11",
         "Educação de jovens e adultos (EJA) ou supletivo do ensino médio"
        ],
        [
         "87",
         "12",
         "Superior – graduação"
        ],
        [
         "88",
         "13",
         "Especialização de nível superior (duração mínima de 360 horas)"
        ],
        [
         "89",
         "14",
         "Mestrado"
        ],
        [
         "90",
         "15",
         "Doutorado"
        ],
        [
         "91",
         "99",
         "Ignorado"
        ]
       ],
       "shape": {
        "columns": 2,
        "rows": 16
       }
      },
      "text/html": [
       "<div>\n",
       "<style scoped>\n",
       "    .dataframe tbody tr th:only-of-type {\n",
       "        vertical-align: middle;\n",
       "    }\n",
       "\n",
       "    .dataframe tbody tr th {\n",
       "        vertical-align: top;\n",
       "    }\n",
       "\n",
       "    .dataframe thead th {\n",
       "        text-align: right;\n",
       "    }\n",
       "</style>\n",
       "<table border=\"1\" class=\"dataframe\">\n",
       "  <thead>\n",
       "    <tr style=\"text-align: right;\">\n",
       "      <th></th>\n",
       "      <th>Tipo</th>\n",
       "      <th>Classe</th>\n",
       "    </tr>\n",
       "  </thead>\n",
       "  <tbody>\n",
       "    <tr>\n",
       "      <th>76</th>\n",
       "      <td>1</td>\n",
       "      <td>Creche</td>\n",
       "    </tr>\n",
       "    <tr>\n",
       "      <th>77</th>\n",
       "      <td>2</td>\n",
       "      <td>Pré-escola</td>\n",
       "    </tr>\n",
       "    <tr>\n",
       "      <th>78</th>\n",
       "      <td>3</td>\n",
       "      <td>Classe de alfabetização – CA</td>\n",
       "    </tr>\n",
       "    <tr>\n",
       "      <th>79</th>\n",
       "      <td>4</td>\n",
       "      <td>Alfabetização de jovens e adultos</td>\n",
       "    </tr>\n",
       "    <tr>\n",
       "      <th>80</th>\n",
       "      <td>5</td>\n",
       "      <td>Antigo primário (elementar)</td>\n",
       "    </tr>\n",
       "    <tr>\n",
       "      <th>81</th>\n",
       "      <td>6</td>\n",
       "      <td>Antigo ginasial (médio 1º ciclo)</td>\n",
       "    </tr>\n",
       "    <tr>\n",
       "      <th>82</th>\n",
       "      <td>7</td>\n",
       "      <td>Regular do ensino fundamental ou do 1º grau</td>\n",
       "    </tr>\n",
       "    <tr>\n",
       "      <th>83</th>\n",
       "      <td>8</td>\n",
       "      <td>Educação de jovens e adultos (EJA) ou supletiv...</td>\n",
       "    </tr>\n",
       "    <tr>\n",
       "      <th>84</th>\n",
       "      <td>9</td>\n",
       "      <td>Antigo científico, clássico etc. (médio 2º ciclo)</td>\n",
       "    </tr>\n",
       "    <tr>\n",
       "      <th>85</th>\n",
       "      <td>10</td>\n",
       "      <td>Regular do ensino médio ou do 2º grau</td>\n",
       "    </tr>\n",
       "    <tr>\n",
       "      <th>86</th>\n",
       "      <td>11</td>\n",
       "      <td>Educação de jovens e adultos (EJA) ou supletiv...</td>\n",
       "    </tr>\n",
       "    <tr>\n",
       "      <th>87</th>\n",
       "      <td>12</td>\n",
       "      <td>Superior – graduação</td>\n",
       "    </tr>\n",
       "    <tr>\n",
       "      <th>88</th>\n",
       "      <td>13</td>\n",
       "      <td>Especialização de nível superior (duração míni...</td>\n",
       "    </tr>\n",
       "    <tr>\n",
       "      <th>89</th>\n",
       "      <td>14</td>\n",
       "      <td>Mestrado</td>\n",
       "    </tr>\n",
       "    <tr>\n",
       "      <th>90</th>\n",
       "      <td>15</td>\n",
       "      <td>Doutorado</td>\n",
       "    </tr>\n",
       "    <tr>\n",
       "      <th>91</th>\n",
       "      <td>99</td>\n",
       "      <td>Ignorado</td>\n",
       "    </tr>\n",
       "  </tbody>\n",
       "</table>\n",
       "</div>"
      ],
      "text/plain": [
       "    Tipo                                             Classe\n",
       "76     1                                             Creche\n",
       "77     2                                        Pré-escola \n",
       "78     3                      Classe de alfabetização – CA \n",
       "79     4                  Alfabetização de jovens e adultos\n",
       "80     5                        Antigo primário (elementar)\n",
       "81     6                   Antigo ginasial (médio 1º ciclo)\n",
       "82     7       Regular do ensino fundamental ou do 1º grau \n",
       "83     8  Educação de jovens e adultos (EJA) ou supletiv...\n",
       "84     9  Antigo científico, clássico etc. (médio 2º ciclo)\n",
       "85    10              Regular do ensino médio ou do 2º grau\n",
       "86    11  Educação de jovens e adultos (EJA) ou supletiv...\n",
       "87    12                               Superior – graduação\n",
       "88    13  Especialização de nível superior (duração míni...\n",
       "89    14                                           Mestrado\n",
       "90    15                                          Doutorado\n",
       "91    99                                           Ignorado"
      ]
     },
     "metadata": {},
     "output_type": "display_data"
    },
    {
     "name": "stdout",
     "output_type": "stream",
     "text": [
      "    [AFTER]:\n",
      "Qual foi o curso mais elevado que ___frequentou\n",
      "Regular do ensino médio ou do 2º grau              63175\n",
      "Regular do ensino fundamental ou do 1º grau        46411\n",
      "Superior – graduação                               24223\n",
      "Name: count, dtype: int64\n",
      "\n",
      "    [COLUMN]: D015 ==================================================\n",
      "    [BEFORE]:\n",
      "Informante do Módulo D\n",
      "2.0                       152944\n",
      "1.0                       122577\n",
      "3.0                         3763\n",
      "Name: count, dtype: int64\n",
      "\n"
     ]
    },
    {
     "data": {
      "application/vnd.microsoft.datawrangler.viewer.v0+json": {
       "columns": [
        {
         "name": "index",
         "rawType": "int64",
         "type": "integer"
        },
        {
         "name": "Tipo",
         "rawType": "int64",
         "type": "integer"
        },
        {
         "name": "Classe",
         "rawType": "object",
         "type": "string"
        }
       ],
       "conversionMethod": "pd.DataFrame",
       "ref": "85bd2786-ec96-494e-9bf8-8ec4b67e9217",
       "rows": [
        [
         "93",
         "1",
         "A própria pessoa"
        ],
        [
         "94",
         "2",
         "Outro morador   "
        ],
        [
         "95",
         "3",
         "Não morador"
        ],
        [
         "96",
         "9",
         "Ignorado"
        ]
       ],
       "shape": {
        "columns": 2,
        "rows": 4
       }
      },
      "text/html": [
       "<div>\n",
       "<style scoped>\n",
       "    .dataframe tbody tr th:only-of-type {\n",
       "        vertical-align: middle;\n",
       "    }\n",
       "\n",
       "    .dataframe tbody tr th {\n",
       "        vertical-align: top;\n",
       "    }\n",
       "\n",
       "    .dataframe thead th {\n",
       "        text-align: right;\n",
       "    }\n",
       "</style>\n",
       "<table border=\"1\" class=\"dataframe\">\n",
       "  <thead>\n",
       "    <tr style=\"text-align: right;\">\n",
       "      <th></th>\n",
       "      <th>Tipo</th>\n",
       "      <th>Classe</th>\n",
       "    </tr>\n",
       "  </thead>\n",
       "  <tbody>\n",
       "    <tr>\n",
       "      <th>93</th>\n",
       "      <td>1</td>\n",
       "      <td>A própria pessoa</td>\n",
       "    </tr>\n",
       "    <tr>\n",
       "      <th>94</th>\n",
       "      <td>2</td>\n",
       "      <td>Outro morador</td>\n",
       "    </tr>\n",
       "    <tr>\n",
       "      <th>95</th>\n",
       "      <td>3</td>\n",
       "      <td>Não morador</td>\n",
       "    </tr>\n",
       "    <tr>\n",
       "      <th>96</th>\n",
       "      <td>9</td>\n",
       "      <td>Ignorado</td>\n",
       "    </tr>\n",
       "  </tbody>\n",
       "</table>\n",
       "</div>"
      ],
      "text/plain": [
       "    Tipo            Classe\n",
       "93     1  A própria pessoa\n",
       "94     2  Outro morador   \n",
       "95     3       Não morador\n",
       "96     9          Ignorado"
      ]
     },
     "metadata": {},
     "output_type": "display_data"
    },
    {
     "name": "stdout",
     "output_type": "stream",
     "text": [
      "    [AFTER]:\n",
      "Informante do Módulo D\n",
      "Outro morador             152944\n",
      "A própria pessoa          122577\n",
      "Não morador                 3763\n",
      "Name: count, dtype: int64\n",
      "\n",
      "    [COLUMN]: I00102 ==================================================\n",
      "    [BEFORE]:\n",
      "tem algum plano de saúde médico particular, de empresa ou órgão público?\n",
      "2.0                                                                         220785\n",
      "1.0                                                                          58597\n",
      "Name: count, dtype: int64\n",
      "\n"
     ]
    },
    {
     "data": {
      "application/vnd.microsoft.datawrangler.viewer.v0+json": {
       "columns": [
        {
         "name": "index",
         "rawType": "int64",
         "type": "integer"
        },
        {
         "name": "Tipo",
         "rawType": "int64",
         "type": "integer"
        },
        {
         "name": "Classe",
         "rawType": "object",
         "type": "string"
        }
       ],
       "conversionMethod": "pd.DataFrame",
       "ref": "893154ba-8369-4d71-bdc5-4630b26c69a7",
       "rows": [
        [
         "98",
         "1",
         "Sim"
        ],
        [
         "99",
         "2",
         "Não"
        ],
        [
         "100",
         "9",
         "Ignorado"
        ]
       ],
       "shape": {
        "columns": 2,
        "rows": 3
       }
      },
      "text/html": [
       "<div>\n",
       "<style scoped>\n",
       "    .dataframe tbody tr th:only-of-type {\n",
       "        vertical-align: middle;\n",
       "    }\n",
       "\n",
       "    .dataframe tbody tr th {\n",
       "        vertical-align: top;\n",
       "    }\n",
       "\n",
       "    .dataframe thead th {\n",
       "        text-align: right;\n",
       "    }\n",
       "</style>\n",
       "<table border=\"1\" class=\"dataframe\">\n",
       "  <thead>\n",
       "    <tr style=\"text-align: right;\">\n",
       "      <th></th>\n",
       "      <th>Tipo</th>\n",
       "      <th>Classe</th>\n",
       "    </tr>\n",
       "  </thead>\n",
       "  <tbody>\n",
       "    <tr>\n",
       "      <th>98</th>\n",
       "      <td>1</td>\n",
       "      <td>Sim</td>\n",
       "    </tr>\n",
       "    <tr>\n",
       "      <th>99</th>\n",
       "      <td>2</td>\n",
       "      <td>Não</td>\n",
       "    </tr>\n",
       "    <tr>\n",
       "      <th>100</th>\n",
       "      <td>9</td>\n",
       "      <td>Ignorado</td>\n",
       "    </tr>\n",
       "  </tbody>\n",
       "</table>\n",
       "</div>"
      ],
      "text/plain": [
       "     Tipo    Classe\n",
       "98      1       Sim\n",
       "99      2       Não\n",
       "100     9  Ignorado"
      ]
     },
     "metadata": {},
     "output_type": "display_data"
    },
    {
     "name": "stdout",
     "output_type": "stream",
     "text": [
      "    [AFTER]:\n",
      "tem algum plano de saúde médico particular, de empresa ou órgão público?\n",
      "Não                                                                         220785\n",
      "Sim                                                                          58597\n",
      "Name: count, dtype: int64\n",
      "\n",
      "    [COLUMN]: I005 ==================================================\n",
      "    [BEFORE]:\n",
      "Há quanto tempo sem interrupção _____ possui esse plano de saúde (único ou principal)?\n",
      "4.0                                                                                       45953\n",
      "3.0                                                                                        4894\n",
      "1.0                                                                                        3962\n",
      "Name: count, dtype: int64\n",
      "\n"
     ]
    },
    {
     "data": {
      "application/vnd.microsoft.datawrangler.viewer.v0+json": {
       "columns": [
        {
         "name": "index",
         "rawType": "int64",
         "type": "integer"
        },
        {
         "name": "Tipo",
         "rawType": "int64",
         "type": "integer"
        },
        {
         "name": "Classe",
         "rawType": "object",
         "type": "string"
        }
       ],
       "conversionMethod": "pd.DataFrame",
       "ref": "7eb4dc5b-eaad-4489-8e17-3a3d42a4eddc",
       "rows": [
        [
         "102",
         "1",
         "Até 6 meses"
        ],
        [
         "103",
         "2",
         "Mais de 6 meses até 1 ano"
        ],
        [
         "104",
         "3",
         "Mais de 1 ano até 2 anos"
        ],
        [
         "105",
         "4",
         "Mais de 2 anos"
        ],
        [
         "106",
         "9",
         "Ignorado"
        ]
       ],
       "shape": {
        "columns": 2,
        "rows": 5
       }
      },
      "text/html": [
       "<div>\n",
       "<style scoped>\n",
       "    .dataframe tbody tr th:only-of-type {\n",
       "        vertical-align: middle;\n",
       "    }\n",
       "\n",
       "    .dataframe tbody tr th {\n",
       "        vertical-align: top;\n",
       "    }\n",
       "\n",
       "    .dataframe thead th {\n",
       "        text-align: right;\n",
       "    }\n",
       "</style>\n",
       "<table border=\"1\" class=\"dataframe\">\n",
       "  <thead>\n",
       "    <tr style=\"text-align: right;\">\n",
       "      <th></th>\n",
       "      <th>Tipo</th>\n",
       "      <th>Classe</th>\n",
       "    </tr>\n",
       "  </thead>\n",
       "  <tbody>\n",
       "    <tr>\n",
       "      <th>102</th>\n",
       "      <td>1</td>\n",
       "      <td>Até 6 meses</td>\n",
       "    </tr>\n",
       "    <tr>\n",
       "      <th>103</th>\n",
       "      <td>2</td>\n",
       "      <td>Mais de 6 meses até 1 ano</td>\n",
       "    </tr>\n",
       "    <tr>\n",
       "      <th>104</th>\n",
       "      <td>3</td>\n",
       "      <td>Mais de 1 ano até 2 anos</td>\n",
       "    </tr>\n",
       "    <tr>\n",
       "      <th>105</th>\n",
       "      <td>4</td>\n",
       "      <td>Mais de 2 anos</td>\n",
       "    </tr>\n",
       "    <tr>\n",
       "      <th>106</th>\n",
       "      <td>9</td>\n",
       "      <td>Ignorado</td>\n",
       "    </tr>\n",
       "  </tbody>\n",
       "</table>\n",
       "</div>"
      ],
      "text/plain": [
       "     Tipo                     Classe\n",
       "102     1                Até 6 meses\n",
       "103     2  Mais de 6 meses até 1 ano\n",
       "104     3   Mais de 1 ano até 2 anos\n",
       "105     4             Mais de 2 anos\n",
       "106     9                   Ignorado"
      ]
     },
     "metadata": {},
     "output_type": "display_data"
    },
    {
     "name": "stdout",
     "output_type": "stream",
     "text": [
      "    [AFTER]:\n",
      "Há quanto tempo sem interrupção _____ possui esse plano de saúde (único ou principal)?\n",
      "Mais de 2 anos                                                                            45953\n",
      "Mais de 1 ano até 2 anos                                                                   4894\n",
      "Até 6 meses                                                                                3962\n",
      "Name: count, dtype: int64\n",
      "\n",
      "    [COLUMN]: I00401 ==================================================\n",
      "    [BEFORE]:\n",
      "O plano de saúde (único ou principal) de assistência médica que ___ possui dá direito a consultas\n",
      "1.0                                                                                                  31331\n",
      "2.0                                                                                                    296\n",
      "Name: count, dtype: int64\n",
      "\n"
     ]
    },
    {
     "data": {
      "application/vnd.microsoft.datawrangler.viewer.v0+json": {
       "columns": [
        {
         "name": "index",
         "rawType": "int64",
         "type": "integer"
        },
        {
         "name": "Tipo",
         "rawType": "int64",
         "type": "integer"
        },
        {
         "name": "Classe",
         "rawType": "object",
         "type": "string"
        }
       ],
       "conversionMethod": "pd.DataFrame",
       "ref": "a07aad64-9891-4346-8cea-231d23e9e81a",
       "rows": [
        [
         "108",
         "1",
         "Sim"
        ],
        [
         "109",
         "2",
         "Não"
        ],
        [
         "110",
         "9",
         "Ignorado"
        ]
       ],
       "shape": {
        "columns": 2,
        "rows": 3
       }
      },
      "text/html": [
       "<div>\n",
       "<style scoped>\n",
       "    .dataframe tbody tr th:only-of-type {\n",
       "        vertical-align: middle;\n",
       "    }\n",
       "\n",
       "    .dataframe tbody tr th {\n",
       "        vertical-align: top;\n",
       "    }\n",
       "\n",
       "    .dataframe thead th {\n",
       "        text-align: right;\n",
       "    }\n",
       "</style>\n",
       "<table border=\"1\" class=\"dataframe\">\n",
       "  <thead>\n",
       "    <tr style=\"text-align: right;\">\n",
       "      <th></th>\n",
       "      <th>Tipo</th>\n",
       "      <th>Classe</th>\n",
       "    </tr>\n",
       "  </thead>\n",
       "  <tbody>\n",
       "    <tr>\n",
       "      <th>108</th>\n",
       "      <td>1</td>\n",
       "      <td>Sim</td>\n",
       "    </tr>\n",
       "    <tr>\n",
       "      <th>109</th>\n",
       "      <td>2</td>\n",
       "      <td>Não</td>\n",
       "    </tr>\n",
       "    <tr>\n",
       "      <th>110</th>\n",
       "      <td>9</td>\n",
       "      <td>Ignorado</td>\n",
       "    </tr>\n",
       "  </tbody>\n",
       "</table>\n",
       "</div>"
      ],
      "text/plain": [
       "     Tipo    Classe\n",
       "108     1       Sim\n",
       "109     2       Não\n",
       "110     9  Ignorado"
      ]
     },
     "metadata": {},
     "output_type": "display_data"
    },
    {
     "name": "stdout",
     "output_type": "stream",
     "text": [
      "    [AFTER]:\n",
      "O plano de saúde (único ou principal) de assistência médica que ___ possui dá direito a consultas\n",
      "Sim                                                                                                  31331\n",
      "Não                                                                                                    296\n",
      "Name: count, dtype: int64\n",
      "\n",
      "    [COLUMN]: I00403 ==================================================\n",
      "    [BEFORE]:\n",
      "O plano de saúde (único ou principal) de assistência médica que ___ possui dá direito a internações\n",
      "1.0                                                                                                    29066\n",
      "2.0                                                                                                     2561\n",
      "Name: count, dtype: int64\n",
      "\n"
     ]
    },
    {
     "data": {
      "application/vnd.microsoft.datawrangler.viewer.v0+json": {
       "columns": [
        {
         "name": "index",
         "rawType": "int64",
         "type": "integer"
        },
        {
         "name": "Tipo",
         "rawType": "int64",
         "type": "integer"
        },
        {
         "name": "Classe",
         "rawType": "object",
         "type": "string"
        }
       ],
       "conversionMethod": "pd.DataFrame",
       "ref": "60c76a35-2f25-4859-982d-863ec9282d61",
       "rows": [
        [
         "112",
         "1",
         "Sim"
        ],
        [
         "113",
         "2",
         "Não"
        ],
        [
         "114",
         "9",
         "Ignorado"
        ]
       ],
       "shape": {
        "columns": 2,
        "rows": 3
       }
      },
      "text/html": [
       "<div>\n",
       "<style scoped>\n",
       "    .dataframe tbody tr th:only-of-type {\n",
       "        vertical-align: middle;\n",
       "    }\n",
       "\n",
       "    .dataframe tbody tr th {\n",
       "        vertical-align: top;\n",
       "    }\n",
       "\n",
       "    .dataframe thead th {\n",
       "        text-align: right;\n",
       "    }\n",
       "</style>\n",
       "<table border=\"1\" class=\"dataframe\">\n",
       "  <thead>\n",
       "    <tr style=\"text-align: right;\">\n",
       "      <th></th>\n",
       "      <th>Tipo</th>\n",
       "      <th>Classe</th>\n",
       "    </tr>\n",
       "  </thead>\n",
       "  <tbody>\n",
       "    <tr>\n",
       "      <th>112</th>\n",
       "      <td>1</td>\n",
       "      <td>Sim</td>\n",
       "    </tr>\n",
       "    <tr>\n",
       "      <th>113</th>\n",
       "      <td>2</td>\n",
       "      <td>Não</td>\n",
       "    </tr>\n",
       "    <tr>\n",
       "      <th>114</th>\n",
       "      <td>9</td>\n",
       "      <td>Ignorado</td>\n",
       "    </tr>\n",
       "  </tbody>\n",
       "</table>\n",
       "</div>"
      ],
      "text/plain": [
       "     Tipo    Classe\n",
       "112     1       Sim\n",
       "113     2       Não\n",
       "114     9  Ignorado"
      ]
     },
     "metadata": {},
     "output_type": "display_data"
    },
    {
     "name": "stdout",
     "output_type": "stream",
     "text": [
      "    [AFTER]:\n",
      "O plano de saúde (único ou principal) de assistência médica que ___ possui dá direito a internações\n",
      "Sim                                                                                                    29066\n",
      "Não                                                                                                     2561\n",
      "Name: count, dtype: int64\n",
      "\n",
      "    [COLUMN]: I00404 ==================================================\n",
      "    [BEFORE]:\n",
      "O plano de saúde (único ou principal) de assistência médica que ___ possui dá direito a partos\n",
      "1.0                                                                                               24322\n",
      "2.0                                                                                                7305\n",
      "Name: count, dtype: int64\n",
      "\n"
     ]
    },
    {
     "data": {
      "application/vnd.microsoft.datawrangler.viewer.v0+json": {
       "columns": [
        {
         "name": "index",
         "rawType": "int64",
         "type": "integer"
        },
        {
         "name": "Tipo",
         "rawType": "int64",
         "type": "integer"
        },
        {
         "name": "Classe",
         "rawType": "object",
         "type": "string"
        }
       ],
       "conversionMethod": "pd.DataFrame",
       "ref": "171d8f00-f1b8-4b3f-ad33-3bf17cf0a912",
       "rows": [
        [
         "116",
         "1",
         "Sim"
        ],
        [
         "117",
         "2",
         "Não"
        ],
        [
         "118",
         "9",
         "Ignorado"
        ]
       ],
       "shape": {
        "columns": 2,
        "rows": 3
       }
      },
      "text/html": [
       "<div>\n",
       "<style scoped>\n",
       "    .dataframe tbody tr th:only-of-type {\n",
       "        vertical-align: middle;\n",
       "    }\n",
       "\n",
       "    .dataframe tbody tr th {\n",
       "        vertical-align: top;\n",
       "    }\n",
       "\n",
       "    .dataframe thead th {\n",
       "        text-align: right;\n",
       "    }\n",
       "</style>\n",
       "<table border=\"1\" class=\"dataframe\">\n",
       "  <thead>\n",
       "    <tr style=\"text-align: right;\">\n",
       "      <th></th>\n",
       "      <th>Tipo</th>\n",
       "      <th>Classe</th>\n",
       "    </tr>\n",
       "  </thead>\n",
       "  <tbody>\n",
       "    <tr>\n",
       "      <th>116</th>\n",
       "      <td>1</td>\n",
       "      <td>Sim</td>\n",
       "    </tr>\n",
       "    <tr>\n",
       "      <th>117</th>\n",
       "      <td>2</td>\n",
       "      <td>Não</td>\n",
       "    </tr>\n",
       "    <tr>\n",
       "      <th>118</th>\n",
       "      <td>9</td>\n",
       "      <td>Ignorado</td>\n",
       "    </tr>\n",
       "  </tbody>\n",
       "</table>\n",
       "</div>"
      ],
      "text/plain": [
       "     Tipo    Classe\n",
       "116     1       Sim\n",
       "117     2       Não\n",
       "118     9  Ignorado"
      ]
     },
     "metadata": {},
     "output_type": "display_data"
    },
    {
     "name": "stdout",
     "output_type": "stream",
     "text": [
      "    [AFTER]:\n",
      "O plano de saúde (único ou principal) de assistência médica que ___ possui dá direito a partos\n",
      "Sim                                                                                               24322\n",
      "Não                                                                                                7305\n",
      "Name: count, dtype: int64\n",
      "\n",
      "    [COLUMN]: I012 ==================================================\n",
      "    [BEFORE]:\n",
      "Informante do Módulo I\n",
      "2.0                       153892\n",
      "1.0                       121084\n",
      "3.0                         3756\n",
      "Name: count, dtype: int64\n",
      "\n"
     ]
    },
    {
     "data": {
      "application/vnd.microsoft.datawrangler.viewer.v0+json": {
       "columns": [
        {
         "name": "index",
         "rawType": "int64",
         "type": "integer"
        },
        {
         "name": "Tipo",
         "rawType": "int64",
         "type": "integer"
        },
        {
         "name": "Classe",
         "rawType": "object",
         "type": "string"
        }
       ],
       "conversionMethod": "pd.DataFrame",
       "ref": "de66ada5-fb64-45cf-8135-3b0feeda5eaa",
       "rows": [
        [
         "120",
         "1",
         "A própria pessoa"
        ],
        [
         "121",
         "2",
         "Outro morador      "
        ],
        [
         "122",
         "3",
         "Não morador"
        ],
        [
         "123",
         "9",
         "Ignorado"
        ]
       ],
       "shape": {
        "columns": 2,
        "rows": 4
       }
      },
      "text/html": [
       "<div>\n",
       "<style scoped>\n",
       "    .dataframe tbody tr th:only-of-type {\n",
       "        vertical-align: middle;\n",
       "    }\n",
       "\n",
       "    .dataframe tbody tr th {\n",
       "        vertical-align: top;\n",
       "    }\n",
       "\n",
       "    .dataframe thead th {\n",
       "        text-align: right;\n",
       "    }\n",
       "</style>\n",
       "<table border=\"1\" class=\"dataframe\">\n",
       "  <thead>\n",
       "    <tr style=\"text-align: right;\">\n",
       "      <th></th>\n",
       "      <th>Tipo</th>\n",
       "      <th>Classe</th>\n",
       "    </tr>\n",
       "  </thead>\n",
       "  <tbody>\n",
       "    <tr>\n",
       "      <th>120</th>\n",
       "      <td>1</td>\n",
       "      <td>A própria pessoa</td>\n",
       "    </tr>\n",
       "    <tr>\n",
       "      <th>121</th>\n",
       "      <td>2</td>\n",
       "      <td>Outro morador</td>\n",
       "    </tr>\n",
       "    <tr>\n",
       "      <th>122</th>\n",
       "      <td>3</td>\n",
       "      <td>Não morador</td>\n",
       "    </tr>\n",
       "    <tr>\n",
       "      <th>123</th>\n",
       "      <td>9</td>\n",
       "      <td>Ignorado</td>\n",
       "    </tr>\n",
       "  </tbody>\n",
       "</table>\n",
       "</div>"
      ],
      "text/plain": [
       "     Tipo               Classe\n",
       "120     1     A própria pessoa\n",
       "121     2  Outro morador      \n",
       "122     3          Não morador\n",
       "123     9             Ignorado"
      ]
     },
     "metadata": {},
     "output_type": "display_data"
    },
    {
     "name": "stdout",
     "output_type": "stream",
     "text": [
      "    [AFTER]:\n",
      "Informante do Módulo I\n",
      "Outro morador             153892\n",
      "A própria pessoa          121084\n",
      "Não morador                 3756\n",
      "Name: count, dtype: int64\n",
      "\n",
      "    [COLUMN]: M00302 ==================================================\n",
      "    [BEFORE]:\n",
      "O informante desta parte é:\n",
      "1.0                            1107\n",
      "2.0                             570\n",
      "Name: count, dtype: int64\n",
      "\n"
     ]
    },
    {
     "data": {
      "application/vnd.microsoft.datawrangler.viewer.v0+json": {
       "columns": [
        {
         "name": "index",
         "rawType": "int64",
         "type": "integer"
        },
        {
         "name": "Tipo",
         "rawType": "int64",
         "type": "integer"
        },
        {
         "name": "Classe",
         "rawType": "object",
         "type": "string"
        }
       ],
       "conversionMethod": "pd.DataFrame",
       "ref": "e0222f8a-d628-40d0-b3d5-cd6a7f65aadd",
       "rows": [
        [
         "125",
         "1",
         "Pessoa  moradora "
        ],
        [
         "126",
         "2",
         "Não morador"
        ]
       ],
       "shape": {
        "columns": 2,
        "rows": 2
       }
      },
      "text/html": [
       "<div>\n",
       "<style scoped>\n",
       "    .dataframe tbody tr th:only-of-type {\n",
       "        vertical-align: middle;\n",
       "    }\n",
       "\n",
       "    .dataframe tbody tr th {\n",
       "        vertical-align: top;\n",
       "    }\n",
       "\n",
       "    .dataframe thead th {\n",
       "        text-align: right;\n",
       "    }\n",
       "</style>\n",
       "<table border=\"1\" class=\"dataframe\">\n",
       "  <thead>\n",
       "    <tr style=\"text-align: right;\">\n",
       "      <th></th>\n",
       "      <th>Tipo</th>\n",
       "      <th>Classe</th>\n",
       "    </tr>\n",
       "  </thead>\n",
       "  <tbody>\n",
       "    <tr>\n",
       "      <th>125</th>\n",
       "      <td>1</td>\n",
       "      <td>Pessoa  moradora</td>\n",
       "    </tr>\n",
       "    <tr>\n",
       "      <th>126</th>\n",
       "      <td>2</td>\n",
       "      <td>Não morador</td>\n",
       "    </tr>\n",
       "  </tbody>\n",
       "</table>\n",
       "</div>"
      ],
      "text/plain": [
       "     Tipo             Classe\n",
       "125     1  Pessoa  moradora \n",
       "126     2        Não morador"
      ]
     },
     "metadata": {},
     "output_type": "display_data"
    },
    {
     "name": "stdout",
     "output_type": "stream",
     "text": [
      "    [AFTER]:\n",
      "O informante desta parte é:\n",
      "Pessoa  moradora               1107\n",
      "Não morador                     570\n",
      "Name: count, dtype: int64\n",
      "\n",
      "    [COLUMN]: M005010 ==================================================\n",
      "    [BEFORE]:\n",
      "No(s) seu(s) trabalho(s), habitualmente, (s) o(a) Sr(a) trabalha(va) algum período de tempo entre as 8 horas da noite e às 5 horas da manhã\n",
      "2.0                                                                                                                                            46184\n",
      "1.0                                                                                                                                             6648\n",
      "Name: count, dtype: int64\n",
      "\n"
     ]
    },
    {
     "data": {
      "application/vnd.microsoft.datawrangler.viewer.v0+json": {
       "columns": [
        {
         "name": "index",
         "rawType": "int64",
         "type": "integer"
        },
        {
         "name": "Tipo",
         "rawType": "int64",
         "type": "integer"
        },
        {
         "name": "Classe",
         "rawType": "object",
         "type": "string"
        }
       ],
       "conversionMethod": "pd.DataFrame",
       "ref": "0ad16aef-4f80-494e-a786-7611ed311f01",
       "rows": [
        [
         "128",
         "1",
         "Sim"
        ],
        [
         "129",
         "2",
         "Não"
        ]
       ],
       "shape": {
        "columns": 2,
        "rows": 2
       }
      },
      "text/html": [
       "<div>\n",
       "<style scoped>\n",
       "    .dataframe tbody tr th:only-of-type {\n",
       "        vertical-align: middle;\n",
       "    }\n",
       "\n",
       "    .dataframe tbody tr th {\n",
       "        vertical-align: top;\n",
       "    }\n",
       "\n",
       "    .dataframe thead th {\n",
       "        text-align: right;\n",
       "    }\n",
       "</style>\n",
       "<table border=\"1\" class=\"dataframe\">\n",
       "  <thead>\n",
       "    <tr style=\"text-align: right;\">\n",
       "      <th></th>\n",
       "      <th>Tipo</th>\n",
       "      <th>Classe</th>\n",
       "    </tr>\n",
       "  </thead>\n",
       "  <tbody>\n",
       "    <tr>\n",
       "      <th>128</th>\n",
       "      <td>1</td>\n",
       "      <td>Sim</td>\n",
       "    </tr>\n",
       "    <tr>\n",
       "      <th>129</th>\n",
       "      <td>2</td>\n",
       "      <td>Não</td>\n",
       "    </tr>\n",
       "  </tbody>\n",
       "</table>\n",
       "</div>"
      ],
      "text/plain": [
       "     Tipo Classe\n",
       "128     1    Sim\n",
       "129     2    Não"
      ]
     },
     "metadata": {},
     "output_type": "display_data"
    },
    {
     "name": "stdout",
     "output_type": "stream",
     "text": [
      "    [AFTER]:\n",
      "No(s) seu(s) trabalho(s), habitualmente, (s) o(a) Sr(a) trabalha(va) algum período de tempo entre as 8 horas da noite e às 5 horas da manhã\n",
      "Não                                                                                                                                            46184\n",
      "Sim                                                                                                                                             6648\n",
      "Name: count, dtype: int64\n",
      "\n",
      "    [COLUMN]: M009 ==================================================\n",
      "    [BEFORE]:\n",
      "O(a) Sr(a) normalmente trabalha(va) em ambientes\n",
      "1.0                                                 26115\n",
      "2.0                                                 16132\n",
      "3.0                                                 10585\n",
      "Name: count, dtype: int64\n",
      "\n"
     ]
    },
    {
     "data": {
      "application/vnd.microsoft.datawrangler.viewer.v0+json": {
       "columns": [
        {
         "name": "index",
         "rawType": "int64",
         "type": "integer"
        },
        {
         "name": "Tipo",
         "rawType": "int64",
         "type": "integer"
        },
        {
         "name": "Classe",
         "rawType": "object",
         "type": "string"
        }
       ],
       "conversionMethod": "pd.DataFrame",
       "ref": "d782fa3d-47a6-4265-8994-308b2b9aa71c",
       "rows": [
        [
         "131",
         "1",
         "Fechados"
        ],
        [
         "132",
         "2",
         "Abertos"
        ],
        [
         "133",
         "3",
         "Ambos "
        ]
       ],
       "shape": {
        "columns": 2,
        "rows": 3
       }
      },
      "text/html": [
       "<div>\n",
       "<style scoped>\n",
       "    .dataframe tbody tr th:only-of-type {\n",
       "        vertical-align: middle;\n",
       "    }\n",
       "\n",
       "    .dataframe tbody tr th {\n",
       "        vertical-align: top;\n",
       "    }\n",
       "\n",
       "    .dataframe thead th {\n",
       "        text-align: right;\n",
       "    }\n",
       "</style>\n",
       "<table border=\"1\" class=\"dataframe\">\n",
       "  <thead>\n",
       "    <tr style=\"text-align: right;\">\n",
       "      <th></th>\n",
       "      <th>Tipo</th>\n",
       "      <th>Classe</th>\n",
       "    </tr>\n",
       "  </thead>\n",
       "  <tbody>\n",
       "    <tr>\n",
       "      <th>131</th>\n",
       "      <td>1</td>\n",
       "      <td>Fechados</td>\n",
       "    </tr>\n",
       "    <tr>\n",
       "      <th>132</th>\n",
       "      <td>2</td>\n",
       "      <td>Abertos</td>\n",
       "    </tr>\n",
       "    <tr>\n",
       "      <th>133</th>\n",
       "      <td>3</td>\n",
       "      <td>Ambos</td>\n",
       "    </tr>\n",
       "  </tbody>\n",
       "</table>\n",
       "</div>"
      ],
      "text/plain": [
       "     Tipo    Classe\n",
       "131     1  Fechados\n",
       "132     2   Abertos\n",
       "133     3    Ambos "
      ]
     },
     "metadata": {},
     "output_type": "display_data"
    },
    {
     "name": "stdout",
     "output_type": "stream",
     "text": [
      "    [AFTER]:\n",
      "O(a) Sr(a) normalmente trabalha(va) em ambientes\n",
      "Fechados                                            26115\n",
      "Abertos                                             16132\n",
      "Ambos                                               10585\n",
      "Name: count, dtype: int64\n",
      "\n",
      "    [COLUMN]: M01401 ==================================================\n",
      "    [BEFORE]:\n",
      "Com quantos familiares ou parentes ___ pode contar em momentos bons ou ruins\n",
      "3.0                                                                             61233\n",
      "2.0                                                                             15512\n",
      "1.0                                                                              9786\n",
      "Name: count, dtype: int64\n",
      "\n"
     ]
    },
    {
     "data": {
      "application/vnd.microsoft.datawrangler.viewer.v0+json": {
       "columns": [
        {
         "name": "index",
         "rawType": "int64",
         "type": "integer"
        },
        {
         "name": "Tipo",
         "rawType": "int64",
         "type": "integer"
        },
        {
         "name": "Classe",
         "rawType": "object",
         "type": "string"
        }
       ],
       "conversionMethod": "pd.DataFrame",
       "ref": "6c2b3015-0732-457e-8b84-1f0ebe4ab9e4",
       "rows": [
        [
         "135",
         "0",
         "Nenhum"
        ],
        [
         "136",
         "1",
         "Um"
        ],
        [
         "137",
         "2",
         "Dois"
        ],
        [
         "138",
         "3",
         "Três ou mais"
        ]
       ],
       "shape": {
        "columns": 2,
        "rows": 4
       }
      },
      "text/html": [
       "<div>\n",
       "<style scoped>\n",
       "    .dataframe tbody tr th:only-of-type {\n",
       "        vertical-align: middle;\n",
       "    }\n",
       "\n",
       "    .dataframe tbody tr th {\n",
       "        vertical-align: top;\n",
       "    }\n",
       "\n",
       "    .dataframe thead th {\n",
       "        text-align: right;\n",
       "    }\n",
       "</style>\n",
       "<table border=\"1\" class=\"dataframe\">\n",
       "  <thead>\n",
       "    <tr style=\"text-align: right;\">\n",
       "      <th></th>\n",
       "      <th>Tipo</th>\n",
       "      <th>Classe</th>\n",
       "    </tr>\n",
       "  </thead>\n",
       "  <tbody>\n",
       "    <tr>\n",
       "      <th>135</th>\n",
       "      <td>0</td>\n",
       "      <td>Nenhum</td>\n",
       "    </tr>\n",
       "    <tr>\n",
       "      <th>136</th>\n",
       "      <td>1</td>\n",
       "      <td>Um</td>\n",
       "    </tr>\n",
       "    <tr>\n",
       "      <th>137</th>\n",
       "      <td>2</td>\n",
       "      <td>Dois</td>\n",
       "    </tr>\n",
       "    <tr>\n",
       "      <th>138</th>\n",
       "      <td>3</td>\n",
       "      <td>Três ou mais</td>\n",
       "    </tr>\n",
       "  </tbody>\n",
       "</table>\n",
       "</div>"
      ],
      "text/plain": [
       "     Tipo        Classe\n",
       "135     0        Nenhum\n",
       "136     1            Um\n",
       "137     2          Dois\n",
       "138     3  Três ou mais"
      ]
     },
     "metadata": {},
     "output_type": "display_data"
    },
    {
     "name": "stdout",
     "output_type": "stream",
     "text": [
      "    [AFTER]:\n",
      "Com quantos familiares ou parentes ___ pode contar em momentos bons ou ruins\n",
      "Três ou mais                                                                    61233\n",
      "Dois                                                                            15512\n",
      "Um                                                                               9786\n",
      "Name: count, dtype: int64\n",
      "\n",
      "    [COLUMN]: M01501 ==================================================\n",
      "    [BEFORE]:\n",
      "Com quantos amigos próximos ___ pode contar em momentos bons ou ruins (Sem considerar os familiares ou parentes\n",
      "3.0                                                                                                                42156\n",
      "0.0                                                                                                                20321\n",
      "2.0                                                                                                                17003\n",
      "Name: count, dtype: int64\n",
      "\n"
     ]
    },
    {
     "data": {
      "application/vnd.microsoft.datawrangler.viewer.v0+json": {
       "columns": [
        {
         "name": "index",
         "rawType": "int64",
         "type": "integer"
        },
        {
         "name": "Tipo",
         "rawType": "int64",
         "type": "integer"
        },
        {
         "name": "Classe",
         "rawType": "object",
         "type": "string"
        }
       ],
       "conversionMethod": "pd.DataFrame",
       "ref": "254b38ec-4b61-4589-8a9c-9e606a8cc4ae",
       "rows": [
        [
         "140",
         "0",
         "Nenhum"
        ],
        [
         "141",
         "1",
         "Um"
        ],
        [
         "142",
         "2",
         "Dois"
        ],
        [
         "143",
         "3",
         "Três ou mais"
        ]
       ],
       "shape": {
        "columns": 2,
        "rows": 4
       }
      },
      "text/html": [
       "<div>\n",
       "<style scoped>\n",
       "    .dataframe tbody tr th:only-of-type {\n",
       "        vertical-align: middle;\n",
       "    }\n",
       "\n",
       "    .dataframe tbody tr th {\n",
       "        vertical-align: top;\n",
       "    }\n",
       "\n",
       "    .dataframe thead th {\n",
       "        text-align: right;\n",
       "    }\n",
       "</style>\n",
       "<table border=\"1\" class=\"dataframe\">\n",
       "  <thead>\n",
       "    <tr style=\"text-align: right;\">\n",
       "      <th></th>\n",
       "      <th>Tipo</th>\n",
       "      <th>Classe</th>\n",
       "    </tr>\n",
       "  </thead>\n",
       "  <tbody>\n",
       "    <tr>\n",
       "      <th>140</th>\n",
       "      <td>0</td>\n",
       "      <td>Nenhum</td>\n",
       "    </tr>\n",
       "    <tr>\n",
       "      <th>141</th>\n",
       "      <td>1</td>\n",
       "      <td>Um</td>\n",
       "    </tr>\n",
       "    <tr>\n",
       "      <th>142</th>\n",
       "      <td>2</td>\n",
       "      <td>Dois</td>\n",
       "    </tr>\n",
       "    <tr>\n",
       "      <th>143</th>\n",
       "      <td>3</td>\n",
       "      <td>Três ou mais</td>\n",
       "    </tr>\n",
       "  </tbody>\n",
       "</table>\n",
       "</div>"
      ],
      "text/plain": [
       "     Tipo        Classe\n",
       "140     0        Nenhum\n",
       "141     1            Um\n",
       "142     2          Dois\n",
       "143     3  Três ou mais"
      ]
     },
     "metadata": {},
     "output_type": "display_data"
    },
    {
     "name": "stdout",
     "output_type": "stream",
     "text": [
      "    [AFTER]:\n",
      "Com quantos amigos próximos ___ pode contar em momentos bons ou ruins (Sem considerar os familiares ou parentes\n",
      "Três ou mais                                                                                                       42156\n",
      "Nenhum                                                                                                             20321\n",
      "Dois                                                                                                               17003\n",
      "Name: count, dtype: int64\n",
      "\n",
      "    [COLUMN]: M01601 ==================================================\n",
      "    [BEFORE]:\n",
      "Nos últimos doze meses, com que frequência o(a) Sr(a) se reuniu com outras pessoas para prática de atividades esportivas, exercícios físicos, recreativos ou artísticos\n",
      "6.0                                                                                                                                                                        48465\n",
      "1.0                                                                                                                                                                        16621\n",
      "4.0                                                                                                                                                                        10132\n",
      "Name: count, dtype: int64\n",
      "\n"
     ]
    },
    {
     "data": {
      "application/vnd.microsoft.datawrangler.viewer.v0+json": {
       "columns": [
        {
         "name": "index",
         "rawType": "int64",
         "type": "integer"
        },
        {
         "name": "Tipo",
         "rawType": "int64",
         "type": "integer"
        },
        {
         "name": "Classe",
         "rawType": "object",
         "type": "string"
        }
       ],
       "conversionMethod": "pd.DataFrame",
       "ref": "10d8929b-5993-4df5-9f23-6348e0c82eae",
       "rows": [
        [
         "145",
         "1",
         "Mais de uma vez por semana"
        ],
        [
         "146",
         "2",
         "Uma vez por semana"
        ],
        [
         "147",
         "3",
         "De 2 a 3 vezes por mês"
        ],
        [
         "148",
         "4",
         "Algumas vezes no ano"
        ],
        [
         "149",
         "5",
         "Uma vez no ano"
        ],
        [
         "150",
         "6",
         "Nenhuma vez"
        ]
       ],
       "shape": {
        "columns": 2,
        "rows": 6
       }
      },
      "text/html": [
       "<div>\n",
       "<style scoped>\n",
       "    .dataframe tbody tr th:only-of-type {\n",
       "        vertical-align: middle;\n",
       "    }\n",
       "\n",
       "    .dataframe tbody tr th {\n",
       "        vertical-align: top;\n",
       "    }\n",
       "\n",
       "    .dataframe thead th {\n",
       "        text-align: right;\n",
       "    }\n",
       "</style>\n",
       "<table border=\"1\" class=\"dataframe\">\n",
       "  <thead>\n",
       "    <tr style=\"text-align: right;\">\n",
       "      <th></th>\n",
       "      <th>Tipo</th>\n",
       "      <th>Classe</th>\n",
       "    </tr>\n",
       "  </thead>\n",
       "  <tbody>\n",
       "    <tr>\n",
       "      <th>145</th>\n",
       "      <td>1</td>\n",
       "      <td>Mais de uma vez por semana</td>\n",
       "    </tr>\n",
       "    <tr>\n",
       "      <th>146</th>\n",
       "      <td>2</td>\n",
       "      <td>Uma vez por semana</td>\n",
       "    </tr>\n",
       "    <tr>\n",
       "      <th>147</th>\n",
       "      <td>3</td>\n",
       "      <td>De 2 a 3 vezes por mês</td>\n",
       "    </tr>\n",
       "    <tr>\n",
       "      <th>148</th>\n",
       "      <td>4</td>\n",
       "      <td>Algumas vezes no ano</td>\n",
       "    </tr>\n",
       "    <tr>\n",
       "      <th>149</th>\n",
       "      <td>5</td>\n",
       "      <td>Uma vez no ano</td>\n",
       "    </tr>\n",
       "    <tr>\n",
       "      <th>150</th>\n",
       "      <td>6</td>\n",
       "      <td>Nenhuma vez</td>\n",
       "    </tr>\n",
       "  </tbody>\n",
       "</table>\n",
       "</div>"
      ],
      "text/plain": [
       "     Tipo                      Classe\n",
       "145     1  Mais de uma vez por semana\n",
       "146     2          Uma vez por semana\n",
       "147     3      De 2 a 3 vezes por mês\n",
       "148     4        Algumas vezes no ano\n",
       "149     5              Uma vez no ano\n",
       "150     6                 Nenhuma vez"
      ]
     },
     "metadata": {},
     "output_type": "display_data"
    },
    {
     "name": "stdout",
     "output_type": "stream",
     "text": [
      "    [AFTER]:\n",
      "Nos últimos doze meses, com que frequência o(a) Sr(a) se reuniu com outras pessoas para prática de atividades esportivas, exercícios físicos, recreativos ou artísticos\n",
      "Nenhuma vez                                                                                                                                                                48465\n",
      "Mais de uma vez por semana                                                                                                                                                 16621\n",
      "Algumas vezes no ano                                                                                                                                                       10132\n",
      "Name: count, dtype: int64\n",
      "\n",
      "    [COLUMN]: M01901 ==================================================\n",
      "    [BEFORE]:\n",
      "Nos últimos doze meses, com que frequência o(a) Sr(a) compareceu a atividades coletivas da sua religião ou de outra religião sem contar com situações como casamento, batizado, ou enterro)\n",
      "6.0                                                                                                                                                                                            27637\n",
      "2.0                                                                                                                                                                                            18692\n",
      "4.0                                                                                                                                                                                            17978\n",
      "Name: count, dtype: int64\n",
      "\n"
     ]
    },
    {
     "data": {
      "application/vnd.microsoft.datawrangler.viewer.v0+json": {
       "columns": [
        {
         "name": "index",
         "rawType": "int64",
         "type": "integer"
        },
        {
         "name": "Tipo",
         "rawType": "int64",
         "type": "integer"
        },
        {
         "name": "Classe",
         "rawType": "object",
         "type": "string"
        }
       ],
       "conversionMethod": "pd.DataFrame",
       "ref": "d7ba8db9-170d-4df3-9469-f2bcf6417b19",
       "rows": [
        [
         "152",
         "1",
         "Mais de uma vez por semana"
        ],
        [
         "153",
         "2",
         "Uma vez por semana"
        ],
        [
         "154",
         "3",
         "De 2 a 3 vezes por mês"
        ],
        [
         "155",
         "4",
         "Algumas vezes no ano"
        ],
        [
         "156",
         "5",
         "Uma vez no ano"
        ],
        [
         "157",
         "6",
         "Nenhuma vez"
        ]
       ],
       "shape": {
        "columns": 2,
        "rows": 6
       }
      },
      "text/html": [
       "<div>\n",
       "<style scoped>\n",
       "    .dataframe tbody tr th:only-of-type {\n",
       "        vertical-align: middle;\n",
       "    }\n",
       "\n",
       "    .dataframe tbody tr th {\n",
       "        vertical-align: top;\n",
       "    }\n",
       "\n",
       "    .dataframe thead th {\n",
       "        text-align: right;\n",
       "    }\n",
       "</style>\n",
       "<table border=\"1\" class=\"dataframe\">\n",
       "  <thead>\n",
       "    <tr style=\"text-align: right;\">\n",
       "      <th></th>\n",
       "      <th>Tipo</th>\n",
       "      <th>Classe</th>\n",
       "    </tr>\n",
       "  </thead>\n",
       "  <tbody>\n",
       "    <tr>\n",
       "      <th>152</th>\n",
       "      <td>1</td>\n",
       "      <td>Mais de uma vez por semana</td>\n",
       "    </tr>\n",
       "    <tr>\n",
       "      <th>153</th>\n",
       "      <td>2</td>\n",
       "      <td>Uma vez por semana</td>\n",
       "    </tr>\n",
       "    <tr>\n",
       "      <th>154</th>\n",
       "      <td>3</td>\n",
       "      <td>De 2 a 3 vezes por mês</td>\n",
       "    </tr>\n",
       "    <tr>\n",
       "      <th>155</th>\n",
       "      <td>4</td>\n",
       "      <td>Algumas vezes no ano</td>\n",
       "    </tr>\n",
       "    <tr>\n",
       "      <th>156</th>\n",
       "      <td>5</td>\n",
       "      <td>Uma vez no ano</td>\n",
       "    </tr>\n",
       "    <tr>\n",
       "      <th>157</th>\n",
       "      <td>6</td>\n",
       "      <td>Nenhuma vez</td>\n",
       "    </tr>\n",
       "  </tbody>\n",
       "</table>\n",
       "</div>"
      ],
      "text/plain": [
       "     Tipo                      Classe\n",
       "152     1  Mais de uma vez por semana\n",
       "153     2          Uma vez por semana\n",
       "154     3      De 2 a 3 vezes por mês\n",
       "155     4        Algumas vezes no ano\n",
       "156     5              Uma vez no ano\n",
       "157     6                 Nenhuma vez"
      ]
     },
     "metadata": {},
     "output_type": "display_data"
    },
    {
     "name": "stdout",
     "output_type": "stream",
     "text": [
      "    [AFTER]:\n",
      "Nos últimos doze meses, com que frequência o(a) Sr(a) compareceu a atividades coletivas da sua religião ou de outra religião sem contar com situações como casamento, batizado, ou enterro)\n",
      "Nenhuma vez                                                                                                                                                                                    27637\n",
      "Uma vez por semana                                                                                                                                                                             18692\n",
      "Algumas vezes no ano                                                                                                                                                                           17978\n",
      "Name: count, dtype: int64\n",
      "\n",
      "    [COLUMN]: N016 ==================================================\n",
      "    [BEFORE]:\n",
      "Nas duas últimas semanas, com que frequência o(a) Sr(a) se sentiu deprimido(a), “pra baixo” ou sem perspectiva?\n",
      "1.0                                                                                                                66294\n",
      "2.0                                                                                                                15888\n",
      "4.0                                                                                                                 4340\n",
      "Name: count, dtype: int64\n",
      "\n"
     ]
    },
    {
     "data": {
      "application/vnd.microsoft.datawrangler.viewer.v0+json": {
       "columns": [
        {
         "name": "index",
         "rawType": "int64",
         "type": "integer"
        },
        {
         "name": "Tipo",
         "rawType": "int64",
         "type": "integer"
        },
        {
         "name": "Classe",
         "rawType": "object",
         "type": "string"
        }
       ],
       "conversionMethod": "pd.DataFrame",
       "ref": "4dbd9326-1842-4c64-8c66-7839bcbf1c61",
       "rows": [
        [
         "159",
         "1",
         " Nenhum dia"
        ],
        [
         "160",
         "2",
         "Menos da metade dos dias"
        ],
        [
         "161",
         "3",
         "Mais da metade dos dias"
        ],
        [
         "162",
         "4",
         "Quase todos dias"
        ],
        [
         "163",
         "9",
         "Ignorado"
        ]
       ],
       "shape": {
        "columns": 2,
        "rows": 5
       }
      },
      "text/html": [
       "<div>\n",
       "<style scoped>\n",
       "    .dataframe tbody tr th:only-of-type {\n",
       "        vertical-align: middle;\n",
       "    }\n",
       "\n",
       "    .dataframe tbody tr th {\n",
       "        vertical-align: top;\n",
       "    }\n",
       "\n",
       "    .dataframe thead th {\n",
       "        text-align: right;\n",
       "    }\n",
       "</style>\n",
       "<table border=\"1\" class=\"dataframe\">\n",
       "  <thead>\n",
       "    <tr style=\"text-align: right;\">\n",
       "      <th></th>\n",
       "      <th>Tipo</th>\n",
       "      <th>Classe</th>\n",
       "    </tr>\n",
       "  </thead>\n",
       "  <tbody>\n",
       "    <tr>\n",
       "      <th>159</th>\n",
       "      <td>1</td>\n",
       "      <td>Nenhum dia</td>\n",
       "    </tr>\n",
       "    <tr>\n",
       "      <th>160</th>\n",
       "      <td>2</td>\n",
       "      <td>Menos da metade dos dias</td>\n",
       "    </tr>\n",
       "    <tr>\n",
       "      <th>161</th>\n",
       "      <td>3</td>\n",
       "      <td>Mais da metade dos dias</td>\n",
       "    </tr>\n",
       "    <tr>\n",
       "      <th>162</th>\n",
       "      <td>4</td>\n",
       "      <td>Quase todos dias</td>\n",
       "    </tr>\n",
       "    <tr>\n",
       "      <th>163</th>\n",
       "      <td>9</td>\n",
       "      <td>Ignorado</td>\n",
       "    </tr>\n",
       "  </tbody>\n",
       "</table>\n",
       "</div>"
      ],
      "text/plain": [
       "     Tipo                    Classe\n",
       "159     1                Nenhum dia\n",
       "160     2  Menos da metade dos dias\n",
       "161     3   Mais da metade dos dias\n",
       "162     4          Quase todos dias\n",
       "163     9                  Ignorado"
      ]
     },
     "metadata": {},
     "output_type": "display_data"
    },
    {
     "name": "stdout",
     "output_type": "stream",
     "text": [
      "    [AFTER]:\n",
      "Nas duas últimas semanas, com que frequência o(a) Sr(a) se sentiu deprimido(a), “pra baixo” ou sem perspectiva?\n",
      " Nenhum dia                                                                                                        66294\n",
      "Menos da metade dos dias                                                                                           15888\n",
      "Quase todos dias                                                                                                    4340\n",
      "Name: count, dtype: int64\n",
      "\n",
      "    [COLUMN]: P00102 ==================================================\n",
      "    [BEFORE]:\n",
      "O(A) Sr(a) sabe seu peso?\n",
      "1.0                          83976\n",
      "2.0                           6870\n",
      "Name: count, dtype: int64\n",
      "\n"
     ]
    },
    {
     "data": {
      "application/vnd.microsoft.datawrangler.viewer.v0+json": {
       "columns": [
        {
         "name": "index",
         "rawType": "int64",
         "type": "integer"
        },
        {
         "name": "Tipo",
         "rawType": "int64",
         "type": "integer"
        },
        {
         "name": "Classe",
         "rawType": "object",
         "type": "string"
        }
       ],
       "conversionMethod": "pd.DataFrame",
       "ref": "9896bbd3-79cf-47c4-b694-9c4ca987afde",
       "rows": [
        [
         "165",
         "1",
         "Sim"
        ],
        [
         "166",
         "2",
         "Não sabe/Não lembra"
        ]
       ],
       "shape": {
        "columns": 2,
        "rows": 2
       }
      },
      "text/html": [
       "<div>\n",
       "<style scoped>\n",
       "    .dataframe tbody tr th:only-of-type {\n",
       "        vertical-align: middle;\n",
       "    }\n",
       "\n",
       "    .dataframe tbody tr th {\n",
       "        vertical-align: top;\n",
       "    }\n",
       "\n",
       "    .dataframe thead th {\n",
       "        text-align: right;\n",
       "    }\n",
       "</style>\n",
       "<table border=\"1\" class=\"dataframe\">\n",
       "  <thead>\n",
       "    <tr style=\"text-align: right;\">\n",
       "      <th></th>\n",
       "      <th>Tipo</th>\n",
       "      <th>Classe</th>\n",
       "    </tr>\n",
       "  </thead>\n",
       "  <tbody>\n",
       "    <tr>\n",
       "      <th>165</th>\n",
       "      <td>1</td>\n",
       "      <td>Sim</td>\n",
       "    </tr>\n",
       "    <tr>\n",
       "      <th>166</th>\n",
       "      <td>2</td>\n",
       "      <td>Não sabe/Não lembra</td>\n",
       "    </tr>\n",
       "  </tbody>\n",
       "</table>\n",
       "</div>"
      ],
      "text/plain": [
       "     Tipo               Classe\n",
       "165     1                  Sim\n",
       "166     2  Não sabe/Não lembra"
      ]
     },
     "metadata": {},
     "output_type": "display_data"
    },
    {
     "name": "stdout",
     "output_type": "stream",
     "text": [
      "    [AFTER]:\n",
      "O(A) Sr(a) sabe seu peso?\n",
      "Sim                          83976\n",
      "Não sabe/Não lembra           6870\n",
      "Name: count, dtype: int64\n",
      "\n",
      "    [COLUMN]: P00103 ==================================================\n",
      "    [BEFORE]:\n",
      "Peso - Informado (em kg)(3 inteiros e 1 casa decimal)\n",
      "65.0                                                     3360\n",
      "70.0                                                     3253\n",
      "60.0                                                     2873\n",
      "Name: count, dtype: int64\n",
      "\n"
     ]
    },
    {
     "data": {
      "application/vnd.microsoft.datawrangler.viewer.v0+json": {
       "columns": [
        {
         "name": "index",
         "rawType": "int64",
         "type": "integer"
        },
        {
         "name": "Tipo",
         "rawType": "int64",
         "type": "integer"
        },
        {
         "name": "Classe",
         "rawType": "object",
         "type": "string"
        }
       ],
       "conversionMethod": "pd.DataFrame",
       "ref": "f97b55c0-4d7a-41df-8543-63864875b4bb",
       "rows": [],
       "shape": {
        "columns": 2,
        "rows": 0
       }
      },
      "text/html": [
       "<div>\n",
       "<style scoped>\n",
       "    .dataframe tbody tr th:only-of-type {\n",
       "        vertical-align: middle;\n",
       "    }\n",
       "\n",
       "    .dataframe tbody tr th {\n",
       "        vertical-align: top;\n",
       "    }\n",
       "\n",
       "    .dataframe thead th {\n",
       "        text-align: right;\n",
       "    }\n",
       "</style>\n",
       "<table border=\"1\" class=\"dataframe\">\n",
       "  <thead>\n",
       "    <tr style=\"text-align: right;\">\n",
       "      <th></th>\n",
       "      <th>Tipo</th>\n",
       "      <th>Classe</th>\n",
       "    </tr>\n",
       "  </thead>\n",
       "  <tbody>\n",
       "  </tbody>\n",
       "</table>\n",
       "</div>"
      ],
      "text/plain": [
       "Empty DataFrame\n",
       "Columns: [Tipo, Classe]\n",
       "Index: []"
      ]
     },
     "metadata": {},
     "output_type": "display_data"
    },
    {
     "name": "stdout",
     "output_type": "stream",
     "text": [
      "    [AFTER]:\n",
      "Peso - Informado (em kg)(3 inteiros e 1 casa decimal)\n",
      "65.0                                                     3360\n",
      "70.0                                                     3253\n",
      "60.0                                                     2873\n",
      "Name: count, dtype: int64\n",
      "\n",
      "    [COLUMN]: P00104 ==================================================\n",
      "    [BEFORE]:\n",
      "Peso - Final (em kg)(3 inteiros e 1 casa decimal)\n",
      "65.0                                                 3606\n",
      "70.0                                                 3440\n",
      "60.0                                                 3107\n",
      "Name: count, dtype: int64\n",
      "\n"
     ]
    },
    {
     "data": {
      "application/vnd.microsoft.datawrangler.viewer.v0+json": {
       "columns": [
        {
         "name": "index",
         "rawType": "int64",
         "type": "integer"
        },
        {
         "name": "Tipo",
         "rawType": "int64",
         "type": "integer"
        },
        {
         "name": "Classe",
         "rawType": "object",
         "type": "string"
        }
       ],
       "conversionMethod": "pd.DataFrame",
       "ref": "97d32c49-0617-4694-8362-f4a71d44f783",
       "rows": [],
       "shape": {
        "columns": 2,
        "rows": 0
       }
      },
      "text/html": [
       "<div>\n",
       "<style scoped>\n",
       "    .dataframe tbody tr th:only-of-type {\n",
       "        vertical-align: middle;\n",
       "    }\n",
       "\n",
       "    .dataframe tbody tr th {\n",
       "        vertical-align: top;\n",
       "    }\n",
       "\n",
       "    .dataframe thead th {\n",
       "        text-align: right;\n",
       "    }\n",
       "</style>\n",
       "<table border=\"1\" class=\"dataframe\">\n",
       "  <thead>\n",
       "    <tr style=\"text-align: right;\">\n",
       "      <th></th>\n",
       "      <th>Tipo</th>\n",
       "      <th>Classe</th>\n",
       "    </tr>\n",
       "  </thead>\n",
       "  <tbody>\n",
       "  </tbody>\n",
       "</table>\n",
       "</div>"
      ],
      "text/plain": [
       "Empty DataFrame\n",
       "Columns: [Tipo, Classe]\n",
       "Index: []"
      ]
     },
     "metadata": {},
     "output_type": "display_data"
    },
    {
     "name": "stdout",
     "output_type": "stream",
     "text": [
      "    [AFTER]:\n",
      "Peso - Final (em kg)(3 inteiros e 1 casa decimal)\n",
      "65.0                                                 3606\n",
      "70.0                                                 3440\n",
      "60.0                                                 3107\n",
      "Name: count, dtype: int64\n",
      "\n",
      "    [COLUMN]: P027 ==================================================\n",
      "    [BEFORE]:\n",
      "Com que frequência o(a) Sr(a) costuma consumir alguma bebida alcoólica?\n",
      "1.0                                                                        55430\n",
      "3.0                                                                        24323\n",
      "2.0                                                                        11093\n",
      "Name: count, dtype: int64\n",
      "\n"
     ]
    },
    {
     "data": {
      "application/vnd.microsoft.datawrangler.viewer.v0+json": {
       "columns": [
        {
         "name": "index",
         "rawType": "int64",
         "type": "integer"
        },
        {
         "name": "Tipo",
         "rawType": "int64",
         "type": "integer"
        },
        {
         "name": "Classe",
         "rawType": "object",
         "type": "string"
        }
       ],
       "conversionMethod": "pd.DataFrame",
       "ref": "f45efb34-b8ac-466e-8614-fbb1c1e63f07",
       "rows": [
        [
         "172",
         "1",
         "Não bebo nunca"
        ],
        [
         "173",
         "2",
         "Menos de uma vez por mês"
        ],
        [
         "174",
         "3",
         "Uma vez ou mais por mês"
        ],
        [
         "175",
         "9",
         "Ignorado"
        ]
       ],
       "shape": {
        "columns": 2,
        "rows": 4
       }
      },
      "text/html": [
       "<div>\n",
       "<style scoped>\n",
       "    .dataframe tbody tr th:only-of-type {\n",
       "        vertical-align: middle;\n",
       "    }\n",
       "\n",
       "    .dataframe tbody tr th {\n",
       "        vertical-align: top;\n",
       "    }\n",
       "\n",
       "    .dataframe thead th {\n",
       "        text-align: right;\n",
       "    }\n",
       "</style>\n",
       "<table border=\"1\" class=\"dataframe\">\n",
       "  <thead>\n",
       "    <tr style=\"text-align: right;\">\n",
       "      <th></th>\n",
       "      <th>Tipo</th>\n",
       "      <th>Classe</th>\n",
       "    </tr>\n",
       "  </thead>\n",
       "  <tbody>\n",
       "    <tr>\n",
       "      <th>172</th>\n",
       "      <td>1</td>\n",
       "      <td>Não bebo nunca</td>\n",
       "    </tr>\n",
       "    <tr>\n",
       "      <th>173</th>\n",
       "      <td>2</td>\n",
       "      <td>Menos de uma vez por mês</td>\n",
       "    </tr>\n",
       "    <tr>\n",
       "      <th>174</th>\n",
       "      <td>3</td>\n",
       "      <td>Uma vez ou mais por mês</td>\n",
       "    </tr>\n",
       "    <tr>\n",
       "      <th>175</th>\n",
       "      <td>9</td>\n",
       "      <td>Ignorado</td>\n",
       "    </tr>\n",
       "  </tbody>\n",
       "</table>\n",
       "</div>"
      ],
      "text/plain": [
       "     Tipo                    Classe\n",
       "172     1            Não bebo nunca\n",
       "173     2  Menos de uma vez por mês\n",
       "174     3   Uma vez ou mais por mês\n",
       "175     9                  Ignorado"
      ]
     },
     "metadata": {},
     "output_type": "display_data"
    },
    {
     "name": "stdout",
     "output_type": "stream",
     "text": [
      "    [AFTER]:\n",
      "Com que frequência o(a) Sr(a) costuma consumir alguma bebida alcoólica?\n",
      "Não bebo nunca                                                             55430\n",
      "Uma vez ou mais por mês                                                    24323\n",
      "Menos de uma vez por mês                                                   11093\n",
      "Name: count, dtype: int64\n",
      "\n",
      "    [COLUMN]: P02801 ==================================================\n",
      "    [BEFORE]:\n",
      "Quantos dias por semana o(a) Sr(a) costuma consumir alguma bebida alcoólica?\n",
      "1.0                                                                             9783\n",
      "2.0                                                                             6339\n",
      "0.0                                                                             3217\n",
      "Name: count, dtype: int64\n",
      "\n"
     ]
    },
    {
     "data": {
      "application/vnd.microsoft.datawrangler.viewer.v0+json": {
       "columns": [
        {
         "name": "index",
         "rawType": "int64",
         "type": "integer"
        },
        {
         "name": "Tipo",
         "rawType": "int64",
         "type": "integer"
        },
        {
         "name": "Classe",
         "rawType": "object",
         "type": "string"
        }
       ],
       "conversionMethod": "pd.DataFrame",
       "ref": "bc72d3de-49c2-4588-9f70-92d4611bd8c4",
       "rows": [
        [
         "178",
         "0",
         "Nunca ou menos de uma vez por semana"
        ],
        [
         "179",
         "9",
         "Ignorado"
        ]
       ],
       "shape": {
        "columns": 2,
        "rows": 2
       }
      },
      "text/html": [
       "<div>\n",
       "<style scoped>\n",
       "    .dataframe tbody tr th:only-of-type {\n",
       "        vertical-align: middle;\n",
       "    }\n",
       "\n",
       "    .dataframe tbody tr th {\n",
       "        vertical-align: top;\n",
       "    }\n",
       "\n",
       "    .dataframe thead th {\n",
       "        text-align: right;\n",
       "    }\n",
       "</style>\n",
       "<table border=\"1\" class=\"dataframe\">\n",
       "  <thead>\n",
       "    <tr style=\"text-align: right;\">\n",
       "      <th></th>\n",
       "      <th>Tipo</th>\n",
       "      <th>Classe</th>\n",
       "    </tr>\n",
       "  </thead>\n",
       "  <tbody>\n",
       "    <tr>\n",
       "      <th>178</th>\n",
       "      <td>0</td>\n",
       "      <td>Nunca ou menos de uma vez por semana</td>\n",
       "    </tr>\n",
       "    <tr>\n",
       "      <th>179</th>\n",
       "      <td>9</td>\n",
       "      <td>Ignorado</td>\n",
       "    </tr>\n",
       "  </tbody>\n",
       "</table>\n",
       "</div>"
      ],
      "text/plain": [
       "     Tipo                                Classe\n",
       "178     0  Nunca ou menos de uma vez por semana\n",
       "179     9                              Ignorado"
      ]
     },
     "metadata": {},
     "output_type": "display_data"
    },
    {
     "name": "stdout",
     "output_type": "stream",
     "text": [
      "    [AFTER]:\n",
      "Quantos dias por semana o(a) Sr(a) costuma consumir alguma bebida alcoólica?\n",
      "1.0                                                                             9783\n",
      "2.0                                                                             6339\n",
      "Nunca ou menos de uma vez por semana                                            3217\n",
      "Name: count, dtype: int64\n",
      "\n",
      "    [COLUMN]: P034 ==================================================\n",
      "    [BEFORE]:\n",
      "Nos últimos três meses, o(a) Sr(a) praticou algum tipo de exercício físico ou esporte?\n",
      "2.0                                                                                       54448\n",
      "1.0                                                                                       36398\n",
      "Name: count, dtype: int64\n",
      "\n"
     ]
    },
    {
     "data": {
      "application/vnd.microsoft.datawrangler.viewer.v0+json": {
       "columns": [
        {
         "name": "index",
         "rawType": "int64",
         "type": "integer"
        },
        {
         "name": "Tipo",
         "rawType": "int64",
         "type": "integer"
        },
        {
         "name": "Classe",
         "rawType": "object",
         "type": "string"
        }
       ],
       "conversionMethod": "pd.DataFrame",
       "ref": "62f2e978-e3c6-4a38-9039-144c67cfc343",
       "rows": [
        [
         "181",
         "1",
         "Sim"
        ],
        [
         "182",
         "2",
         "Não"
        ],
        [
         "183",
         "9",
         "Ignorado"
        ]
       ],
       "shape": {
        "columns": 2,
        "rows": 3
       }
      },
      "text/html": [
       "<div>\n",
       "<style scoped>\n",
       "    .dataframe tbody tr th:only-of-type {\n",
       "        vertical-align: middle;\n",
       "    }\n",
       "\n",
       "    .dataframe tbody tr th {\n",
       "        vertical-align: top;\n",
       "    }\n",
       "\n",
       "    .dataframe thead th {\n",
       "        text-align: right;\n",
       "    }\n",
       "</style>\n",
       "<table border=\"1\" class=\"dataframe\">\n",
       "  <thead>\n",
       "    <tr style=\"text-align: right;\">\n",
       "      <th></th>\n",
       "      <th>Tipo</th>\n",
       "      <th>Classe</th>\n",
       "    </tr>\n",
       "  </thead>\n",
       "  <tbody>\n",
       "    <tr>\n",
       "      <th>181</th>\n",
       "      <td>1</td>\n",
       "      <td>Sim</td>\n",
       "    </tr>\n",
       "    <tr>\n",
       "      <th>182</th>\n",
       "      <td>2</td>\n",
       "      <td>Não</td>\n",
       "    </tr>\n",
       "    <tr>\n",
       "      <th>183</th>\n",
       "      <td>9</td>\n",
       "      <td>Ignorado</td>\n",
       "    </tr>\n",
       "  </tbody>\n",
       "</table>\n",
       "</div>"
      ],
      "text/plain": [
       "     Tipo    Classe\n",
       "181     1       Sim\n",
       "182     2       Não\n",
       "183     9  Ignorado"
      ]
     },
     "metadata": {},
     "output_type": "display_data"
    },
    {
     "name": "stdout",
     "output_type": "stream",
     "text": [
      "    [AFTER]:\n",
      "Nos últimos três meses, o(a) Sr(a) praticou algum tipo de exercício físico ou esporte?\n",
      "Não                                                                                       54448\n",
      "Sim                                                                                       36398\n",
      "Name: count, dtype: int64\n",
      "\n",
      "    [COLUMN]: P035 ==================================================\n",
      "    [BEFORE]:\n",
      "Quantos dias por semana o(a) Sr(a) costuma  (costumava)praticar exercício físico ou esporte?\n",
      "3.0                                                                                             8376\n",
      "2.0                                                                                             6750\n",
      "5.0                                                                                             6336\n",
      "Name: count, dtype: int64\n",
      "\n"
     ]
    },
    {
     "data": {
      "application/vnd.microsoft.datawrangler.viewer.v0+json": {
       "columns": [
        {
         "name": "index",
         "rawType": "int64",
         "type": "integer"
        },
        {
         "name": "Tipo",
         "rawType": "int64",
         "type": "integer"
        },
        {
         "name": "Classe",
         "rawType": "object",
         "type": "string"
        }
       ],
       "conversionMethod": "pd.DataFrame",
       "ref": "c2212d10-8684-4edb-a4df-76e7d3d3bc44",
       "rows": [
        [
         "186",
         "0",
         "Nunca ou menos de uma vez por semana"
        ],
        [
         "187",
         "9",
         "Ignorado"
        ]
       ],
       "shape": {
        "columns": 2,
        "rows": 2
       }
      },
      "text/html": [
       "<div>\n",
       "<style scoped>\n",
       "    .dataframe tbody tr th:only-of-type {\n",
       "        vertical-align: middle;\n",
       "    }\n",
       "\n",
       "    .dataframe tbody tr th {\n",
       "        vertical-align: top;\n",
       "    }\n",
       "\n",
       "    .dataframe thead th {\n",
       "        text-align: right;\n",
       "    }\n",
       "</style>\n",
       "<table border=\"1\" class=\"dataframe\">\n",
       "  <thead>\n",
       "    <tr style=\"text-align: right;\">\n",
       "      <th></th>\n",
       "      <th>Tipo</th>\n",
       "      <th>Classe</th>\n",
       "    </tr>\n",
       "  </thead>\n",
       "  <tbody>\n",
       "    <tr>\n",
       "      <th>186</th>\n",
       "      <td>0</td>\n",
       "      <td>Nunca ou menos de uma vez por semana</td>\n",
       "    </tr>\n",
       "    <tr>\n",
       "      <th>187</th>\n",
       "      <td>9</td>\n",
       "      <td>Ignorado</td>\n",
       "    </tr>\n",
       "  </tbody>\n",
       "</table>\n",
       "</div>"
      ],
      "text/plain": [
       "     Tipo                                Classe\n",
       "186     0  Nunca ou menos de uma vez por semana\n",
       "187     9                              Ignorado"
      ]
     },
     "metadata": {},
     "output_type": "display_data"
    },
    {
     "name": "stdout",
     "output_type": "stream",
     "text": [
      "    [AFTER]:\n",
      "Quantos dias por semana o(a) Sr(a) costuma  (costumava)praticar exercício físico ou esporte?\n",
      "3.0                                                                                             8376\n",
      "2.0                                                                                             6750\n",
      "5.0                                                                                             6336\n",
      "Name: count, dtype: int64\n",
      "\n",
      "    [COLUMN]: P039 ==================================================\n",
      "    [BEFORE]:\n",
      "No seu trabalho, o(a) Sr(a) faz faxina pesada, carrega peso ou faz outra atividade pesada que requer esforço físico intenso?\n",
      "2.0                                                                                                                             38791\n",
      "1.0                                                                                                                             14041\n",
      "Name: count, dtype: int64\n",
      "\n"
     ]
    },
    {
     "data": {
      "application/vnd.microsoft.datawrangler.viewer.v0+json": {
       "columns": [
        {
         "name": "index",
         "rawType": "int64",
         "type": "integer"
        },
        {
         "name": "Tipo",
         "rawType": "int64",
         "type": "integer"
        },
        {
         "name": "Classe",
         "rawType": "object",
         "type": "string"
        }
       ],
       "conversionMethod": "pd.DataFrame",
       "ref": "9e90a268-a572-469c-a8a1-6643157aac75",
       "rows": [
        [
         "189",
         "1",
         "Sim"
        ],
        [
         "190",
         "2",
         "Não"
        ],
        [
         "191",
         "9",
         "Ignorado"
        ]
       ],
       "shape": {
        "columns": 2,
        "rows": 3
       }
      },
      "text/html": [
       "<div>\n",
       "<style scoped>\n",
       "    .dataframe tbody tr th:only-of-type {\n",
       "        vertical-align: middle;\n",
       "    }\n",
       "\n",
       "    .dataframe tbody tr th {\n",
       "        vertical-align: top;\n",
       "    }\n",
       "\n",
       "    .dataframe thead th {\n",
       "        text-align: right;\n",
       "    }\n",
       "</style>\n",
       "<table border=\"1\" class=\"dataframe\">\n",
       "  <thead>\n",
       "    <tr style=\"text-align: right;\">\n",
       "      <th></th>\n",
       "      <th>Tipo</th>\n",
       "      <th>Classe</th>\n",
       "    </tr>\n",
       "  </thead>\n",
       "  <tbody>\n",
       "    <tr>\n",
       "      <th>189</th>\n",
       "      <td>1</td>\n",
       "      <td>Sim</td>\n",
       "    </tr>\n",
       "    <tr>\n",
       "      <th>190</th>\n",
       "      <td>2</td>\n",
       "      <td>Não</td>\n",
       "    </tr>\n",
       "    <tr>\n",
       "      <th>191</th>\n",
       "      <td>9</td>\n",
       "      <td>Ignorado</td>\n",
       "    </tr>\n",
       "  </tbody>\n",
       "</table>\n",
       "</div>"
      ],
      "text/plain": [
       "     Tipo    Classe\n",
       "189     1       Sim\n",
       "190     2       Não\n",
       "191     9  Ignorado"
      ]
     },
     "metadata": {},
     "output_type": "display_data"
    },
    {
     "name": "stdout",
     "output_type": "stream",
     "text": [
      "    [AFTER]:\n",
      "No seu trabalho, o(a) Sr(a) faz faxina pesada, carrega peso ou faz outra atividade pesada que requer esforço físico intenso?\n",
      "Não                                                                                                                             38791\n",
      "Sim                                                                                                                             14041\n",
      "Name: count, dtype: int64\n",
      "\n",
      "    [COLUMN]: P044 ==================================================\n",
      "    [BEFORE]:\n",
      "Nas suas atividades domésticas, o(a) Sr(a) faz faxina pesada, carrega peso ou faz outra atividade pesada que requer esforço físico intenso? (não considerar atividade doméstica remunerada)\n",
      "2.0                                                                                                                                                                                            77735\n",
      "1.0                                                                                                                                                                                            13111\n",
      "Name: count, dtype: int64\n",
      "\n"
     ]
    },
    {
     "data": {
      "application/vnd.microsoft.datawrangler.viewer.v0+json": {
       "columns": [
        {
         "name": "index",
         "rawType": "int64",
         "type": "integer"
        },
        {
         "name": "Tipo",
         "rawType": "int64",
         "type": "integer"
        },
        {
         "name": "Classe",
         "rawType": "object",
         "type": "string"
        }
       ],
       "conversionMethod": "pd.DataFrame",
       "ref": "2789e6d9-032d-4c29-b75a-2f11bc1d76b3",
       "rows": [
        [
         "193",
         "1",
         "Sim"
        ],
        [
         "194",
         "2",
         "Não"
        ],
        [
         "195",
         "9",
         "Ignorado"
        ]
       ],
       "shape": {
        "columns": 2,
        "rows": 3
       }
      },
      "text/html": [
       "<div>\n",
       "<style scoped>\n",
       "    .dataframe tbody tr th:only-of-type {\n",
       "        vertical-align: middle;\n",
       "    }\n",
       "\n",
       "    .dataframe tbody tr th {\n",
       "        vertical-align: top;\n",
       "    }\n",
       "\n",
       "    .dataframe thead th {\n",
       "        text-align: right;\n",
       "    }\n",
       "</style>\n",
       "<table border=\"1\" class=\"dataframe\">\n",
       "  <thead>\n",
       "    <tr style=\"text-align: right;\">\n",
       "      <th></th>\n",
       "      <th>Tipo</th>\n",
       "      <th>Classe</th>\n",
       "    </tr>\n",
       "  </thead>\n",
       "  <tbody>\n",
       "    <tr>\n",
       "      <th>193</th>\n",
       "      <td>1</td>\n",
       "      <td>Sim</td>\n",
       "    </tr>\n",
       "    <tr>\n",
       "      <th>194</th>\n",
       "      <td>2</td>\n",
       "      <td>Não</td>\n",
       "    </tr>\n",
       "    <tr>\n",
       "      <th>195</th>\n",
       "      <td>9</td>\n",
       "      <td>Ignorado</td>\n",
       "    </tr>\n",
       "  </tbody>\n",
       "</table>\n",
       "</div>"
      ],
      "text/plain": [
       "     Tipo    Classe\n",
       "193     1       Sim\n",
       "194     2       Não\n",
       "195     9  Ignorado"
      ]
     },
     "metadata": {},
     "output_type": "display_data"
    },
    {
     "name": "stdout",
     "output_type": "stream",
     "text": [
      "    [AFTER]:\n",
      "Nas suas atividades domésticas, o(a) Sr(a) faz faxina pesada, carrega peso ou faz outra atividade pesada que requer esforço físico intenso? (não considerar atividade doméstica remunerada)\n",
      "Não                                                                                                                                                                                            77735\n",
      "Sim                                                                                                                                                                                            13111\n",
      "Name: count, dtype: int64\n",
      "\n",
      "    [COLUMN]: P050 ==================================================\n",
      "    [BEFORE]:\n",
      "Atualmente, o(a) Sr(a) fuma algum produto do tabaco?\n",
      "3.0                                                     79460\n",
      "1.0                                                     10200\n",
      "2.0                                                      1186\n",
      "Name: count, dtype: int64\n",
      "\n"
     ]
    },
    {
     "data": {
      "application/vnd.microsoft.datawrangler.viewer.v0+json": {
       "columns": [
        {
         "name": "index",
         "rawType": "int64",
         "type": "integer"
        },
        {
         "name": "Tipo",
         "rawType": "int64",
         "type": "integer"
        },
        {
         "name": "Classe",
         "rawType": "object",
         "type": "string"
        }
       ],
       "conversionMethod": "pd.DataFrame",
       "ref": "4c82e28f-2158-4f37-9012-a4ab18511988",
       "rows": [
        [
         "197",
         "1",
         "Sim, diariamente"
        ],
        [
         "198",
         "2",
         "Sim, menos que diariamente"
        ],
        [
         "199",
         "3",
         "Não fumo atualmente"
        ],
        [
         "200",
         "9",
         "Ignorado"
        ]
       ],
       "shape": {
        "columns": 2,
        "rows": 4
       }
      },
      "text/html": [
       "<div>\n",
       "<style scoped>\n",
       "    .dataframe tbody tr th:only-of-type {\n",
       "        vertical-align: middle;\n",
       "    }\n",
       "\n",
       "    .dataframe tbody tr th {\n",
       "        vertical-align: top;\n",
       "    }\n",
       "\n",
       "    .dataframe thead th {\n",
       "        text-align: right;\n",
       "    }\n",
       "</style>\n",
       "<table border=\"1\" class=\"dataframe\">\n",
       "  <thead>\n",
       "    <tr style=\"text-align: right;\">\n",
       "      <th></th>\n",
       "      <th>Tipo</th>\n",
       "      <th>Classe</th>\n",
       "    </tr>\n",
       "  </thead>\n",
       "  <tbody>\n",
       "    <tr>\n",
       "      <th>197</th>\n",
       "      <td>1</td>\n",
       "      <td>Sim, diariamente</td>\n",
       "    </tr>\n",
       "    <tr>\n",
       "      <th>198</th>\n",
       "      <td>2</td>\n",
       "      <td>Sim, menos que diariamente</td>\n",
       "    </tr>\n",
       "    <tr>\n",
       "      <th>199</th>\n",
       "      <td>3</td>\n",
       "      <td>Não fumo atualmente</td>\n",
       "    </tr>\n",
       "    <tr>\n",
       "      <th>200</th>\n",
       "      <td>9</td>\n",
       "      <td>Ignorado</td>\n",
       "    </tr>\n",
       "  </tbody>\n",
       "</table>\n",
       "</div>"
      ],
      "text/plain": [
       "     Tipo                      Classe\n",
       "197     1            Sim, diariamente\n",
       "198     2  Sim, menos que diariamente\n",
       "199     3         Não fumo atualmente\n",
       "200     9                    Ignorado"
      ]
     },
     "metadata": {},
     "output_type": "display_data"
    },
    {
     "name": "stdout",
     "output_type": "stream",
     "text": [
      "    [AFTER]:\n",
      "Atualmente, o(a) Sr(a) fuma algum produto do tabaco?\n",
      "Não fumo atualmente                                     79460\n",
      "Sim, diariamente                                        10200\n",
      "Sim, menos que diariamente                               1186\n",
      "Name: count, dtype: int64\n",
      "\n",
      "    [COLUMN]: P051 ==================================================\n",
      "    [BEFORE]:\n",
      "E no passado, o(a) Sr(a) fumou algum produto do tabaco diariamente?\n",
      "1.0                                                                    627\n",
      "2.0                                                                    559\n",
      "Name: count, dtype: int64\n",
      "\n"
     ]
    },
    {
     "data": {
      "application/vnd.microsoft.datawrangler.viewer.v0+json": {
       "columns": [
        {
         "name": "index",
         "rawType": "int64",
         "type": "integer"
        },
        {
         "name": "Tipo",
         "rawType": "int64",
         "type": "integer"
        },
        {
         "name": "Classe",
         "rawType": "object",
         "type": "string"
        }
       ],
       "conversionMethod": "pd.DataFrame",
       "ref": "9c6493bd-47a4-4daf-82aa-ec03d8d604a2",
       "rows": [
        [
         "202",
         "1",
         "Sim"
        ],
        [
         "203",
         "2",
         "Não"
        ],
        [
         "204",
         "9",
         "Ignorado"
        ]
       ],
       "shape": {
        "columns": 2,
        "rows": 3
       }
      },
      "text/html": [
       "<div>\n",
       "<style scoped>\n",
       "    .dataframe tbody tr th:only-of-type {\n",
       "        vertical-align: middle;\n",
       "    }\n",
       "\n",
       "    .dataframe tbody tr th {\n",
       "        vertical-align: top;\n",
       "    }\n",
       "\n",
       "    .dataframe thead th {\n",
       "        text-align: right;\n",
       "    }\n",
       "</style>\n",
       "<table border=\"1\" class=\"dataframe\">\n",
       "  <thead>\n",
       "    <tr style=\"text-align: right;\">\n",
       "      <th></th>\n",
       "      <th>Tipo</th>\n",
       "      <th>Classe</th>\n",
       "    </tr>\n",
       "  </thead>\n",
       "  <tbody>\n",
       "    <tr>\n",
       "      <th>202</th>\n",
       "      <td>1</td>\n",
       "      <td>Sim</td>\n",
       "    </tr>\n",
       "    <tr>\n",
       "      <th>203</th>\n",
       "      <td>2</td>\n",
       "      <td>Não</td>\n",
       "    </tr>\n",
       "    <tr>\n",
       "      <th>204</th>\n",
       "      <td>9</td>\n",
       "      <td>Ignorado</td>\n",
       "    </tr>\n",
       "  </tbody>\n",
       "</table>\n",
       "</div>"
      ],
      "text/plain": [
       "     Tipo    Classe\n",
       "202     1       Sim\n",
       "203     2       Não\n",
       "204     9  Ignorado"
      ]
     },
     "metadata": {},
     "output_type": "display_data"
    },
    {
     "name": "stdout",
     "output_type": "stream",
     "text": [
      "    [AFTER]:\n",
      "E no passado, o(a) Sr(a) fumou algum produto do tabaco diariamente?\n",
      "Sim                                                                    627\n",
      "Não                                                                    559\n",
      "Name: count, dtype: int64\n",
      "\n",
      "    [COLUMN]: P053 ==================================================\n",
      "    [BEFORE]:\n",
      "Que idade o(a) Sr(a) tinha quando começou a fumar produto de tabaco diariamente?\n",
      "15.0                                                                                4446\n",
      "18.0                                                                                3589\n",
      "16.0                                                                                2792\n",
      "Name: count, dtype: int64\n",
      "\n"
     ]
    },
    {
     "data": {
      "application/vnd.microsoft.datawrangler.viewer.v0+json": {
       "columns": [
        {
         "name": "index",
         "rawType": "int64",
         "type": "integer"
        },
        {
         "name": "Tipo",
         "rawType": "int64",
         "type": "integer"
        },
        {
         "name": "Classe",
         "rawType": "object",
         "type": "string"
        }
       ],
       "conversionMethod": "pd.DataFrame",
       "ref": "ed2d0c26-8d8a-4303-9a5d-83035d02b830",
       "rows": [
        [
         "207",
         "99",
         "Ignorado"
        ]
       ],
       "shape": {
        "columns": 2,
        "rows": 1
       }
      },
      "text/html": [
       "<div>\n",
       "<style scoped>\n",
       "    .dataframe tbody tr th:only-of-type {\n",
       "        vertical-align: middle;\n",
       "    }\n",
       "\n",
       "    .dataframe tbody tr th {\n",
       "        vertical-align: top;\n",
       "    }\n",
       "\n",
       "    .dataframe thead th {\n",
       "        text-align: right;\n",
       "    }\n",
       "</style>\n",
       "<table border=\"1\" class=\"dataframe\">\n",
       "  <thead>\n",
       "    <tr style=\"text-align: right;\">\n",
       "      <th></th>\n",
       "      <th>Tipo</th>\n",
       "      <th>Classe</th>\n",
       "    </tr>\n",
       "  </thead>\n",
       "  <tbody>\n",
       "    <tr>\n",
       "      <th>207</th>\n",
       "      <td>99</td>\n",
       "      <td>Ignorado</td>\n",
       "    </tr>\n",
       "  </tbody>\n",
       "</table>\n",
       "</div>"
      ],
      "text/plain": [
       "     Tipo    Classe\n",
       "207    99  Ignorado"
      ]
     },
     "metadata": {},
     "output_type": "display_data"
    },
    {
     "name": "stdout",
     "output_type": "stream",
     "text": [
      "    [AFTER]:\n",
      "Que idade o(a) Sr(a) tinha quando começou a fumar produto de tabaco diariamente?\n",
      "15.0                                                                                4446\n",
      "18.0                                                                                3589\n",
      "16.0                                                                                2792\n",
      "Name: count, dtype: int64\n",
      "\n",
      "    [COLUMN]: P06701 ==================================================\n",
      "    [BEFORE]:\n",
      "O(a) Sr(a) usa aparelhos eletrônicos com nicotina líquida ou folha de tabaco picado (cigarro eletrônico, narguilé eletrônico, cigarro aquecido ou outro dispositivo eletrônico para fumar ou vaporizar)?\n",
      "4.0                                                                                                                                                                                                         89951\n",
      "3.0                                                                                                                                                                                                           556\n",
      "2.0                                                                                                                                                                                                           276\n",
      "Name: count, dtype: int64\n",
      "\n"
     ]
    },
    {
     "data": {
      "application/vnd.microsoft.datawrangler.viewer.v0+json": {
       "columns": [
        {
         "name": "index",
         "rawType": "int64",
         "type": "integer"
        },
        {
         "name": "Tipo",
         "rawType": "int64",
         "type": "integer"
        },
        {
         "name": "Classe",
         "rawType": "object",
         "type": "string"
        }
       ],
       "conversionMethod": "pd.DataFrame",
       "ref": "2298a5c3-4d14-435a-9f45-680e23e74b25",
       "rows": [
        [
         "209",
         "1",
         "Sim, diariamente"
        ],
        [
         "210",
         "2",
         "Sim, menos do que diariamente"
        ],
        [
         "211",
         "3",
         "Não, mas já usei no passado"
        ],
        [
         "212",
         "4",
         "Nunca usei"
        ],
        [
         "213",
         "9",
         "Ignorado"
        ]
       ],
       "shape": {
        "columns": 2,
        "rows": 5
       }
      },
      "text/html": [
       "<div>\n",
       "<style scoped>\n",
       "    .dataframe tbody tr th:only-of-type {\n",
       "        vertical-align: middle;\n",
       "    }\n",
       "\n",
       "    .dataframe tbody tr th {\n",
       "        vertical-align: top;\n",
       "    }\n",
       "\n",
       "    .dataframe thead th {\n",
       "        text-align: right;\n",
       "    }\n",
       "</style>\n",
       "<table border=\"1\" class=\"dataframe\">\n",
       "  <thead>\n",
       "    <tr style=\"text-align: right;\">\n",
       "      <th></th>\n",
       "      <th>Tipo</th>\n",
       "      <th>Classe</th>\n",
       "    </tr>\n",
       "  </thead>\n",
       "  <tbody>\n",
       "    <tr>\n",
       "      <th>209</th>\n",
       "      <td>1</td>\n",
       "      <td>Sim, diariamente</td>\n",
       "    </tr>\n",
       "    <tr>\n",
       "      <th>210</th>\n",
       "      <td>2</td>\n",
       "      <td>Sim, menos do que diariamente</td>\n",
       "    </tr>\n",
       "    <tr>\n",
       "      <th>211</th>\n",
       "      <td>3</td>\n",
       "      <td>Não, mas já usei no passado</td>\n",
       "    </tr>\n",
       "    <tr>\n",
       "      <th>212</th>\n",
       "      <td>4</td>\n",
       "      <td>Nunca usei</td>\n",
       "    </tr>\n",
       "    <tr>\n",
       "      <th>213</th>\n",
       "      <td>9</td>\n",
       "      <td>Ignorado</td>\n",
       "    </tr>\n",
       "  </tbody>\n",
       "</table>\n",
       "</div>"
      ],
      "text/plain": [
       "     Tipo                         Classe\n",
       "209     1               Sim, diariamente\n",
       "210     2  Sim, menos do que diariamente\n",
       "211     3    Não, mas já usei no passado\n",
       "212     4                     Nunca usei\n",
       "213     9                       Ignorado"
      ]
     },
     "metadata": {},
     "output_type": "display_data"
    },
    {
     "name": "stdout",
     "output_type": "stream",
     "text": [
      "    [AFTER]:\n",
      "O(a) Sr(a) usa aparelhos eletrônicos com nicotina líquida ou folha de tabaco picado (cigarro eletrônico, narguilé eletrônico, cigarro aquecido ou outro dispositivo eletrônico para fumar ou vaporizar)?\n",
      "Nunca usei                                                                                                                                                                                                  89951\n",
      "Não, mas já usei no passado                                                                                                                                                                                   556\n",
      "Sim, menos do que diariamente                                                                                                                                                                                 276\n",
      "Name: count, dtype: int64\n",
      "\n",
      "    [COLUMN]: Q092 ==================================================\n",
      "    [BEFORE]:\n",
      "Algum médico ou profissional de saúde mental (como psiquiatra ou psicólogo) já lhe deu o diagnóstico de depressão?\n",
      "2.0                                                                                                                   82514\n",
      "1.0                                                                                                                    8332\n",
      "Name: count, dtype: int64\n",
      "\n"
     ]
    },
    {
     "data": {
      "application/vnd.microsoft.datawrangler.viewer.v0+json": {
       "columns": [
        {
         "name": "index",
         "rawType": "int64",
         "type": "integer"
        },
        {
         "name": "Tipo",
         "rawType": "int64",
         "type": "integer"
        },
        {
         "name": "Classe",
         "rawType": "object",
         "type": "string"
        }
       ],
       "conversionMethod": "pd.DataFrame",
       "ref": "75661c70-fda4-49b7-a5b2-9dcc3ce25c0a",
       "rows": [
        [
         "215",
         "1",
         "Sim"
        ],
        [
         "216",
         "2",
         "Não"
        ],
        [
         "217",
         "9",
         "Ignorado"
        ]
       ],
       "shape": {
        "columns": 2,
        "rows": 3
       }
      },
      "text/html": [
       "<div>\n",
       "<style scoped>\n",
       "    .dataframe tbody tr th:only-of-type {\n",
       "        vertical-align: middle;\n",
       "    }\n",
       "\n",
       "    .dataframe tbody tr th {\n",
       "        vertical-align: top;\n",
       "    }\n",
       "\n",
       "    .dataframe thead th {\n",
       "        text-align: right;\n",
       "    }\n",
       "</style>\n",
       "<table border=\"1\" class=\"dataframe\">\n",
       "  <thead>\n",
       "    <tr style=\"text-align: right;\">\n",
       "      <th></th>\n",
       "      <th>Tipo</th>\n",
       "      <th>Classe</th>\n",
       "    </tr>\n",
       "  </thead>\n",
       "  <tbody>\n",
       "    <tr>\n",
       "      <th>215</th>\n",
       "      <td>1</td>\n",
       "      <td>Sim</td>\n",
       "    </tr>\n",
       "    <tr>\n",
       "      <th>216</th>\n",
       "      <td>2</td>\n",
       "      <td>Não</td>\n",
       "    </tr>\n",
       "    <tr>\n",
       "      <th>217</th>\n",
       "      <td>9</td>\n",
       "      <td>Ignorado</td>\n",
       "    </tr>\n",
       "  </tbody>\n",
       "</table>\n",
       "</div>"
      ],
      "text/plain": [
       "     Tipo    Classe\n",
       "215     1       Sim\n",
       "216     2       Não\n",
       "217     9  Ignorado"
      ]
     },
     "metadata": {},
     "output_type": "display_data"
    },
    {
     "name": "stdout",
     "output_type": "stream",
     "text": [
      "    [AFTER]:\n",
      "Algum médico ou profissional de saúde mental (como psiquiatra ou psicólogo) já lhe deu o diagnóstico de depressão?\n",
      "Não                                                                                                                   82514\n",
      "Sim                                                                                                                    8332\n",
      "Name: count, dtype: int64\n",
      "\n",
      "    [COLUMN]: Q09201 ==================================================\n",
      "    [BEFORE]:\n",
      "Algum médico já lhe receitou algum medicamento para depressão?\n",
      "1.0                                                               7551\n",
      "2.0                                                                750\n",
      "Name: count, dtype: int64\n",
      "\n"
     ]
    },
    {
     "data": {
      "application/vnd.microsoft.datawrangler.viewer.v0+json": {
       "columns": [
        {
         "name": "index",
         "rawType": "int64",
         "type": "integer"
        },
        {
         "name": "Tipo",
         "rawType": "int64",
         "type": "integer"
        },
        {
         "name": "Classe",
         "rawType": "object",
         "type": "string"
        }
       ],
       "conversionMethod": "pd.DataFrame",
       "ref": "9a5189bc-056b-48fa-83dd-4d37acd108d6",
       "rows": [
        [
         "219",
         "1",
         "Sim"
        ],
        [
         "220",
         "2",
         "Não"
        ],
        [
         "221",
         "3",
         "Não sabe/não respondeu"
        ]
       ],
       "shape": {
        "columns": 2,
        "rows": 3
       }
      },
      "text/html": [
       "<div>\n",
       "<style scoped>\n",
       "    .dataframe tbody tr th:only-of-type {\n",
       "        vertical-align: middle;\n",
       "    }\n",
       "\n",
       "    .dataframe tbody tr th {\n",
       "        vertical-align: top;\n",
       "    }\n",
       "\n",
       "    .dataframe thead th {\n",
       "        text-align: right;\n",
       "    }\n",
       "</style>\n",
       "<table border=\"1\" class=\"dataframe\">\n",
       "  <thead>\n",
       "    <tr style=\"text-align: right;\">\n",
       "      <th></th>\n",
       "      <th>Tipo</th>\n",
       "      <th>Classe</th>\n",
       "    </tr>\n",
       "  </thead>\n",
       "  <tbody>\n",
       "    <tr>\n",
       "      <th>219</th>\n",
       "      <td>1</td>\n",
       "      <td>Sim</td>\n",
       "    </tr>\n",
       "    <tr>\n",
       "      <th>220</th>\n",
       "      <td>2</td>\n",
       "      <td>Não</td>\n",
       "    </tr>\n",
       "    <tr>\n",
       "      <th>221</th>\n",
       "      <td>3</td>\n",
       "      <td>Não sabe/não respondeu</td>\n",
       "    </tr>\n",
       "  </tbody>\n",
       "</table>\n",
       "</div>"
      ],
      "text/plain": [
       "     Tipo                  Classe\n",
       "219     1                     Sim\n",
       "220     2                     Não\n",
       "221     3  Não sabe/não respondeu"
      ]
     },
     "metadata": {},
     "output_type": "display_data"
    },
    {
     "name": "stdout",
     "output_type": "stream",
     "text": [
      "    [AFTER]:\n",
      "Algum médico já lhe receitou algum medicamento para depressão?\n",
      "Sim                                                               7551\n",
      "Não                                                                750\n",
      "Name: count, dtype: int64\n",
      "\n",
      "    [COLUMN]: Q09202 ==================================================\n",
      "    [BEFORE]:\n",
      "Nas duas últimas semanas o(a) senhor(a) usou algum medicamento para depressão?\n",
      "3.0                                                                               4439\n",
      "1.0                                                                               3615\n",
      "2.0                                                                                243\n",
      "Name: count, dtype: int64\n",
      "\n"
     ]
    },
    {
     "data": {
      "application/vnd.microsoft.datawrangler.viewer.v0+json": {
       "columns": [
        {
         "name": "index",
         "rawType": "int64",
         "type": "integer"
        },
        {
         "name": "Tipo",
         "rawType": "int64",
         "type": "integer"
        },
        {
         "name": "Classe",
         "rawType": "object",
         "type": "string"
        }
       ],
       "conversionMethod": "pd.DataFrame",
       "ref": "cc0abe88-f18b-45b1-985c-c065d4d5b09c",
       "rows": [
        [
         "223",
         "1",
         "Sim, todos                  "
        ],
        [
         "224",
         "2",
         "Sim, alguns"
        ],
        [
         "225",
         "3",
         "Não, nenhum"
        ],
        [
         "226",
         "4",
         "Não sabe/não respondeu"
        ]
       ],
       "shape": {
        "columns": 2,
        "rows": 4
       }
      },
      "text/html": [
       "<div>\n",
       "<style scoped>\n",
       "    .dataframe tbody tr th:only-of-type {\n",
       "        vertical-align: middle;\n",
       "    }\n",
       "\n",
       "    .dataframe tbody tr th {\n",
       "        vertical-align: top;\n",
       "    }\n",
       "\n",
       "    .dataframe thead th {\n",
       "        text-align: right;\n",
       "    }\n",
       "</style>\n",
       "<table border=\"1\" class=\"dataframe\">\n",
       "  <thead>\n",
       "    <tr style=\"text-align: right;\">\n",
       "      <th></th>\n",
       "      <th>Tipo</th>\n",
       "      <th>Classe</th>\n",
       "    </tr>\n",
       "  </thead>\n",
       "  <tbody>\n",
       "    <tr>\n",
       "      <th>223</th>\n",
       "      <td>1</td>\n",
       "      <td>Sim, todos</td>\n",
       "    </tr>\n",
       "    <tr>\n",
       "      <th>224</th>\n",
       "      <td>2</td>\n",
       "      <td>Sim, alguns</td>\n",
       "    </tr>\n",
       "    <tr>\n",
       "      <th>225</th>\n",
       "      <td>3</td>\n",
       "      <td>Não, nenhum</td>\n",
       "    </tr>\n",
       "    <tr>\n",
       "      <th>226</th>\n",
       "      <td>4</td>\n",
       "      <td>Não sabe/não respondeu</td>\n",
       "    </tr>\n",
       "  </tbody>\n",
       "</table>\n",
       "</div>"
      ],
      "text/plain": [
       "     Tipo                        Classe\n",
       "223     1  Sim, todos                  \n",
       "224     2                   Sim, alguns\n",
       "225     3                   Não, nenhum\n",
       "226     4        Não sabe/não respondeu"
      ]
     },
     "metadata": {},
     "output_type": "display_data"
    },
    {
     "name": "stdout",
     "output_type": "stream",
     "text": [
      "    [AFTER]:\n",
      "Nas duas últimas semanas o(a) senhor(a) usou algum medicamento para depressão?\n",
      "Não, nenhum                                                                       4439\n",
      "Sim, todos                                                                        3615\n",
      "Sim, alguns                                                                        243\n",
      "Name: count, dtype: int64\n",
      "\n",
      "    [COLUMN]: Q094 ==================================================\n",
      "    [BEFORE]:\n",
      "O(A) Sr(a) vai ao médico/serviço de saúde regularmente por causa da depressão ou só quando tem algum problema?\n",
      "1.0                                                                                                               3023\n",
      "2.0                                                                                                               2819\n",
      "3.0                                                                                                               2490\n",
      "Name: count, dtype: int64\n",
      "\n"
     ]
    },
    {
     "data": {
      "application/vnd.microsoft.datawrangler.viewer.v0+json": {
       "columns": [
        {
         "name": "index",
         "rawType": "int64",
         "type": "integer"
        },
        {
         "name": "Tipo",
         "rawType": "int64",
         "type": "integer"
        },
        {
         "name": "Classe",
         "rawType": "object",
         "type": "string"
        }
       ],
       "conversionMethod": "pd.DataFrame",
       "ref": "b6307dc8-e865-4087-b225-1010dd55cb3e",
       "rows": [
        [
         "228",
         "1",
         "Sim"
        ],
        [
         "229",
         "2",
         "Não, só quando tem algum problema "
        ],
        [
         "230",
         "3",
         "Nunca vai "
        ],
        [
         "231",
         "9",
         "Ignorado"
        ]
       ],
       "shape": {
        "columns": 2,
        "rows": 4
       }
      },
      "text/html": [
       "<div>\n",
       "<style scoped>\n",
       "    .dataframe tbody tr th:only-of-type {\n",
       "        vertical-align: middle;\n",
       "    }\n",
       "\n",
       "    .dataframe tbody tr th {\n",
       "        vertical-align: top;\n",
       "    }\n",
       "\n",
       "    .dataframe thead th {\n",
       "        text-align: right;\n",
       "    }\n",
       "</style>\n",
       "<table border=\"1\" class=\"dataframe\">\n",
       "  <thead>\n",
       "    <tr style=\"text-align: right;\">\n",
       "      <th></th>\n",
       "      <th>Tipo</th>\n",
       "      <th>Classe</th>\n",
       "    </tr>\n",
       "  </thead>\n",
       "  <tbody>\n",
       "    <tr>\n",
       "      <th>228</th>\n",
       "      <td>1</td>\n",
       "      <td>Sim</td>\n",
       "    </tr>\n",
       "    <tr>\n",
       "      <th>229</th>\n",
       "      <td>2</td>\n",
       "      <td>Não, só quando tem algum problema</td>\n",
       "    </tr>\n",
       "    <tr>\n",
       "      <th>230</th>\n",
       "      <td>3</td>\n",
       "      <td>Nunca vai</td>\n",
       "    </tr>\n",
       "    <tr>\n",
       "      <th>231</th>\n",
       "      <td>9</td>\n",
       "      <td>Ignorado</td>\n",
       "    </tr>\n",
       "  </tbody>\n",
       "</table>\n",
       "</div>"
      ],
      "text/plain": [
       "     Tipo                              Classe\n",
       "228     1                                 Sim\n",
       "229     2  Não, só quando tem algum problema \n",
       "230     3                          Nunca vai \n",
       "231     9                            Ignorado"
      ]
     },
     "metadata": {},
     "output_type": "display_data"
    },
    {
     "name": "stdout",
     "output_type": "stream",
     "text": [
      "    [AFTER]:\n",
      "O(A) Sr(a) vai ao médico/serviço de saúde regularmente por causa da depressão ou só quando tem algum problema?\n",
      "Sim                                                                                                               3023\n",
      "Não, só quando tem algum problema                                                                                 2819\n",
      "Nunca vai                                                                                                         2490\n",
      "Name: count, dtype: int64\n",
      "\n",
      "    [COLUMN]: Q09502 ==================================================\n",
      "    [BEFORE]:\n",
      "Qual o principal motivo do(a) Sr(a) não visitar o médico/serviço de saúde regularmente por causa da depressão?\n",
      "1.0                                                                                                               3614\n",
      "3.0                                                                                                                413\n",
      "9.0                                                                                                                397\n",
      "Name: count, dtype: int64\n",
      "\n"
     ]
    },
    {
     "data": {
      "application/vnd.microsoft.datawrangler.viewer.v0+json": {
       "columns": [
        {
         "name": "index",
         "rawType": "int64",
         "type": "integer"
        },
        {
         "name": "Tipo",
         "rawType": "int64",
         "type": "integer"
        },
        {
         "name": "Classe",
         "rawType": "object",
         "type": "string"
        }
       ],
       "conversionMethod": "pd.DataFrame",
       "ref": "f086d431-81b9-4e53-89a8-6f4b4952f28f",
       "rows": [
        [
         "233",
         "1",
         "Não está mais deprimido"
        ],
        [
         "234",
         "2",
         "O serviço de saúde é distante ou tem dificuldade de transporte"
        ],
        [
         "235",
         "3",
         "Não tem ânimo"
        ],
        [
         "236",
         "4",
         "O tempo de espera no serviço de saúde é muito grande"
        ],
        [
         "237",
         "5",
         "Tem dificuldades financeiras"
        ],
        [
         "238",
         "6",
         "O horário de funcionamento do serviço de saúde é incompatível com suas atividades de trabalho ou domésticas"
        ],
        [
         "239",
         "7",
         "Não conseguiu marcar consulta pelo plano de saúde "
        ],
        [
         "240",
         "8",
         "Não sabe quem procurar ou aonde ir"
        ],
        [
         "241",
         "9",
         "Outro "
        ],
        [
         "242",
         "99",
         "Ignorado"
        ]
       ],
       "shape": {
        "columns": 2,
        "rows": 10
       }
      },
      "text/html": [
       "<div>\n",
       "<style scoped>\n",
       "    .dataframe tbody tr th:only-of-type {\n",
       "        vertical-align: middle;\n",
       "    }\n",
       "\n",
       "    .dataframe tbody tr th {\n",
       "        vertical-align: top;\n",
       "    }\n",
       "\n",
       "    .dataframe thead th {\n",
       "        text-align: right;\n",
       "    }\n",
       "</style>\n",
       "<table border=\"1\" class=\"dataframe\">\n",
       "  <thead>\n",
       "    <tr style=\"text-align: right;\">\n",
       "      <th></th>\n",
       "      <th>Tipo</th>\n",
       "      <th>Classe</th>\n",
       "    </tr>\n",
       "  </thead>\n",
       "  <tbody>\n",
       "    <tr>\n",
       "      <th>233</th>\n",
       "      <td>1</td>\n",
       "      <td>Não está mais deprimido</td>\n",
       "    </tr>\n",
       "    <tr>\n",
       "      <th>234</th>\n",
       "      <td>2</td>\n",
       "      <td>O serviço de saúde é distante ou tem dificulda...</td>\n",
       "    </tr>\n",
       "    <tr>\n",
       "      <th>235</th>\n",
       "      <td>3</td>\n",
       "      <td>Não tem ânimo</td>\n",
       "    </tr>\n",
       "    <tr>\n",
       "      <th>236</th>\n",
       "      <td>4</td>\n",
       "      <td>O tempo de espera no serviço de saúde é muito ...</td>\n",
       "    </tr>\n",
       "    <tr>\n",
       "      <th>237</th>\n",
       "      <td>5</td>\n",
       "      <td>Tem dificuldades financeiras</td>\n",
       "    </tr>\n",
       "    <tr>\n",
       "      <th>238</th>\n",
       "      <td>6</td>\n",
       "      <td>O horário de funcionamento do serviço de saúde...</td>\n",
       "    </tr>\n",
       "    <tr>\n",
       "      <th>239</th>\n",
       "      <td>7</td>\n",
       "      <td>Não conseguiu marcar consulta pelo plano de sa...</td>\n",
       "    </tr>\n",
       "    <tr>\n",
       "      <th>240</th>\n",
       "      <td>8</td>\n",
       "      <td>Não sabe quem procurar ou aonde ir</td>\n",
       "    </tr>\n",
       "    <tr>\n",
       "      <th>241</th>\n",
       "      <td>9</td>\n",
       "      <td>Outro</td>\n",
       "    </tr>\n",
       "    <tr>\n",
       "      <th>242</th>\n",
       "      <td>99</td>\n",
       "      <td>Ignorado</td>\n",
       "    </tr>\n",
       "  </tbody>\n",
       "</table>\n",
       "</div>"
      ],
      "text/plain": [
       "     Tipo                                             Classe\n",
       "233     1                            Não está mais deprimido\n",
       "234     2  O serviço de saúde é distante ou tem dificulda...\n",
       "235     3                                      Não tem ânimo\n",
       "236     4  O tempo de espera no serviço de saúde é muito ...\n",
       "237     5                       Tem dificuldades financeiras\n",
       "238     6  O horário de funcionamento do serviço de saúde...\n",
       "239     7  Não conseguiu marcar consulta pelo plano de sa...\n",
       "240     8                 Não sabe quem procurar ou aonde ir\n",
       "241     9                                             Outro \n",
       "242    99                                           Ignorado"
      ]
     },
     "metadata": {},
     "output_type": "display_data"
    },
    {
     "name": "stdout",
     "output_type": "stream",
     "text": [
      "    [AFTER]:\n",
      "Qual o principal motivo do(a) Sr(a) não visitar o médico/serviço de saúde regularmente por causa da depressão?\n",
      "Não está mais deprimido                                                                                           3614\n",
      "Não tem ânimo                                                                                                      413\n",
      "Outro                                                                                                              397\n",
      "Name: count, dtype: int64\n",
      "\n",
      "    [COLUMN]: Q09605 ==================================================\n",
      "    [BEFORE]:\n",
      "Por causa da depressão Faz psicoterapia\n",
      "2.0                                        6739\n",
      "1.0                                        1593\n",
      "Name: count, dtype: int64\n",
      "\n"
     ]
    },
    {
     "data": {
      "application/vnd.microsoft.datawrangler.viewer.v0+json": {
       "columns": [
        {
         "name": "index",
         "rawType": "int64",
         "type": "integer"
        },
        {
         "name": "Tipo",
         "rawType": "int64",
         "type": "integer"
        },
        {
         "name": "Classe",
         "rawType": "object",
         "type": "string"
        }
       ],
       "conversionMethod": "pd.DataFrame",
       "ref": "edd2e9a9-d14f-4169-993d-96497c4c6beb",
       "rows": [
        [
         "244",
         "1",
         "Sim"
        ],
        [
         "245",
         "2",
         "Não"
        ],
        [
         "246",
         "9",
         "Ignorado"
        ]
       ],
       "shape": {
        "columns": 2,
        "rows": 3
       }
      },
      "text/html": [
       "<div>\n",
       "<style scoped>\n",
       "    .dataframe tbody tr th:only-of-type {\n",
       "        vertical-align: middle;\n",
       "    }\n",
       "\n",
       "    .dataframe tbody tr th {\n",
       "        vertical-align: top;\n",
       "    }\n",
       "\n",
       "    .dataframe thead th {\n",
       "        text-align: right;\n",
       "    }\n",
       "</style>\n",
       "<table border=\"1\" class=\"dataframe\">\n",
       "  <thead>\n",
       "    <tr style=\"text-align: right;\">\n",
       "      <th></th>\n",
       "      <th>Tipo</th>\n",
       "      <th>Classe</th>\n",
       "    </tr>\n",
       "  </thead>\n",
       "  <tbody>\n",
       "    <tr>\n",
       "      <th>244</th>\n",
       "      <td>1</td>\n",
       "      <td>Sim</td>\n",
       "    </tr>\n",
       "    <tr>\n",
       "      <th>245</th>\n",
       "      <td>2</td>\n",
       "      <td>Não</td>\n",
       "    </tr>\n",
       "    <tr>\n",
       "      <th>246</th>\n",
       "      <td>9</td>\n",
       "      <td>Ignorado</td>\n",
       "    </tr>\n",
       "  </tbody>\n",
       "</table>\n",
       "</div>"
      ],
      "text/plain": [
       "     Tipo    Classe\n",
       "244     1       Sim\n",
       "245     2       Não\n",
       "246     9  Ignorado"
      ]
     },
     "metadata": {},
     "output_type": "display_data"
    },
    {
     "name": "stdout",
     "output_type": "stream",
     "text": [
      "    [AFTER]:\n",
      "Por causa da depressão Faz psicoterapia\n",
      "Não                                        6739\n",
      "Sim                                        1593\n",
      "Name: count, dtype: int64\n",
      "\n",
      "    [COLUMN]: Q09606 ==================================================\n",
      "    [BEFORE]:\n",
      "Por causa da depressão Toma medicamentos\n",
      "1.0                                         4348\n",
      "2.0                                         3984\n",
      "Name: count, dtype: int64\n",
      "\n"
     ]
    },
    {
     "data": {
      "application/vnd.microsoft.datawrangler.viewer.v0+json": {
       "columns": [
        {
         "name": "index",
         "rawType": "int64",
         "type": "integer"
        },
        {
         "name": "Tipo",
         "rawType": "int64",
         "type": "integer"
        },
        {
         "name": "Classe",
         "rawType": "object",
         "type": "string"
        }
       ],
       "conversionMethod": "pd.DataFrame",
       "ref": "92cc7815-3c30-4157-a366-89173e4e9e28",
       "rows": [
        [
         "248",
         "1",
         "Sim"
        ],
        [
         "249",
         "2",
         "Não"
        ],
        [
         "250",
         "9",
         "Ignorado"
        ]
       ],
       "shape": {
        "columns": 2,
        "rows": 3
       }
      },
      "text/html": [
       "<div>\n",
       "<style scoped>\n",
       "    .dataframe tbody tr th:only-of-type {\n",
       "        vertical-align: middle;\n",
       "    }\n",
       "\n",
       "    .dataframe tbody tr th {\n",
       "        vertical-align: top;\n",
       "    }\n",
       "\n",
       "    .dataframe thead th {\n",
       "        text-align: right;\n",
       "    }\n",
       "</style>\n",
       "<table border=\"1\" class=\"dataframe\">\n",
       "  <thead>\n",
       "    <tr style=\"text-align: right;\">\n",
       "      <th></th>\n",
       "      <th>Tipo</th>\n",
       "      <th>Classe</th>\n",
       "    </tr>\n",
       "  </thead>\n",
       "  <tbody>\n",
       "    <tr>\n",
       "      <th>248</th>\n",
       "      <td>1</td>\n",
       "      <td>Sim</td>\n",
       "    </tr>\n",
       "    <tr>\n",
       "      <th>249</th>\n",
       "      <td>2</td>\n",
       "      <td>Não</td>\n",
       "    </tr>\n",
       "    <tr>\n",
       "      <th>250</th>\n",
       "      <td>9</td>\n",
       "      <td>Ignorado</td>\n",
       "    </tr>\n",
       "  </tbody>\n",
       "</table>\n",
       "</div>"
      ],
      "text/plain": [
       "     Tipo    Classe\n",
       "248     1       Sim\n",
       "249     2       Não\n",
       "250     9  Ignorado"
      ]
     },
     "metadata": {},
     "output_type": "display_data"
    },
    {
     "name": "stdout",
     "output_type": "stream",
     "text": [
      "    [AFTER]:\n",
      "Por causa da depressão Toma medicamentos\n",
      "Sim                                         4348\n",
      "Não                                         3984\n",
      "Name: count, dtype: int64\n",
      "\n",
      "    [COLUMN]: Q098 ==================================================\n",
      "    [BEFORE]:\n",
      "Algum dos medicamentos para depressão foi obtido em serviço público de saúde?\n",
      "3.0                                                                              2549\n",
      "1.0                                                                              1257\n",
      "2.0                                                                               542\n",
      "Name: count, dtype: int64\n",
      "\n"
     ]
    },
    {
     "data": {
      "application/vnd.microsoft.datawrangler.viewer.v0+json": {
       "columns": [
        {
         "name": "index",
         "rawType": "int64",
         "type": "integer"
        },
        {
         "name": "Tipo",
         "rawType": "int64",
         "type": "integer"
        },
        {
         "name": "Classe",
         "rawType": "object",
         "type": "string"
        }
       ],
       "conversionMethod": "pd.DataFrame",
       "ref": "8e45ea19-e51f-4447-9940-43c43f0a56b8",
       "rows": [
        [
         "252",
         "1",
         "Sim, todos                  "
        ],
        [
         "253",
         "2",
         "Sim, alguns"
        ],
        [
         "254",
         "3",
         "Não, nenhum"
        ],
        [
         "255",
         "9",
         "Ignorado"
        ]
       ],
       "shape": {
        "columns": 2,
        "rows": 4
       }
      },
      "text/html": [
       "<div>\n",
       "<style scoped>\n",
       "    .dataframe tbody tr th:only-of-type {\n",
       "        vertical-align: middle;\n",
       "    }\n",
       "\n",
       "    .dataframe tbody tr th {\n",
       "        vertical-align: top;\n",
       "    }\n",
       "\n",
       "    .dataframe thead th {\n",
       "        text-align: right;\n",
       "    }\n",
       "</style>\n",
       "<table border=\"1\" class=\"dataframe\">\n",
       "  <thead>\n",
       "    <tr style=\"text-align: right;\">\n",
       "      <th></th>\n",
       "      <th>Tipo</th>\n",
       "      <th>Classe</th>\n",
       "    </tr>\n",
       "  </thead>\n",
       "  <tbody>\n",
       "    <tr>\n",
       "      <th>252</th>\n",
       "      <td>1</td>\n",
       "      <td>Sim, todos</td>\n",
       "    </tr>\n",
       "    <tr>\n",
       "      <th>253</th>\n",
       "      <td>2</td>\n",
       "      <td>Sim, alguns</td>\n",
       "    </tr>\n",
       "    <tr>\n",
       "      <th>254</th>\n",
       "      <td>3</td>\n",
       "      <td>Não, nenhum</td>\n",
       "    </tr>\n",
       "    <tr>\n",
       "      <th>255</th>\n",
       "      <td>9</td>\n",
       "      <td>Ignorado</td>\n",
       "    </tr>\n",
       "  </tbody>\n",
       "</table>\n",
       "</div>"
      ],
      "text/plain": [
       "     Tipo                        Classe\n",
       "252     1  Sim, todos                  \n",
       "253     2                   Sim, alguns\n",
       "254     3                   Não, nenhum\n",
       "255     9                      Ignorado"
      ]
     },
     "metadata": {},
     "output_type": "display_data"
    },
    {
     "name": "stdout",
     "output_type": "stream",
     "text": [
      "    [AFTER]:\n",
      "Algum dos medicamentos para depressão foi obtido em serviço público de saúde?\n",
      "Não, nenhum                                                                      2549\n",
      "Sim, todos                                                                       1257\n",
      "Sim, alguns                                                                       542\n",
      "Name: count, dtype: int64\n",
      "\n",
      "    [COLUMN]: Q10101 ==================================================\n",
      "    [BEFORE]:\n",
      "Quando foi a última vez que o(a) Sr(a) recebeu atendimento médico por causa da depressão?\n",
      "1.0                                                                                          3326\n",
      "5.0                                                                                          2794\n",
      "2.0                                                                                           878\n",
      "Name: count, dtype: int64\n",
      "\n"
     ]
    },
    {
     "data": {
      "application/vnd.microsoft.datawrangler.viewer.v0+json": {
       "columns": [
        {
         "name": "index",
         "rawType": "int64",
         "type": "integer"
        },
        {
         "name": "Tipo",
         "rawType": "int64",
         "type": "integer"
        },
        {
         "name": "Classe",
         "rawType": "object",
         "type": "string"
        }
       ],
       "conversionMethod": "pd.DataFrame",
       "ref": "d7e8fda9-8971-44e0-aad1-abb1cb011779",
       "rows": [
        [
         "257",
         "1",
         "Menos de 6 meses"
        ],
        [
         "258",
         "2",
         "De 6 meses a menos de 1 ano"
        ],
        [
         "259",
         "3",
         "De 1 ano a menos de  2 anos"
        ],
        [
         "260",
         "4",
         "De 2 anos a menos de 3 anos"
        ],
        [
         "261",
         "5",
         "3 anos ou mais"
        ],
        [
         "262",
         "6",
         "Nunca fez"
        ],
        [
         "263",
         "9",
         "Ignorado"
        ]
       ],
       "shape": {
        "columns": 2,
        "rows": 7
       }
      },
      "text/html": [
       "<div>\n",
       "<style scoped>\n",
       "    .dataframe tbody tr th:only-of-type {\n",
       "        vertical-align: middle;\n",
       "    }\n",
       "\n",
       "    .dataframe tbody tr th {\n",
       "        vertical-align: top;\n",
       "    }\n",
       "\n",
       "    .dataframe thead th {\n",
       "        text-align: right;\n",
       "    }\n",
       "</style>\n",
       "<table border=\"1\" class=\"dataframe\">\n",
       "  <thead>\n",
       "    <tr style=\"text-align: right;\">\n",
       "      <th></th>\n",
       "      <th>Tipo</th>\n",
       "      <th>Classe</th>\n",
       "    </tr>\n",
       "  </thead>\n",
       "  <tbody>\n",
       "    <tr>\n",
       "      <th>257</th>\n",
       "      <td>1</td>\n",
       "      <td>Menos de 6 meses</td>\n",
       "    </tr>\n",
       "    <tr>\n",
       "      <th>258</th>\n",
       "      <td>2</td>\n",
       "      <td>De 6 meses a menos de 1 ano</td>\n",
       "    </tr>\n",
       "    <tr>\n",
       "      <th>259</th>\n",
       "      <td>3</td>\n",
       "      <td>De 1 ano a menos de  2 anos</td>\n",
       "    </tr>\n",
       "    <tr>\n",
       "      <th>260</th>\n",
       "      <td>4</td>\n",
       "      <td>De 2 anos a menos de 3 anos</td>\n",
       "    </tr>\n",
       "    <tr>\n",
       "      <th>261</th>\n",
       "      <td>5</td>\n",
       "      <td>3 anos ou mais</td>\n",
       "    </tr>\n",
       "    <tr>\n",
       "      <th>262</th>\n",
       "      <td>6</td>\n",
       "      <td>Nunca fez</td>\n",
       "    </tr>\n",
       "    <tr>\n",
       "      <th>263</th>\n",
       "      <td>9</td>\n",
       "      <td>Ignorado</td>\n",
       "    </tr>\n",
       "  </tbody>\n",
       "</table>\n",
       "</div>"
      ],
      "text/plain": [
       "     Tipo                       Classe\n",
       "257     1             Menos de 6 meses\n",
       "258     2  De 6 meses a menos de 1 ano\n",
       "259     3  De 1 ano a menos de  2 anos\n",
       "260     4  De 2 anos a menos de 3 anos\n",
       "261     5               3 anos ou mais\n",
       "262     6                    Nunca fez\n",
       "263     9                     Ignorado"
      ]
     },
     "metadata": {},
     "output_type": "display_data"
    },
    {
     "name": "stdout",
     "output_type": "stream",
     "text": [
      "    [AFTER]:\n",
      "Quando foi a última vez que o(a) Sr(a) recebeu atendimento médico por causa da depressão?\n",
      "Menos de 6 meses                                                                             3326\n",
      "3 anos ou mais                                                                               2794\n",
      "De 6 meses a menos de 1 ano                                                                   878\n",
      "Name: count, dtype: int64\n",
      "\n",
      "    [COLUMN]: Q10202 ==================================================\n",
      "    [BEFORE]:\n",
      "Na última vez que recebeu assistência médica para depressão, onde o(a) Sr(a) foi atendido?\n",
      "6.0                                                                                           2411\n",
      "2.0                                                                                           1725\n",
      "3.0                                                                                            433\n",
      "Name: count, dtype: int64\n",
      "\n"
     ]
    },
    {
     "data": {
      "application/vnd.microsoft.datawrangler.viewer.v0+json": {
       "columns": [
        {
         "name": "index",
         "rawType": "int64",
         "type": "integer"
        },
        {
         "name": "Tipo",
         "rawType": "int64",
         "type": "integer"
        },
        {
         "name": "Classe",
         "rawType": "object",
         "type": "string"
        }
       ],
       "conversionMethod": "pd.DataFrame",
       "ref": "e7f0ed9f-2425-457b-a2c1-ecbe77de6dbd",
       "rows": [
        [
         "265",
         "1",
         "Farmácia"
        ],
        [
         "266",
         "2",
         "Unidade básica de saúde (posto ou centro de saúde ou unidade de saúde da família)"
        ],
        [
         "267",
         "3",
         "Policlínica pública, PAM (Posto de Assistência Médica) ou Centro de Especialidades público"
        ],
        [
         "268",
         "4",
         "UPA (Unidade de Pronto Atendimento), outro tipo de pronto atendimento público (24 horas), pronto-socorro ou emergência de hospital público"
        ],
        [
         "269",
         "5",
         "Ambulatório de hospital público"
        ],
        [
         "270",
         "6",
         "Consultório particular, clínica privada ou ambulatório de hospital privado"
        ],
        [
         "271",
         "7",
         "Pronto atendimento ou emergência de hospital privado"
        ],
        [
         "272",
         "8",
         "No domicílio"
        ],
        [
         "273",
         "9",
         "Outro serviço"
        ],
        [
         "274",
         "99",
         "Ignorado"
        ]
       ],
       "shape": {
        "columns": 2,
        "rows": 10
       }
      },
      "text/html": [
       "<div>\n",
       "<style scoped>\n",
       "    .dataframe tbody tr th:only-of-type {\n",
       "        vertical-align: middle;\n",
       "    }\n",
       "\n",
       "    .dataframe tbody tr th {\n",
       "        vertical-align: top;\n",
       "    }\n",
       "\n",
       "    .dataframe thead th {\n",
       "        text-align: right;\n",
       "    }\n",
       "</style>\n",
       "<table border=\"1\" class=\"dataframe\">\n",
       "  <thead>\n",
       "    <tr style=\"text-align: right;\">\n",
       "      <th></th>\n",
       "      <th>Tipo</th>\n",
       "      <th>Classe</th>\n",
       "    </tr>\n",
       "  </thead>\n",
       "  <tbody>\n",
       "    <tr>\n",
       "      <th>265</th>\n",
       "      <td>1</td>\n",
       "      <td>Farmácia</td>\n",
       "    </tr>\n",
       "    <tr>\n",
       "      <th>266</th>\n",
       "      <td>2</td>\n",
       "      <td>Unidade básica de saúde (posto ou centro de sa...</td>\n",
       "    </tr>\n",
       "    <tr>\n",
       "      <th>267</th>\n",
       "      <td>3</td>\n",
       "      <td>Policlínica pública, PAM (Posto de Assistência...</td>\n",
       "    </tr>\n",
       "    <tr>\n",
       "      <th>268</th>\n",
       "      <td>4</td>\n",
       "      <td>UPA (Unidade de Pronto Atendimento), outro tip...</td>\n",
       "    </tr>\n",
       "    <tr>\n",
       "      <th>269</th>\n",
       "      <td>5</td>\n",
       "      <td>Ambulatório de hospital público</td>\n",
       "    </tr>\n",
       "    <tr>\n",
       "      <th>270</th>\n",
       "      <td>6</td>\n",
       "      <td>Consultório particular, clínica privada ou amb...</td>\n",
       "    </tr>\n",
       "    <tr>\n",
       "      <th>271</th>\n",
       "      <td>7</td>\n",
       "      <td>Pronto atendimento ou emergência de hospital p...</td>\n",
       "    </tr>\n",
       "    <tr>\n",
       "      <th>272</th>\n",
       "      <td>8</td>\n",
       "      <td>No domicílio</td>\n",
       "    </tr>\n",
       "    <tr>\n",
       "      <th>273</th>\n",
       "      <td>9</td>\n",
       "      <td>Outro serviço</td>\n",
       "    </tr>\n",
       "    <tr>\n",
       "      <th>274</th>\n",
       "      <td>99</td>\n",
       "      <td>Ignorado</td>\n",
       "    </tr>\n",
       "  </tbody>\n",
       "</table>\n",
       "</div>"
      ],
      "text/plain": [
       "     Tipo                                             Classe\n",
       "265     1                                           Farmácia\n",
       "266     2  Unidade básica de saúde (posto ou centro de sa...\n",
       "267     3  Policlínica pública, PAM (Posto de Assistência...\n",
       "268     4  UPA (Unidade de Pronto Atendimento), outro tip...\n",
       "269     5                    Ambulatório de hospital público\n",
       "270     6  Consultório particular, clínica privada ou amb...\n",
       "271     7  Pronto atendimento ou emergência de hospital p...\n",
       "272     8                                       No domicílio\n",
       "273     9                                      Outro serviço\n",
       "274    99                                           Ignorado"
      ]
     },
     "metadata": {},
     "output_type": "display_data"
    },
    {
     "name": "stdout",
     "output_type": "stream",
     "text": [
      "    [AFTER]:\n",
      "Na última vez que recebeu assistência médica para depressão, onde o(a) Sr(a) foi atendido?\n",
      "Consultório particular, clínica privada ou ambulatório de hospital privado                    2411\n",
      "Unidade básica de saúde (posto ou centro de saúde ou unidade de saúde da família)             1725\n",
      "Policlínica pública, PAM (Posto de Assistência Médica) ou Centro de Especialidades público     433\n",
      "Name: count, dtype: int64\n",
      "\n",
      "    [COLUMN]: Q106 ==================================================\n",
      "    [BEFORE]:\n",
      "Em algum dos atendimentos para depressão, houve encaminhamento para algum acompanhamento com profissional de saúde mental, como psiquiatra ou psicólogo?\n",
      "1.0                                                                                                                                                         2020\n",
      "3.0                                                                                                                                                         1966\n",
      "2.0                                                                                                                                                         1405\n",
      "Name: count, dtype: int64\n",
      "\n"
     ]
    },
    {
     "data": {
      "application/vnd.microsoft.datawrangler.viewer.v0+json": {
       "columns": [
        {
         "name": "index",
         "rawType": "int64",
         "type": "integer"
        },
        {
         "name": "Tipo",
         "rawType": "int64",
         "type": "integer"
        },
        {
         "name": "Classe",
         "rawType": "object",
         "type": "string"
        }
       ],
       "conversionMethod": "pd.DataFrame",
       "ref": "4a38c8e6-5c3b-45f3-8f18-ada30c03cbd5",
       "rows": [
        [
         "276",
         "1",
         "Sim"
        ],
        [
         "277",
         "2",
         "Não"
        ],
        [
         "278",
         "3",
         "Não houve encaminhamento, pois todas as consultas para depressão foram com profissional de saúde mental"
        ],
        [
         "279",
         "9",
         "Ignorado"
        ]
       ],
       "shape": {
        "columns": 2,
        "rows": 4
       }
      },
      "text/html": [
       "<div>\n",
       "<style scoped>\n",
       "    .dataframe tbody tr th:only-of-type {\n",
       "        vertical-align: middle;\n",
       "    }\n",
       "\n",
       "    .dataframe tbody tr th {\n",
       "        vertical-align: top;\n",
       "    }\n",
       "\n",
       "    .dataframe thead th {\n",
       "        text-align: right;\n",
       "    }\n",
       "</style>\n",
       "<table border=\"1\" class=\"dataframe\">\n",
       "  <thead>\n",
       "    <tr style=\"text-align: right;\">\n",
       "      <th></th>\n",
       "      <th>Tipo</th>\n",
       "      <th>Classe</th>\n",
       "    </tr>\n",
       "  </thead>\n",
       "  <tbody>\n",
       "    <tr>\n",
       "      <th>276</th>\n",
       "      <td>1</td>\n",
       "      <td>Sim</td>\n",
       "    </tr>\n",
       "    <tr>\n",
       "      <th>277</th>\n",
       "      <td>2</td>\n",
       "      <td>Não</td>\n",
       "    </tr>\n",
       "    <tr>\n",
       "      <th>278</th>\n",
       "      <td>3</td>\n",
       "      <td>Não houve encaminhamento, pois todas as consul...</td>\n",
       "    </tr>\n",
       "    <tr>\n",
       "      <th>279</th>\n",
       "      <td>9</td>\n",
       "      <td>Ignorado</td>\n",
       "    </tr>\n",
       "  </tbody>\n",
       "</table>\n",
       "</div>"
      ],
      "text/plain": [
       "     Tipo                                             Classe\n",
       "276     1                                                Sim\n",
       "277     2                                                Não\n",
       "278     3  Não houve encaminhamento, pois todas as consul...\n",
       "279     9                                           Ignorado"
      ]
     },
     "metadata": {},
     "output_type": "display_data"
    },
    {
     "name": "stdout",
     "output_type": "stream",
     "text": [
      "    [AFTER]:\n",
      "Em algum dos atendimentos para depressão, houve encaminhamento para algum acompanhamento com profissional de saúde mental, como psiquiatra ou psicólogo?\n",
      "Sim                                                                                                                                                         2020\n",
      "Não houve encaminhamento, pois todas as consultas para depressão foram com profissional de saúde mental                                                     1966\n",
      "Não                                                                                                                                                         1405\n",
      "Name: count, dtype: int64\n",
      "\n",
      "    [COLUMN]: Q109 ==================================================\n",
      "    [BEFORE]:\n",
      "Em geral, em que grau a depressão limita as suas atividades habituais (tais como trabalhar, realizar afazeres domésticos, etc.)?\n",
      "1.0                                                                                                                                 4599\n",
      "2.0                                                                                                                                 1617\n",
      "3.0                                                                                                                                 1088\n",
      "Name: count, dtype: int64\n",
      "\n"
     ]
    },
    {
     "data": {
      "application/vnd.microsoft.datawrangler.viewer.v0+json": {
       "columns": [
        {
         "name": "index",
         "rawType": "int64",
         "type": "integer"
        },
        {
         "name": "Tipo",
         "rawType": "int64",
         "type": "integer"
        },
        {
         "name": "Classe",
         "rawType": "object",
         "type": "string"
        }
       ],
       "conversionMethod": "pd.DataFrame",
       "ref": "7eeaac4f-eeac-4f81-bfaa-3a54912c7f64",
       "rows": [
        [
         "281",
         "1",
         "Não limita"
        ],
        [
         "282",
         "2",
         "Um pouco"
        ],
        [
         "283",
         "3",
         "Moderadamente"
        ],
        [
         "284",
         "4",
         "Intensamente"
        ],
        [
         "285",
         "5",
         "Muito intensamente"
        ],
        [
         "286",
         "9",
         "Ignorado"
        ]
       ],
       "shape": {
        "columns": 2,
        "rows": 6
       }
      },
      "text/html": [
       "<div>\n",
       "<style scoped>\n",
       "    .dataframe tbody tr th:only-of-type {\n",
       "        vertical-align: middle;\n",
       "    }\n",
       "\n",
       "    .dataframe tbody tr th {\n",
       "        vertical-align: top;\n",
       "    }\n",
       "\n",
       "    .dataframe thead th {\n",
       "        text-align: right;\n",
       "    }\n",
       "</style>\n",
       "<table border=\"1\" class=\"dataframe\">\n",
       "  <thead>\n",
       "    <tr style=\"text-align: right;\">\n",
       "      <th></th>\n",
       "      <th>Tipo</th>\n",
       "      <th>Classe</th>\n",
       "    </tr>\n",
       "  </thead>\n",
       "  <tbody>\n",
       "    <tr>\n",
       "      <th>281</th>\n",
       "      <td>1</td>\n",
       "      <td>Não limita</td>\n",
       "    </tr>\n",
       "    <tr>\n",
       "      <th>282</th>\n",
       "      <td>2</td>\n",
       "      <td>Um pouco</td>\n",
       "    </tr>\n",
       "    <tr>\n",
       "      <th>283</th>\n",
       "      <td>3</td>\n",
       "      <td>Moderadamente</td>\n",
       "    </tr>\n",
       "    <tr>\n",
       "      <th>284</th>\n",
       "      <td>4</td>\n",
       "      <td>Intensamente</td>\n",
       "    </tr>\n",
       "    <tr>\n",
       "      <th>285</th>\n",
       "      <td>5</td>\n",
       "      <td>Muito intensamente</td>\n",
       "    </tr>\n",
       "    <tr>\n",
       "      <th>286</th>\n",
       "      <td>9</td>\n",
       "      <td>Ignorado</td>\n",
       "    </tr>\n",
       "  </tbody>\n",
       "</table>\n",
       "</div>"
      ],
      "text/plain": [
       "     Tipo              Classe\n",
       "281     1          Não limita\n",
       "282     2            Um pouco\n",
       "283     3       Moderadamente\n",
       "284     4        Intensamente\n",
       "285     5  Muito intensamente\n",
       "286     9            Ignorado"
      ]
     },
     "metadata": {},
     "output_type": "display_data"
    },
    {
     "name": "stdout",
     "output_type": "stream",
     "text": [
      "    [AFTER]:\n",
      "Em geral, em que grau a depressão limita as suas atividades habituais (tais como trabalhar, realizar afazeres domésticos, etc.)?\n",
      "Não limita                                                                                                                          4599\n",
      "Um pouco                                                                                                                            1617\n",
      "Moderadamente                                                                                                                       1088\n",
      "Name: count, dtype: int64\n",
      "\n",
      "    [COLUMN]: V00201 ==================================================\n",
      "    [BEFORE]:\n",
      "Nos últimos doze meses, alguém: Te ofendeu, humilhou ou ridicularizou na frente de outras pessoas?\n",
      "2.0                                                                                                   79588\n",
      "1.0                                                                                                    8943\n",
      "Name: count, dtype: int64\n",
      "\n"
     ]
    },
    {
     "data": {
      "application/vnd.microsoft.datawrangler.viewer.v0+json": {
       "columns": [
        {
         "name": "index",
         "rawType": "int64",
         "type": "integer"
        },
        {
         "name": "Tipo",
         "rawType": "int64",
         "type": "integer"
        },
        {
         "name": "Classe",
         "rawType": "object",
         "type": "string"
        }
       ],
       "conversionMethod": "pd.DataFrame",
       "ref": "e3a42463-2bdd-46b7-8ff6-f7b57845e08c",
       "rows": [
        [
         "288",
         "1",
         "Sim"
        ],
        [
         "289",
         "2",
         "Não"
        ]
       ],
       "shape": {
        "columns": 2,
        "rows": 2
       }
      },
      "text/html": [
       "<div>\n",
       "<style scoped>\n",
       "    .dataframe tbody tr th:only-of-type {\n",
       "        vertical-align: middle;\n",
       "    }\n",
       "\n",
       "    .dataframe tbody tr th {\n",
       "        vertical-align: top;\n",
       "    }\n",
       "\n",
       "    .dataframe thead th {\n",
       "        text-align: right;\n",
       "    }\n",
       "</style>\n",
       "<table border=\"1\" class=\"dataframe\">\n",
       "  <thead>\n",
       "    <tr style=\"text-align: right;\">\n",
       "      <th></th>\n",
       "      <th>Tipo</th>\n",
       "      <th>Classe</th>\n",
       "    </tr>\n",
       "  </thead>\n",
       "  <tbody>\n",
       "    <tr>\n",
       "      <th>288</th>\n",
       "      <td>1</td>\n",
       "      <td>Sim</td>\n",
       "    </tr>\n",
       "    <tr>\n",
       "      <th>289</th>\n",
       "      <td>2</td>\n",
       "      <td>Não</td>\n",
       "    </tr>\n",
       "  </tbody>\n",
       "</table>\n",
       "</div>"
      ],
      "text/plain": [
       "     Tipo Classe\n",
       "288     1    Sim\n",
       "289     2    Não"
      ]
     },
     "metadata": {},
     "output_type": "display_data"
    },
    {
     "name": "stdout",
     "output_type": "stream",
     "text": [
      "    [AFTER]:\n",
      "Nos últimos doze meses, alguém: Te ofendeu, humilhou ou ridicularizou na frente de outras pessoas?\n",
      "Não                                                                                                   79588\n",
      "Sim                                                                                                    8943\n",
      "Name: count, dtype: int64\n",
      "\n",
      "    [COLUMN]: V00202 ==================================================\n",
      "    [BEFORE]:\n",
      "Nos últimos doze meses, alguém: Gritou com você ou te xingou?\n",
      "2.0                                                              77504\n",
      "1.0                                                              11027\n",
      "Name: count, dtype: int64\n",
      "\n"
     ]
    },
    {
     "data": {
      "application/vnd.microsoft.datawrangler.viewer.v0+json": {
       "columns": [
        {
         "name": "index",
         "rawType": "int64",
         "type": "integer"
        },
        {
         "name": "Tipo",
         "rawType": "int64",
         "type": "integer"
        },
        {
         "name": "Classe",
         "rawType": "object",
         "type": "string"
        }
       ],
       "conversionMethod": "pd.DataFrame",
       "ref": "639483aa-d14e-4f94-b4e3-4cfd4ae66182",
       "rows": [
        [
         "291",
         "1",
         "Sim"
        ],
        [
         "292",
         "2",
         "Não"
        ]
       ],
       "shape": {
        "columns": 2,
        "rows": 2
       }
      },
      "text/html": [
       "<div>\n",
       "<style scoped>\n",
       "    .dataframe tbody tr th:only-of-type {\n",
       "        vertical-align: middle;\n",
       "    }\n",
       "\n",
       "    .dataframe tbody tr th {\n",
       "        vertical-align: top;\n",
       "    }\n",
       "\n",
       "    .dataframe thead th {\n",
       "        text-align: right;\n",
       "    }\n",
       "</style>\n",
       "<table border=\"1\" class=\"dataframe\">\n",
       "  <thead>\n",
       "    <tr style=\"text-align: right;\">\n",
       "      <th></th>\n",
       "      <th>Tipo</th>\n",
       "      <th>Classe</th>\n",
       "    </tr>\n",
       "  </thead>\n",
       "  <tbody>\n",
       "    <tr>\n",
       "      <th>291</th>\n",
       "      <td>1</td>\n",
       "      <td>Sim</td>\n",
       "    </tr>\n",
       "    <tr>\n",
       "      <th>292</th>\n",
       "      <td>2</td>\n",
       "      <td>Não</td>\n",
       "    </tr>\n",
       "  </tbody>\n",
       "</table>\n",
       "</div>"
      ],
      "text/plain": [
       "     Tipo Classe\n",
       "291     1    Sim\n",
       "292     2    Não"
      ]
     },
     "metadata": {},
     "output_type": "display_data"
    },
    {
     "name": "stdout",
     "output_type": "stream",
     "text": [
      "    [AFTER]:\n",
      "Nos últimos doze meses, alguém: Gritou com você ou te xingou?\n",
      "Não                                                              77504\n",
      "Sim                                                              11027\n",
      "Name: count, dtype: int64\n",
      "\n",
      "    [COLUMN]: V00203 ==================================================\n",
      "    [BEFORE]:\n",
      "Nos últimos doze meses, alguém: Usou redes sociais ou celular para ameaçar, ofender, xingar ou expor imagens suas sem o seu consentimento?\n",
      "2.0                                                                                                                                           86573\n",
      "1.0                                                                                                                                            1958\n",
      "Name: count, dtype: int64\n",
      "\n"
     ]
    },
    {
     "data": {
      "application/vnd.microsoft.datawrangler.viewer.v0+json": {
       "columns": [
        {
         "name": "index",
         "rawType": "int64",
         "type": "integer"
        },
        {
         "name": "Tipo",
         "rawType": "int64",
         "type": "integer"
        },
        {
         "name": "Classe",
         "rawType": "object",
         "type": "string"
        }
       ],
       "conversionMethod": "pd.DataFrame",
       "ref": "b0fcb2fd-5c3e-4a86-ade2-f5080caf5842",
       "rows": [
        [
         "294",
         "1",
         "Sim"
        ],
        [
         "295",
         "2",
         "Não"
        ]
       ],
       "shape": {
        "columns": 2,
        "rows": 2
       }
      },
      "text/html": [
       "<div>\n",
       "<style scoped>\n",
       "    .dataframe tbody tr th:only-of-type {\n",
       "        vertical-align: middle;\n",
       "    }\n",
       "\n",
       "    .dataframe tbody tr th {\n",
       "        vertical-align: top;\n",
       "    }\n",
       "\n",
       "    .dataframe thead th {\n",
       "        text-align: right;\n",
       "    }\n",
       "</style>\n",
       "<table border=\"1\" class=\"dataframe\">\n",
       "  <thead>\n",
       "    <tr style=\"text-align: right;\">\n",
       "      <th></th>\n",
       "      <th>Tipo</th>\n",
       "      <th>Classe</th>\n",
       "    </tr>\n",
       "  </thead>\n",
       "  <tbody>\n",
       "    <tr>\n",
       "      <th>294</th>\n",
       "      <td>1</td>\n",
       "      <td>Sim</td>\n",
       "    </tr>\n",
       "    <tr>\n",
       "      <th>295</th>\n",
       "      <td>2</td>\n",
       "      <td>Não</td>\n",
       "    </tr>\n",
       "  </tbody>\n",
       "</table>\n",
       "</div>"
      ],
      "text/plain": [
       "     Tipo Classe\n",
       "294     1    Sim\n",
       "295     2    Não"
      ]
     },
     "metadata": {},
     "output_type": "display_data"
    },
    {
     "name": "stdout",
     "output_type": "stream",
     "text": [
      "    [AFTER]:\n",
      "Nos últimos doze meses, alguém: Usou redes sociais ou celular para ameaçar, ofender, xingar ou expor imagens suas sem o seu consentimento?\n",
      "Não                                                                                                                                           86573\n",
      "Sim                                                                                                                                            1958\n",
      "Name: count, dtype: int64\n",
      "\n",
      "    [COLUMN]: V00204 ==================================================\n",
      "    [BEFORE]:\n",
      "Nos últimos doze meses, alguém: Te ameaçou de ferir ou machucar alguém importante para você?\n",
      "2.0                                                                                             83691\n",
      "1.0                                                                                              4840\n",
      "Name: count, dtype: int64\n",
      "\n"
     ]
    },
    {
     "data": {
      "application/vnd.microsoft.datawrangler.viewer.v0+json": {
       "columns": [
        {
         "name": "index",
         "rawType": "int64",
         "type": "integer"
        },
        {
         "name": "Tipo",
         "rawType": "int64",
         "type": "integer"
        },
        {
         "name": "Classe",
         "rawType": "object",
         "type": "string"
        }
       ],
       "conversionMethod": "pd.DataFrame",
       "ref": "57e91a4b-547c-4792-9ed2-ef2f6039c7e5",
       "rows": [
        [
         "297",
         "1",
         "Sim"
        ],
        [
         "298",
         "2",
         "Não"
        ]
       ],
       "shape": {
        "columns": 2,
        "rows": 2
       }
      },
      "text/html": [
       "<div>\n",
       "<style scoped>\n",
       "    .dataframe tbody tr th:only-of-type {\n",
       "        vertical-align: middle;\n",
       "    }\n",
       "\n",
       "    .dataframe tbody tr th {\n",
       "        vertical-align: top;\n",
       "    }\n",
       "\n",
       "    .dataframe thead th {\n",
       "        text-align: right;\n",
       "    }\n",
       "</style>\n",
       "<table border=\"1\" class=\"dataframe\">\n",
       "  <thead>\n",
       "    <tr style=\"text-align: right;\">\n",
       "      <th></th>\n",
       "      <th>Tipo</th>\n",
       "      <th>Classe</th>\n",
       "    </tr>\n",
       "  </thead>\n",
       "  <tbody>\n",
       "    <tr>\n",
       "      <th>297</th>\n",
       "      <td>1</td>\n",
       "      <td>Sim</td>\n",
       "    </tr>\n",
       "    <tr>\n",
       "      <th>298</th>\n",
       "      <td>2</td>\n",
       "      <td>Não</td>\n",
       "    </tr>\n",
       "  </tbody>\n",
       "</table>\n",
       "</div>"
      ],
      "text/plain": [
       "     Tipo Classe\n",
       "297     1    Sim\n",
       "298     2    Não"
      ]
     },
     "metadata": {},
     "output_type": "display_data"
    },
    {
     "name": "stdout",
     "output_type": "stream",
     "text": [
      "    [AFTER]:\n",
      "Nos últimos doze meses, alguém: Te ameaçou de ferir ou machucar alguém importante para você?\n",
      "Não                                                                                             83691\n",
      "Sim                                                                                              4840\n",
      "Name: count, dtype: int64\n",
      "\n",
      "    [COLUMN]: V00205 ==================================================\n",
      "    [BEFORE]:\n",
      "Nos últimos doze meses, alguém: Destruiu alguma coisa sua de propósito?\n",
      "2.0                                                                        86567\n",
      "1.0                                                                         1964\n",
      "Name: count, dtype: int64\n",
      "\n"
     ]
    },
    {
     "data": {
      "application/vnd.microsoft.datawrangler.viewer.v0+json": {
       "columns": [
        {
         "name": "index",
         "rawType": "int64",
         "type": "integer"
        },
        {
         "name": "Tipo",
         "rawType": "int64",
         "type": "integer"
        },
        {
         "name": "Classe",
         "rawType": "object",
         "type": "string"
        }
       ],
       "conversionMethod": "pd.DataFrame",
       "ref": "674d2ff8-5862-4914-ba83-3153a50928c4",
       "rows": [
        [
         "300",
         "1",
         "Sim"
        ],
        [
         "301",
         "2",
         "Não"
        ]
       ],
       "shape": {
        "columns": 2,
        "rows": 2
       }
      },
      "text/html": [
       "<div>\n",
       "<style scoped>\n",
       "    .dataframe tbody tr th:only-of-type {\n",
       "        vertical-align: middle;\n",
       "    }\n",
       "\n",
       "    .dataframe tbody tr th {\n",
       "        vertical-align: top;\n",
       "    }\n",
       "\n",
       "    .dataframe thead th {\n",
       "        text-align: right;\n",
       "    }\n",
       "</style>\n",
       "<table border=\"1\" class=\"dataframe\">\n",
       "  <thead>\n",
       "    <tr style=\"text-align: right;\">\n",
       "      <th></th>\n",
       "      <th>Tipo</th>\n",
       "      <th>Classe</th>\n",
       "    </tr>\n",
       "  </thead>\n",
       "  <tbody>\n",
       "    <tr>\n",
       "      <th>300</th>\n",
       "      <td>1</td>\n",
       "      <td>Sim</td>\n",
       "    </tr>\n",
       "    <tr>\n",
       "      <th>301</th>\n",
       "      <td>2</td>\n",
       "      <td>Não</td>\n",
       "    </tr>\n",
       "  </tbody>\n",
       "</table>\n",
       "</div>"
      ],
      "text/plain": [
       "     Tipo Classe\n",
       "300     1    Sim\n",
       "301     2    Não"
      ]
     },
     "metadata": {},
     "output_type": "display_data"
    },
    {
     "name": "stdout",
     "output_type": "stream",
     "text": [
      "    [AFTER]:\n",
      "Nos últimos doze meses, alguém: Destruiu alguma coisa sua de propósito?\n",
      "Não                                                                        86567\n",
      "Sim                                                                         1964\n",
      "Name: count, dtype: int64\n",
      "\n",
      "    [COLUMN]: V003 ==================================================\n",
      "    [BEFORE]:\n",
      "Nos últimos doze meses, quantas vezes isso aconteceu com você?\n",
      "2.0                                                               6411\n",
      "3.0                                                               6070\n",
      "1.0                                                               2038\n",
      "Name: count, dtype: int64\n",
      "\n"
     ]
    },
    {
     "data": {
      "application/vnd.microsoft.datawrangler.viewer.v0+json": {
       "columns": [
        {
         "name": "index",
         "rawType": "int64",
         "type": "integer"
        },
        {
         "name": "Tipo",
         "rawType": "int64",
         "type": "integer"
        },
        {
         "name": "Classe",
         "rawType": "object",
         "type": "string"
        }
       ],
       "conversionMethod": "pd.DataFrame",
       "ref": "4ace9a8c-730c-4b44-b1a7-6e8330693e30",
       "rows": [
        [
         "303",
         "1",
         "Muitas vezes"
        ],
        [
         "304",
         "2",
         "Algumas vezes"
        ],
        [
         "305",
         "3",
         "Uma vez"
        ]
       ],
       "shape": {
        "columns": 2,
        "rows": 3
       }
      },
      "text/html": [
       "<div>\n",
       "<style scoped>\n",
       "    .dataframe tbody tr th:only-of-type {\n",
       "        vertical-align: middle;\n",
       "    }\n",
       "\n",
       "    .dataframe tbody tr th {\n",
       "        vertical-align: top;\n",
       "    }\n",
       "\n",
       "    .dataframe thead th {\n",
       "        text-align: right;\n",
       "    }\n",
       "</style>\n",
       "<table border=\"1\" class=\"dataframe\">\n",
       "  <thead>\n",
       "    <tr style=\"text-align: right;\">\n",
       "      <th></th>\n",
       "      <th>Tipo</th>\n",
       "      <th>Classe</th>\n",
       "    </tr>\n",
       "  </thead>\n",
       "  <tbody>\n",
       "    <tr>\n",
       "      <th>303</th>\n",
       "      <td>1</td>\n",
       "      <td>Muitas vezes</td>\n",
       "    </tr>\n",
       "    <tr>\n",
       "      <th>304</th>\n",
       "      <td>2</td>\n",
       "      <td>Algumas vezes</td>\n",
       "    </tr>\n",
       "    <tr>\n",
       "      <th>305</th>\n",
       "      <td>3</td>\n",
       "      <td>Uma vez</td>\n",
       "    </tr>\n",
       "  </tbody>\n",
       "</table>\n",
       "</div>"
      ],
      "text/plain": [
       "     Tipo         Classe\n",
       "303     1   Muitas vezes\n",
       "304     2  Algumas vezes\n",
       "305     3        Uma vez"
      ]
     },
     "metadata": {},
     "output_type": "display_data"
    },
    {
     "name": "stdout",
     "output_type": "stream",
     "text": [
      "    [AFTER]:\n",
      "Nos últimos doze meses, quantas vezes isso aconteceu com você?\n",
      "Algumas vezes                                                     6411\n",
      "Uma vez                                                           6070\n",
      "Muitas vezes                                                      2038\n",
      "Name: count, dtype: int64\n",
      "\n",
      "    [COLUMN]: V006 ==================================================\n",
      "    [BEFORE]:\n",
      "Quem fez isso com você? (Se mais de uma pessoa, defina o pirncipal agressor)\n",
      "8.0                                                                             3255\n",
      "11.0                                                                            2843\n",
      "1.0                                                                             1684\n",
      "Name: count, dtype: int64\n",
      "\n"
     ]
    },
    {
     "data": {
      "application/vnd.microsoft.datawrangler.viewer.v0+json": {
       "columns": [
        {
         "name": "index",
         "rawType": "int64",
         "type": "integer"
        },
        {
         "name": "Tipo",
         "rawType": "int64",
         "type": "integer"
        },
        {
         "name": "Classe",
         "rawType": "object",
         "type": "string"
        }
       ],
       "conversionMethod": "pd.DataFrame",
       "ref": "064420de-2048-4a77-a280-f484081bbb36",
       "rows": [
        [
         "307",
         "1",
         "Cônjuge ou companheiro (a) "
        ],
        [
         "308",
         "2",
         "Ex-Cônjuge ou ex-companheiro (a)"
        ],
        [
         "309",
         "3",
         "Parceiro (a), namorado (a), ex-parceiro (a), ex-namorado (a)  "
        ],
        [
         "310",
         "4",
         "Pai, mãe, padrasto ou madrasta"
        ],
        [
         "311",
         "5",
         "Filho(a), enteado(a)"
        ],
        [
         "312",
         "6",
         "Irmão(ã)"
        ],
        [
         "313",
         "7",
         "Outro parente"
        ],
        [
         "314",
         "8",
         "Amigo(a)/colega, vizinho(a)"
        ],
        [
         "315",
         "9",
         "Empregado (a) em geral "
        ],
        [
         "316",
         "10",
         "Patrão/patroa/chefe"
        ],
        [
         "317",
         "11",
         "Pessoa desconhecida"
        ],
        [
         "318",
         "12",
         "Policial"
        ],
        [
         "319",
         "13",
         "Outro "
        ]
       ],
       "shape": {
        "columns": 2,
        "rows": 13
       }
      },
      "text/html": [
       "<div>\n",
       "<style scoped>\n",
       "    .dataframe tbody tr th:only-of-type {\n",
       "        vertical-align: middle;\n",
       "    }\n",
       "\n",
       "    .dataframe tbody tr th {\n",
       "        vertical-align: top;\n",
       "    }\n",
       "\n",
       "    .dataframe thead th {\n",
       "        text-align: right;\n",
       "    }\n",
       "</style>\n",
       "<table border=\"1\" class=\"dataframe\">\n",
       "  <thead>\n",
       "    <tr style=\"text-align: right;\">\n",
       "      <th></th>\n",
       "      <th>Tipo</th>\n",
       "      <th>Classe</th>\n",
       "    </tr>\n",
       "  </thead>\n",
       "  <tbody>\n",
       "    <tr>\n",
       "      <th>307</th>\n",
       "      <td>1</td>\n",
       "      <td>Cônjuge ou companheiro (a)</td>\n",
       "    </tr>\n",
       "    <tr>\n",
       "      <th>308</th>\n",
       "      <td>2</td>\n",
       "      <td>Ex-Cônjuge ou ex-companheiro (a)</td>\n",
       "    </tr>\n",
       "    <tr>\n",
       "      <th>309</th>\n",
       "      <td>3</td>\n",
       "      <td>Parceiro (a), namorado (a), ex-parceiro (a), e...</td>\n",
       "    </tr>\n",
       "    <tr>\n",
       "      <th>310</th>\n",
       "      <td>4</td>\n",
       "      <td>Pai, mãe, padrasto ou madrasta</td>\n",
       "    </tr>\n",
       "    <tr>\n",
       "      <th>311</th>\n",
       "      <td>5</td>\n",
       "      <td>Filho(a), enteado(a)</td>\n",
       "    </tr>\n",
       "    <tr>\n",
       "      <th>312</th>\n",
       "      <td>6</td>\n",
       "      <td>Irmão(ã)</td>\n",
       "    </tr>\n",
       "    <tr>\n",
       "      <th>313</th>\n",
       "      <td>7</td>\n",
       "      <td>Outro parente</td>\n",
       "    </tr>\n",
       "    <tr>\n",
       "      <th>314</th>\n",
       "      <td>8</td>\n",
       "      <td>Amigo(a)/colega, vizinho(a)</td>\n",
       "    </tr>\n",
       "    <tr>\n",
       "      <th>315</th>\n",
       "      <td>9</td>\n",
       "      <td>Empregado (a) em geral</td>\n",
       "    </tr>\n",
       "    <tr>\n",
       "      <th>316</th>\n",
       "      <td>10</td>\n",
       "      <td>Patrão/patroa/chefe</td>\n",
       "    </tr>\n",
       "    <tr>\n",
       "      <th>317</th>\n",
       "      <td>11</td>\n",
       "      <td>Pessoa desconhecida</td>\n",
       "    </tr>\n",
       "    <tr>\n",
       "      <th>318</th>\n",
       "      <td>12</td>\n",
       "      <td>Policial</td>\n",
       "    </tr>\n",
       "    <tr>\n",
       "      <th>319</th>\n",
       "      <td>13</td>\n",
       "      <td>Outro</td>\n",
       "    </tr>\n",
       "  </tbody>\n",
       "</table>\n",
       "</div>"
      ],
      "text/plain": [
       "     Tipo                                             Classe\n",
       "307     1                        Cônjuge ou companheiro (a) \n",
       "308     2                   Ex-Cônjuge ou ex-companheiro (a)\n",
       "309     3  Parceiro (a), namorado (a), ex-parceiro (a), e...\n",
       "310     4                     Pai, mãe, padrasto ou madrasta\n",
       "311     5                               Filho(a), enteado(a)\n",
       "312     6                                           Irmão(ã)\n",
       "313     7                                      Outro parente\n",
       "314     8                        Amigo(a)/colega, vizinho(a)\n",
       "315     9                            Empregado (a) em geral \n",
       "316    10                                Patrão/patroa/chefe\n",
       "317    11                                Pessoa desconhecida\n",
       "318    12                                           Policial\n",
       "319    13                                             Outro "
      ]
     },
     "metadata": {},
     "output_type": "display_data"
    },
    {
     "name": "stdout",
     "output_type": "stream",
     "text": [
      "    [AFTER]:\n",
      "Quem fez isso com você? (Se mais de uma pessoa, defina o pirncipal agressor)\n",
      "Amigo(a)/colega, vizinho(a)                                                     3255\n",
      "Pessoa desconhecida                                                             2843\n",
      "Cônjuge ou companheiro (a)                                                      1684\n",
      "Name: count, dtype: int64\n",
      "\n",
      "    [COLUMN]: V007 ==================================================\n",
      "    [BEFORE]:\n",
      "Onde isso ocorreu?\n",
      "1.0                   6503\n",
      "5.0                   3143\n",
      "2.0                   2514\n",
      "Name: count, dtype: int64\n",
      "\n"
     ]
    },
    {
     "data": {
      "application/vnd.microsoft.datawrangler.viewer.v0+json": {
       "columns": [
        {
         "name": "index",
         "rawType": "int64",
         "type": "integer"
        },
        {
         "name": "Tipo",
         "rawType": "int64",
         "type": "integer"
        },
        {
         "name": "Classe",
         "rawType": "object",
         "type": "string"
        }
       ],
       "conversionMethod": "pd.DataFrame",
       "ref": "470538c5-ad83-4408-b9fd-8f37b5e07cb2",
       "rows": [
        [
         "321",
         "1",
         "Residência"
        ],
        [
         "322",
         "2",
         "Trabalho"
        ],
        [
         "323",
         "3",
         "Escola, faculdade ou outro estabelecimento de ensino"
        ],
        [
         "324",
         "4",
         "Bar, restaurante ou similar"
        ],
        [
         "325",
         "5",
         "Via pública ou outro local público"
        ],
        [
         "326",
         "6",
         "Internet/Redes Sociais/Celular"
        ],
        [
         "327",
         "7",
         "Outro "
        ]
       ],
       "shape": {
        "columns": 2,
        "rows": 7
       }
      },
      "text/html": [
       "<div>\n",
       "<style scoped>\n",
       "    .dataframe tbody tr th:only-of-type {\n",
       "        vertical-align: middle;\n",
       "    }\n",
       "\n",
       "    .dataframe tbody tr th {\n",
       "        vertical-align: top;\n",
       "    }\n",
       "\n",
       "    .dataframe thead th {\n",
       "        text-align: right;\n",
       "    }\n",
       "</style>\n",
       "<table border=\"1\" class=\"dataframe\">\n",
       "  <thead>\n",
       "    <tr style=\"text-align: right;\">\n",
       "      <th></th>\n",
       "      <th>Tipo</th>\n",
       "      <th>Classe</th>\n",
       "    </tr>\n",
       "  </thead>\n",
       "  <tbody>\n",
       "    <tr>\n",
       "      <th>321</th>\n",
       "      <td>1</td>\n",
       "      <td>Residência</td>\n",
       "    </tr>\n",
       "    <tr>\n",
       "      <th>322</th>\n",
       "      <td>2</td>\n",
       "      <td>Trabalho</td>\n",
       "    </tr>\n",
       "    <tr>\n",
       "      <th>323</th>\n",
       "      <td>3</td>\n",
       "      <td>Escola, faculdade ou outro estabelecimento de ...</td>\n",
       "    </tr>\n",
       "    <tr>\n",
       "      <th>324</th>\n",
       "      <td>4</td>\n",
       "      <td>Bar, restaurante ou similar</td>\n",
       "    </tr>\n",
       "    <tr>\n",
       "      <th>325</th>\n",
       "      <td>5</td>\n",
       "      <td>Via pública ou outro local público</td>\n",
       "    </tr>\n",
       "    <tr>\n",
       "      <th>326</th>\n",
       "      <td>6</td>\n",
       "      <td>Internet/Redes Sociais/Celular</td>\n",
       "    </tr>\n",
       "    <tr>\n",
       "      <th>327</th>\n",
       "      <td>7</td>\n",
       "      <td>Outro</td>\n",
       "    </tr>\n",
       "  </tbody>\n",
       "</table>\n",
       "</div>"
      ],
      "text/plain": [
       "     Tipo                                             Classe\n",
       "321     1                                         Residência\n",
       "322     2                                           Trabalho\n",
       "323     3  Escola, faculdade ou outro estabelecimento de ...\n",
       "324     4                        Bar, restaurante ou similar\n",
       "325     5                 Via pública ou outro local público\n",
       "326     6                     Internet/Redes Sociais/Celular\n",
       "327     7                                             Outro "
      ]
     },
     "metadata": {},
     "output_type": "display_data"
    },
    {
     "name": "stdout",
     "output_type": "stream",
     "text": [
      "    [AFTER]:\n",
      "Onde isso ocorreu?                \n",
      "Residência                            6503\n",
      "Via pública ou outro local público    3143\n",
      "Trabalho                              2514\n",
      "Name: count, dtype: int64\n",
      "\n",
      "    [COLUMN]: V01401 ==================================================\n",
      "    [BEFORE]:\n",
      "Nos últimos doze meses, alguém: Te deu um tapa ou uma bofetada?\n",
      "2.0                                                                87099\n",
      "1.0                                                                 1432\n",
      "Name: count, dtype: int64\n",
      "\n"
     ]
    },
    {
     "data": {
      "application/vnd.microsoft.datawrangler.viewer.v0+json": {
       "columns": [
        {
         "name": "index",
         "rawType": "int64",
         "type": "integer"
        },
        {
         "name": "Tipo",
         "rawType": "int64",
         "type": "integer"
        },
        {
         "name": "Classe",
         "rawType": "object",
         "type": "string"
        }
       ],
       "conversionMethod": "pd.DataFrame",
       "ref": "bff152ab-b139-4f74-9f8d-8f6bd7f5f8cf",
       "rows": [
        [
         "329",
         "1",
         "Sim"
        ],
        [
         "330",
         "2",
         "Não"
        ]
       ],
       "shape": {
        "columns": 2,
        "rows": 2
       }
      },
      "text/html": [
       "<div>\n",
       "<style scoped>\n",
       "    .dataframe tbody tr th:only-of-type {\n",
       "        vertical-align: middle;\n",
       "    }\n",
       "\n",
       "    .dataframe tbody tr th {\n",
       "        vertical-align: top;\n",
       "    }\n",
       "\n",
       "    .dataframe thead th {\n",
       "        text-align: right;\n",
       "    }\n",
       "</style>\n",
       "<table border=\"1\" class=\"dataframe\">\n",
       "  <thead>\n",
       "    <tr style=\"text-align: right;\">\n",
       "      <th></th>\n",
       "      <th>Tipo</th>\n",
       "      <th>Classe</th>\n",
       "    </tr>\n",
       "  </thead>\n",
       "  <tbody>\n",
       "    <tr>\n",
       "      <th>329</th>\n",
       "      <td>1</td>\n",
       "      <td>Sim</td>\n",
       "    </tr>\n",
       "    <tr>\n",
       "      <th>330</th>\n",
       "      <td>2</td>\n",
       "      <td>Não</td>\n",
       "    </tr>\n",
       "  </tbody>\n",
       "</table>\n",
       "</div>"
      ],
      "text/plain": [
       "     Tipo Classe\n",
       "329     1    Sim\n",
       "330     2    Não"
      ]
     },
     "metadata": {},
     "output_type": "display_data"
    },
    {
     "name": "stdout",
     "output_type": "stream",
     "text": [
      "    [AFTER]:\n",
      "Nos últimos doze meses, alguém: Te deu um tapa ou uma bofetada?\n",
      "Não                                                                87099\n",
      "Sim                                                                 1432\n",
      "Name: count, dtype: int64\n",
      "\n",
      "    [COLUMN]: V01402 ==================================================\n",
      "    [BEFORE]:\n",
      "Nos últimos doze meses, alguém: Te empurrou, segurou com força ou jogou algo em você com a intenção de machucar?\n",
      "2.0                                                                                                                 86392\n",
      "1.0                                                                                                                  2139\n",
      "Name: count, dtype: int64\n",
      "\n"
     ]
    },
    {
     "data": {
      "application/vnd.microsoft.datawrangler.viewer.v0+json": {
       "columns": [
        {
         "name": "index",
         "rawType": "int64",
         "type": "integer"
        },
        {
         "name": "Tipo",
         "rawType": "int64",
         "type": "integer"
        },
        {
         "name": "Classe",
         "rawType": "object",
         "type": "string"
        }
       ],
       "conversionMethod": "pd.DataFrame",
       "ref": "9ed6303b-9ee4-4285-8eb8-7ed86837a1af",
       "rows": [
        [
         "332",
         "1",
         "Sim"
        ],
        [
         "333",
         "2",
         "Não"
        ]
       ],
       "shape": {
        "columns": 2,
        "rows": 2
       }
      },
      "text/html": [
       "<div>\n",
       "<style scoped>\n",
       "    .dataframe tbody tr th:only-of-type {\n",
       "        vertical-align: middle;\n",
       "    }\n",
       "\n",
       "    .dataframe tbody tr th {\n",
       "        vertical-align: top;\n",
       "    }\n",
       "\n",
       "    .dataframe thead th {\n",
       "        text-align: right;\n",
       "    }\n",
       "</style>\n",
       "<table border=\"1\" class=\"dataframe\">\n",
       "  <thead>\n",
       "    <tr style=\"text-align: right;\">\n",
       "      <th></th>\n",
       "      <th>Tipo</th>\n",
       "      <th>Classe</th>\n",
       "    </tr>\n",
       "  </thead>\n",
       "  <tbody>\n",
       "    <tr>\n",
       "      <th>332</th>\n",
       "      <td>1</td>\n",
       "      <td>Sim</td>\n",
       "    </tr>\n",
       "    <tr>\n",
       "      <th>333</th>\n",
       "      <td>2</td>\n",
       "      <td>Não</td>\n",
       "    </tr>\n",
       "  </tbody>\n",
       "</table>\n",
       "</div>"
      ],
      "text/plain": [
       "     Tipo Classe\n",
       "332     1    Sim\n",
       "333     2    Não"
      ]
     },
     "metadata": {},
     "output_type": "display_data"
    },
    {
     "name": "stdout",
     "output_type": "stream",
     "text": [
      "    [AFTER]:\n",
      "Nos últimos doze meses, alguém: Te empurrou, segurou com força ou jogou algo em você com a intenção de machucar?\n",
      "Não                                                                                                                 86392\n",
      "Sim                                                                                                                  2139\n",
      "Name: count, dtype: int64\n",
      "\n",
      "    [COLUMN]: V01403 ==================================================\n",
      "    [BEFORE]:\n",
      "Nos últimos doze meses, alguém: Te deu um soco, chutou ou arrastou pelo cabelo?\n",
      "2.0                                                                                87522\n",
      "1.0                                                                                 1009\n",
      "Name: count, dtype: int64\n",
      "\n"
     ]
    },
    {
     "data": {
      "application/vnd.microsoft.datawrangler.viewer.v0+json": {
       "columns": [
        {
         "name": "index",
         "rawType": "int64",
         "type": "integer"
        },
        {
         "name": "Tipo",
         "rawType": "int64",
         "type": "integer"
        },
        {
         "name": "Classe",
         "rawType": "object",
         "type": "string"
        }
       ],
       "conversionMethod": "pd.DataFrame",
       "ref": "d8eac2e6-249f-4569-8e98-cf8e26a7fdfe",
       "rows": [
        [
         "335",
         "1",
         "Sim"
        ],
        [
         "336",
         "2",
         "Não"
        ]
       ],
       "shape": {
        "columns": 2,
        "rows": 2
       }
      },
      "text/html": [
       "<div>\n",
       "<style scoped>\n",
       "    .dataframe tbody tr th:only-of-type {\n",
       "        vertical-align: middle;\n",
       "    }\n",
       "\n",
       "    .dataframe tbody tr th {\n",
       "        vertical-align: top;\n",
       "    }\n",
       "\n",
       "    .dataframe thead th {\n",
       "        text-align: right;\n",
       "    }\n",
       "</style>\n",
       "<table border=\"1\" class=\"dataframe\">\n",
       "  <thead>\n",
       "    <tr style=\"text-align: right;\">\n",
       "      <th></th>\n",
       "      <th>Tipo</th>\n",
       "      <th>Classe</th>\n",
       "    </tr>\n",
       "  </thead>\n",
       "  <tbody>\n",
       "    <tr>\n",
       "      <th>335</th>\n",
       "      <td>1</td>\n",
       "      <td>Sim</td>\n",
       "    </tr>\n",
       "    <tr>\n",
       "      <th>336</th>\n",
       "      <td>2</td>\n",
       "      <td>Não</td>\n",
       "    </tr>\n",
       "  </tbody>\n",
       "</table>\n",
       "</div>"
      ],
      "text/plain": [
       "     Tipo Classe\n",
       "335     1    Sim\n",
       "336     2    Não"
      ]
     },
     "metadata": {},
     "output_type": "display_data"
    },
    {
     "name": "stdout",
     "output_type": "stream",
     "text": [
      "    [AFTER]:\n",
      "Nos últimos doze meses, alguém: Te deu um soco, chutou ou arrastou pelo cabelo?\n",
      "Não                                                                                87522\n",
      "Sim                                                                                 1009\n",
      "Name: count, dtype: int64\n",
      "\n",
      "    [COLUMN]: V01404 ==================================================\n",
      "    [BEFORE]:\n",
      "Nos últimos doze meses, alguém: Tentou ou efetivamente estrangulou, asfixiou ou te queimou de propósito?\n",
      "2.0                                                                                                         88203\n",
      "1.0                                                                                                           328\n",
      "Name: count, dtype: int64\n",
      "\n"
     ]
    },
    {
     "data": {
      "application/vnd.microsoft.datawrangler.viewer.v0+json": {
       "columns": [
        {
         "name": "index",
         "rawType": "int64",
         "type": "integer"
        },
        {
         "name": "Tipo",
         "rawType": "int64",
         "type": "integer"
        },
        {
         "name": "Classe",
         "rawType": "object",
         "type": "string"
        }
       ],
       "conversionMethod": "pd.DataFrame",
       "ref": "c820f46a-157c-4c52-84a1-188d5c8a2789",
       "rows": [
        [
         "338",
         "1",
         "Sim"
        ],
        [
         "339",
         "2",
         "Não"
        ]
       ],
       "shape": {
        "columns": 2,
        "rows": 2
       }
      },
      "text/html": [
       "<div>\n",
       "<style scoped>\n",
       "    .dataframe tbody tr th:only-of-type {\n",
       "        vertical-align: middle;\n",
       "    }\n",
       "\n",
       "    .dataframe tbody tr th {\n",
       "        vertical-align: top;\n",
       "    }\n",
       "\n",
       "    .dataframe thead th {\n",
       "        text-align: right;\n",
       "    }\n",
       "</style>\n",
       "<table border=\"1\" class=\"dataframe\">\n",
       "  <thead>\n",
       "    <tr style=\"text-align: right;\">\n",
       "      <th></th>\n",
       "      <th>Tipo</th>\n",
       "      <th>Classe</th>\n",
       "    </tr>\n",
       "  </thead>\n",
       "  <tbody>\n",
       "    <tr>\n",
       "      <th>338</th>\n",
       "      <td>1</td>\n",
       "      <td>Sim</td>\n",
       "    </tr>\n",
       "    <tr>\n",
       "      <th>339</th>\n",
       "      <td>2</td>\n",
       "      <td>Não</td>\n",
       "    </tr>\n",
       "  </tbody>\n",
       "</table>\n",
       "</div>"
      ],
      "text/plain": [
       "     Tipo Classe\n",
       "338     1    Sim\n",
       "339     2    Não"
      ]
     },
     "metadata": {},
     "output_type": "display_data"
    },
    {
     "name": "stdout",
     "output_type": "stream",
     "text": [
      "    [AFTER]:\n",
      "Nos últimos doze meses, alguém: Tentou ou efetivamente estrangulou, asfixiou ou te queimou de propósito?\n",
      "Não                                                                                                         88203\n",
      "Sim                                                                                                           328\n",
      "Name: count, dtype: int64\n",
      "\n",
      "    [COLUMN]: V01405 ==================================================\n",
      "    [BEFORE]:\n",
      "Nos últimos doze meses, alguém: Te ameaçou ou feriu com uma faca, arma de fogo ou alguma outra arma ou objeto?\n",
      "2.0                                                                                                               87239\n",
      "1.0                                                                                                                1292\n",
      "Name: count, dtype: int64\n",
      "\n"
     ]
    },
    {
     "data": {
      "application/vnd.microsoft.datawrangler.viewer.v0+json": {
       "columns": [
        {
         "name": "index",
         "rawType": "int64",
         "type": "integer"
        },
        {
         "name": "Tipo",
         "rawType": "int64",
         "type": "integer"
        },
        {
         "name": "Classe",
         "rawType": "object",
         "type": "string"
        }
       ],
       "conversionMethod": "pd.DataFrame",
       "ref": "b5868657-64b3-4822-9190-983577ecf1c9",
       "rows": [
        [
         "341",
         "1",
         "Sim"
        ],
        [
         "342",
         "2",
         "Não"
        ]
       ],
       "shape": {
        "columns": 2,
        "rows": 2
       }
      },
      "text/html": [
       "<div>\n",
       "<style scoped>\n",
       "    .dataframe tbody tr th:only-of-type {\n",
       "        vertical-align: middle;\n",
       "    }\n",
       "\n",
       "    .dataframe tbody tr th {\n",
       "        vertical-align: top;\n",
       "    }\n",
       "\n",
       "    .dataframe thead th {\n",
       "        text-align: right;\n",
       "    }\n",
       "</style>\n",
       "<table border=\"1\" class=\"dataframe\">\n",
       "  <thead>\n",
       "    <tr style=\"text-align: right;\">\n",
       "      <th></th>\n",
       "      <th>Tipo</th>\n",
       "      <th>Classe</th>\n",
       "    </tr>\n",
       "  </thead>\n",
       "  <tbody>\n",
       "    <tr>\n",
       "      <th>341</th>\n",
       "      <td>1</td>\n",
       "      <td>Sim</td>\n",
       "    </tr>\n",
       "    <tr>\n",
       "      <th>342</th>\n",
       "      <td>2</td>\n",
       "      <td>Não</td>\n",
       "    </tr>\n",
       "  </tbody>\n",
       "</table>\n",
       "</div>"
      ],
      "text/plain": [
       "     Tipo Classe\n",
       "341     1    Sim\n",
       "342     2    Não"
      ]
     },
     "metadata": {},
     "output_type": "display_data"
    },
    {
     "name": "stdout",
     "output_type": "stream",
     "text": [
      "    [AFTER]:\n",
      "Nos últimos doze meses, alguém: Te ameaçou ou feriu com uma faca, arma de fogo ou alguma outra arma ou objeto?\n",
      "Não                                                                                                               87239\n",
      "Sim                                                                                                                1292\n",
      "Name: count, dtype: int64\n",
      "\n",
      "    [COLUMN]: V015 ==================================================\n",
      "    [BEFORE]:\n",
      "Nos últimos doze meses, quantas vezes isso aconteceu?\n",
      "3.0                                                      1932\n",
      "2.0                                                      1177\n",
      "1.0                                                       331\n",
      "Name: count, dtype: int64\n",
      "\n"
     ]
    },
    {
     "data": {
      "application/vnd.microsoft.datawrangler.viewer.v0+json": {
       "columns": [
        {
         "name": "index",
         "rawType": "int64",
         "type": "integer"
        },
        {
         "name": "Tipo",
         "rawType": "int64",
         "type": "integer"
        },
        {
         "name": "Classe",
         "rawType": "object",
         "type": "string"
        }
       ],
       "conversionMethod": "pd.DataFrame",
       "ref": "c9414e12-486e-4c8d-9c63-8aeedf8aef33",
       "rows": [
        [
         "344",
         "1",
         "Muitas vezes"
        ],
        [
         "345",
         "2",
         "Algumas vezes"
        ],
        [
         "346",
         "3",
         "Uma vez"
        ]
       ],
       "shape": {
        "columns": 2,
        "rows": 3
       }
      },
      "text/html": [
       "<div>\n",
       "<style scoped>\n",
       "    .dataframe tbody tr th:only-of-type {\n",
       "        vertical-align: middle;\n",
       "    }\n",
       "\n",
       "    .dataframe tbody tr th {\n",
       "        vertical-align: top;\n",
       "    }\n",
       "\n",
       "    .dataframe thead th {\n",
       "        text-align: right;\n",
       "    }\n",
       "</style>\n",
       "<table border=\"1\" class=\"dataframe\">\n",
       "  <thead>\n",
       "    <tr style=\"text-align: right;\">\n",
       "      <th></th>\n",
       "      <th>Tipo</th>\n",
       "      <th>Classe</th>\n",
       "    </tr>\n",
       "  </thead>\n",
       "  <tbody>\n",
       "    <tr>\n",
       "      <th>344</th>\n",
       "      <td>1</td>\n",
       "      <td>Muitas vezes</td>\n",
       "    </tr>\n",
       "    <tr>\n",
       "      <th>345</th>\n",
       "      <td>2</td>\n",
       "      <td>Algumas vezes</td>\n",
       "    </tr>\n",
       "    <tr>\n",
       "      <th>346</th>\n",
       "      <td>3</td>\n",
       "      <td>Uma vez</td>\n",
       "    </tr>\n",
       "  </tbody>\n",
       "</table>\n",
       "</div>"
      ],
      "text/plain": [
       "     Tipo         Classe\n",
       "344     1   Muitas vezes\n",
       "345     2  Algumas vezes\n",
       "346     3        Uma vez"
      ]
     },
     "metadata": {},
     "output_type": "display_data"
    },
    {
     "name": "stdout",
     "output_type": "stream",
     "text": [
      "    [AFTER]:\n",
      "Nos últimos doze meses, quantas vezes isso aconteceu?\n",
      "Uma vez                                                  1932\n",
      "Algumas vezes                                            1177\n",
      "Muitas vezes                                              331\n",
      "Name: count, dtype: int64\n",
      "\n",
      "    [COLUMN]: V018 ==================================================\n",
      "    [BEFORE]:\n",
      "Quem fez isso com você\n",
      "11.0                      785\n",
      "2.0                       545\n",
      "1.0                       531\n",
      "Name: count, dtype: int64\n",
      "\n"
     ]
    },
    {
     "data": {
      "application/vnd.microsoft.datawrangler.viewer.v0+json": {
       "columns": [
        {
         "name": "index",
         "rawType": "int64",
         "type": "integer"
        },
        {
         "name": "Tipo",
         "rawType": "int64",
         "type": "integer"
        },
        {
         "name": "Classe",
         "rawType": "object",
         "type": "string"
        }
       ],
       "conversionMethod": "pd.DataFrame",
       "ref": "c3cb230d-5aa0-4938-976e-85cbf73867b0",
       "rows": [
        [
         "348",
         "1",
         "Cônjuge ou companheiro (a)"
        ],
        [
         "349",
         "2",
         "Ex-Cônjuge ou ex-companheiro (a)"
        ],
        [
         "350",
         "3",
         "Parceiro (a), namorado (a), ex-parceiro (a), ex-namorado (a"
        ],
        [
         "351",
         "4",
         "Pai, mãe, padrasto ou madrasta"
        ],
        [
         "352",
         "5",
         "Filho(a), enteado(a"
        ],
        [
         "353",
         "6",
         "Irmão(ã)"
        ],
        [
         "354",
         "7",
         "Outro parente"
        ],
        [
         "355",
         "8",
         "Amigo(a)/colega, vizinho(a)"
        ],
        [
         "356",
         "9",
         "Empregado (a) em geral "
        ],
        [
         "357",
         "10",
         "Patrão/patroa/chefe(a) "
        ],
        [
         "358",
         "11",
         "Pessoa desconhecida"
        ],
        [
         "359",
         "12",
         "Policial"
        ],
        [
         "360",
         "13",
         "Outro"
        ]
       ],
       "shape": {
        "columns": 2,
        "rows": 13
       }
      },
      "text/html": [
       "<div>\n",
       "<style scoped>\n",
       "    .dataframe tbody tr th:only-of-type {\n",
       "        vertical-align: middle;\n",
       "    }\n",
       "\n",
       "    .dataframe tbody tr th {\n",
       "        vertical-align: top;\n",
       "    }\n",
       "\n",
       "    .dataframe thead th {\n",
       "        text-align: right;\n",
       "    }\n",
       "</style>\n",
       "<table border=\"1\" class=\"dataframe\">\n",
       "  <thead>\n",
       "    <tr style=\"text-align: right;\">\n",
       "      <th></th>\n",
       "      <th>Tipo</th>\n",
       "      <th>Classe</th>\n",
       "    </tr>\n",
       "  </thead>\n",
       "  <tbody>\n",
       "    <tr>\n",
       "      <th>348</th>\n",
       "      <td>1</td>\n",
       "      <td>Cônjuge ou companheiro (a)</td>\n",
       "    </tr>\n",
       "    <tr>\n",
       "      <th>349</th>\n",
       "      <td>2</td>\n",
       "      <td>Ex-Cônjuge ou ex-companheiro (a)</td>\n",
       "    </tr>\n",
       "    <tr>\n",
       "      <th>350</th>\n",
       "      <td>3</td>\n",
       "      <td>Parceiro (a), namorado (a), ex-parceiro (a), e...</td>\n",
       "    </tr>\n",
       "    <tr>\n",
       "      <th>351</th>\n",
       "      <td>4</td>\n",
       "      <td>Pai, mãe, padrasto ou madrasta</td>\n",
       "    </tr>\n",
       "    <tr>\n",
       "      <th>352</th>\n",
       "      <td>5</td>\n",
       "      <td>Filho(a), enteado(a</td>\n",
       "    </tr>\n",
       "    <tr>\n",
       "      <th>353</th>\n",
       "      <td>6</td>\n",
       "      <td>Irmão(ã)</td>\n",
       "    </tr>\n",
       "    <tr>\n",
       "      <th>354</th>\n",
       "      <td>7</td>\n",
       "      <td>Outro parente</td>\n",
       "    </tr>\n",
       "    <tr>\n",
       "      <th>355</th>\n",
       "      <td>8</td>\n",
       "      <td>Amigo(a)/colega, vizinho(a)</td>\n",
       "    </tr>\n",
       "    <tr>\n",
       "      <th>356</th>\n",
       "      <td>9</td>\n",
       "      <td>Empregado (a) em geral</td>\n",
       "    </tr>\n",
       "    <tr>\n",
       "      <th>357</th>\n",
       "      <td>10</td>\n",
       "      <td>Patrão/patroa/chefe(a)</td>\n",
       "    </tr>\n",
       "    <tr>\n",
       "      <th>358</th>\n",
       "      <td>11</td>\n",
       "      <td>Pessoa desconhecida</td>\n",
       "    </tr>\n",
       "    <tr>\n",
       "      <th>359</th>\n",
       "      <td>12</td>\n",
       "      <td>Policial</td>\n",
       "    </tr>\n",
       "    <tr>\n",
       "      <th>360</th>\n",
       "      <td>13</td>\n",
       "      <td>Outro</td>\n",
       "    </tr>\n",
       "  </tbody>\n",
       "</table>\n",
       "</div>"
      ],
      "text/plain": [
       "     Tipo                                             Classe\n",
       "348     1                         Cônjuge ou companheiro (a)\n",
       "349     2                   Ex-Cônjuge ou ex-companheiro (a)\n",
       "350     3  Parceiro (a), namorado (a), ex-parceiro (a), e...\n",
       "351     4                     Pai, mãe, padrasto ou madrasta\n",
       "352     5                                Filho(a), enteado(a\n",
       "353     6                                           Irmão(ã)\n",
       "354     7                                      Outro parente\n",
       "355     8                        Amigo(a)/colega, vizinho(a)\n",
       "356     9                            Empregado (a) em geral \n",
       "357    10                            Patrão/patroa/chefe(a) \n",
       "358    11                                Pessoa desconhecida\n",
       "359    12                                           Policial\n",
       "360    13                                              Outro"
      ]
     },
     "metadata": {},
     "output_type": "display_data"
    },
    {
     "name": "stdout",
     "output_type": "stream",
     "text": [
      "    [AFTER]:\n",
      "Quem fez isso com você          \n",
      "Pessoa desconhecida                 785\n",
      "Ex-Cônjuge ou ex-companheiro (a)    545\n",
      "Cônjuge ou companheiro (a)          531\n",
      "Name: count, dtype: int64\n",
      "\n",
      "    [COLUMN]: V019 ==================================================\n",
      "    [BEFORE]:\n",
      "Onde isso ocorreu?\n",
      "1.0                   1897\n",
      "5.0                    992\n",
      "2.0                    229\n",
      "Name: count, dtype: int64\n",
      "\n"
     ]
    },
    {
     "data": {
      "application/vnd.microsoft.datawrangler.viewer.v0+json": {
       "columns": [
        {
         "name": "index",
         "rawType": "int64",
         "type": "integer"
        },
        {
         "name": "Tipo",
         "rawType": "int64",
         "type": "integer"
        },
        {
         "name": "Classe",
         "rawType": "object",
         "type": "string"
        }
       ],
       "conversionMethod": "pd.DataFrame",
       "ref": "1ca70e8e-5119-4db4-9b4f-1a27d378b83e",
       "rows": [
        [
         "362",
         "1",
         "Residência"
        ],
        [
         "363",
         "2",
         "Trabalho"
        ],
        [
         "364",
         "3",
         "Escola, faculdade ou outro estabelecimento de ensino"
        ],
        [
         "365",
         "4",
         "Bar, restaurante ou similar"
        ],
        [
         "366",
         "5",
         "Via pública ou outro local público"
        ],
        [
         "367",
         "6",
         "Outro"
        ]
       ],
       "shape": {
        "columns": 2,
        "rows": 6
       }
      },
      "text/html": [
       "<div>\n",
       "<style scoped>\n",
       "    .dataframe tbody tr th:only-of-type {\n",
       "        vertical-align: middle;\n",
       "    }\n",
       "\n",
       "    .dataframe tbody tr th {\n",
       "        vertical-align: top;\n",
       "    }\n",
       "\n",
       "    .dataframe thead th {\n",
       "        text-align: right;\n",
       "    }\n",
       "</style>\n",
       "<table border=\"1\" class=\"dataframe\">\n",
       "  <thead>\n",
       "    <tr style=\"text-align: right;\">\n",
       "      <th></th>\n",
       "      <th>Tipo</th>\n",
       "      <th>Classe</th>\n",
       "    </tr>\n",
       "  </thead>\n",
       "  <tbody>\n",
       "    <tr>\n",
       "      <th>362</th>\n",
       "      <td>1</td>\n",
       "      <td>Residência</td>\n",
       "    </tr>\n",
       "    <tr>\n",
       "      <th>363</th>\n",
       "      <td>2</td>\n",
       "      <td>Trabalho</td>\n",
       "    </tr>\n",
       "    <tr>\n",
       "      <th>364</th>\n",
       "      <td>3</td>\n",
       "      <td>Escola, faculdade ou outro estabelecimento de ...</td>\n",
       "    </tr>\n",
       "    <tr>\n",
       "      <th>365</th>\n",
       "      <td>4</td>\n",
       "      <td>Bar, restaurante ou similar</td>\n",
       "    </tr>\n",
       "    <tr>\n",
       "      <th>366</th>\n",
       "      <td>5</td>\n",
       "      <td>Via pública ou outro local público</td>\n",
       "    </tr>\n",
       "    <tr>\n",
       "      <th>367</th>\n",
       "      <td>6</td>\n",
       "      <td>Outro</td>\n",
       "    </tr>\n",
       "  </tbody>\n",
       "</table>\n",
       "</div>"
      ],
      "text/plain": [
       "     Tipo                                             Classe\n",
       "362     1                                         Residência\n",
       "363     2                                           Trabalho\n",
       "364     3  Escola, faculdade ou outro estabelecimento de ...\n",
       "365     4                        Bar, restaurante ou similar\n",
       "366     5                 Via pública ou outro local público\n",
       "367     6                                              Outro"
      ]
     },
     "metadata": {},
     "output_type": "display_data"
    },
    {
     "name": "stdout",
     "output_type": "stream",
     "text": [
      "    [AFTER]:\n",
      "Onde isso ocorreu?                \n",
      "Residência                            1897\n",
      "Via pública ou outro local público     992\n",
      "Trabalho                               229\n",
      "Name: count, dtype: int64\n",
      "\n",
      "    [COLUMN]: V02701 ==================================================\n",
      "    [BEFORE]:\n",
      "Nos últimos doze meses, alguém: tocou, manipulou, beijou ou expôs partes do seu corpo contra sua vontade\n",
      "2.0                                                                                                         87985\n",
      "1.0                                                                                                           546\n",
      "Name: count, dtype: int64\n",
      "\n"
     ]
    },
    {
     "data": {
      "application/vnd.microsoft.datawrangler.viewer.v0+json": {
       "columns": [
        {
         "name": "index",
         "rawType": "int64",
         "type": "integer"
        },
        {
         "name": "Tipo",
         "rawType": "int64",
         "type": "integer"
        },
        {
         "name": "Classe",
         "rawType": "object",
         "type": "string"
        }
       ],
       "conversionMethod": "pd.DataFrame",
       "ref": "7002b7d0-f5c9-46fb-b5f5-b4e60f4cdcb2",
       "rows": [
        [
         "369",
         "1",
         "Sim"
        ],
        [
         "370",
         "2",
         "Não"
        ]
       ],
       "shape": {
        "columns": 2,
        "rows": 2
       }
      },
      "text/html": [
       "<div>\n",
       "<style scoped>\n",
       "    .dataframe tbody tr th:only-of-type {\n",
       "        vertical-align: middle;\n",
       "    }\n",
       "\n",
       "    .dataframe tbody tr th {\n",
       "        vertical-align: top;\n",
       "    }\n",
       "\n",
       "    .dataframe thead th {\n",
       "        text-align: right;\n",
       "    }\n",
       "</style>\n",
       "<table border=\"1\" class=\"dataframe\">\n",
       "  <thead>\n",
       "    <tr style=\"text-align: right;\">\n",
       "      <th></th>\n",
       "      <th>Tipo</th>\n",
       "      <th>Classe</th>\n",
       "    </tr>\n",
       "  </thead>\n",
       "  <tbody>\n",
       "    <tr>\n",
       "      <th>369</th>\n",
       "      <td>1</td>\n",
       "      <td>Sim</td>\n",
       "    </tr>\n",
       "    <tr>\n",
       "      <th>370</th>\n",
       "      <td>2</td>\n",
       "      <td>Não</td>\n",
       "    </tr>\n",
       "  </tbody>\n",
       "</table>\n",
       "</div>"
      ],
      "text/plain": [
       "     Tipo Classe\n",
       "369     1    Sim\n",
       "370     2    Não"
      ]
     },
     "metadata": {},
     "output_type": "display_data"
    },
    {
     "name": "stdout",
     "output_type": "stream",
     "text": [
      "    [AFTER]:\n",
      "Nos últimos doze meses, alguém: tocou, manipulou, beijou ou expôs partes do seu corpo contra sua vontade\n",
      "Não                                                                                                         87985\n",
      "Sim                                                                                                           546\n",
      "Name: count, dtype: int64\n",
      "\n",
      "    [COLUMN]: V02702 ==================================================\n",
      "    [BEFORE]:\n",
      "Nos últimos doze meses, alguém: Te ameaçou ou forçou a ter relações sexuais ou quaisquer outros atos sexuais contra sua vontade?\n",
      "2.0                                                                                                                                 88202\n",
      "1.0                                                                                                                                   329\n",
      "Name: count, dtype: int64\n",
      "\n"
     ]
    },
    {
     "data": {
      "application/vnd.microsoft.datawrangler.viewer.v0+json": {
       "columns": [
        {
         "name": "index",
         "rawType": "int64",
         "type": "integer"
        },
        {
         "name": "Tipo",
         "rawType": "int64",
         "type": "integer"
        },
        {
         "name": "Classe",
         "rawType": "object",
         "type": "string"
        }
       ],
       "conversionMethod": "pd.DataFrame",
       "ref": "43b2a4f4-6f2b-4fc7-8e60-cecbdae0c40f",
       "rows": [
        [
         "372",
         "1",
         "Sim"
        ],
        [
         "373",
         "2",
         "Não"
        ]
       ],
       "shape": {
        "columns": 2,
        "rows": 2
       }
      },
      "text/html": [
       "<div>\n",
       "<style scoped>\n",
       "    .dataframe tbody tr th:only-of-type {\n",
       "        vertical-align: middle;\n",
       "    }\n",
       "\n",
       "    .dataframe tbody tr th {\n",
       "        vertical-align: top;\n",
       "    }\n",
       "\n",
       "    .dataframe thead th {\n",
       "        text-align: right;\n",
       "    }\n",
       "</style>\n",
       "<table border=\"1\" class=\"dataframe\">\n",
       "  <thead>\n",
       "    <tr style=\"text-align: right;\">\n",
       "      <th></th>\n",
       "      <th>Tipo</th>\n",
       "      <th>Classe</th>\n",
       "    </tr>\n",
       "  </thead>\n",
       "  <tbody>\n",
       "    <tr>\n",
       "      <th>372</th>\n",
       "      <td>1</td>\n",
       "      <td>Sim</td>\n",
       "    </tr>\n",
       "    <tr>\n",
       "      <th>373</th>\n",
       "      <td>2</td>\n",
       "      <td>Não</td>\n",
       "    </tr>\n",
       "  </tbody>\n",
       "</table>\n",
       "</div>"
      ],
      "text/plain": [
       "     Tipo Classe\n",
       "372     1    Sim\n",
       "373     2    Não"
      ]
     },
     "metadata": {},
     "output_type": "display_data"
    },
    {
     "name": "stdout",
     "output_type": "stream",
     "text": [
      "    [AFTER]:\n",
      "Nos últimos doze meses, alguém: Te ameaçou ou forçou a ter relações sexuais ou quaisquer outros atos sexuais contra sua vontade?\n",
      "Não                                                                                                                                 88202\n",
      "Sim                                                                                                                                   329\n",
      "Name: count, dtype: int64\n",
      "\n",
      "    [COLUMN]: V02801 ==================================================\n",
      "    [BEFORE]:\n",
      "E alguma vez na vida, alguém: tocou, manipulou, beijou ou expôs partes do seu corpo contra sua vontade\n",
      "2.0                                                                                                       83984\n",
      "1.0                                                                                                        3875\n",
      "Name: count, dtype: int64\n",
      "\n"
     ]
    },
    {
     "data": {
      "application/vnd.microsoft.datawrangler.viewer.v0+json": {
       "columns": [
        {
         "name": "index",
         "rawType": "int64",
         "type": "integer"
        },
        {
         "name": "Tipo",
         "rawType": "int64",
         "type": "integer"
        },
        {
         "name": "Classe",
         "rawType": "object",
         "type": "string"
        }
       ],
       "conversionMethod": "pd.DataFrame",
       "ref": "78cb02df-7988-4ebb-8dd7-ac5ba1f2280c",
       "rows": [
        [
         "375",
         "1",
         "Sim"
        ],
        [
         "376",
         "2",
         "Não"
        ]
       ],
       "shape": {
        "columns": 2,
        "rows": 2
       }
      },
      "text/html": [
       "<div>\n",
       "<style scoped>\n",
       "    .dataframe tbody tr th:only-of-type {\n",
       "        vertical-align: middle;\n",
       "    }\n",
       "\n",
       "    .dataframe tbody tr th {\n",
       "        vertical-align: top;\n",
       "    }\n",
       "\n",
       "    .dataframe thead th {\n",
       "        text-align: right;\n",
       "    }\n",
       "</style>\n",
       "<table border=\"1\" class=\"dataframe\">\n",
       "  <thead>\n",
       "    <tr style=\"text-align: right;\">\n",
       "      <th></th>\n",
       "      <th>Tipo</th>\n",
       "      <th>Classe</th>\n",
       "    </tr>\n",
       "  </thead>\n",
       "  <tbody>\n",
       "    <tr>\n",
       "      <th>375</th>\n",
       "      <td>1</td>\n",
       "      <td>Sim</td>\n",
       "    </tr>\n",
       "    <tr>\n",
       "      <th>376</th>\n",
       "      <td>2</td>\n",
       "      <td>Não</td>\n",
       "    </tr>\n",
       "  </tbody>\n",
       "</table>\n",
       "</div>"
      ],
      "text/plain": [
       "     Tipo Classe\n",
       "375     1    Sim\n",
       "376     2    Não"
      ]
     },
     "metadata": {},
     "output_type": "display_data"
    },
    {
     "name": "stdout",
     "output_type": "stream",
     "text": [
      "    [AFTER]:\n",
      "E alguma vez na vida, alguém: tocou, manipulou, beijou ou expôs partes do seu corpo contra sua vontade\n",
      "Não                                                                                                       83984\n",
      "Sim                                                                                                        3875\n",
      "Name: count, dtype: int64\n",
      "\n",
      "    [COLUMN]: V02802 ==================================================\n",
      "    [BEFORE]:\n",
      "E alguma vez na vida, alguém: Te ameaçou ou forçou a ter relações sexuais ou quaisquer outros atos sexuais contra sua vontade?\n",
      "2.0                                                                                                                               85134\n",
      "1.0                                                                                                                                2725\n",
      "Name: count, dtype: int64\n",
      "\n"
     ]
    },
    {
     "data": {
      "application/vnd.microsoft.datawrangler.viewer.v0+json": {
       "columns": [
        {
         "name": "index",
         "rawType": "int64",
         "type": "integer"
        },
        {
         "name": "Tipo",
         "rawType": "int64",
         "type": "integer"
        },
        {
         "name": "Classe",
         "rawType": "object",
         "type": "string"
        }
       ],
       "conversionMethod": "pd.DataFrame",
       "ref": "029af7cc-a3c9-4640-a2c5-16fd6bdc09a6",
       "rows": [
        [
         "378",
         "1",
         "Sim"
        ],
        [
         "379",
         "2",
         "Não"
        ]
       ],
       "shape": {
        "columns": 2,
        "rows": 2
       }
      },
      "text/html": [
       "<div>\n",
       "<style scoped>\n",
       "    .dataframe tbody tr th:only-of-type {\n",
       "        vertical-align: middle;\n",
       "    }\n",
       "\n",
       "    .dataframe tbody tr th {\n",
       "        vertical-align: top;\n",
       "    }\n",
       "\n",
       "    .dataframe thead th {\n",
       "        text-align: right;\n",
       "    }\n",
       "</style>\n",
       "<table border=\"1\" class=\"dataframe\">\n",
       "  <thead>\n",
       "    <tr style=\"text-align: right;\">\n",
       "      <th></th>\n",
       "      <th>Tipo</th>\n",
       "      <th>Classe</th>\n",
       "    </tr>\n",
       "  </thead>\n",
       "  <tbody>\n",
       "    <tr>\n",
       "      <th>378</th>\n",
       "      <td>1</td>\n",
       "      <td>Sim</td>\n",
       "    </tr>\n",
       "    <tr>\n",
       "      <th>379</th>\n",
       "      <td>2</td>\n",
       "      <td>Não</td>\n",
       "    </tr>\n",
       "  </tbody>\n",
       "</table>\n",
       "</div>"
      ],
      "text/plain": [
       "     Tipo Classe\n",
       "378     1    Sim\n",
       "379     2    Não"
      ]
     },
     "metadata": {},
     "output_type": "display_data"
    },
    {
     "name": "stdout",
     "output_type": "stream",
     "text": [
      "    [AFTER]:\n",
      "E alguma vez na vida, alguém: Te ameaçou ou forçou a ter relações sexuais ou quaisquer outros atos sexuais contra sua vontade?\n",
      "Não                                                                                                                               85134\n",
      "Sim                                                                                                                                2725\n",
      "Name: count, dtype: int64\n",
      "\n",
      "    [COLUMN]: V029 ==================================================\n",
      "    [BEFORE]:\n",
      "Nos últimos doze meses, quantas vezes isso aconteceu?\n",
      "3.0                                                      305\n",
      "2.0                                                      280\n",
      "1.0                                                       87\n",
      "Name: count, dtype: int64\n",
      "\n"
     ]
    },
    {
     "data": {
      "application/vnd.microsoft.datawrangler.viewer.v0+json": {
       "columns": [
        {
         "name": "index",
         "rawType": "int64",
         "type": "integer"
        },
        {
         "name": "Tipo",
         "rawType": "int64",
         "type": "integer"
        },
        {
         "name": "Classe",
         "rawType": "object",
         "type": "string"
        }
       ],
       "conversionMethod": "pd.DataFrame",
       "ref": "8e30b126-4dfe-460d-80fd-794a99bcdf31",
       "rows": [
        [
         "381",
         "1",
         "Muitas vezes"
        ],
        [
         "382",
         "2",
         " Algumas vezes"
        ],
        [
         "383",
         "3",
         " Uma vez"
        ]
       ],
       "shape": {
        "columns": 2,
        "rows": 3
       }
      },
      "text/html": [
       "<div>\n",
       "<style scoped>\n",
       "    .dataframe tbody tr th:only-of-type {\n",
       "        vertical-align: middle;\n",
       "    }\n",
       "\n",
       "    .dataframe tbody tr th {\n",
       "        vertical-align: top;\n",
       "    }\n",
       "\n",
       "    .dataframe thead th {\n",
       "        text-align: right;\n",
       "    }\n",
       "</style>\n",
       "<table border=\"1\" class=\"dataframe\">\n",
       "  <thead>\n",
       "    <tr style=\"text-align: right;\">\n",
       "      <th></th>\n",
       "      <th>Tipo</th>\n",
       "      <th>Classe</th>\n",
       "    </tr>\n",
       "  </thead>\n",
       "  <tbody>\n",
       "    <tr>\n",
       "      <th>381</th>\n",
       "      <td>1</td>\n",
       "      <td>Muitas vezes</td>\n",
       "    </tr>\n",
       "    <tr>\n",
       "      <th>382</th>\n",
       "      <td>2</td>\n",
       "      <td>Algumas vezes</td>\n",
       "    </tr>\n",
       "    <tr>\n",
       "      <th>383</th>\n",
       "      <td>3</td>\n",
       "      <td>Uma vez</td>\n",
       "    </tr>\n",
       "  </tbody>\n",
       "</table>\n",
       "</div>"
      ],
      "text/plain": [
       "     Tipo          Classe\n",
       "381     1    Muitas vezes\n",
       "382     2   Algumas vezes\n",
       "383     3         Uma vez"
      ]
     },
     "metadata": {},
     "output_type": "display_data"
    },
    {
     "name": "stdout",
     "output_type": "stream",
     "text": [
      "    [AFTER]:\n",
      "Nos últimos doze meses, quantas vezes isso aconteceu?\n",
      " Uma vez                                                 305\n",
      " Algumas vezes                                           280\n",
      "Muitas vezes                                              87\n",
      "Name: count, dtype: int64\n",
      "\n",
      "    [COLUMN]: V032 ==================================================\n",
      "    [BEFORE]:\n",
      "Quem fez isso com você\n",
      "11.0                      153\n",
      "8.0                       130\n",
      "2.0                       122\n",
      "Name: count, dtype: int64\n",
      "\n"
     ]
    },
    {
     "data": {
      "application/vnd.microsoft.datawrangler.viewer.v0+json": {
       "columns": [
        {
         "name": "index",
         "rawType": "int64",
         "type": "integer"
        },
        {
         "name": "Tipo",
         "rawType": "int64",
         "type": "integer"
        },
        {
         "name": "Classe",
         "rawType": "object",
         "type": "string"
        }
       ],
       "conversionMethod": "pd.DataFrame",
       "ref": "86e3186a-9316-4b07-b770-f44ba1862c24",
       "rows": [
        [
         "385",
         "1",
         "Cônjuge ou companheiro (a)"
        ],
        [
         "386",
         "2",
         "Ex-Cônjuge ou ex-companheiro (a"
        ],
        [
         "387",
         "3",
         "Parceiro (a), namorado (a), ex-parceiro (a), ex-namorado (a)"
        ],
        [
         "388",
         "4",
         "Pai, mãe, padrasto ou madrasta"
        ],
        [
         "389",
         "5",
         "Filho(a), enteado(a)   "
        ],
        [
         "390",
         "6",
         " Irmão(ã)"
        ],
        [
         "391",
         "7",
         "Outro parente"
        ],
        [
         "392",
         "8",
         "Amigo(a)/colega, vizinho(a"
        ],
        [
         "393",
         "9",
         "Empregado (a) em geral "
        ],
        [
         "394",
         "10",
         "Patrão/patroa/chefe"
        ],
        [
         "395",
         "11",
         "Pessoa desconhecida"
        ],
        [
         "396",
         "12",
         "Policial"
        ],
        [
         "397",
         "13",
         "Outro"
        ]
       ],
       "shape": {
        "columns": 2,
        "rows": 13
       }
      },
      "text/html": [
       "<div>\n",
       "<style scoped>\n",
       "    .dataframe tbody tr th:only-of-type {\n",
       "        vertical-align: middle;\n",
       "    }\n",
       "\n",
       "    .dataframe tbody tr th {\n",
       "        vertical-align: top;\n",
       "    }\n",
       "\n",
       "    .dataframe thead th {\n",
       "        text-align: right;\n",
       "    }\n",
       "</style>\n",
       "<table border=\"1\" class=\"dataframe\">\n",
       "  <thead>\n",
       "    <tr style=\"text-align: right;\">\n",
       "      <th></th>\n",
       "      <th>Tipo</th>\n",
       "      <th>Classe</th>\n",
       "    </tr>\n",
       "  </thead>\n",
       "  <tbody>\n",
       "    <tr>\n",
       "      <th>385</th>\n",
       "      <td>1</td>\n",
       "      <td>Cônjuge ou companheiro (a)</td>\n",
       "    </tr>\n",
       "    <tr>\n",
       "      <th>386</th>\n",
       "      <td>2</td>\n",
       "      <td>Ex-Cônjuge ou ex-companheiro (a</td>\n",
       "    </tr>\n",
       "    <tr>\n",
       "      <th>387</th>\n",
       "      <td>3</td>\n",
       "      <td>Parceiro (a), namorado (a), ex-parceiro (a), e...</td>\n",
       "    </tr>\n",
       "    <tr>\n",
       "      <th>388</th>\n",
       "      <td>4</td>\n",
       "      <td>Pai, mãe, padrasto ou madrasta</td>\n",
       "    </tr>\n",
       "    <tr>\n",
       "      <th>389</th>\n",
       "      <td>5</td>\n",
       "      <td>Filho(a), enteado(a)</td>\n",
       "    </tr>\n",
       "    <tr>\n",
       "      <th>390</th>\n",
       "      <td>6</td>\n",
       "      <td>Irmão(ã)</td>\n",
       "    </tr>\n",
       "    <tr>\n",
       "      <th>391</th>\n",
       "      <td>7</td>\n",
       "      <td>Outro parente</td>\n",
       "    </tr>\n",
       "    <tr>\n",
       "      <th>392</th>\n",
       "      <td>8</td>\n",
       "      <td>Amigo(a)/colega, vizinho(a</td>\n",
       "    </tr>\n",
       "    <tr>\n",
       "      <th>393</th>\n",
       "      <td>9</td>\n",
       "      <td>Empregado (a) em geral</td>\n",
       "    </tr>\n",
       "    <tr>\n",
       "      <th>394</th>\n",
       "      <td>10</td>\n",
       "      <td>Patrão/patroa/chefe</td>\n",
       "    </tr>\n",
       "    <tr>\n",
       "      <th>395</th>\n",
       "      <td>11</td>\n",
       "      <td>Pessoa desconhecida</td>\n",
       "    </tr>\n",
       "    <tr>\n",
       "      <th>396</th>\n",
       "      <td>12</td>\n",
       "      <td>Policial</td>\n",
       "    </tr>\n",
       "    <tr>\n",
       "      <th>397</th>\n",
       "      <td>13</td>\n",
       "      <td>Outro</td>\n",
       "    </tr>\n",
       "  </tbody>\n",
       "</table>\n",
       "</div>"
      ],
      "text/plain": [
       "     Tipo                                             Classe\n",
       "385     1                         Cônjuge ou companheiro (a)\n",
       "386     2                    Ex-Cônjuge ou ex-companheiro (a\n",
       "387     3  Parceiro (a), namorado (a), ex-parceiro (a), e...\n",
       "388     4                     Pai, mãe, padrasto ou madrasta\n",
       "389     5                            Filho(a), enteado(a)   \n",
       "390     6                                           Irmão(ã)\n",
       "391     7                                      Outro parente\n",
       "392     8                         Amigo(a)/colega, vizinho(a\n",
       "393     9                            Empregado (a) em geral \n",
       "394    10                                Patrão/patroa/chefe\n",
       "395    11                                Pessoa desconhecida\n",
       "396    12                                           Policial\n",
       "397    13                                              Outro"
      ]
     },
     "metadata": {},
     "output_type": "display_data"
    },
    {
     "name": "stdout",
     "output_type": "stream",
     "text": [
      "    [AFTER]:\n",
      "Quem fez isso com você         \n",
      "Pessoa desconhecida                153\n",
      "Amigo(a)/colega, vizinho(a         130\n",
      "Ex-Cônjuge ou ex-companheiro (a    122\n",
      "Name: count, dtype: int64\n",
      "\n",
      "    [COLUMN]: V033 ==================================================\n",
      "    [BEFORE]:\n",
      "Onde isso ocorreu?\n",
      "1.0                   357\n",
      "5.0                   143\n",
      "4.0                    60\n",
      "Name: count, dtype: int64\n",
      "\n"
     ]
    },
    {
     "data": {
      "application/vnd.microsoft.datawrangler.viewer.v0+json": {
       "columns": [
        {
         "name": "index",
         "rawType": "int64",
         "type": "integer"
        },
        {
         "name": "Tipo",
         "rawType": "int64",
         "type": "integer"
        },
        {
         "name": "Classe",
         "rawType": "object",
         "type": "string"
        }
       ],
       "conversionMethod": "pd.DataFrame",
       "ref": "ff735f32-584e-4d00-9e53-115de8a9cb17",
       "rows": [
        [
         "399",
         "1",
         "Residência"
        ],
        [
         "400",
         "2",
         "Trabalho"
        ],
        [
         "401",
         "3",
         "Escola, faculdade ou outro estabelecimento de ensino"
        ],
        [
         "402",
         "4",
         "Bar, restaurante ou similar"
        ],
        [
         "403",
         "5",
         "Via pública ou outro local público"
        ],
        [
         "404",
         "6",
         "Outro "
        ]
       ],
       "shape": {
        "columns": 2,
        "rows": 6
       }
      },
      "text/html": [
       "<div>\n",
       "<style scoped>\n",
       "    .dataframe tbody tr th:only-of-type {\n",
       "        vertical-align: middle;\n",
       "    }\n",
       "\n",
       "    .dataframe tbody tr th {\n",
       "        vertical-align: top;\n",
       "    }\n",
       "\n",
       "    .dataframe thead th {\n",
       "        text-align: right;\n",
       "    }\n",
       "</style>\n",
       "<table border=\"1\" class=\"dataframe\">\n",
       "  <thead>\n",
       "    <tr style=\"text-align: right;\">\n",
       "      <th></th>\n",
       "      <th>Tipo</th>\n",
       "      <th>Classe</th>\n",
       "    </tr>\n",
       "  </thead>\n",
       "  <tbody>\n",
       "    <tr>\n",
       "      <th>399</th>\n",
       "      <td>1</td>\n",
       "      <td>Residência</td>\n",
       "    </tr>\n",
       "    <tr>\n",
       "      <th>400</th>\n",
       "      <td>2</td>\n",
       "      <td>Trabalho</td>\n",
       "    </tr>\n",
       "    <tr>\n",
       "      <th>401</th>\n",
       "      <td>3</td>\n",
       "      <td>Escola, faculdade ou outro estabelecimento de ...</td>\n",
       "    </tr>\n",
       "    <tr>\n",
       "      <th>402</th>\n",
       "      <td>4</td>\n",
       "      <td>Bar, restaurante ou similar</td>\n",
       "    </tr>\n",
       "    <tr>\n",
       "      <th>403</th>\n",
       "      <td>5</td>\n",
       "      <td>Via pública ou outro local público</td>\n",
       "    </tr>\n",
       "    <tr>\n",
       "      <th>404</th>\n",
       "      <td>6</td>\n",
       "      <td>Outro</td>\n",
       "    </tr>\n",
       "  </tbody>\n",
       "</table>\n",
       "</div>"
      ],
      "text/plain": [
       "     Tipo                                             Classe\n",
       "399     1                                         Residência\n",
       "400     2                                           Trabalho\n",
       "401     3  Escola, faculdade ou outro estabelecimento de ...\n",
       "402     4                        Bar, restaurante ou similar\n",
       "403     5                 Via pública ou outro local público\n",
       "404     6                                             Outro "
      ]
     },
     "metadata": {},
     "output_type": "display_data"
    },
    {
     "name": "stdout",
     "output_type": "stream",
     "text": [
      "    [AFTER]:\n",
      "Onde isso ocorreu?                \n",
      "Residência                            357\n",
      "Via pública ou outro local público    143\n",
      "Bar, restaurante ou similar            60\n",
      "Name: count, dtype: int64\n",
      "\n",
      "    [COLUMN]: V034 ==================================================\n",
      "    [BEFORE]:\n",
      "Nos últimos doze meses, você deixou de realizar quaisquer de suas atividades habituais (trabalhar, realizar afazeres domésticos, ir à escola etc.) por causa desse ato\n",
      "2.0                                                                                                                                                                       13260\n",
      "1.0                                                                                                                                                                        2062\n",
      "Name: count, dtype: int64\n",
      "\n"
     ]
    },
    {
     "data": {
      "application/vnd.microsoft.datawrangler.viewer.v0+json": {
       "columns": [
        {
         "name": "index",
         "rawType": "int64",
         "type": "integer"
        },
        {
         "name": "Tipo",
         "rawType": "int64",
         "type": "integer"
        },
        {
         "name": "Classe",
         "rawType": "object",
         "type": "string"
        }
       ],
       "conversionMethod": "pd.DataFrame",
       "ref": "5aa3c0ed-7319-48f2-ab2e-c1cf06faf5ee",
       "rows": [
        [
         "406",
         "1",
         "Sim"
        ],
        [
         "407",
         "2",
         "Não"
        ]
       ],
       "shape": {
        "columns": 2,
        "rows": 2
       }
      },
      "text/html": [
       "<div>\n",
       "<style scoped>\n",
       "    .dataframe tbody tr th:only-of-type {\n",
       "        vertical-align: middle;\n",
       "    }\n",
       "\n",
       "    .dataframe tbody tr th {\n",
       "        vertical-align: top;\n",
       "    }\n",
       "\n",
       "    .dataframe thead th {\n",
       "        text-align: right;\n",
       "    }\n",
       "</style>\n",
       "<table border=\"1\" class=\"dataframe\">\n",
       "  <thead>\n",
       "    <tr style=\"text-align: right;\">\n",
       "      <th></th>\n",
       "      <th>Tipo</th>\n",
       "      <th>Classe</th>\n",
       "    </tr>\n",
       "  </thead>\n",
       "  <tbody>\n",
       "    <tr>\n",
       "      <th>406</th>\n",
       "      <td>1</td>\n",
       "      <td>Sim</td>\n",
       "    </tr>\n",
       "    <tr>\n",
       "      <th>407</th>\n",
       "      <td>2</td>\n",
       "      <td>Não</td>\n",
       "    </tr>\n",
       "  </tbody>\n",
       "</table>\n",
       "</div>"
      ],
      "text/plain": [
       "     Tipo Classe\n",
       "406     1    Sim\n",
       "407     2    Não"
      ]
     },
     "metadata": {},
     "output_type": "display_data"
    },
    {
     "name": "stdout",
     "output_type": "stream",
     "text": [
      "    [AFTER]:\n",
      "Nos últimos doze meses, você deixou de realizar quaisquer de suas atividades habituais (trabalhar, realizar afazeres domésticos, ir à escola etc.) por causa desse ato\n",
      "Não                                                                                                                                                                       13260\n",
      "Sim                                                                                                                                                                        2062\n",
      "Name: count, dtype: int64\n",
      "\n",
      "    [COLUMN]: V03501 ==================================================\n",
      "    [BEFORE]:\n",
      "Esse(s) ato(s) sexual(is) forçado(s) gerou(aram) alguma consequência para sua saúde, tais como: Hematomas, cortes, fraturas, queimaduras ou outras lesões físicas ou ferimentos?\n",
      "2.0                                                                                                                                                                                 2639\n",
      "1.0                                                                                                                                                                                 1198\n",
      "Name: count, dtype: int64\n",
      "\n"
     ]
    },
    {
     "data": {
      "application/vnd.microsoft.datawrangler.viewer.v0+json": {
       "columns": [
        {
         "name": "index",
         "rawType": "int64",
         "type": "integer"
        },
        {
         "name": "Tipo",
         "rawType": "int64",
         "type": "integer"
        },
        {
         "name": "Classe",
         "rawType": "object",
         "type": "unknown"
        }
       ],
       "conversionMethod": "pd.DataFrame",
       "ref": "695d4df5-0026-4fcc-a2db-1417b2e61ae8",
       "rows": [
        [
         "409",
         "1",
         null
        ],
        [
         "410",
         "2",
         null
        ]
       ],
       "shape": {
        "columns": 2,
        "rows": 2
       }
      },
      "text/html": [
       "<div>\n",
       "<style scoped>\n",
       "    .dataframe tbody tr th:only-of-type {\n",
       "        vertical-align: middle;\n",
       "    }\n",
       "\n",
       "    .dataframe tbody tr th {\n",
       "        vertical-align: top;\n",
       "    }\n",
       "\n",
       "    .dataframe thead th {\n",
       "        text-align: right;\n",
       "    }\n",
       "</style>\n",
       "<table border=\"1\" class=\"dataframe\">\n",
       "  <thead>\n",
       "    <tr style=\"text-align: right;\">\n",
       "      <th></th>\n",
       "      <th>Tipo</th>\n",
       "      <th>Classe</th>\n",
       "    </tr>\n",
       "  </thead>\n",
       "  <tbody>\n",
       "    <tr>\n",
       "      <th>409</th>\n",
       "      <td>1</td>\n",
       "      <td>NaN</td>\n",
       "    </tr>\n",
       "    <tr>\n",
       "      <th>410</th>\n",
       "      <td>2</td>\n",
       "      <td>NaN</td>\n",
       "    </tr>\n",
       "  </tbody>\n",
       "</table>\n",
       "</div>"
      ],
      "text/plain": [
       "     Tipo Classe\n",
       "409     1    NaN\n",
       "410     2    NaN"
      ]
     },
     "metadata": {},
     "output_type": "display_data"
    },
    {
     "name": "stdout",
     "output_type": "stream",
     "text": [
      "    [AFTER]:\n",
      "Series([], Name: count, dtype: int64)\n",
      "\n",
      "    [COLUMN]: V03502 ==================================================\n",
      "    [BEFORE]:\n",
      "Esse(s) ato(s) sexual(is) forçado(s) gerou(aram) alguma consequência para sua saúde, tais como: Medo, tristeza, desânimo, dificuldade para dormir, ansiedade, depressão ou outras consequências psicológicas?\n",
      "2.0                                                                                                                                                                                                              7734\n",
      "1.0                                                                                                                                                                                                              7588\n",
      "Name: count, dtype: int64\n",
      "\n"
     ]
    },
    {
     "data": {
      "application/vnd.microsoft.datawrangler.viewer.v0+json": {
       "columns": [
        {
         "name": "index",
         "rawType": "int64",
         "type": "integer"
        },
        {
         "name": "Tipo",
         "rawType": "int64",
         "type": "integer"
        },
        {
         "name": "Classe",
         "rawType": "object",
         "type": "string"
        }
       ],
       "conversionMethod": "pd.DataFrame",
       "ref": "ddd2d43b-5531-4a2c-9093-3ea694ef99b3",
       "rows": [
        [
         "412",
         "1",
         "Sim"
        ],
        [
         "413",
         "2",
         "Não"
        ]
       ],
       "shape": {
        "columns": 2,
        "rows": 2
       }
      },
      "text/html": [
       "<div>\n",
       "<style scoped>\n",
       "    .dataframe tbody tr th:only-of-type {\n",
       "        vertical-align: middle;\n",
       "    }\n",
       "\n",
       "    .dataframe tbody tr th {\n",
       "        vertical-align: top;\n",
       "    }\n",
       "\n",
       "    .dataframe thead th {\n",
       "        text-align: right;\n",
       "    }\n",
       "</style>\n",
       "<table border=\"1\" class=\"dataframe\">\n",
       "  <thead>\n",
       "    <tr style=\"text-align: right;\">\n",
       "      <th></th>\n",
       "      <th>Tipo</th>\n",
       "      <th>Classe</th>\n",
       "    </tr>\n",
       "  </thead>\n",
       "  <tbody>\n",
       "    <tr>\n",
       "      <th>412</th>\n",
       "      <td>1</td>\n",
       "      <td>Sim</td>\n",
       "    </tr>\n",
       "    <tr>\n",
       "      <th>413</th>\n",
       "      <td>2</td>\n",
       "      <td>Não</td>\n",
       "    </tr>\n",
       "  </tbody>\n",
       "</table>\n",
       "</div>"
      ],
      "text/plain": [
       "     Tipo Classe\n",
       "412     1    Sim\n",
       "413     2    Não"
      ]
     },
     "metadata": {},
     "output_type": "display_data"
    },
    {
     "name": "stdout",
     "output_type": "stream",
     "text": [
      "    [AFTER]:\n",
      "Esse(s) ato(s) sexual(is) forçado(s) gerou(aram) alguma consequência para sua saúde, tais como: Medo, tristeza, desânimo, dificuldade para dormir, ansiedade, depressão ou outras consequências psicológicas?\n",
      "Não                                                                                                                                                                                                              7734\n",
      "Sim                                                                                                                                                                                                              7588\n",
      "Name: count, dtype: int64\n",
      "\n",
      "    [COLUMN]: V03503 ==================================================\n",
      "    [BEFORE]:\n",
      "Esse(s) ato(s) sexual(is) forçado(s) gerou(aram) alguma consequência para sua saúde, tais como: Doença sexualmente transmissível ou gravidez indesejada?\n",
      "2.0                                                                                                                                                         637\n",
      "1.0                                                                                                                                                          35\n",
      "Name: count, dtype: int64\n",
      "\n"
     ]
    },
    {
     "data": {
      "application/vnd.microsoft.datawrangler.viewer.v0+json": {
       "columns": [
        {
         "name": "index",
         "rawType": "int64",
         "type": "integer"
        },
        {
         "name": "Tipo",
         "rawType": "int64",
         "type": "integer"
        },
        {
         "name": "Classe",
         "rawType": "object",
         "type": "string"
        }
       ],
       "conversionMethod": "pd.DataFrame",
       "ref": "b7bafc12-d1ce-465b-a19d-4858f98ead30",
       "rows": [
        [
         "415",
         "1",
         "Sim"
        ],
        [
         "416",
         "2",
         "Não"
        ]
       ],
       "shape": {
        "columns": 2,
        "rows": 2
       }
      },
      "text/html": [
       "<div>\n",
       "<style scoped>\n",
       "    .dataframe tbody tr th:only-of-type {\n",
       "        vertical-align: middle;\n",
       "    }\n",
       "\n",
       "    .dataframe tbody tr th {\n",
       "        vertical-align: top;\n",
       "    }\n",
       "\n",
       "    .dataframe thead th {\n",
       "        text-align: right;\n",
       "    }\n",
       "</style>\n",
       "<table border=\"1\" class=\"dataframe\">\n",
       "  <thead>\n",
       "    <tr style=\"text-align: right;\">\n",
       "      <th></th>\n",
       "      <th>Tipo</th>\n",
       "      <th>Classe</th>\n",
       "    </tr>\n",
       "  </thead>\n",
       "  <tbody>\n",
       "    <tr>\n",
       "      <th>415</th>\n",
       "      <td>1</td>\n",
       "      <td>Sim</td>\n",
       "    </tr>\n",
       "    <tr>\n",
       "      <th>416</th>\n",
       "      <td>2</td>\n",
       "      <td>Não</td>\n",
       "    </tr>\n",
       "  </tbody>\n",
       "</table>\n",
       "</div>"
      ],
      "text/plain": [
       "     Tipo Classe\n",
       "415     1    Sim\n",
       "416     2    Não"
      ]
     },
     "metadata": {},
     "output_type": "display_data"
    },
    {
     "name": "stdout",
     "output_type": "stream",
     "text": [
      "    [AFTER]:\n",
      "Esse(s) ato(s) sexual(is) forçado(s) gerou(aram) alguma consequência para sua saúde, tais como: Doença sexualmente transmissível ou gravidez indesejada?\n",
      "Não                                                                                                                                                         637\n",
      "Sim                                                                                                                                                          35\n",
      "Name: count, dtype: int64\n",
      "\n",
      "    [COLUMN]: V036 ==================================================\n",
      "    [BEFORE]:\n",
      "Por causa desta (s) consequência (s), você procurou algum atendimento de saúde\n",
      "2.0                                                                               6776\n",
      "1.0                                                                               1325\n",
      "Name: count, dtype: int64\n",
      "\n"
     ]
    },
    {
     "data": {
      "application/vnd.microsoft.datawrangler.viewer.v0+json": {
       "columns": [
        {
         "name": "index",
         "rawType": "int64",
         "type": "integer"
        },
        {
         "name": "Tipo",
         "rawType": "int64",
         "type": "integer"
        },
        {
         "name": "Classe",
         "rawType": "object",
         "type": "string"
        }
       ],
       "conversionMethod": "pd.DataFrame",
       "ref": "b77271db-122a-455e-9c39-49fc3df10ed2",
       "rows": [
        [
         "418",
         "1",
         "Sim"
        ],
        [
         "419",
         "2",
         "Não"
        ]
       ],
       "shape": {
        "columns": 2,
        "rows": 2
       }
      },
      "text/html": [
       "<div>\n",
       "<style scoped>\n",
       "    .dataframe tbody tr th:only-of-type {\n",
       "        vertical-align: middle;\n",
       "    }\n",
       "\n",
       "    .dataframe tbody tr th {\n",
       "        vertical-align: top;\n",
       "    }\n",
       "\n",
       "    .dataframe thead th {\n",
       "        text-align: right;\n",
       "    }\n",
       "</style>\n",
       "<table border=\"1\" class=\"dataframe\">\n",
       "  <thead>\n",
       "    <tr style=\"text-align: right;\">\n",
       "      <th></th>\n",
       "      <th>Tipo</th>\n",
       "      <th>Classe</th>\n",
       "    </tr>\n",
       "  </thead>\n",
       "  <tbody>\n",
       "    <tr>\n",
       "      <th>418</th>\n",
       "      <td>1</td>\n",
       "      <td>Sim</td>\n",
       "    </tr>\n",
       "    <tr>\n",
       "      <th>419</th>\n",
       "      <td>2</td>\n",
       "      <td>Não</td>\n",
       "    </tr>\n",
       "  </tbody>\n",
       "</table>\n",
       "</div>"
      ],
      "text/plain": [
       "     Tipo Classe\n",
       "418     1    Sim\n",
       "419     2    Não"
      ]
     },
     "metadata": {},
     "output_type": "display_data"
    },
    {
     "name": "stdout",
     "output_type": "stream",
     "text": [
      "    [AFTER]:\n",
      "Por causa desta (s) consequência (s), você procurou algum atendimento de saúde\n",
      "Não                                                                               6776\n",
      "Sim                                                                               1325\n",
      "Name: count, dtype: int64\n",
      "\n",
      "    [COLUMN]: V037 ==================================================\n",
      "    [BEFORE]:\n",
      "Por causa desta (s) consequência (s), você recebeu algum atendimento de saúde\n",
      "1.0                                                                              1211\n",
      "2.0                                                                               114\n",
      "Name: count, dtype: int64\n",
      "\n"
     ]
    },
    {
     "data": {
      "application/vnd.microsoft.datawrangler.viewer.v0+json": {
       "columns": [
        {
         "name": "index",
         "rawType": "int64",
         "type": "integer"
        },
        {
         "name": "Tipo",
         "rawType": "int64",
         "type": "integer"
        },
        {
         "name": "Classe",
         "rawType": "object",
         "type": "string"
        }
       ],
       "conversionMethod": "pd.DataFrame",
       "ref": "1b90416e-974b-4ed8-a787-a84a44ae573b",
       "rows": [
        [
         "421",
         "1",
         "Sim"
        ],
        [
         "422",
         "2",
         "Não "
        ]
       ],
       "shape": {
        "columns": 2,
        "rows": 2
       }
      },
      "text/html": [
       "<div>\n",
       "<style scoped>\n",
       "    .dataframe tbody tr th:only-of-type {\n",
       "        vertical-align: middle;\n",
       "    }\n",
       "\n",
       "    .dataframe tbody tr th {\n",
       "        vertical-align: top;\n",
       "    }\n",
       "\n",
       "    .dataframe thead th {\n",
       "        text-align: right;\n",
       "    }\n",
       "</style>\n",
       "<table border=\"1\" class=\"dataframe\">\n",
       "  <thead>\n",
       "    <tr style=\"text-align: right;\">\n",
       "      <th></th>\n",
       "      <th>Tipo</th>\n",
       "      <th>Classe</th>\n",
       "    </tr>\n",
       "  </thead>\n",
       "  <tbody>\n",
       "    <tr>\n",
       "      <th>421</th>\n",
       "      <td>1</td>\n",
       "      <td>Sim</td>\n",
       "    </tr>\n",
       "    <tr>\n",
       "      <th>422</th>\n",
       "      <td>2</td>\n",
       "      <td>Não</td>\n",
       "    </tr>\n",
       "  </tbody>\n",
       "</table>\n",
       "</div>"
      ],
      "text/plain": [
       "     Tipo Classe\n",
       "421     1    Sim\n",
       "422     2   Não "
      ]
     },
     "metadata": {},
     "output_type": "display_data"
    },
    {
     "name": "stdout",
     "output_type": "stream",
     "text": [
      "    [AFTER]:\n",
      "Por causa desta (s) consequência (s), você recebeu algum atendimento de saúde\n",
      "Sim                                                                              1211\n",
      "Não                                                                               114\n",
      "Name: count, dtype: int64\n",
      "\n",
      "    [COLUMN]: V038 ==================================================\n",
      "    [BEFORE]:\n",
      "Onde foi realizado este atendimento de saúde\n",
      "3.0                                             379\n",
      "7.0                                             349\n",
      "5.0                                             155\n",
      "Name: count, dtype: int64\n",
      "\n"
     ]
    },
    {
     "data": {
      "application/vnd.microsoft.datawrangler.viewer.v0+json": {
       "columns": [
        {
         "name": "index",
         "rawType": "int64",
         "type": "integer"
        },
        {
         "name": "Tipo",
         "rawType": "int64",
         "type": "integer"
        },
        {
         "name": "Classe",
         "rawType": "object",
         "type": "string"
        }
       ],
       "conversionMethod": "pd.DataFrame",
       "ref": "130b6364-5ef9-4a22-b186-7e07a05e8d75",
       "rows": [
        [
         "424",
         "1",
         "No local"
        ],
        [
         "425",
         "2",
         " Farmácia."
        ],
        [
         "426",
         "3",
         "Unidade básica de saúde (posto ou centro de saúde ou unidade de saúde da família)."
        ],
        [
         "427",
         "4",
         "Policlínica pública, PAM (Posto de Assistência Médica) ou Centro de Especialidades público"
        ],
        [
         "428",
         "5",
         "UPA (Unidade de Pronto Atendimento), outro tipo de pronto atendimento público (24 horas), pronto-socorro ou emergência de hospital público."
        ],
        [
         "429",
         "6",
         "Ambulatório de hospital público."
        ],
        [
         "430",
         "7",
         "Consultório particular, clínica privada ou ambulatório de hospital privado."
        ],
        [
         "431",
         "8",
         "Pronto atendimento ou emergência de hospital privado."
        ],
        [
         "432",
         "9",
         " No domicílio"
        ],
        [
         "433",
         "10",
         "Outro serviço"
        ]
       ],
       "shape": {
        "columns": 2,
        "rows": 10
       }
      },
      "text/html": [
       "<div>\n",
       "<style scoped>\n",
       "    .dataframe tbody tr th:only-of-type {\n",
       "        vertical-align: middle;\n",
       "    }\n",
       "\n",
       "    .dataframe tbody tr th {\n",
       "        vertical-align: top;\n",
       "    }\n",
       "\n",
       "    .dataframe thead th {\n",
       "        text-align: right;\n",
       "    }\n",
       "</style>\n",
       "<table border=\"1\" class=\"dataframe\">\n",
       "  <thead>\n",
       "    <tr style=\"text-align: right;\">\n",
       "      <th></th>\n",
       "      <th>Tipo</th>\n",
       "      <th>Classe</th>\n",
       "    </tr>\n",
       "  </thead>\n",
       "  <tbody>\n",
       "    <tr>\n",
       "      <th>424</th>\n",
       "      <td>1</td>\n",
       "      <td>No local</td>\n",
       "    </tr>\n",
       "    <tr>\n",
       "      <th>425</th>\n",
       "      <td>2</td>\n",
       "      <td>Farmácia.</td>\n",
       "    </tr>\n",
       "    <tr>\n",
       "      <th>426</th>\n",
       "      <td>3</td>\n",
       "      <td>Unidade básica de saúde (posto ou centro de sa...</td>\n",
       "    </tr>\n",
       "    <tr>\n",
       "      <th>427</th>\n",
       "      <td>4</td>\n",
       "      <td>Policlínica pública, PAM (Posto de Assistência...</td>\n",
       "    </tr>\n",
       "    <tr>\n",
       "      <th>428</th>\n",
       "      <td>5</td>\n",
       "      <td>UPA (Unidade de Pronto Atendimento), outro tip...</td>\n",
       "    </tr>\n",
       "    <tr>\n",
       "      <th>429</th>\n",
       "      <td>6</td>\n",
       "      <td>Ambulatório de hospital público.</td>\n",
       "    </tr>\n",
       "    <tr>\n",
       "      <th>430</th>\n",
       "      <td>7</td>\n",
       "      <td>Consultório particular, clínica privada ou amb...</td>\n",
       "    </tr>\n",
       "    <tr>\n",
       "      <th>431</th>\n",
       "      <td>8</td>\n",
       "      <td>Pronto atendimento ou emergência de hospital p...</td>\n",
       "    </tr>\n",
       "    <tr>\n",
       "      <th>432</th>\n",
       "      <td>9</td>\n",
       "      <td>No domicílio</td>\n",
       "    </tr>\n",
       "    <tr>\n",
       "      <th>433</th>\n",
       "      <td>10</td>\n",
       "      <td>Outro serviço</td>\n",
       "    </tr>\n",
       "  </tbody>\n",
       "</table>\n",
       "</div>"
      ],
      "text/plain": [
       "     Tipo                                             Classe\n",
       "424     1                                           No local\n",
       "425     2                                          Farmácia.\n",
       "426     3  Unidade básica de saúde (posto ou centro de sa...\n",
       "427     4  Policlínica pública, PAM (Posto de Assistência...\n",
       "428     5  UPA (Unidade de Pronto Atendimento), outro tip...\n",
       "429     6                   Ambulatório de hospital público.\n",
       "430     7  Consultório particular, clínica privada ou amb...\n",
       "431     8  Pronto atendimento ou emergência de hospital p...\n",
       "432     9                                       No domicílio\n",
       "433    10                                      Outro serviço"
      ]
     },
     "metadata": {},
     "output_type": "display_data"
    },
    {
     "name": "stdout",
     "output_type": "stream",
     "text": [
      "    [AFTER]:\n",
      "Onde foi realizado este atendimento de saúde                                                                                               \n",
      "Unidade básica de saúde (posto ou centro de saúde ou unidade de saúde da família).                                                             379\n",
      "Consultório particular, clínica privada ou ambulatório de hospital privado.                                                                    349\n",
      "UPA (Unidade de Pronto Atendimento), outro tipo de pronto atendimento público (24 horas), pronto-socorro ou emergência de hospital público.    155\n",
      "Name: count, dtype: int64\n",
      "\n",
      "    [COLUMN]: V039 ==================================================\n",
      "    [BEFORE]:\n",
      "Por causa desta (s) consequência (s), você precisou ser internado por 24 horas ou mais\n",
      "2.0                                                                                       1145\n",
      "1.0                                                                                         66\n",
      "Name: count, dtype: int64\n",
      "\n"
     ]
    },
    {
     "data": {
      "application/vnd.microsoft.datawrangler.viewer.v0+json": {
       "columns": [
        {
         "name": "index",
         "rawType": "int64",
         "type": "integer"
        },
        {
         "name": "Tipo",
         "rawType": "int64",
         "type": "integer"
        },
        {
         "name": "Classe",
         "rawType": "object",
         "type": "string"
        }
       ],
       "conversionMethod": "pd.DataFrame",
       "ref": "923c0d40-f320-4342-ad64-ced7a3bd2961",
       "rows": [
        [
         "435",
         "1",
         "Sim"
        ],
        [
         "436",
         "2",
         "Não"
        ]
       ],
       "shape": {
        "columns": 2,
        "rows": 2
       }
      },
      "text/html": [
       "<div>\n",
       "<style scoped>\n",
       "    .dataframe tbody tr th:only-of-type {\n",
       "        vertical-align: middle;\n",
       "    }\n",
       "\n",
       "    .dataframe tbody tr th {\n",
       "        vertical-align: top;\n",
       "    }\n",
       "\n",
       "    .dataframe thead th {\n",
       "        text-align: right;\n",
       "    }\n",
       "</style>\n",
       "<table border=\"1\" class=\"dataframe\">\n",
       "  <thead>\n",
       "    <tr style=\"text-align: right;\">\n",
       "      <th></th>\n",
       "      <th>Tipo</th>\n",
       "      <th>Classe</th>\n",
       "    </tr>\n",
       "  </thead>\n",
       "  <tbody>\n",
       "    <tr>\n",
       "      <th>435</th>\n",
       "      <td>1</td>\n",
       "      <td>Sim</td>\n",
       "    </tr>\n",
       "    <tr>\n",
       "      <th>436</th>\n",
       "      <td>2</td>\n",
       "      <td>Não</td>\n",
       "    </tr>\n",
       "  </tbody>\n",
       "</table>\n",
       "</div>"
      ],
      "text/plain": [
       "     Tipo Classe\n",
       "435     1    Sim\n",
       "436     2    Não"
      ]
     },
     "metadata": {},
     "output_type": "display_data"
    },
    {
     "name": "stdout",
     "output_type": "stream",
     "text": [
      "    [AFTER]:\n",
      "Por causa desta (s) consequência (s), você precisou ser internado por 24 horas ou mais\n",
      "Não                                                                                       1145\n",
      "Sim                                                                                         66\n",
      "Name: count, dtype: int64\n",
      "\n",
      "    [COLUMN]: Y008 ==================================================\n",
      "    [BEFORE]:\n",
      "Qual é a sua orientação sexual?\n",
      "1.0                                84359\n",
      "6.0                                 1769\n",
      "3.0                                  980\n",
      "Name: count, dtype: int64\n",
      "\n"
     ]
    },
    {
     "data": {
      "application/vnd.microsoft.datawrangler.viewer.v0+json": {
       "columns": [
        {
         "name": "index",
         "rawType": "int64",
         "type": "integer"
        },
        {
         "name": "Tipo",
         "rawType": "int64",
         "type": "integer"
        },
        {
         "name": "Classe",
         "rawType": "object",
         "type": "string"
        }
       ],
       "conversionMethod": "pd.DataFrame",
       "ref": "ce46ad6e-5099-4360-94ae-cf4f031ddb70",
       "rows": [
        [
         "438",
         "1",
         "Heterosexual"
        ],
        [
         "439",
         "2",
         "Bissexual"
        ],
        [
         "440",
         "3",
         "Homosexual"
        ],
        [
         "441",
         "4",
         "Outra orientação"
        ],
        [
         "442",
         "5",
         "Não sabe "
        ],
        [
         "443",
         "6",
         "Recusou-se a responder"
        ]
       ],
       "shape": {
        "columns": 2,
        "rows": 6
       }
      },
      "text/html": [
       "<div>\n",
       "<style scoped>\n",
       "    .dataframe tbody tr th:only-of-type {\n",
       "        vertical-align: middle;\n",
       "    }\n",
       "\n",
       "    .dataframe tbody tr th {\n",
       "        vertical-align: top;\n",
       "    }\n",
       "\n",
       "    .dataframe thead th {\n",
       "        text-align: right;\n",
       "    }\n",
       "</style>\n",
       "<table border=\"1\" class=\"dataframe\">\n",
       "  <thead>\n",
       "    <tr style=\"text-align: right;\">\n",
       "      <th></th>\n",
       "      <th>Tipo</th>\n",
       "      <th>Classe</th>\n",
       "    </tr>\n",
       "  </thead>\n",
       "  <tbody>\n",
       "    <tr>\n",
       "      <th>438</th>\n",
       "      <td>1</td>\n",
       "      <td>Heterosexual</td>\n",
       "    </tr>\n",
       "    <tr>\n",
       "      <th>439</th>\n",
       "      <td>2</td>\n",
       "      <td>Bissexual</td>\n",
       "    </tr>\n",
       "    <tr>\n",
       "      <th>440</th>\n",
       "      <td>3</td>\n",
       "      <td>Homosexual</td>\n",
       "    </tr>\n",
       "    <tr>\n",
       "      <th>441</th>\n",
       "      <td>4</td>\n",
       "      <td>Outra orientação</td>\n",
       "    </tr>\n",
       "    <tr>\n",
       "      <th>442</th>\n",
       "      <td>5</td>\n",
       "      <td>Não sabe</td>\n",
       "    </tr>\n",
       "    <tr>\n",
       "      <th>443</th>\n",
       "      <td>6</td>\n",
       "      <td>Recusou-se a responder</td>\n",
       "    </tr>\n",
       "  </tbody>\n",
       "</table>\n",
       "</div>"
      ],
      "text/plain": [
       "     Tipo                  Classe\n",
       "438     1            Heterosexual\n",
       "439     2               Bissexual\n",
       "440     3              Homosexual\n",
       "441     4        Outra orientação\n",
       "442     5               Não sabe \n",
       "443     6  Recusou-se a responder"
      ]
     },
     "metadata": {},
     "output_type": "display_data"
    },
    {
     "name": "stdout",
     "output_type": "stream",
     "text": [
      "    [AFTER]:\n",
      "Qual é a sua orientação sexual?\n",
      "Heterosexual                       84359\n",
      "Recusou-se a responder              1769\n",
      "Homosexual                           980\n",
      "Name: count, dtype: int64\n",
      "\n"
     ]
    }
   ],
   "source": [
    "# Map the Tipos to their corresponding Classes\n",
    "\n",
    "columns = depression_explicit.columns.get_level_values(0).to_list()\n",
    "class_mappings.loc[class_mappings['Codigo'] == columns[0], ['Tipo', 'Classe']]\n",
    "\n",
    "for codigo in columns:\n",
    "\n",
    "    print(f'    [COLUMN]: {codigo} ==================================================')\n",
    "    print(f'    [BEFORE]:\\n{depression_explicit[codigo].value_counts(ascending=False).head(3)}\\n')\n",
    "\n",
    "    # Mappings for the current column\n",
    "    mappings = class_mappings.loc[class_mappings['Codigo'] == codigo, ['Tipo', 'Classe']]\n",
    "    display(mappings)\n",
    "\n",
    "    # Mappings for the current column\n",
    "    depression_explicit[codigo] = depression_explicit[codigo].replace(\n",
    "        mappings['Tipo'].values.astype(int),\n",
    "        mappings['Classe'].values\n",
    "    )\n",
    "\n",
    "    print(f'    [AFTER]:\\n{depression_explicit[codigo].value_counts(ascending=False).head(3)}\\n')"
   ]
  },
  {
   "cell_type": "code",
   "execution_count": 16,
   "id": "9882e821",
   "metadata": {},
   "outputs": [
    {
     "data": {
      "text/plain": [
       "Unidade da Federação\n",
       "São Paulo               18504\n",
       "Maranhão                17912\n",
       "Minas Gerais            15421\n",
       "Ceará                   15281\n",
       "Rio de Janeiro          14776\n",
       "Pará                    14393\n",
       "Amazonas                13074\n",
       "Pernambuco              12381\n",
       "Paraná                  11694\n",
       "Bahia                   11061\n",
       "Espírito Santo          10673\n",
       "Santa Catarina          10607\n",
       "Alagoas                 10474\n",
       "Rio Grande do Sul       10369\n",
       "Paraíba                 10094\n",
       "Rio Grande do Norte      9964\n",
       "Piauí                    9044\n",
       "Mato Grosso do Sul       8766\n",
       "Goiás                    8506\n",
       "Roraima                  8476\n",
       "Acre                     8270\n",
       "Sergipe                  8140\n",
       "Distrito Federal         7609\n",
       "Mato Grosso              7607\n",
       "Rondônia                 7391\n",
       "Amapá                    6640\n",
       "Tocantins                6599\n",
       "Name: count, dtype: int64"
      ]
     },
     "execution_count": 16,
     "metadata": {},
     "output_type": "execute_result"
    }
   ],
   "source": [
    "depression_explicit['V0001'].value_counts(ascending=False).head(30)"
   ]
  },
  {
   "cell_type": "code",
   "execution_count": 17,
   "id": "07dad933",
   "metadata": {},
   "outputs": [
    {
     "name": "stdout",
     "output_type": "stream",
     "text": [
      "<class 'pandas.core.frame.DataFrame'>\n",
      "RangeIndex: 293726 entries, 0 to 293725\n",
      "Data columns (total 87 columns):\n",
      " #   Column                                                                                                                                                                                                                   Non-Null Count   Dtype  \n",
      "---  ------                                                                                                                                                                                                                   --------------   -----  \n",
      " 0   (V0001, Unidade da Federação)                                                                                                                                                                                            293726 non-null  object \n",
      " 1   (V0026, Tipo de situação censitária)                                                                                                                                                                                     293726 non-null  object \n",
      " 2   (V0031, Tipo de área)                                                                                                                                                                                                    293726 non-null  object \n",
      " 3   (C006, Sexo)                                                                                                                                                                                                             279382 non-null  object \n",
      " 4   (C00703, Ano de nascimento)                                                                                                                                                                                              263040 non-null  float64\n",
      " 5   (C008, Idade do morador na data de referência)                                                                                                                                                                           279382 non-null  float64\n",
      " 6   (C009, Cor ou raça)                                                                                                                                                                                                      279358 non-null  object \n",
      " 7   (C01001, Cônjuge ou companheiro(a) mora em nesse domicílio.)                                                                                                                                                             242444 non-null  object \n",
      " 8   (C013, Cônjuge ou companheiro(a) mora em outro domicílio.)                                                                                                                                                               119532 non-null  object \n",
      " 9   (C017, ___já viveu com cônjuge ou companheiro (a) antes?)                                                                                                                                                                114348 non-null  object \n",
      " 10  (C018, Que idade ___tinha quando começou a viver com seu(sua) primeiro(a)/único(a) marido (mulher) ou companheiro(a)?)                                                                                                   149637 non-null  object \n",
      " 11  (C01801, Que idade ___tinha quando começou a viver com seu(sua) primeiro(a)/único(a) marido (mulher) ou companheiro(a)?)                                                                                                 149637 non-null  float64\n",
      " 12  (C011, Qual é o estado civil de ___?)                                                                                                                                                                                    242444 non-null  object \n",
      " 13  (C012, Informante do Módulo C)                                                                                                                                                                                           279343 non-null  object \n",
      " 14  (D00901, Qual foi o curso mais elevado que ___frequentou)                                                                                                                                                                178013 non-null  object \n",
      " 15  (D015, Informante do Módulo D)                                                                                                                                                                                           279284 non-null  object \n",
      " 16  (I00102, tem algum plano de saúde médico particular, de empresa ou órgão público?)                                                                                                                                       279382 non-null  object \n",
      " 17  (I005, Há quanto tempo sem interrupção _____ possui esse plano de saúde (único ou principal)?)                                                                                                                           58597 non-null   object \n",
      " 18  (I00401, O plano de saúde (único ou principal) de assistência médica que ___ possui dá direito a consultas)                                                                                                              31627 non-null   object \n",
      " 19  (I00403, O plano de saúde (único ou principal) de assistência médica que ___ possui dá direito a internações)                                                                                                            31627 non-null   object \n",
      " 20  (I00404, O plano de saúde (único ou principal) de assistência médica que ___ possui dá direito a partos)                                                                                                                 31627 non-null   object \n",
      " 21  (I012, Informante do Módulo I)                                                                                                                                                                                           278732 non-null  object \n",
      " 22  (M00302, O informante desta parte é:)                                                                                                                                                                                    1677 non-null    object \n",
      " 23  (M005010, No(s) seu(s) trabalho(s), habitualmente, (s) o(a) Sr(a) trabalha(va) algum período de tempo entre as 8 horas da noite e às 5 horas da manhã)                                                                   52832 non-null   object \n",
      " 24  (M009, O(a) Sr(a) normalmente trabalha(va) em ambientes)                                                                                                                                                                 52832 non-null   object \n",
      " 25  (M01401, Com quantos familiares ou parentes ___ pode contar em momentos bons ou ruins)                                                                                                                                   90846 non-null   object \n",
      " 26  (M01501, Com quantos amigos próximos ___ pode contar em momentos bons ou ruins (Sem considerar os familiares ou parentes)                                                                                                90846 non-null   object \n",
      " 27  (M01601, Nos últimos doze meses, com que frequência o(a) Sr(a) se reuniu com outras pessoas para prática de atividades esportivas, exercícios físicos, recreativos ou artísticos)                                        90846 non-null   object \n",
      " 28  (M01901, Nos últimos doze meses, com que frequência o(a) Sr(a) compareceu a atividades coletivas da sua religião ou de outra religião sem contar com situações como casamento, batizado, ou enterro))                    90846 non-null   object \n",
      " 29  (N016, Nas duas últimas semanas, com que frequência o(a) Sr(a) se sentiu deprimido(a), “pra baixo” ou sem perspectiva?)                                                                                                  90846 non-null   object \n",
      " 30  (P00102, O(A) Sr(a) sabe seu peso?)                                                                                                                                                                                      90846 non-null   object \n",
      " 31  (P00103, Peso - Informado (em kg)(3 inteiros e 1 casa decimal))                                                                                                                                                          83073 non-null   float64\n",
      " 32  (P00104, Peso - Final (em kg)(3 inteiros e 1 casa decimal))                                                                                                                                                              89954 non-null   float64\n",
      " 33  (P027, Com que frequência o(a) Sr(a) costuma consumir alguma bebida alcoólica?)                                                                                                                                          90846 non-null   object \n",
      " 34  (P02801, Quantos dias por semana o(a) Sr(a) costuma consumir alguma bebida alcoólica?)                                                                                                                                   24323 non-null   object \n",
      " 35  (P034, Nos últimos três meses, o(a) Sr(a) praticou algum tipo de exercício físico ou esporte?)                                                                                                                           90846 non-null   object \n",
      " 36  (P035, Quantos dias por semana o(a) Sr(a) costuma  (costumava)praticar exercício físico ou esporte?)                                                                                                                     36398 non-null   object \n",
      " 37  (P039, No seu trabalho, o(a) Sr(a) faz faxina pesada, carrega peso ou faz outra atividade pesada que requer esforço físico intenso?)                                                                                     52832 non-null   object \n",
      " 38  (P044, Nas suas atividades domésticas, o(a) Sr(a) faz faxina pesada, carrega peso ou faz outra atividade pesada que requer esforço físico intenso? (não considerar atividade doméstica remunerada))                      90846 non-null   object \n",
      " 39  (P050, Atualmente, o(a) Sr(a) fuma algum produto do tabaco?)                                                                                                                                                             90846 non-null   object \n",
      " 40  (P051, E no passado, o(a) Sr(a) fumou algum produto do tabaco diariamente?)                                                                                                                                              1186 non-null    object \n",
      " 41  (P053, Que idade o(a) Sr(a) tinha quando começou a fumar produto de tabaco diariamente?)                                                                                                                                 32063 non-null   float64\n",
      " 42  (P06701, O(a) Sr(a) usa aparelhos eletrônicos com nicotina líquida ou folha de tabaco picado (cigarro eletrônico, narguilé eletrônico, cigarro aquecido ou outro dispositivo eletrônico para fumar ou vaporizar)?)       90846 non-null   object \n",
      " 43  (Q092, Algum médico ou profissional de saúde mental (como psiquiatra ou psicólogo) já lhe deu o diagnóstico de depressão?)                                                                                               90846 non-null   object \n",
      " 44  (Q09201, Algum médico já lhe receitou algum medicamento para depressão?)                                                                                                                                                 8301 non-null    object \n",
      " 45  (Q09202, Nas duas últimas semanas o(a) senhor(a) usou algum medicamento para depressão?)                                                                                                                                 8297 non-null    object \n",
      " 46  (Q094, O(A) Sr(a) vai ao médico/serviço de saúde regularmente por causa da depressão ou só quando tem algum problema?)                                                                                                   8332 non-null    object \n",
      " 47  (Q09502, Qual o principal motivo do(a) Sr(a) não visitar o médico/serviço de saúde regularmente por causa da depressão?)                                                                                                 5309 non-null    object \n",
      " 48  (Q09605, Por causa da depressão Faz psicoterapia)                                                                                                                                                                        8332 non-null    object \n",
      " 49  (Q09606, Por causa da depressão Toma medicamentos)                                                                                                                                                                       8332 non-null    object \n",
      " 50  (Q098, Algum dos medicamentos para depressão foi obtido em serviço público de saúde?)                                                                                                                                    4348 non-null    object \n",
      " 51  (Q10101, Quando foi a última vez que o(a) Sr(a) recebeu atendimento médico por causa da depressão?)                                                                                                                      8332 non-null    object \n",
      " 52  (Q10202, Na última vez que recebeu assistência médica para depressão, onde o(a) Sr(a) foi atendido?)                                                                                                                     5391 non-null    object \n",
      " 53  (Q106, Em algum dos atendimentos para depressão, houve encaminhamento para algum acompanhamento com profissional de saúde mental, como psiquiatra ou psicólogo?)                                                         5391 non-null    object \n",
      " 54  (Q109, Em geral, em que grau a depressão limita as suas atividades habituais (tais como trabalhar, realizar afazeres domésticos, etc.)?)                                                                                 8332 non-null    object \n",
      " 55  (V00201, Nos últimos doze meses, alguém: Te ofendeu, humilhou ou ridicularizou na frente de outras pessoas?)                                                                                                             88531 non-null   object \n",
      " 56  (V00202, Nos últimos doze meses, alguém: Gritou com você ou te xingou?)                                                                                                                                                  88531 non-null   object \n",
      " 57  (V00203, Nos últimos doze meses, alguém: Usou redes sociais ou celular para ameaçar, ofender, xingar ou expor imagens suas sem o seu consentimento?)                                                                     88531 non-null   object \n",
      " 58  (V00204, Nos últimos doze meses, alguém: Te ameaçou de ferir ou machucar alguém importante para você?)                                                                                                                   88531 non-null   object \n",
      " 59  (V00205, Nos últimos doze meses, alguém: Destruiu alguma coisa sua de propósito?)                                                                                                                                        88531 non-null   object \n",
      " 60  (V003, Nos últimos doze meses, quantas vezes isso aconteceu com você?)                                                                                                                                                   14519 non-null   object \n",
      " 61  (V006, Quem fez isso com você? (Se mais de uma pessoa, defina o pirncipal agressor))                                                                                                                                     14519 non-null   object \n",
      " 62  (V007, Onde isso ocorreu?)                                                                                                                                                                                               14519 non-null   object \n",
      " 63  (V01401, Nos últimos doze meses, alguém: Te deu um tapa ou uma bofetada?)                                                                                                                                                88531 non-null   object \n",
      " 64  (V01402, Nos últimos doze meses, alguém: Te empurrou, segurou com força ou jogou algo em você com a intenção de machucar?)                                                                                               88531 non-null   object \n",
      " 65  (V01403, Nos últimos doze meses, alguém: Te deu um soco, chutou ou arrastou pelo cabelo?)                                                                                                                                88531 non-null   object \n",
      " 66  (V01404, Nos últimos doze meses, alguém: Tentou ou efetivamente estrangulou, asfixiou ou te queimou de propósito?)                                                                                                       88531 non-null   object \n",
      " 67  (V01405, Nos últimos doze meses, alguém: Te ameaçou ou feriu com uma faca, arma de fogo ou alguma outra arma ou objeto?)                                                                                                 88531 non-null   object \n",
      " 68  (V015, Nos últimos doze meses, quantas vezes isso aconteceu?)                                                                                                                                                            3440 non-null    object \n",
      " 69  (V018, Quem fez isso com você)                                                                                                                                                                                           3440 non-null    object \n",
      " 70  (V019, Onde isso ocorreu?)                                                                                                                                                                                               3440 non-null    object \n",
      " 71  (V02701, Nos últimos doze meses, alguém: tocou, manipulou, beijou ou expôs partes do seu corpo contra sua vontade)                                                                                                       88531 non-null   object \n",
      " 72  (V02702, Nos últimos doze meses, alguém: Te ameaçou ou forçou a ter relações sexuais ou quaisquer outros atos sexuais contra sua vontade?)                                                                               88531 non-null   object \n",
      " 73  (V02801, E alguma vez na vida, alguém: tocou, manipulou, beijou ou expôs partes do seu corpo contra sua vontade)                                                                                                         87859 non-null   object \n",
      " 74  (V02802, E alguma vez na vida, alguém: Te ameaçou ou forçou a ter relações sexuais ou quaisquer outros atos sexuais contra sua vontade?)                                                                                 87859 non-null   object \n",
      " 75  (V029, Nos últimos doze meses, quantas vezes isso aconteceu?)                                                                                                                                                            672 non-null     object \n",
      " 76  (V032, Quem fez isso com você)                                                                                                                                                                                           672 non-null     object \n",
      " 77  (V033, Onde isso ocorreu?)                                                                                                                                                                                               672 non-null     object \n",
      " 78  (V034, Nos últimos doze meses, você deixou de realizar quaisquer de suas atividades habituais (trabalhar, realizar afazeres domésticos, ir à escola etc.) por causa desse ato)                                           15322 non-null   object \n",
      " 79  (V03501, Esse(s) ato(s) sexual(is) forçado(s) gerou(aram) alguma consequência para sua saúde, tais como: Hematomas, cortes, fraturas, queimaduras ou outras lesões físicas ou ferimentos?)                               0 non-null       float64\n",
      " 80  (V03502, Esse(s) ato(s) sexual(is) forçado(s) gerou(aram) alguma consequência para sua saúde, tais como: Medo, tristeza, desânimo, dificuldade para dormir, ansiedade, depressão ou outras consequências psicológicas?)  15322 non-null   object \n",
      " 81  (V03503, Esse(s) ato(s) sexual(is) forçado(s) gerou(aram) alguma consequência para sua saúde, tais como: Doença sexualmente transmissível ou gravidez indesejada?)                                                       672 non-null     object \n",
      " 82  (V036, Por causa desta (s) consequência (s), você procurou algum atendimento de saúde)                                                                                                                                   8101 non-null    object \n",
      " 83  (V037, Por causa desta (s) consequência (s), você recebeu algum atendimento de saúde)                                                                                                                                    1325 non-null    object \n",
      " 84  (V038, Onde foi realizado este atendimento de saúde)                                                                                                                                                                     1211 non-null    object \n",
      " 85  (V039, Por causa desta (s) consequência (s), você precisou ser internado por 24 horas ou mais)                                                                                                                           1211 non-null    object \n",
      " 86  (Y008, Qual é a sua orientação sexual?)                                                                                                                                                                                  88531 non-null   object \n",
      "dtypes: float64(7), object(80)\n",
      "memory usage: 195.0+ MB\n"
     ]
    }
   ],
   "source": [
    "depression_explicit.info()"
   ]
  },
  {
   "cell_type": "code",
   "execution_count": 18,
   "id": "ecc477cd",
   "metadata": {},
   "outputs": [
    {
     "data": {
      "application/vnd.microsoft.datawrangler.viewer.v0+json": {
       "columns": [
        {
         "name": "index",
         "rawType": "int64",
         "type": "integer"
        },
        {
         "name": "('V0001', 'Unidade da Federação')",
         "rawType": "object",
         "type": "string"
        },
        {
         "name": "('V0026', 'Tipo de situação censitária')",
         "rawType": "object",
         "type": "string"
        },
        {
         "name": "('V0031', 'Tipo de área')",
         "rawType": "object",
         "type": "string"
        },
        {
         "name": "('C006', 'Sexo')",
         "rawType": "object",
         "type": "string"
        },
        {
         "name": "('C00703', 'Ano de nascimento')",
         "rawType": "float64",
         "type": "float"
        },
        {
         "name": "('C008', 'Idade do morador na data de referência')",
         "rawType": "float64",
         "type": "float"
        },
        {
         "name": "('C009', 'Cor ou raça')",
         "rawType": "object",
         "type": "string"
        },
        {
         "name": "('C01001', 'Cônjuge ou companheiro(a) mora em nesse domicílio.')",
         "rawType": "object",
         "type": "unknown"
        },
        {
         "name": "('C013', 'Cônjuge ou companheiro(a) mora em outro domicílio.')",
         "rawType": "object",
         "type": "unknown"
        },
        {
         "name": "('C017', '___já viveu com cônjuge ou companheiro (a) antes?')",
         "rawType": "object",
         "type": "unknown"
        },
        {
         "name": "('C018', 'Que idade ___tinha quando começou a viver com seu(sua) primeiro(a)/único(a) marido (mulher) ou companheiro(a)?')",
         "rawType": "object",
         "type": "unknown"
        },
        {
         "name": "('C01801', 'Que idade ___tinha quando começou a viver com seu(sua) primeiro(a)/único(a) marido (mulher) ou companheiro(a)?')",
         "rawType": "float64",
         "type": "float"
        },
        {
         "name": "('C011', 'Qual é o estado civil de ___?')",
         "rawType": "object",
         "type": "unknown"
        },
        {
         "name": "('C012', 'Informante do Módulo C')",
         "rawType": "object",
         "type": "string"
        },
        {
         "name": "('D00901', 'Qual foi o curso mais elevado que ___frequentou')",
         "rawType": "object",
         "type": "unknown"
        },
        {
         "name": "('D015', 'Informante do Módulo D')",
         "rawType": "object",
         "type": "string"
        },
        {
         "name": "('I00102', 'tem algum plano de saúde médico particular, de empresa ou órgão público?')",
         "rawType": "object",
         "type": "string"
        },
        {
         "name": "('I005', 'Há quanto tempo sem interrupção _____ possui esse plano de saúde (único ou principal)?')",
         "rawType": "object",
         "type": "unknown"
        },
        {
         "name": "('I00401', 'O plano de saúde (único ou principal) de assistência médica que ___ possui dá direito a consultas')",
         "rawType": "object",
         "type": "unknown"
        },
        {
         "name": "('I00403', 'O plano de saúde (único ou principal) de assistência médica que ___ possui dá direito a internações')",
         "rawType": "object",
         "type": "unknown"
        },
        {
         "name": "('I00404', 'O plano de saúde (único ou principal) de assistência médica que ___ possui dá direito a partos')",
         "rawType": "object",
         "type": "unknown"
        },
        {
         "name": "('I012', 'Informante do Módulo I')",
         "rawType": "object",
         "type": "string"
        },
        {
         "name": "('M00302', 'O informante desta parte é:')",
         "rawType": "object",
         "type": "unknown"
        },
        {
         "name": "('M005010', 'No(s) seu(s) trabalho(s), habitualmente, (s) o(a) Sr(a) trabalha(va) algum período de tempo entre as 8 horas da noite e às 5 horas da manhã')",
         "rawType": "object",
         "type": "unknown"
        },
        {
         "name": "('M009', 'O(a) Sr(a) normalmente trabalha(va) em ambientes')",
         "rawType": "object",
         "type": "unknown"
        },
        {
         "name": "('M01401', 'Com quantos familiares ou parentes ___ pode contar em momentos bons ou ruins')",
         "rawType": "object",
         "type": "unknown"
        },
        {
         "name": "('M01501', 'Com quantos amigos próximos ___ pode contar em momentos bons ou ruins (Sem considerar os familiares ou parentes')",
         "rawType": "object",
         "type": "unknown"
        },
        {
         "name": "('M01601', 'Nos últimos doze meses, com que frequência o(a) Sr(a) se reuniu com outras pessoas para prática de atividades esportivas, exercícios físicos, recreativos ou artísticos')",
         "rawType": "object",
         "type": "unknown"
        },
        {
         "name": "('M01901', 'Nos últimos doze meses, com que frequência o(a) Sr(a) compareceu a atividades coletivas da sua religião ou de outra religião sem contar com situações como casamento, batizado, ou enterro)')",
         "rawType": "object",
         "type": "unknown"
        },
        {
         "name": "('N016', 'Nas duas últimas semanas, com que frequência o(a) Sr(a) se sentiu deprimido(a), “pra baixo” ou sem perspectiva?')",
         "rawType": "object",
         "type": "unknown"
        },
        {
         "name": "('P00102', 'O(A) Sr(a) sabe seu peso?')",
         "rawType": "object",
         "type": "unknown"
        },
        {
         "name": "('P00103', 'Peso - Informado (em kg)(3 inteiros e 1 casa decimal)')",
         "rawType": "float64",
         "type": "float"
        },
        {
         "name": "('P00104', 'Peso - Final (em kg)(3 inteiros e 1 casa decimal)')",
         "rawType": "float64",
         "type": "float"
        },
        {
         "name": "('P027', 'Com que frequência o(a) Sr(a) costuma consumir alguma bebida alcoólica?')",
         "rawType": "object",
         "type": "unknown"
        },
        {
         "name": "('P02801', 'Quantos dias por semana o(a) Sr(a) costuma consumir alguma bebida alcoólica?')",
         "rawType": "object",
         "type": "unknown"
        },
        {
         "name": "('P034', 'Nos últimos três meses, o(a) Sr(a) praticou algum tipo de exercício físico ou esporte?')",
         "rawType": "object",
         "type": "unknown"
        },
        {
         "name": "('P035', 'Quantos dias por semana o(a) Sr(a) costuma  (costumava)praticar exercício físico ou esporte?')",
         "rawType": "object",
         "type": "unknown"
        },
        {
         "name": "('P039', 'No seu trabalho, o(a) Sr(a) faz faxina pesada, carrega peso ou faz outra atividade pesada que requer esforço físico intenso?')",
         "rawType": "object",
         "type": "unknown"
        },
        {
         "name": "('P044', 'Nas suas atividades domésticas, o(a) Sr(a) faz faxina pesada, carrega peso ou faz outra atividade pesada que requer esforço físico intenso? (não considerar atividade doméstica remunerada)')",
         "rawType": "object",
         "type": "unknown"
        },
        {
         "name": "('P050', 'Atualmente, o(a) Sr(a) fuma algum produto do tabaco?')",
         "rawType": "object",
         "type": "unknown"
        },
        {
         "name": "('P051', 'E no passado, o(a) Sr(a) fumou algum produto do tabaco diariamente?')",
         "rawType": "object",
         "type": "unknown"
        },
        {
         "name": "('P053', 'Que idade o(a) Sr(a) tinha quando começou a fumar produto de tabaco diariamente?')",
         "rawType": "float64",
         "type": "float"
        },
        {
         "name": "('P06701', 'O(a) Sr(a) usa aparelhos eletrônicos com nicotina líquida ou folha de tabaco picado (cigarro eletrônico, narguilé eletrônico, cigarro aquecido ou outro dispositivo eletrônico para fumar ou vaporizar)?')",
         "rawType": "object",
         "type": "unknown"
        },
        {
         "name": "('Q092', 'Algum médico ou profissional de saúde mental (como psiquiatra ou psicólogo) já lhe deu o diagnóstico de depressão?')",
         "rawType": "object",
         "type": "unknown"
        },
        {
         "name": "('Q09201', 'Algum médico já lhe receitou algum medicamento para depressão?')",
         "rawType": "object",
         "type": "unknown"
        },
        {
         "name": "('Q09202', 'Nas duas últimas semanas o(a) senhor(a) usou algum medicamento para depressão?')",
         "rawType": "object",
         "type": "unknown"
        },
        {
         "name": "('Q094', 'O(A) Sr(a) vai ao médico/serviço de saúde regularmente por causa da depressão ou só quando tem algum problema?')",
         "rawType": "object",
         "type": "unknown"
        },
        {
         "name": "('Q09502', 'Qual o principal motivo do(a) Sr(a) não visitar o médico/serviço de saúde regularmente por causa da depressão?')",
         "rawType": "object",
         "type": "unknown"
        },
        {
         "name": "('Q09605', 'Por causa da depressão Faz psicoterapia')",
         "rawType": "object",
         "type": "unknown"
        },
        {
         "name": "('Q09606', 'Por causa da depressão Toma medicamentos')",
         "rawType": "object",
         "type": "unknown"
        },
        {
         "name": "('Q098', 'Algum dos medicamentos para depressão foi obtido em serviço público de saúde?')",
         "rawType": "object",
         "type": "unknown"
        },
        {
         "name": "('Q10101', 'Quando foi a última vez que o(a) Sr(a) recebeu atendimento médico por causa da depressão?')",
         "rawType": "object",
         "type": "unknown"
        },
        {
         "name": "('Q10202', 'Na última vez que recebeu assistência médica para depressão, onde o(a) Sr(a) foi atendido?')",
         "rawType": "object",
         "type": "unknown"
        },
        {
         "name": "('Q106', 'Em algum dos atendimentos para depressão, houve encaminhamento para algum acompanhamento com profissional de saúde mental, como psiquiatra ou psicólogo?')",
         "rawType": "object",
         "type": "unknown"
        },
        {
         "name": "('Q109', 'Em geral, em que grau a depressão limita as suas atividades habituais (tais como trabalhar, realizar afazeres domésticos, etc.)?')",
         "rawType": "object",
         "type": "unknown"
        },
        {
         "name": "('V00201', 'Nos últimos doze meses, alguém: Te ofendeu, humilhou ou ridicularizou na frente de outras pessoas?')",
         "rawType": "object",
         "type": "unknown"
        },
        {
         "name": "('V00202', 'Nos últimos doze meses, alguém: Gritou com você ou te xingou?')",
         "rawType": "object",
         "type": "unknown"
        },
        {
         "name": "('V00203', 'Nos últimos doze meses, alguém: Usou redes sociais ou celular para ameaçar, ofender, xingar ou expor imagens suas sem o seu consentimento?')",
         "rawType": "object",
         "type": "unknown"
        },
        {
         "name": "('V00204', 'Nos últimos doze meses, alguém: Te ameaçou de ferir ou machucar alguém importante para você?')",
         "rawType": "object",
         "type": "unknown"
        },
        {
         "name": "('V00205', 'Nos últimos doze meses, alguém: Destruiu alguma coisa sua de propósito?')",
         "rawType": "object",
         "type": "unknown"
        },
        {
         "name": "('V003', 'Nos últimos doze meses, quantas vezes isso aconteceu com você?')",
         "rawType": "object",
         "type": "unknown"
        },
        {
         "name": "('V006', 'Quem fez isso com você? (Se mais de uma pessoa, defina o pirncipal agressor)')",
         "rawType": "object",
         "type": "unknown"
        },
        {
         "name": "('V007', 'Onde isso ocorreu?')",
         "rawType": "object",
         "type": "unknown"
        },
        {
         "name": "('V01401', 'Nos últimos doze meses, alguém: Te deu um tapa ou uma bofetada?')",
         "rawType": "object",
         "type": "unknown"
        },
        {
         "name": "('V01402', 'Nos últimos doze meses, alguém: Te empurrou, segurou com força ou jogou algo em você com a intenção de machucar?')",
         "rawType": "object",
         "type": "unknown"
        },
        {
         "name": "('V01403', 'Nos últimos doze meses, alguém: Te deu um soco, chutou ou arrastou pelo cabelo?')",
         "rawType": "object",
         "type": "unknown"
        },
        {
         "name": "('V01404', 'Nos últimos doze meses, alguém: Tentou ou efetivamente estrangulou, asfixiou ou te queimou de propósito?')",
         "rawType": "object",
         "type": "unknown"
        },
        {
         "name": "('V01405', 'Nos últimos doze meses, alguém: Te ameaçou ou feriu com uma faca, arma de fogo ou alguma outra arma ou objeto?')",
         "rawType": "object",
         "type": "unknown"
        },
        {
         "name": "('V015', 'Nos últimos doze meses, quantas vezes isso aconteceu?')",
         "rawType": "object",
         "type": "unknown"
        },
        {
         "name": "('V018', 'Quem fez isso com você')",
         "rawType": "object",
         "type": "unknown"
        },
        {
         "name": "('V019', 'Onde isso ocorreu?')",
         "rawType": "object",
         "type": "unknown"
        },
        {
         "name": "('V02701', 'Nos últimos doze meses, alguém: tocou, manipulou, beijou ou expôs partes do seu corpo contra sua vontade')",
         "rawType": "object",
         "type": "unknown"
        },
        {
         "name": "('V02702', 'Nos últimos doze meses, alguém: Te ameaçou ou forçou a ter relações sexuais ou quaisquer outros atos sexuais contra sua vontade?')",
         "rawType": "object",
         "type": "unknown"
        },
        {
         "name": "('V02801', 'E alguma vez na vida, alguém: tocou, manipulou, beijou ou expôs partes do seu corpo contra sua vontade')",
         "rawType": "object",
         "type": "unknown"
        },
        {
         "name": "('V02802', 'E alguma vez na vida, alguém: Te ameaçou ou forçou a ter relações sexuais ou quaisquer outros atos sexuais contra sua vontade?')",
         "rawType": "object",
         "type": "unknown"
        },
        {
         "name": "('V029', 'Nos últimos doze meses, quantas vezes isso aconteceu?')",
         "rawType": "object",
         "type": "unknown"
        },
        {
         "name": "('V032', 'Quem fez isso com você')",
         "rawType": "object",
         "type": "unknown"
        },
        {
         "name": "('V033', 'Onde isso ocorreu?')",
         "rawType": "object",
         "type": "unknown"
        },
        {
         "name": "('V034', 'Nos últimos doze meses, você deixou de realizar quaisquer de suas atividades habituais (trabalhar, realizar afazeres domésticos, ir à escola etc.) por causa desse ato')",
         "rawType": "object",
         "type": "unknown"
        },
        {
         "name": "('V03501', 'Esse(s) ato(s) sexual(is) forçado(s) gerou(aram) alguma consequência para sua saúde, tais como: Hematomas, cortes, fraturas, queimaduras ou outras lesões físicas ou ferimentos?')",
         "rawType": "float64",
         "type": "float"
        },
        {
         "name": "('V03502', 'Esse(s) ato(s) sexual(is) forçado(s) gerou(aram) alguma consequência para sua saúde, tais como: Medo, tristeza, desânimo, dificuldade para dormir, ansiedade, depressão ou outras consequências psicológicas?')",
         "rawType": "object",
         "type": "unknown"
        },
        {
         "name": "('V03503', 'Esse(s) ato(s) sexual(is) forçado(s) gerou(aram) alguma consequência para sua saúde, tais como: Doença sexualmente transmissível ou gravidez indesejada?')",
         "rawType": "object",
         "type": "unknown"
        },
        {
         "name": "('V036', 'Por causa desta (s) consequência (s), você procurou algum atendimento de saúde')",
         "rawType": "object",
         "type": "unknown"
        },
        {
         "name": "('V037', 'Por causa desta (s) consequência (s), você recebeu algum atendimento de saúde')",
         "rawType": "object",
         "type": "unknown"
        },
        {
         "name": "('V038', 'Onde foi realizado este atendimento de saúde')",
         "rawType": "object",
         "type": "unknown"
        },
        {
         "name": "('V039', 'Por causa desta (s) consequência (s), você precisou ser internado por 24 horas ou mais')",
         "rawType": "object",
         "type": "unknown"
        },
        {
         "name": "('Y008', 'Qual é a sua orientação sexual?')",
         "rawType": "object",
         "type": "unknown"
        }
       ],
       "conversionMethod": "pd.DataFrame",
       "ref": "91c286e9-d521-42ad-aff2-a104d2e22f37",
       "rows": [
        [
         "0",
         "Rondônia",
         "Urbano",
         "Capital",
         "Mulher",
         "1963.0",
         "55.0",
         "Branca",
         "Sim",
         null,
         null,
         "Idade",
         "17.0",
         "Casado(a)",
         "A própria pessoa",
         "Antigo primário (elementar)",
         "A própria pessoa",
         "Não",
         null,
         null,
         null,
         null,
         "A própria pessoa",
         null,
         "Não",
         "Abertos",
         "Três ou mais",
         "Nenhum",
         "Nenhuma vez",
         "Uma vez por semana",
         "Menos da metade dos dias",
         "Sim",
         "60.0",
         "60.0",
         "Menos de uma vez por mês",
         null,
         "Sim",
         "1.0",
         "Não",
         "Não",
         "Não fumo atualmente",
         null,
         "15.0",
         "Nunca usei",
         "Sim",
         "Sim",
         "Não, nenhum",
         "Não, só quando tem algum problema ",
         "Não está mais deprimido",
         "Não",
         "Sim",
         "Sim, todos                  ",
         "3 anos ou mais",
         null,
         null,
         "Não limita",
         "Não",
         "Não",
         "Não",
         "Não",
         "Não",
         null,
         null,
         null,
         "Não",
         "Não",
         "Não",
         "Não",
         "Não",
         null,
         null,
         null,
         "Não",
         "Não",
         "Não",
         "Não",
         null,
         null,
         null,
         null,
         null,
         null,
         null,
         null,
         null,
         null,
         null,
         "Heterosexual"
        ],
        [
         "1",
         "Rondônia",
         "Urbano",
         "Capital",
         "Homem",
         "1950.0",
         "69.0",
         "Parda ",
         "Sim",
         null,
         null,
         "Idade",
         "30.0",
         "Casado(a)",
         "Outro morador",
         null,
         "Outro morador   ",
         "Não",
         null,
         null,
         null,
         null,
         "Outro morador      ",
         null,
         null,
         null,
         null,
         null,
         null,
         null,
         null,
         null,
         null,
         null,
         null,
         null,
         null,
         null,
         null,
         null,
         null,
         null,
         null,
         null,
         null,
         null,
         null,
         null,
         null,
         null,
         null,
         null,
         null,
         null,
         null,
         null,
         null,
         null,
         null,
         null,
         null,
         null,
         null,
         null,
         null,
         null,
         null,
         null,
         null,
         null,
         null,
         null,
         null,
         null,
         null,
         null,
         null,
         null,
         null,
         null,
         null,
         null,
         null,
         null,
         null,
         null,
         null,
         null
        ],
        [
         "2",
         "Rondônia",
         "Urbano",
         "Capital",
         "Homem",
         "1987.0",
         "31.0",
         "Preta",
         "Não",
         "Não",
         "Sim",
         null,
         null,
         "Solteiro(a)",
         "Outro morador",
         "Regular do ensino médio ou do 2º grau",
         "Outro morador   ",
         "Não",
         null,
         null,
         null,
         null,
         "Outro morador      ",
         null,
         null,
         null,
         null,
         null,
         null,
         null,
         null,
         null,
         null,
         null,
         null,
         null,
         null,
         null,
         null,
         null,
         null,
         null,
         null,
         null,
         null,
         null,
         null,
         null,
         null,
         null,
         null,
         null,
         null,
         null,
         null,
         null,
         null,
         null,
         null,
         null,
         null,
         null,
         null,
         null,
         null,
         null,
         null,
         null,
         null,
         null,
         null,
         null,
         null,
         null,
         null,
         null,
         null,
         null,
         null,
         null,
         null,
         null,
         null,
         null,
         null,
         null,
         null,
         null
        ],
        [
         "3",
         "Rondônia",
         "Urbano",
         "Capital",
         "Homem",
         null,
         "9.0",
         "Preta",
         null,
         null,
         null,
         null,
         null,
         null,
         "Outro morador",
         null,
         "Outro morador   ",
         "Não",
         null,
         null,
         null,
         null,
         "Outro morador      ",
         null,
         null,
         null,
         null,
         null,
         null,
         null,
         null,
         null,
         null,
         null,
         null,
         null,
         null,
         null,
         null,
         null,
         null,
         null,
         null,
         null,
         null,
         null,
         null,
         null,
         null,
         null,
         null,
         null,
         null,
         null,
         null,
         null,
         null,
         null,
         null,
         null,
         null,
         null,
         null,
         null,
         null,
         null,
         null,
         null,
         null,
         null,
         null,
         null,
         null,
         null,
         null,
         null,
         null,
         null,
         null,
         null,
         null,
         null,
         null,
         null,
         null,
         null,
         null,
         null
        ],
        [
         "4",
         "Rondônia",
         "Urbano",
         "Capital",
         "Mulher",
         null,
         "6.0",
         "Parda ",
         null,
         null,
         null,
         null,
         null,
         null,
         "Outro morador",
         null,
         "Outro morador   ",
         "Não",
         null,
         null,
         null,
         null,
         "Outro morador      ",
         null,
         null,
         null,
         null,
         null,
         null,
         null,
         null,
         null,
         null,
         null,
         null,
         null,
         null,
         null,
         null,
         null,
         null,
         null,
         null,
         null,
         null,
         null,
         null,
         null,
         null,
         null,
         null,
         null,
         null,
         null,
         null,
         null,
         null,
         null,
         null,
         null,
         null,
         null,
         null,
         null,
         null,
         null,
         null,
         null,
         null,
         null,
         null,
         null,
         null,
         null,
         null,
         null,
         null,
         null,
         null,
         null,
         null,
         null,
         null,
         null,
         null,
         null,
         null,
         null
        ],
        [
         "5",
         "Rondônia",
         "Urbano",
         "Capital",
         "Mulher",
         null,
         "4.0",
         "Preta",
         null,
         null,
         null,
         null,
         null,
         null,
         "Outro morador",
         null,
         "Outro morador   ",
         "Não",
         null,
         null,
         null,
         null,
         "Outro morador      ",
         null,
         null,
         null,
         null,
         null,
         null,
         null,
         null,
         null,
         null,
         null,
         null,
         null,
         null,
         null,
         null,
         null,
         null,
         null,
         null,
         null,
         null,
         null,
         null,
         null,
         null,
         null,
         null,
         null,
         null,
         null,
         null,
         null,
         null,
         null,
         null,
         null,
         null,
         null,
         null,
         null,
         null,
         null,
         null,
         null,
         null,
         null,
         null,
         null,
         null,
         null,
         null,
         null,
         null,
         null,
         null,
         null,
         null,
         null,
         null,
         null,
         null,
         null,
         null,
         null
        ],
        [
         "6",
         "Rondônia",
         "Urbano",
         "Capital",
         "Mulher",
         "1985.0",
         "33.0",
         "Branca",
         "Não",
         "Não",
         "Sim",
         null,
         null,
         "Solteiro(a)",
         "A própria pessoa",
         "Regular do ensino fundamental ou do 1º grau ",
         "A própria pessoa",
         "Não",
         null,
         null,
         null,
         null,
         "A própria pessoa",
         null,
         null,
         null,
         null,
         null,
         null,
         null,
         null,
         null,
         null,
         null,
         null,
         null,
         null,
         null,
         null,
         null,
         null,
         null,
         null,
         null,
         null,
         null,
         null,
         null,
         null,
         null,
         null,
         null,
         null,
         null,
         null,
         null,
         null,
         null,
         null,
         null,
         null,
         null,
         null,
         null,
         null,
         null,
         null,
         null,
         null,
         null,
         null,
         null,
         null,
         null,
         null,
         null,
         null,
         null,
         null,
         null,
         null,
         null,
         null,
         null,
         null,
         null,
         null,
         null
        ],
        [
         "7",
         "Rondônia",
         "Urbano",
         "Capital",
         "Homem",
         "2002.0",
         "17.0",
         "Branca",
         "Não",
         "Não",
         "Não",
         null,
         null,
         "Solteiro(a)",
         "Outro morador",
         null,
         "Outro morador   ",
         "Não",
         null,
         null,
         null,
         null,
         "Outro morador      ",
         null,
         null,
         null,
         null,
         null,
         null,
         null,
         null,
         null,
         null,
         null,
         null,
         null,
         null,
         null,
         null,
         null,
         null,
         null,
         null,
         null,
         null,
         null,
         null,
         null,
         null,
         null,
         null,
         null,
         null,
         null,
         null,
         null,
         null,
         null,
         null,
         null,
         null,
         null,
         null,
         null,
         null,
         null,
         null,
         null,
         null,
         null,
         null,
         null,
         null,
         null,
         null,
         null,
         null,
         null,
         null,
         null,
         null,
         null,
         null,
         null,
         null,
         null,
         null,
         null
        ],
        [
         "8",
         "Rondônia",
         "Urbano",
         "Capital",
         "Mulher",
         "2004.0",
         "15.0",
         "Parda ",
         "Não",
         "Não",
         "Não",
         null,
         null,
         "Solteiro(a)",
         "Outro morador",
         null,
         "Outro morador   ",
         "Não",
         null,
         null,
         null,
         null,
         "Outro morador      ",
         null,
         null,
         null,
         null,
         null,
         null,
         null,
         null,
         null,
         null,
         null,
         null,
         null,
         null,
         null,
         null,
         null,
         null,
         null,
         null,
         null,
         null,
         null,
         null,
         null,
         null,
         null,
         null,
         null,
         null,
         null,
         null,
         null,
         null,
         null,
         null,
         null,
         null,
         null,
         null,
         null,
         null,
         null,
         null,
         null,
         null,
         null,
         null,
         null,
         null,
         null,
         null,
         null,
         null,
         null,
         null,
         null,
         null,
         null,
         null,
         null,
         null,
         null,
         null,
         null
        ],
        [
         "9",
         "Rondônia",
         "Urbano",
         "Capital",
         "Mulher",
         "2000.0",
         "19.0",
         "Parda ",
         "Não",
         "Não",
         "Não",
         null,
         null,
         "Solteiro(a)",
         "Outro morador",
         "Regular do ensino médio ou do 2º grau",
         "Outro morador   ",
         "Não",
         null,
         null,
         null,
         null,
         "Outro morador      ",
         null,
         "Não",
         "Ambos ",
         "Três ou mais",
         "Dois",
         "Nenhuma vez",
         "Nenhuma vez",
         " Nenhum dia",
         "Sim",
         "65.0",
         "65.0",
         "Menos de uma vez por mês",
         null,
         "Não",
         null,
         "Não",
         "Não",
         "Sim, diariamente",
         null,
         "12.0",
         "Nunca usei",
         "Não",
         null,
         null,
         null,
         null,
         null,
         null,
         null,
         null,
         null,
         null,
         null,
         "Não",
         "Não",
         "Não",
         "Não",
         "Não",
         null,
         null,
         null,
         "Não",
         "Não",
         "Não",
         "Não",
         "Não",
         null,
         null,
         null,
         "Não",
         "Não",
         "Não",
         "Não",
         null,
         null,
         null,
         null,
         null,
         null,
         null,
         null,
         null,
         null,
         null,
         "Heterosexual"
        ]
       ],
       "shape": {
        "columns": 87,
        "rows": 10
       }
      },
      "text/html": [
       "<div>\n",
       "<style scoped>\n",
       "    .dataframe tbody tr th:only-of-type {\n",
       "        vertical-align: middle;\n",
       "    }\n",
       "\n",
       "    .dataframe tbody tr th {\n",
       "        vertical-align: top;\n",
       "    }\n",
       "\n",
       "    .dataframe thead tr th {\n",
       "        text-align: left;\n",
       "    }\n",
       "</style>\n",
       "<table border=\"1\" class=\"dataframe\">\n",
       "  <thead>\n",
       "    <tr>\n",
       "      <th></th>\n",
       "      <th>V0001</th>\n",
       "      <th>V0026</th>\n",
       "      <th>V0031</th>\n",
       "      <th>C006</th>\n",
       "      <th>C00703</th>\n",
       "      <th>C008</th>\n",
       "      <th>C009</th>\n",
       "      <th>C01001</th>\n",
       "      <th>C013</th>\n",
       "      <th>C017</th>\n",
       "      <th>...</th>\n",
       "      <th>V033</th>\n",
       "      <th>V034</th>\n",
       "      <th>V03501</th>\n",
       "      <th>V03502</th>\n",
       "      <th>V03503</th>\n",
       "      <th>V036</th>\n",
       "      <th>V037</th>\n",
       "      <th>V038</th>\n",
       "      <th>V039</th>\n",
       "      <th>Y008</th>\n",
       "    </tr>\n",
       "    <tr>\n",
       "      <th></th>\n",
       "      <th>Unidade da Federação</th>\n",
       "      <th>Tipo de situação censitária</th>\n",
       "      <th>Tipo de área</th>\n",
       "      <th>Sexo</th>\n",
       "      <th>Ano de nascimento</th>\n",
       "      <th>Idade do morador na data de referência</th>\n",
       "      <th>Cor ou raça</th>\n",
       "      <th>Cônjuge ou companheiro(a) mora em nesse domicílio.</th>\n",
       "      <th>Cônjuge ou companheiro(a) mora em outro domicílio.</th>\n",
       "      <th>___já viveu com cônjuge ou companheiro (a) antes?</th>\n",
       "      <th>...</th>\n",
       "      <th>Onde isso ocorreu?</th>\n",
       "      <th>Nos últimos doze meses, você deixou de realizar quaisquer de suas atividades habituais (trabalhar, realizar afazeres domésticos, ir à escola etc.) por causa desse ato</th>\n",
       "      <th>Esse(s) ato(s) sexual(is) forçado(s) gerou(aram) alguma consequência para sua saúde, tais como: Hematomas, cortes, fraturas, queimaduras ou outras lesões físicas ou ferimentos?</th>\n",
       "      <th>Esse(s) ato(s) sexual(is) forçado(s) gerou(aram) alguma consequência para sua saúde, tais como: Medo, tristeza, desânimo, dificuldade para dormir, ansiedade, depressão ou outras consequências psicológicas?</th>\n",
       "      <th>Esse(s) ato(s) sexual(is) forçado(s) gerou(aram) alguma consequência para sua saúde, tais como: Doença sexualmente transmissível ou gravidez indesejada?</th>\n",
       "      <th>Por causa desta (s) consequência (s), você procurou algum atendimento de saúde</th>\n",
       "      <th>Por causa desta (s) consequência (s), você recebeu algum atendimento de saúde</th>\n",
       "      <th>Onde foi realizado este atendimento de saúde</th>\n",
       "      <th>Por causa desta (s) consequência (s), você precisou ser internado por 24 horas ou mais</th>\n",
       "      <th>Qual é a sua orientação sexual?</th>\n",
       "    </tr>\n",
       "  </thead>\n",
       "  <tbody>\n",
       "    <tr>\n",
       "      <th>0</th>\n",
       "      <td>Rondônia</td>\n",
       "      <td>Urbano</td>\n",
       "      <td>Capital</td>\n",
       "      <td>Mulher</td>\n",
       "      <td>1963.0</td>\n",
       "      <td>55.0</td>\n",
       "      <td>Branca</td>\n",
       "      <td>Sim</td>\n",
       "      <td>NaN</td>\n",
       "      <td>NaN</td>\n",
       "      <td>...</td>\n",
       "      <td>NaN</td>\n",
       "      <td>NaN</td>\n",
       "      <td>NaN</td>\n",
       "      <td>NaN</td>\n",
       "      <td>NaN</td>\n",
       "      <td>NaN</td>\n",
       "      <td>NaN</td>\n",
       "      <td>NaN</td>\n",
       "      <td>NaN</td>\n",
       "      <td>Heterosexual</td>\n",
       "    </tr>\n",
       "    <tr>\n",
       "      <th>1</th>\n",
       "      <td>Rondônia</td>\n",
       "      <td>Urbano</td>\n",
       "      <td>Capital</td>\n",
       "      <td>Homem</td>\n",
       "      <td>1950.0</td>\n",
       "      <td>69.0</td>\n",
       "      <td>Parda</td>\n",
       "      <td>Sim</td>\n",
       "      <td>NaN</td>\n",
       "      <td>NaN</td>\n",
       "      <td>...</td>\n",
       "      <td>NaN</td>\n",
       "      <td>NaN</td>\n",
       "      <td>NaN</td>\n",
       "      <td>NaN</td>\n",
       "      <td>NaN</td>\n",
       "      <td>NaN</td>\n",
       "      <td>NaN</td>\n",
       "      <td>NaN</td>\n",
       "      <td>NaN</td>\n",
       "      <td>NaN</td>\n",
       "    </tr>\n",
       "    <tr>\n",
       "      <th>2</th>\n",
       "      <td>Rondônia</td>\n",
       "      <td>Urbano</td>\n",
       "      <td>Capital</td>\n",
       "      <td>Homem</td>\n",
       "      <td>1987.0</td>\n",
       "      <td>31.0</td>\n",
       "      <td>Preta</td>\n",
       "      <td>Não</td>\n",
       "      <td>Não</td>\n",
       "      <td>Sim</td>\n",
       "      <td>...</td>\n",
       "      <td>NaN</td>\n",
       "      <td>NaN</td>\n",
       "      <td>NaN</td>\n",
       "      <td>NaN</td>\n",
       "      <td>NaN</td>\n",
       "      <td>NaN</td>\n",
       "      <td>NaN</td>\n",
       "      <td>NaN</td>\n",
       "      <td>NaN</td>\n",
       "      <td>NaN</td>\n",
       "    </tr>\n",
       "    <tr>\n",
       "      <th>3</th>\n",
       "      <td>Rondônia</td>\n",
       "      <td>Urbano</td>\n",
       "      <td>Capital</td>\n",
       "      <td>Homem</td>\n",
       "      <td>NaN</td>\n",
       "      <td>9.0</td>\n",
       "      <td>Preta</td>\n",
       "      <td>NaN</td>\n",
       "      <td>NaN</td>\n",
       "      <td>NaN</td>\n",
       "      <td>...</td>\n",
       "      <td>NaN</td>\n",
       "      <td>NaN</td>\n",
       "      <td>NaN</td>\n",
       "      <td>NaN</td>\n",
       "      <td>NaN</td>\n",
       "      <td>NaN</td>\n",
       "      <td>NaN</td>\n",
       "      <td>NaN</td>\n",
       "      <td>NaN</td>\n",
       "      <td>NaN</td>\n",
       "    </tr>\n",
       "    <tr>\n",
       "      <th>4</th>\n",
       "      <td>Rondônia</td>\n",
       "      <td>Urbano</td>\n",
       "      <td>Capital</td>\n",
       "      <td>Mulher</td>\n",
       "      <td>NaN</td>\n",
       "      <td>6.0</td>\n",
       "      <td>Parda</td>\n",
       "      <td>NaN</td>\n",
       "      <td>NaN</td>\n",
       "      <td>NaN</td>\n",
       "      <td>...</td>\n",
       "      <td>NaN</td>\n",
       "      <td>NaN</td>\n",
       "      <td>NaN</td>\n",
       "      <td>NaN</td>\n",
       "      <td>NaN</td>\n",
       "      <td>NaN</td>\n",
       "      <td>NaN</td>\n",
       "      <td>NaN</td>\n",
       "      <td>NaN</td>\n",
       "      <td>NaN</td>\n",
       "    </tr>\n",
       "    <tr>\n",
       "      <th>5</th>\n",
       "      <td>Rondônia</td>\n",
       "      <td>Urbano</td>\n",
       "      <td>Capital</td>\n",
       "      <td>Mulher</td>\n",
       "      <td>NaN</td>\n",
       "      <td>4.0</td>\n",
       "      <td>Preta</td>\n",
       "      <td>NaN</td>\n",
       "      <td>NaN</td>\n",
       "      <td>NaN</td>\n",
       "      <td>...</td>\n",
       "      <td>NaN</td>\n",
       "      <td>NaN</td>\n",
       "      <td>NaN</td>\n",
       "      <td>NaN</td>\n",
       "      <td>NaN</td>\n",
       "      <td>NaN</td>\n",
       "      <td>NaN</td>\n",
       "      <td>NaN</td>\n",
       "      <td>NaN</td>\n",
       "      <td>NaN</td>\n",
       "    </tr>\n",
       "    <tr>\n",
       "      <th>6</th>\n",
       "      <td>Rondônia</td>\n",
       "      <td>Urbano</td>\n",
       "      <td>Capital</td>\n",
       "      <td>Mulher</td>\n",
       "      <td>1985.0</td>\n",
       "      <td>33.0</td>\n",
       "      <td>Branca</td>\n",
       "      <td>Não</td>\n",
       "      <td>Não</td>\n",
       "      <td>Sim</td>\n",
       "      <td>...</td>\n",
       "      <td>NaN</td>\n",
       "      <td>NaN</td>\n",
       "      <td>NaN</td>\n",
       "      <td>NaN</td>\n",
       "      <td>NaN</td>\n",
       "      <td>NaN</td>\n",
       "      <td>NaN</td>\n",
       "      <td>NaN</td>\n",
       "      <td>NaN</td>\n",
       "      <td>NaN</td>\n",
       "    </tr>\n",
       "    <tr>\n",
       "      <th>7</th>\n",
       "      <td>Rondônia</td>\n",
       "      <td>Urbano</td>\n",
       "      <td>Capital</td>\n",
       "      <td>Homem</td>\n",
       "      <td>2002.0</td>\n",
       "      <td>17.0</td>\n",
       "      <td>Branca</td>\n",
       "      <td>Não</td>\n",
       "      <td>Não</td>\n",
       "      <td>Não</td>\n",
       "      <td>...</td>\n",
       "      <td>NaN</td>\n",
       "      <td>NaN</td>\n",
       "      <td>NaN</td>\n",
       "      <td>NaN</td>\n",
       "      <td>NaN</td>\n",
       "      <td>NaN</td>\n",
       "      <td>NaN</td>\n",
       "      <td>NaN</td>\n",
       "      <td>NaN</td>\n",
       "      <td>NaN</td>\n",
       "    </tr>\n",
       "    <tr>\n",
       "      <th>8</th>\n",
       "      <td>Rondônia</td>\n",
       "      <td>Urbano</td>\n",
       "      <td>Capital</td>\n",
       "      <td>Mulher</td>\n",
       "      <td>2004.0</td>\n",
       "      <td>15.0</td>\n",
       "      <td>Parda</td>\n",
       "      <td>Não</td>\n",
       "      <td>Não</td>\n",
       "      <td>Não</td>\n",
       "      <td>...</td>\n",
       "      <td>NaN</td>\n",
       "      <td>NaN</td>\n",
       "      <td>NaN</td>\n",
       "      <td>NaN</td>\n",
       "      <td>NaN</td>\n",
       "      <td>NaN</td>\n",
       "      <td>NaN</td>\n",
       "      <td>NaN</td>\n",
       "      <td>NaN</td>\n",
       "      <td>NaN</td>\n",
       "    </tr>\n",
       "    <tr>\n",
       "      <th>9</th>\n",
       "      <td>Rondônia</td>\n",
       "      <td>Urbano</td>\n",
       "      <td>Capital</td>\n",
       "      <td>Mulher</td>\n",
       "      <td>2000.0</td>\n",
       "      <td>19.0</td>\n",
       "      <td>Parda</td>\n",
       "      <td>Não</td>\n",
       "      <td>Não</td>\n",
       "      <td>Não</td>\n",
       "      <td>...</td>\n",
       "      <td>NaN</td>\n",
       "      <td>NaN</td>\n",
       "      <td>NaN</td>\n",
       "      <td>NaN</td>\n",
       "      <td>NaN</td>\n",
       "      <td>NaN</td>\n",
       "      <td>NaN</td>\n",
       "      <td>NaN</td>\n",
       "      <td>NaN</td>\n",
       "      <td>Heterosexual</td>\n",
       "    </tr>\n",
       "  </tbody>\n",
       "</table>\n",
       "<p>10 rows × 87 columns</p>\n",
       "</div>"
      ],
      "text/plain": [
       "                 V0001                       V0026        V0031    C006  \\\n",
       "  Unidade da Federação Tipo de situação censitária Tipo de área    Sexo   \n",
       "0             Rondônia                      Urbano      Capital  Mulher   \n",
       "1             Rondônia                      Urbano      Capital   Homem   \n",
       "2             Rondônia                      Urbano      Capital   Homem   \n",
       "3             Rondônia                      Urbano      Capital   Homem   \n",
       "4             Rondônia                      Urbano      Capital  Mulher   \n",
       "5             Rondônia                      Urbano      Capital  Mulher   \n",
       "6             Rondônia                      Urbano      Capital  Mulher   \n",
       "7             Rondônia                      Urbano      Capital   Homem   \n",
       "8             Rondônia                      Urbano      Capital  Mulher   \n",
       "9             Rondônia                      Urbano      Capital  Mulher   \n",
       "\n",
       "             C00703                                   C008        C009  \\\n",
       "  Ano de nascimento Idade do morador na data de referência Cor ou raça   \n",
       "0            1963.0                                   55.0      Branca   \n",
       "1            1950.0                                   69.0      Parda    \n",
       "2            1987.0                                   31.0       Preta   \n",
       "3               NaN                                    9.0       Preta   \n",
       "4               NaN                                    6.0      Parda    \n",
       "5               NaN                                    4.0       Preta   \n",
       "6            1985.0                                   33.0      Branca   \n",
       "7            2002.0                                   17.0      Branca   \n",
       "8            2004.0                                   15.0      Parda    \n",
       "9            2000.0                                   19.0      Parda    \n",
       "\n",
       "                                              C01001  \\\n",
       "  Cônjuge ou companheiro(a) mora em nesse domicílio.   \n",
       "0                                                Sim   \n",
       "1                                                Sim   \n",
       "2                                                Não   \n",
       "3                                                NaN   \n",
       "4                                                NaN   \n",
       "5                                                NaN   \n",
       "6                                                Não   \n",
       "7                                                Não   \n",
       "8                                                Não   \n",
       "9                                                Não   \n",
       "\n",
       "                                                C013  \\\n",
       "  Cônjuge ou companheiro(a) mora em outro domicílio.   \n",
       "0                                                NaN   \n",
       "1                                                NaN   \n",
       "2                                                Não   \n",
       "3                                                NaN   \n",
       "4                                                NaN   \n",
       "5                                                NaN   \n",
       "6                                                Não   \n",
       "7                                                Não   \n",
       "8                                                Não   \n",
       "9                                                Não   \n",
       "\n",
       "                                               C017  ...               V033  \\\n",
       "  ___já viveu com cônjuge ou companheiro (a) antes?  ... Onde isso ocorreu?   \n",
       "0                                               NaN  ...                NaN   \n",
       "1                                               NaN  ...                NaN   \n",
       "2                                               Sim  ...                NaN   \n",
       "3                                               NaN  ...                NaN   \n",
       "4                                               NaN  ...                NaN   \n",
       "5                                               NaN  ...                NaN   \n",
       "6                                               Sim  ...                NaN   \n",
       "7                                               Não  ...                NaN   \n",
       "8                                               Não  ...                NaN   \n",
       "9                                               Não  ...                NaN   \n",
       "\n",
       "                                                                                                                                                                    V034  \\\n",
       "  Nos últimos doze meses, você deixou de realizar quaisquer de suas atividades habituais (trabalhar, realizar afazeres domésticos, ir à escola etc.) por causa desse ato   \n",
       "0                                                NaN                                                                                                                       \n",
       "1                                                NaN                                                                                                                       \n",
       "2                                                NaN                                                                                                                       \n",
       "3                                                NaN                                                                                                                       \n",
       "4                                                NaN                                                                                                                       \n",
       "5                                                NaN                                                                                                                       \n",
       "6                                                NaN                                                                                                                       \n",
       "7                                                NaN                                                                                                                       \n",
       "8                                                NaN                                                                                                                       \n",
       "9                                                NaN                                                                                                                       \n",
       "\n",
       "                                                                                                                                                                            V03501  \\\n",
       "  Esse(s) ato(s) sexual(is) forçado(s) gerou(aram) alguma consequência para sua saúde, tais como: Hematomas, cortes, fraturas, queimaduras ou outras lesões físicas ou ferimentos?   \n",
       "0                                                NaN                                                                                                                                 \n",
       "1                                                NaN                                                                                                                                 \n",
       "2                                                NaN                                                                                                                                 \n",
       "3                                                NaN                                                                                                                                 \n",
       "4                                                NaN                                                                                                                                 \n",
       "5                                                NaN                                                                                                                                 \n",
       "6                                                NaN                                                                                                                                 \n",
       "7                                                NaN                                                                                                                                 \n",
       "8                                                NaN                                                                                                                                 \n",
       "9                                                NaN                                                                                                                                 \n",
       "\n",
       "                                                                                                                                                                                                         V03502  \\\n",
       "  Esse(s) ato(s) sexual(is) forçado(s) gerou(aram) alguma consequência para sua saúde, tais como: Medo, tristeza, desânimo, dificuldade para dormir, ansiedade, depressão ou outras consequências psicológicas?   \n",
       "0                                                NaN                                                                                                                                                              \n",
       "1                                                NaN                                                                                                                                                              \n",
       "2                                                NaN                                                                                                                                                              \n",
       "3                                                NaN                                                                                                                                                              \n",
       "4                                                NaN                                                                                                                                                              \n",
       "5                                                NaN                                                                                                                                                              \n",
       "6                                                NaN                                                                                                                                                              \n",
       "7                                                NaN                                                                                                                                                              \n",
       "8                                                NaN                                                                                                                                                              \n",
       "9                                                NaN                                                                                                                                                              \n",
       "\n",
       "                                                                                                                                                    V03503  \\\n",
       "  Esse(s) ato(s) sexual(is) forçado(s) gerou(aram) alguma consequência para sua saúde, tais como: Doença sexualmente transmissível ou gravidez indesejada?   \n",
       "0                                                NaN                                                                                                         \n",
       "1                                                NaN                                                                                                         \n",
       "2                                                NaN                                                                                                         \n",
       "3                                                NaN                                                                                                         \n",
       "4                                                NaN                                                                                                         \n",
       "5                                                NaN                                                                                                         \n",
       "6                                                NaN                                                                                                         \n",
       "7                                                NaN                                                                                                         \n",
       "8                                                NaN                                                                                                         \n",
       "9                                                NaN                                                                                                         \n",
       "\n",
       "                                                                            V036  \\\n",
       "  Por causa desta (s) consequência (s), você procurou algum atendimento de saúde   \n",
       "0                                                NaN                               \n",
       "1                                                NaN                               \n",
       "2                                                NaN                               \n",
       "3                                                NaN                               \n",
       "4                                                NaN                               \n",
       "5                                                NaN                               \n",
       "6                                                NaN                               \n",
       "7                                                NaN                               \n",
       "8                                                NaN                               \n",
       "9                                                NaN                               \n",
       "\n",
       "                                                                           V037  \\\n",
       "  Por causa desta (s) consequência (s), você recebeu algum atendimento de saúde   \n",
       "0                                                NaN                              \n",
       "1                                                NaN                              \n",
       "2                                                NaN                              \n",
       "3                                                NaN                              \n",
       "4                                                NaN                              \n",
       "5                                                NaN                              \n",
       "6                                                NaN                              \n",
       "7                                                NaN                              \n",
       "8                                                NaN                              \n",
       "9                                                NaN                              \n",
       "\n",
       "                                          V038  \\\n",
       "  Onde foi realizado este atendimento de saúde   \n",
       "0                                          NaN   \n",
       "1                                          NaN   \n",
       "2                                          NaN   \n",
       "3                                          NaN   \n",
       "4                                          NaN   \n",
       "5                                          NaN   \n",
       "6                                          NaN   \n",
       "7                                          NaN   \n",
       "8                                          NaN   \n",
       "9                                          NaN   \n",
       "\n",
       "                                                                                    V039  \\\n",
       "  Por causa desta (s) consequência (s), você precisou ser internado por 24 horas ou mais   \n",
       "0                                                NaN                                       \n",
       "1                                                NaN                                       \n",
       "2                                                NaN                                       \n",
       "3                                                NaN                                       \n",
       "4                                                NaN                                       \n",
       "5                                                NaN                                       \n",
       "6                                                NaN                                       \n",
       "7                                                NaN                                       \n",
       "8                                                NaN                                       \n",
       "9                                                NaN                                       \n",
       "\n",
       "                             Y008  \n",
       "  Qual é a sua orientação sexual?  \n",
       "0                    Heterosexual  \n",
       "1                             NaN  \n",
       "2                             NaN  \n",
       "3                             NaN  \n",
       "4                             NaN  \n",
       "5                             NaN  \n",
       "6                             NaN  \n",
       "7                             NaN  \n",
       "8                             NaN  \n",
       "9                    Heterosexual  \n",
       "\n",
       "[10 rows x 87 columns]"
      ]
     },
     "execution_count": 18,
     "metadata": {},
     "output_type": "execute_result"
    }
   ],
   "source": [
    "depression_explicit.head(10)"
   ]
  },
  {
   "cell_type": "markdown",
   "id": "1be326e7",
   "metadata": {},
   "source": [
    "## `TODO`: D`types`\n",
    "Dtypes are already included at DEPRESSION_DICTIONARY['Dtype'] for each Codigo attribute"
   ]
  },
  {
   "cell_type": "code",
   "execution_count": 19,
   "id": "debe6479",
   "metadata": {},
   "outputs": [],
   "source": [
    "# # SELECT * FROM DEPRESSION_DICTIONARY\n",
    "# # WHERE Codigo == 'V03501'\n",
    "# DEPRESSION_DICTIONARY[DEPRESSION_DICTIONARY.Codigo == 'V03501']"
   ]
  },
  {
   "cell_type": "markdown",
   "id": "0f2dbefe",
   "metadata": {},
   "source": [
    "## `TODO` Drop columns without class descriptions\n",
    "Codigo `V03501` is not correctly described in the dictionary-pns-2019-cleaned.csv file."
   ]
  },
  {
   "cell_type": "code",
   "execution_count": 20,
   "id": "e4b2218c",
   "metadata": {},
   "outputs": [],
   "source": [
    "# # V03501\n",
    "# PNS_DICTIONARY_PATH[PNS_DICTIONARY_PATH.Codigo == 'V03501']"
   ]
  },
  {
   "cell_type": "code",
   "execution_count": 21,
   "id": "06690223",
   "metadata": {},
   "outputs": [],
   "source": [
    "# # Original shape\n",
    "# print(PNS_DICTIONARY_PATH.shape)\n",
    "\n",
    "# # Drop Codigo 'V03501'\n",
    "# PNS_DICTIONARY_PATH = PNS_DICTIONARY_PATH[PNS_DICTIONARY_PATH.Codigo != 'V03501']\n",
    "\n",
    "# # Shape after dropping\n",
    "# print(PNS_DICTIONARY_PATH.shape)"
   ]
  }
 ],
 "metadata": {
  "kernelspec": {
   "display_name": "Python 3",
   "language": "python",
   "name": "python3"
  },
  "language_info": {
   "codemirror_mode": {
    "name": "ipython",
    "version": 3
   },
   "file_extension": ".py",
   "mimetype": "text/x-python",
   "name": "python",
   "nbconvert_exporter": "python",
   "pygments_lexer": "ipython3",
   "version": "3.11.11"
  }
 },
 "nbformat": 4,
 "nbformat_minor": 5
}
