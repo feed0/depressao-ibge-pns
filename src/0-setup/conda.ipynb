{
 "cells": [
  {
   "cell_type": "markdown",
   "id": "0246db45",
   "metadata": {},
   "source": [
    "# `Conda Environment` Setup"
   ]
  },
  {
   "cell_type": "markdown",
   "id": "8e624ff2",
   "metadata": {},
   "source": [
    "## 1. Install conda\n",
    "> https://docs.conda.io/projects/conda/en/latest/user-guide/install/index.html"
   ]
  },
  {
   "cell_type": "markdown",
   "id": "9223ef71",
   "metadata": {},
   "source": [
    "## 2. Conda VEnv\n",
    "Create the `pns-venv`"
   ]
  },
  {
   "cell_type": "code",
   "execution_count": null,
   "id": "b10a2b4e",
   "metadata": {},
   "outputs": [],
   "source": [
    "# Create and activate pns-venv\n",
    "\n",
    "# %%bash\n",
    "# conda create --name pns_venv --yes\n",
    "# conda activate /workspaces/depressao-ibge-pns/pns_venv"
   ]
  },
  {
   "cell_type": "markdown",
   "id": "96c5f9b9",
   "metadata": {},
   "source": [
    "## 3. Install python libraries \n",
    "Install `pandas` in an active conda venv"
   ]
  },
  {
   "cell_type": "code",
   "execution_count": null,
   "id": "0623c000",
   "metadata": {},
   "outputs": [],
   "source": [
    "# Install libraries\n",
    "\n",
    "# %%bash\n",
    "# conda install pandas --yes"
   ]
  }
 ],
 "metadata": {
  "language_info": {
   "name": "python"
  }
 },
 "nbformat": 4,
 "nbformat_minor": 5
}
