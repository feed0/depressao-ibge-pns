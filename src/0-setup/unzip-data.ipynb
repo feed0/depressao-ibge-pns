{
 "cells": [
  {
   "cell_type": "markdown",
   "id": "93503c18",
   "metadata": {},
   "source": [
    "# Unzip the `pns-2019.txt` data"
   ]
  },
  {
   "cell_type": "markdown",
   "id": "5c79321c",
   "metadata": {},
   "source": [
    "## 1. Run unzip"
   ]
  },
  {
   "cell_type": "code",
   "execution_count": null,
   "id": "ad63bafe",
   "metadata": {},
   "outputs": [],
   "source": [
    "# %%bash\n",
    "# export COMPRESSED_PATH=\"/workspaces/depressao-ibge-pns/data/pns-original/compressed-data.zip\"\n",
    "# export DESTINATION_PATH=\"/workspaces/depressao-ibge-pns/data/pns-original/\"\n",
    "# unzip \"$COMPRESSED_PATH\" -d \"$DESTINATION_PATH\" -x \"__MACOSX/*\""
   ]
  }
 ],
 "metadata": {
  "kernelspec": {
   "display_name": "Python 3",
   "language": "python",
   "name": "python3"
  },
  "language_info": {
   "name": "python",
   "version": "3.11.11"
  }
 },
 "nbformat": 4,
 "nbformat_minor": 5
}
