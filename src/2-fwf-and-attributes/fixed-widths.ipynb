{
 "cells": [
  {
   "cell_type": "markdown",
   "id": "ca5cb994",
   "metadata": {},
   "source": [
    "# Fixed Width Format (`FWF`)\n",
    "1. Setup\n",
    "2. Dictionary"
   ]
  },
  {
   "cell_type": "markdown",
   "id": "9c284b8f",
   "metadata": {},
   "source": [
    "## 1 Setup\n",
    "- Libraries\n",
    "- Paths"
   ]
  },
  {
   "cell_type": "code",
   "execution_count": 1,
   "id": "8f383a0d",
   "metadata": {},
   "outputs": [],
   "source": [
    "import pandas as pd\n",
    "import numpy as np"
   ]
  },
  {
   "cell_type": "code",
   "execution_count": 2,
   "id": "9852d937",
   "metadata": {},
   "outputs": [],
   "source": [
    "pns_dictionary_path = '/workspaces/depressao-ibge-pns/data/pns-dictionary.csv'"
   ]
  },
  {
   "cell_type": "markdown",
   "id": "0df74936",
   "metadata": {},
   "source": [
    "## 2 Dictionary\n",
    "'../data/pns-dictionary.csv'"
   ]
  },
  {
   "cell_type": "code",
   "execution_count": 3,
   "id": "939d66d2",
   "metadata": {},
   "outputs": [],
   "source": [
    "pns_dictionary = pd.read_csv(pns_dictionary_path)"
   ]
  },
  {
   "cell_type": "code",
   "execution_count": 4,
   "id": "fb4c2d9a",
   "metadata": {},
   "outputs": [
    {
     "data": {
      "application/vnd.microsoft.datawrangler.viewer.v0+json": {
       "columns": [
        {
         "name": "index",
         "rawType": "int64",
         "type": "integer"
        },
        {
         "name": "Posicao",
         "rawType": "float64",
         "type": "float"
        },
        {
         "name": "Tamanho",
         "rawType": "float64",
         "type": "float"
        }
       ],
       "conversionMethod": "pd.DataFrame",
       "ref": "3f8fd01b-6705-4d69-b765-096242e9e2d5",
       "rows": [
        [
         "0",
         null,
         null
        ],
        [
         "1",
         "1.0",
         "2.0"
        ],
        [
         "2",
         null,
         null
        ],
        [
         "3",
         null,
         null
        ],
        [
         "4",
         null,
         null
        ]
       ],
       "shape": {
        "columns": 2,
        "rows": 5
       }
      },
      "text/html": [
       "<div>\n",
       "<style scoped>\n",
       "    .dataframe tbody tr th:only-of-type {\n",
       "        vertical-align: middle;\n",
       "    }\n",
       "\n",
       "    .dataframe tbody tr th {\n",
       "        vertical-align: top;\n",
       "    }\n",
       "\n",
       "    .dataframe thead th {\n",
       "        text-align: right;\n",
       "    }\n",
       "</style>\n",
       "<table border=\"1\" class=\"dataframe\">\n",
       "  <thead>\n",
       "    <tr style=\"text-align: right;\">\n",
       "      <th></th>\n",
       "      <th>Posicao</th>\n",
       "      <th>Tamanho</th>\n",
       "    </tr>\n",
       "  </thead>\n",
       "  <tbody>\n",
       "    <tr>\n",
       "      <th>0</th>\n",
       "      <td>NaN</td>\n",
       "      <td>NaN</td>\n",
       "    </tr>\n",
       "    <tr>\n",
       "      <th>1</th>\n",
       "      <td>1.0</td>\n",
       "      <td>2.0</td>\n",
       "    </tr>\n",
       "    <tr>\n",
       "      <th>2</th>\n",
       "      <td>NaN</td>\n",
       "      <td>NaN</td>\n",
       "    </tr>\n",
       "    <tr>\n",
       "      <th>3</th>\n",
       "      <td>NaN</td>\n",
       "      <td>NaN</td>\n",
       "    </tr>\n",
       "    <tr>\n",
       "      <th>4</th>\n",
       "      <td>NaN</td>\n",
       "      <td>NaN</td>\n",
       "    </tr>\n",
       "  </tbody>\n",
       "</table>\n",
       "</div>"
      ],
      "text/plain": [
       "   Posicao  Tamanho\n",
       "0      NaN      NaN\n",
       "1      1.0      2.0\n",
       "2      NaN      NaN\n",
       "3      NaN      NaN\n",
       "4      NaN      NaN"
      ]
     },
     "execution_count": 4,
     "metadata": {},
     "output_type": "execute_result"
    }
   ],
   "source": [
    "pns_dictionary[['Posicao', 'Tamanho']].head()"
   ]
  },
  {
   "cell_type": "markdown",
   "id": "fb7bc390",
   "metadata": {},
   "source": [
    "## 3 `Widths`\n",
    "> The dataset is publicly available in a micro-data format.<br>\n",
    "> By using the width column from the pns-dictionary we can decompress it to an interpretable format."
   ]
  },
  {
   "cell_type": "code",
   "execution_count": 5,
   "id": "722bd80a",
   "metadata": {},
   "outputs": [
    {
     "name": "stdout",
     "output_type": "stream",
     "text": [
      "Widths: 1088\n",
      "First ten: [2 7 9 4 2 4 2 1 1 1]\n",
      "Last ten: [1 2 8 8 1 2 1 1 1 8]\n"
     ]
    }
   ],
   "source": [
    "column_widths = pns_dictionary.Tamanho.dropna(axis=0).values.astype(int)\n",
    "\n",
    "print(\n",
    "    f'Widths: {len(column_widths)}',\n",
    "    f'First ten: {column_widths[:10]}',\n",
    "    f'Last ten: {column_widths[1088-10:1088]}',\n",
    "    sep='\\n'\n",
    ")"
   ]
  },
  {
   "cell_type": "markdown",
   "id": "c0b1010a",
   "metadata": {},
   "source": [
    "## 4 Save\n",
    "'..data/pns-column-widths.txt'"
   ]
  },
  {
   "cell_type": "code",
   "execution_count": 6,
   "id": "d71ac25f",
   "metadata": {},
   "outputs": [],
   "source": [
    "# save column widths to a file\n",
    "np.savetxt(\n",
    "    '/workspaces/depressao-ibge-pns/data/pns-column-widths.txt',\n",
    "    column_widths,\n",
    "    fmt='%d',\n",
    "    delimiter=',',\n",
    ")"
   ]
  },
  {
   "cell_type": "markdown",
   "id": "f2d76183",
   "metadata": {},
   "source": [
    "# [END] \n",
    "> Now the ../data/`pns-column-widths`.txt is ready to be used by:\n",
    "1. [**depression**.ipynb](/workspaces/depressao-ibge-pns/src/3-depression/depression.ipynb)"
   ]
  }
 ],
 "metadata": {
  "kernelspec": {
   "display_name": "Python 3",
   "language": "python",
   "name": "python3"
  },
  "language_info": {
   "codemirror_mode": {
    "name": "ipython",
    "version": 3
   },
   "file_extension": ".py",
   "mimetype": "text/x-python",
   "name": "python",
   "nbconvert_exporter": "python",
   "pygments_lexer": "ipython3",
   "version": "3.11.11"
  }
 },
 "nbformat": 4,
 "nbformat_minor": 5
}
