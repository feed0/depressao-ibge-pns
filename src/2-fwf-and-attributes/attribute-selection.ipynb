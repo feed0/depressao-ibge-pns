{
 "cells": [
  {
   "cell_type": "markdown",
   "id": "7be4d80e",
   "metadata": {},
   "source": [
    "# Column selection"
   ]
  },
  {
   "cell_type": "markdown",
   "id": "95f7438b",
   "metadata": {},
   "source": [
    "## 1 Setup\n"
   ]
  },
  {
   "cell_type": "markdown",
   "id": "caf3ccd5",
   "metadata": {},
   "source": [
    "### 1.1 Libraries"
   ]
  },
  {
   "cell_type": "code",
   "execution_count": 1,
   "id": "1e4bbe7d",
   "metadata": {},
   "outputs": [],
   "source": [
    "import pandas as pd\n",
    "import numpy as np"
   ]
  },
  {
   "cell_type": "markdown",
   "id": "da521dcb",
   "metadata": {},
   "source": [
    "### 1.2 Paths"
   ]
  },
  {
   "cell_type": "code",
   "execution_count": 4,
   "id": "b4c3124f",
   "metadata": {},
   "outputs": [],
   "source": [
    "PNS_DICTIONARY_PATH = \"/workspaces/depressao-ibge-pns/data/pns-dictionary.csv\""
   ]
  },
  {
   "cell_type": "markdown",
   "id": "03fa8913",
   "metadata": {},
   "source": [
    "### 1.3 Dataframes"
   ]
  },
  {
   "cell_type": "code",
   "execution_count": null,
   "id": "46fa539e",
   "metadata": {},
   "outputs": [],
   "source": [
    "PNS_DICTIONARY = pd.read_csv(PNS_DICTIONARY_PATH)"
   ]
  },
  {
   "cell_type": "markdown",
   "id": "f369cd1c",
   "metadata": {},
   "source": [
    "## 2 Filter only our selected attributes"
   ]
  },
  {
   "cell_type": "code",
   "execution_count": null,
   "id": "eaf33644",
   "metadata": {},
   "outputs": [],
   "source": [
    "# SELECT DISTINCT Codigo \n",
    "# FROM PNS_DICTIONARY \n",
    "# WHERE Felipe IS NOT NULL\n",
    "selected_attributes = pd.DataFrame(PNS_DICTIONARY.Codigo[PNS_DICTIONARY.Felipe.notna()].unique(), columns=[\"Codigo\"])"
   ]
  },
  {
   "cell_type": "code",
   "execution_count": 18,
   "id": "cd36c081",
   "metadata": {},
   "outputs": [
    {
     "data": {
      "text/html": [
       "<div>\n",
       "<style scoped>\n",
       "    .dataframe tbody tr th:only-of-type {\n",
       "        vertical-align: middle;\n",
       "    }\n",
       "\n",
       "    .dataframe tbody tr th {\n",
       "        vertical-align: top;\n",
       "    }\n",
       "\n",
       "    .dataframe thead th {\n",
       "        text-align: right;\n",
       "    }\n",
       "</style>\n",
       "<table border=\"1\" class=\"dataframe\">\n",
       "  <thead>\n",
       "    <tr style=\"text-align: right;\">\n",
       "      <th></th>\n",
       "      <th>Codigo</th>\n",
       "    </tr>\n",
       "  </thead>\n",
       "  <tbody>\n",
       "    <tr>\n",
       "      <th>0</th>\n",
       "      <td>V0001</td>\n",
       "    </tr>\n",
       "    <tr>\n",
       "      <th>1</th>\n",
       "      <td>V0026</td>\n",
       "    </tr>\n",
       "    <tr>\n",
       "      <th>2</th>\n",
       "      <td>V0031</td>\n",
       "    </tr>\n",
       "    <tr>\n",
       "      <th>3</th>\n",
       "      <td>C006</td>\n",
       "    </tr>\n",
       "    <tr>\n",
       "      <th>4</th>\n",
       "      <td>C00703</td>\n",
       "    </tr>\n",
       "    <tr>\n",
       "      <th>...</th>\n",
       "      <td>...</td>\n",
       "    </tr>\n",
       "    <tr>\n",
       "      <th>78</th>\n",
       "      <td>V036</td>\n",
       "    </tr>\n",
       "    <tr>\n",
       "      <th>79</th>\n",
       "      <td>V037</td>\n",
       "    </tr>\n",
       "    <tr>\n",
       "      <th>80</th>\n",
       "      <td>V038</td>\n",
       "    </tr>\n",
       "    <tr>\n",
       "      <th>81</th>\n",
       "      <td>V039</td>\n",
       "    </tr>\n",
       "    <tr>\n",
       "      <th>82</th>\n",
       "      <td>Y008</td>\n",
       "    </tr>\n",
       "  </tbody>\n",
       "</table>\n",
       "<p>83 rows × 1 columns</p>\n",
       "</div>"
      ],
      "text/plain": [
       "    Codigo\n",
       "0    V0001\n",
       "1    V0026\n",
       "2    V0031\n",
       "3     C006\n",
       "4   C00703\n",
       "..     ...\n",
       "78    V036\n",
       "79    V037\n",
       "80    V038\n",
       "81    V039\n",
       "82    Y008\n",
       "\n",
       "[83 rows x 1 columns]"
      ]
     },
     "execution_count": 18,
     "metadata": {},
     "output_type": "execute_result"
    }
   ],
   "source": [
    "selected_attributes"
   ]
  },
  {
   "cell_type": "markdown",
   "id": "d5fad04c",
   "metadata": {},
   "source": [
    "## 3 Save as csv"
   ]
  },
  {
   "cell_type": "code",
   "execution_count": 20,
   "id": "71e8d005",
   "metadata": {},
   "outputs": [],
   "source": [
    "selected_attributes.to_csv(\n",
    "    \"/workspaces/depressao-ibge-pns/data/selected-attributes.csv\",\n",
    "    index=False,\n",
    ")"
   ]
  },
  {
   "cell_type": "markdown",
   "id": "63a61b14",
   "metadata": {},
   "source": [
    "# [END] \n",
    "> Now the ../data/`selected_attributes`.csv is ready to be used by:\n",
    "1. [**depression**.ipynb](/workspaces/depressao-ibge-pns/src/3-depression/depression.ipynb)"
   ]
  }
 ],
 "metadata": {
  "kernelspec": {
   "display_name": "Python 3",
   "language": "python",
   "name": "python3"
  },
  "language_info": {
   "codemirror_mode": {
    "name": "ipython",
    "version": 3
   },
   "file_extension": ".py",
   "mimetype": "text/x-python",
   "name": "python",
   "nbconvert_exporter": "python",
   "pygments_lexer": "ipython3",
   "version": "3.11.11"
  }
 },
 "nbformat": 4,
 "nbformat_minor": 5
}
